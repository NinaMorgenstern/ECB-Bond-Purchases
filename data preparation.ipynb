{
 "cells": [
  {
   "cell_type": "markdown",
   "metadata": {
    "slideshow": {
     "slide_type": "skip"
    }
   },
   "source": [
    "# Data Preparation\n",
    "## Preliminaries"
   ]
  },
  {
   "cell_type": "markdown",
   "metadata": {
    "slideshow": {
     "slide_type": "skip"
    }
   },
   "source": [
    "Importing the packages:"
   ]
  },
  {
   "cell_type": "code",
   "execution_count": 1,
   "metadata": {
    "slideshow": {
     "slide_type": "skip"
    }
   },
   "outputs": [],
   "source": [
    "import pandas as pd\n",
    "import boto3\n",
    "import io\n",
    "from io import StringIO\n",
    "import requests\n",
    "import json\n",
    "from time import sleep\n",
    "import math"
   ]
  },
  {
   "cell_type": "markdown",
   "metadata": {
    "slideshow": {
     "slide_type": "skip"
    }
   },
   "source": [
    "Importing the python files:"
   ]
  },
  {
   "cell_type": "code",
   "execution_count": 2,
   "metadata": {
    "slideshow": {
     "slide_type": "skip"
    }
   },
   "outputs": [],
   "source": [
    "import s3data\n",
    "import openfigiapi as openFIGI\n",
    "import permidapi as permID"
   ]
  },
  {
   "cell_type": "markdown",
   "metadata": {
    "slideshow": {
     "slide_type": "slide"
    }
   },
   "source": [
    "## ECB data on CSPP holdings"
   ]
  },
  {
   "cell_type": "markdown",
   "metadata": {
    "slideshow": {
     "slide_type": "fragment"
    }
   },
   "source": [
    "### Read and combine data from several CSV files"
   ]
  },
  {
   "cell_type": "markdown",
   "metadata": {
    "slideshow": {
     "slide_type": "skip"
    }
   },
   "source": [
    "In order to access data, configure your Boto3 credentials (AWS Access Key ID, AWS Secret Access Key, Default region name) via Anaconda promt command `aws configure`."
   ]
  },
  {
   "cell_type": "code",
   "execution_count": 3,
   "metadata": {
    "slideshow": {
     "slide_type": "skip"
    }
   },
   "outputs": [],
   "source": [
    "bucket = 's3groupmorocco'"
   ]
  },
  {
   "cell_type": "markdown",
   "metadata": {
    "slideshow": {
     "slide_type": "skip"
    }
   },
   "source": [
    "Loading files on CSPP corporate bonds holdings with filenames starting with \"CSPPholdings_\":"
   ]
  },
  {
   "cell_type": "code",
   "execution_count": 4,
   "metadata": {
    "slideshow": {
     "slide_type": "skip"
    }
   },
   "outputs": [],
   "source": [
    "df1 = s3data.read_multiple_csv(bucket, 'data/CSPPholdings_', 'iso8859-1')"
   ]
  },
  {
   "cell_type": "markdown",
   "metadata": {
    "slideshow": {
     "slide_type": "skip"
    }
   },
   "source": [
    "Loading files on CSPP corporate bonds holdings with filenames starting with \"CSPP_PEPP_corporate_bond_holdings_\":"
   ]
  },
  {
   "cell_type": "code",
   "execution_count": 5,
   "metadata": {
    "slideshow": {
     "slide_type": "skip"
    }
   },
   "outputs": [],
   "source": [
    "df2 = s3data.read_multiple_csv(bucket, 'data/CSPP_PEPP_corporate_bond_holdings_', 'iso8859-1')"
   ]
  },
  {
   "cell_type": "markdown",
   "metadata": {
    "slideshow": {
     "slide_type": "skip"
    }
   },
   "source": [
    "Combining two dataframes together:"
   ]
  },
  {
   "cell_type": "code",
   "execution_count": 6,
   "metadata": {
    "slideshow": {
     "slide_type": "skip"
    }
   },
   "outputs": [],
   "source": [
    "df = pd.concat([df1, df2], ignore_index=True)"
   ]
  },
  {
   "cell_type": "markdown",
   "metadata": {
    "slideshow": {
     "slide_type": "skip"
    }
   },
   "source": [
    "Check for the null values:"
   ]
  },
  {
   "cell_type": "code",
   "execution_count": 7,
   "metadata": {
    "slideshow": {
     "slide_type": "skip"
    }
   },
   "outputs": [
    {
     "data": {
      "text/plain": [
       "NCB                2069\n",
       "ISIN_CODE         21215\n",
       "ISSUER_NAME_      56389\n",
       "MATURITY_DATE_    56389\n",
       "COUPON_RATE_      56389\n",
       "MONTH                 0\n",
       "ISSUER_NAME       25409\n",
       "MATURITY_DATE     25409\n",
       "COUPON_RATE       25409\n",
       "Unnamed: 0        59371\n",
       "ISIN              40226\n",
       "ISSUER            40226\n",
       "MATURITY DATE     40226\n",
       "COUPON RATE       40226\n",
       "dtype: int64"
      ]
     },
     "execution_count": 7,
     "metadata": {},
     "output_type": "execute_result"
    }
   ],
   "source": [
    "df.isna().sum()"
   ]
  },
  {
   "cell_type": "markdown",
   "metadata": {
    "slideshow": {
     "slide_type": "skip"
    }
   },
   "source": [
    "Column names are a slightly different in reports generated in different months. Filling in empty cells to put all relevant data into one column:"
   ]
  },
  {
   "cell_type": "code",
   "execution_count": 8,
   "metadata": {
    "slideshow": {
     "slide_type": "skip"
    }
   },
   "outputs": [],
   "source": [
    "df['NCB'].fillna(df['Unnamed: 0'], inplace=True)\n",
    "df['ISIN'].fillna(df['ISIN_CODE'], inplace=True)\n",
    "df['ISSUER'].fillna(df['ISSUER_NAME_'], inplace=True)\n",
    "df['ISSUER'].fillna(df['ISSUER_NAME'], inplace=True)\n",
    "df['MATURITY DATE'].fillna(df['MATURITY_DATE_'], inplace=True)\n",
    "df['MATURITY DATE'].fillna(df['MATURITY_DATE'], inplace=True)\n",
    "df['COUPON RATE'].fillna(df['COUPON_RATE_'], inplace=True)\n",
    "df['COUPON RATE'].fillna(df['COUPON_RATE'], inplace=True)"
   ]
  },
  {
   "cell_type": "markdown",
   "metadata": {
    "slideshow": {
     "slide_type": "skip"
    }
   },
   "source": [
    "Choosing necessary columns and rows:"
   ]
  },
  {
   "cell_type": "code",
   "execution_count": 9,
   "metadata": {
    "slideshow": {
     "slide_type": "skip"
    }
   },
   "outputs": [],
   "source": [
    "df = df[df['ISIN'].notna()][['MONTH', 'NCB', 'ISIN', 'ISSUER', 'MATURITY DATE', 'COUPON RATE']]"
   ]
  },
  {
   "cell_type": "markdown",
   "metadata": {
    "slideshow": {
     "slide_type": "skip"
    }
   },
   "source": [
    "Check for the null values:"
   ]
  },
  {
   "cell_type": "code",
   "execution_count": 10,
   "metadata": {
    "slideshow": {
     "slide_type": "skip"
    }
   },
   "outputs": [
    {
     "data": {
      "text/plain": [
       "MONTH            0\n",
       "NCB              0\n",
       "ISIN             0\n",
       "ISSUER           0\n",
       "MATURITY DATE    0\n",
       "COUPON RATE      0\n",
       "dtype: int64"
      ]
     },
     "execution_count": 10,
     "metadata": {},
     "output_type": "execute_result"
    }
   ],
   "source": [
    "df.isna().sum()"
   ]
  },
  {
   "cell_type": "code",
   "execution_count": 11,
   "metadata": {
    "slideshow": {
     "slide_type": "fragment"
    }
   },
   "outputs": [
    {
     "data": {
      "text/html": [
       "<div>\n",
       "<style scoped>\n",
       "    .dataframe tbody tr th:only-of-type {\n",
       "        vertical-align: middle;\n",
       "    }\n",
       "\n",
       "    .dataframe tbody tr th {\n",
       "        vertical-align: top;\n",
       "    }\n",
       "\n",
       "    .dataframe thead th {\n",
       "        text-align: right;\n",
       "    }\n",
       "</style>\n",
       "<table border=\"1\" class=\"dataframe\">\n",
       "  <thead>\n",
       "    <tr style=\"text-align: right;\">\n",
       "      <th></th>\n",
       "      <th>MONTH</th>\n",
       "      <th>NCB</th>\n",
       "      <th>ISIN</th>\n",
       "      <th>ISSUER</th>\n",
       "      <th>MATURITY DATE</th>\n",
       "      <th>COUPON RATE</th>\n",
       "    </tr>\n",
       "  </thead>\n",
       "  <tbody>\n",
       "    <tr>\n",
       "      <th>0</th>\n",
       "      <td>2017/06</td>\n",
       "      <td>IT</td>\n",
       "      <td>XS1088274169</td>\n",
       "      <td>2i Rete Gas S.p.A.</td>\n",
       "      <td>16/07/2019</td>\n",
       "      <td>1.75</td>\n",
       "    </tr>\n",
       "    <tr>\n",
       "      <th>1</th>\n",
       "      <td>2017/06</td>\n",
       "      <td>IT</td>\n",
       "      <td>XS1088274672</td>\n",
       "      <td>2i Rete Gas S.p.A.</td>\n",
       "      <td>16/07/2024</td>\n",
       "      <td>3</td>\n",
       "    </tr>\n",
       "    <tr>\n",
       "      <th>2</th>\n",
       "      <td>2017/06</td>\n",
       "      <td>IT</td>\n",
       "      <td>XS1144492532</td>\n",
       "      <td>2i Rete Gas S.p.A.</td>\n",
       "      <td>02/01/2020</td>\n",
       "      <td>1.125</td>\n",
       "    </tr>\n",
       "    <tr>\n",
       "      <th>3</th>\n",
       "      <td>2017/06</td>\n",
       "      <td>IT</td>\n",
       "      <td>XS1571982468</td>\n",
       "      <td>2i Rete Gas S.p.A.</td>\n",
       "      <td>28/08/2026</td>\n",
       "      <td>1.75</td>\n",
       "    </tr>\n",
       "    <tr>\n",
       "      <th>4</th>\n",
       "      <td>2017/06</td>\n",
       "      <td>IT</td>\n",
       "      <td>XS0859920406</td>\n",
       "      <td>A2A S.p.A.</td>\n",
       "      <td>28/11/2019</td>\n",
       "      <td>4.5</td>\n",
       "    </tr>\n",
       "  </tbody>\n",
       "</table>\n",
       "</div>"
      ],
      "text/plain": [
       "     MONTH NCB          ISIN              ISSUER MATURITY DATE COUPON RATE\n",
       "0  2017/06  IT  XS1088274169  2i Rete Gas S.p.A.    16/07/2019        1.75\n",
       "1  2017/06  IT  XS1088274672  2i Rete Gas S.p.A.    16/07/2024           3\n",
       "2  2017/06  IT  XS1144492532  2i Rete Gas S.p.A.    02/01/2020       1.125\n",
       "3  2017/06  IT  XS1571982468  2i Rete Gas S.p.A.    28/08/2026        1.75\n",
       "4  2017/06  IT  XS0859920406          A2A S.p.A.    28/11/2019         4.5"
      ]
     },
     "execution_count": 11,
     "metadata": {},
     "output_type": "execute_result"
    }
   ],
   "source": [
    "df.head()"
   ]
  },
  {
   "cell_type": "markdown",
   "metadata": {
    "slideshow": {
     "slide_type": "slide"
    }
   },
   "source": [
    "## Data Extraction via API"
   ]
  },
  {
   "cell_type": "markdown",
   "metadata": {
    "slideshow": {
     "slide_type": "skip"
    }
   },
   "source": [
    "Accessing APIs keys and URLs:"
   ]
  },
  {
   "cell_type": "code",
   "execution_count": 12,
   "metadata": {
    "slideshow": {
     "slide_type": "skip"
    }
   },
   "outputs": [],
   "source": [
    "keys = s3data.read_csv(bucket,'data/keys.csv')\n",
    "links = s3data.read_csv(bucket,'data/links.csv')"
   ]
  },
  {
   "cell_type": "markdown",
   "metadata": {
    "slideshow": {
     "slide_type": "slide"
    }
   },
   "source": [
    "### OpenFIGI API"
   ]
  },
  {
   "cell_type": "markdown",
   "metadata": {
    "slideshow": {
     "slide_type": "fragment"
    }
   },
   "source": [
    "We use openFIGI API to map formatted companies' names via ISIN code of the bonds."
   ]
  },
  {
   "cell_type": "markdown",
   "metadata": {
    "slideshow": {
     "slide_type": "skip"
    }
   },
   "source": [
    "Accessing openFIGI API key and URL:"
   ]
  },
  {
   "cell_type": "code",
   "execution_count": 13,
   "metadata": {
    "slideshow": {
     "slide_type": "skip"
    }
   },
   "outputs": [],
   "source": [
    "openFIGI_key = keys[keys['API']=='openFIGI']['KEY'].reset_index(drop=True)[0]\n",
    "openFIGI_url = links[links['API']=='openFIGI']['URL'].reset_index(drop=True)[0]"
   ]
  },
  {
   "cell_type": "markdown",
   "metadata": {
    "slideshow": {
     "slide_type": "skip"
    }
   },
   "source": [
    "Creating list of unique ISIN codes:"
   ]
  },
  {
   "cell_type": "code",
   "execution_count": 14,
   "metadata": {
    "slideshow": {
     "slide_type": "skip"
    }
   },
   "outputs": [],
   "source": [
    "ISIN_codes = df['ISIN'].drop_duplicates().reset_index(drop=True)"
   ]
  },
  {
   "cell_type": "markdown",
   "metadata": {
    "slideshow": {
     "slide_type": "skip"
    }
   },
   "source": [
    "Mapping request:"
   ]
  },
  {
   "cell_type": "code",
   "execution_count": 15,
   "metadata": {
    "slideshow": {
     "slide_type": "skip"
    }
   },
   "outputs": [],
   "source": [
    "map_result = openFIGI.map_ISIN(openFIGI_key,openFIGI_url,ISIN_codes)"
   ]
  },
  {
   "cell_type": "markdown",
   "metadata": {
    "slideshow": {
     "slide_type": "skip"
    }
   },
   "source": [
    "Merge mapped names to the main dataframe via ISIN:"
   ]
  },
  {
   "cell_type": "code",
   "execution_count": 16,
   "metadata": {
    "slideshow": {
     "slide_type": "skip"
    }
   },
   "outputs": [],
   "source": [
    "df = df.merge(pd.concat([ISIN_codes, map_result], axis=1),on='ISIN', how='left')"
   ]
  },
  {
   "cell_type": "code",
   "execution_count": 17,
   "metadata": {
    "slideshow": {
     "slide_type": "fragment"
    }
   },
   "outputs": [
    {
     "data": {
      "text/html": [
       "<div>\n",
       "<style scoped>\n",
       "    .dataframe tbody tr th:only-of-type {\n",
       "        vertical-align: middle;\n",
       "    }\n",
       "\n",
       "    .dataframe tbody tr th {\n",
       "        vertical-align: top;\n",
       "    }\n",
       "\n",
       "    .dataframe thead th {\n",
       "        text-align: right;\n",
       "    }\n",
       "</style>\n",
       "<table border=\"1\" class=\"dataframe\">\n",
       "  <thead>\n",
       "    <tr style=\"text-align: right;\">\n",
       "      <th></th>\n",
       "      <th>MONTH</th>\n",
       "      <th>NCB</th>\n",
       "      <th>ISIN</th>\n",
       "      <th>ISSUER</th>\n",
       "      <th>MATURITY DATE</th>\n",
       "      <th>COUPON RATE</th>\n",
       "      <th>name</th>\n",
       "    </tr>\n",
       "  </thead>\n",
       "  <tbody>\n",
       "    <tr>\n",
       "      <th>0</th>\n",
       "      <td>2017/06</td>\n",
       "      <td>IT</td>\n",
       "      <td>XS1088274169</td>\n",
       "      <td>2i Rete Gas S.p.A.</td>\n",
       "      <td>16/07/2019</td>\n",
       "      <td>1.75</td>\n",
       "      <td>2I RETE GAS SPA</td>\n",
       "    </tr>\n",
       "    <tr>\n",
       "      <th>1</th>\n",
       "      <td>2017/06</td>\n",
       "      <td>IT</td>\n",
       "      <td>XS1088274672</td>\n",
       "      <td>2i Rete Gas S.p.A.</td>\n",
       "      <td>16/07/2024</td>\n",
       "      <td>3</td>\n",
       "      <td>2I RETE GAS SPA</td>\n",
       "    </tr>\n",
       "    <tr>\n",
       "      <th>2</th>\n",
       "      <td>2017/06</td>\n",
       "      <td>IT</td>\n",
       "      <td>XS1144492532</td>\n",
       "      <td>2i Rete Gas S.p.A.</td>\n",
       "      <td>02/01/2020</td>\n",
       "      <td>1.125</td>\n",
       "      <td>2I RETE GAS SPA</td>\n",
       "    </tr>\n",
       "    <tr>\n",
       "      <th>3</th>\n",
       "      <td>2017/06</td>\n",
       "      <td>IT</td>\n",
       "      <td>XS1571982468</td>\n",
       "      <td>2i Rete Gas S.p.A.</td>\n",
       "      <td>28/08/2026</td>\n",
       "      <td>1.75</td>\n",
       "      <td>2I RETE GAS SPA</td>\n",
       "    </tr>\n",
       "    <tr>\n",
       "      <th>4</th>\n",
       "      <td>2017/06</td>\n",
       "      <td>IT</td>\n",
       "      <td>XS0859920406</td>\n",
       "      <td>A2A S.p.A.</td>\n",
       "      <td>28/11/2019</td>\n",
       "      <td>4.5</td>\n",
       "      <td>A2A SPA</td>\n",
       "    </tr>\n",
       "  </tbody>\n",
       "</table>\n",
       "</div>"
      ],
      "text/plain": [
       "     MONTH NCB          ISIN              ISSUER MATURITY DATE COUPON RATE  \\\n",
       "0  2017/06  IT  XS1088274169  2i Rete Gas S.p.A.    16/07/2019        1.75   \n",
       "1  2017/06  IT  XS1088274672  2i Rete Gas S.p.A.    16/07/2024           3   \n",
       "2  2017/06  IT  XS1144492532  2i Rete Gas S.p.A.    02/01/2020       1.125   \n",
       "3  2017/06  IT  XS1571982468  2i Rete Gas S.p.A.    28/08/2026        1.75   \n",
       "4  2017/06  IT  XS0859920406          A2A S.p.A.    28/11/2019         4.5   \n",
       "\n",
       "              name  \n",
       "0  2I RETE GAS SPA  \n",
       "1  2I RETE GAS SPA  \n",
       "2  2I RETE GAS SPA  \n",
       "3  2I RETE GAS SPA  \n",
       "4          A2A SPA  "
      ]
     },
     "execution_count": 17,
     "metadata": {},
     "output_type": "execute_result"
    }
   ],
   "source": [
    "df.head()"
   ]
  },
  {
   "cell_type": "markdown",
   "metadata": {
    "slideshow": {
     "slide_type": "slide"
    }
   },
   "source": [
    "### PermID Record Matching API"
   ]
  },
  {
   "cell_type": "markdown",
   "metadata": {
    "slideshow": {
     "slide_type": "skip"
    }
   },
   "source": [
    "We use different PermID APIs to assign Industrial groups and Business sectors to companies. Accessing token for API requests:"
   ]
  },
  {
   "cell_type": "code",
   "execution_count": 18,
   "metadata": {
    "slideshow": {
     "slide_type": "skip"
    }
   },
   "outputs": [],
   "source": [
    "permID_token = keys[keys['API']=='permID']['KEY'].reset_index(drop=True)[0]"
   ]
  },
  {
   "cell_type": "markdown",
   "metadata": {
    "slideshow": {
     "slide_type": "skip"
    }
   },
   "source": [
    "Accessing PermID Record Matching API URL:"
   ]
  },
  {
   "cell_type": "code",
   "execution_count": 19,
   "metadata": {
    "slideshow": {
     "slide_type": "skip"
    }
   },
   "outputs": [],
   "source": [
    "permIDmatch_url = links[links['API']=='permID Record Matching']['URL'].reset_index(drop=True)[0]"
   ]
  },
  {
   "cell_type": "markdown",
   "metadata": {
    "slideshow": {
     "slide_type": "fragment"
    }
   },
   "source": [
    "Creating a csv template for Record Matching API:"
   ]
  },
  {
   "cell_type": "markdown",
   "metadata": {
    "slideshow": {
     "slide_type": "skip"
    }
   },
   "source": [
    "Instructions on the format of the template can be found here: https://permid.org/match."
   ]
  },
  {
   "cell_type": "code",
   "execution_count": 20,
   "metadata": {
    "slideshow": {
     "slide_type": "fragment"
    }
   },
   "outputs": [],
   "source": [
    "df['name'] = df['name'].str.split().str[:1].str.join(' ') + '|' + \\\n",
    "             df['name'].str.split().str[:2].str.join(' ') + '|' + df['name']"
   ]
  },
  {
   "cell_type": "code",
   "execution_count": 21,
   "metadata": {
    "slideshow": {
     "slide_type": "fragment"
    }
   },
   "outputs": [],
   "source": [
    "template = df['name'].drop_duplicates().to_csv(index=False)"
   ]
  },
  {
   "cell_type": "markdown",
   "metadata": {
    "slideshow": {
     "slide_type": "slide"
    }
   },
   "source": [
    "Find companies' PermIDs by their names using Record Matching API:"
   ]
  },
  {
   "cell_type": "code",
   "execution_count": 22,
   "metadata": {
    "slideshow": {
     "slide_type": "fragment"
    }
   },
   "outputs": [
    {
     "name": "stdout",
     "output_type": "stream",
     "text": [
      "Processed: 393\n",
      "Matched: \n",
      "  Total 351\n",
      "  Excellent 296\n",
      "  Good 22\n",
      "  Possible 33\n",
      "Unmatched: 42\n"
     ]
    }
   ],
   "source": [
    "match_results = permID.record_matching(permID_token,permIDmatch_url,template)"
   ]
  },
  {
   "cell_type": "markdown",
   "metadata": {
    "slideshow": {
     "slide_type": "skip"
    }
   },
   "source": [
    "<b>Note:</b> Sometimes the request is processed successfully, but does not return any matches due to unexpected server errors. Then the message appears and the request is sent again."
   ]
  },
  {
   "cell_type": "markdown",
   "metadata": {
    "slideshow": {
     "slide_type": "skip"
    }
   },
   "source": [
    "Around 90% of the companies from the list were matched. Merge PermIDs to the main dataframe via template name:"
   ]
  },
  {
   "cell_type": "code",
   "execution_count": 23,
   "metadata": {
    "slideshow": {
     "slide_type": "skip"
    }
   },
   "outputs": [
    {
     "data": {
      "text/html": [
       "<div>\n",
       "<style scoped>\n",
       "    .dataframe tbody tr th:only-of-type {\n",
       "        vertical-align: middle;\n",
       "    }\n",
       "\n",
       "    .dataframe tbody tr th {\n",
       "        vertical-align: top;\n",
       "    }\n",
       "\n",
       "    .dataframe thead th {\n",
       "        text-align: right;\n",
       "    }\n",
       "</style>\n",
       "<table border=\"1\" class=\"dataframe\">\n",
       "  <thead>\n",
       "    <tr style=\"text-align: right;\">\n",
       "      <th></th>\n",
       "      <th>MONTH</th>\n",
       "      <th>NCB</th>\n",
       "      <th>ISIN</th>\n",
       "      <th>ISSUER</th>\n",
       "      <th>MATURITY DATE</th>\n",
       "      <th>COUPON RATE</th>\n",
       "      <th>name</th>\n",
       "      <th>Match OpenPermID</th>\n",
       "    </tr>\n",
       "  </thead>\n",
       "  <tbody>\n",
       "    <tr>\n",
       "      <th>0</th>\n",
       "      <td>2017/06</td>\n",
       "      <td>IT</td>\n",
       "      <td>XS1088274169</td>\n",
       "      <td>2i Rete Gas S.p.A.</td>\n",
       "      <td>16/07/2019</td>\n",
       "      <td>1.75</td>\n",
       "      <td>2I|2I RETE|2I RETE GAS SPA</td>\n",
       "      <td>https://permid.org/1-5000936840</td>\n",
       "    </tr>\n",
       "    <tr>\n",
       "      <th>1</th>\n",
       "      <td>2017/06</td>\n",
       "      <td>IT</td>\n",
       "      <td>XS1088274672</td>\n",
       "      <td>2i Rete Gas S.p.A.</td>\n",
       "      <td>16/07/2024</td>\n",
       "      <td>3</td>\n",
       "      <td>2I|2I RETE|2I RETE GAS SPA</td>\n",
       "      <td>https://permid.org/1-5000936840</td>\n",
       "    </tr>\n",
       "    <tr>\n",
       "      <th>2</th>\n",
       "      <td>2017/06</td>\n",
       "      <td>IT</td>\n",
       "      <td>XS1144492532</td>\n",
       "      <td>2i Rete Gas S.p.A.</td>\n",
       "      <td>02/01/2020</td>\n",
       "      <td>1.125</td>\n",
       "      <td>2I|2I RETE|2I RETE GAS SPA</td>\n",
       "      <td>https://permid.org/1-5000936840</td>\n",
       "    </tr>\n",
       "    <tr>\n",
       "      <th>3</th>\n",
       "      <td>2017/06</td>\n",
       "      <td>IT</td>\n",
       "      <td>XS1571982468</td>\n",
       "      <td>2i Rete Gas S.p.A.</td>\n",
       "      <td>28/08/2026</td>\n",
       "      <td>1.75</td>\n",
       "      <td>2I|2I RETE|2I RETE GAS SPA</td>\n",
       "      <td>https://permid.org/1-5000936840</td>\n",
       "    </tr>\n",
       "    <tr>\n",
       "      <th>4</th>\n",
       "      <td>2017/06</td>\n",
       "      <td>IT</td>\n",
       "      <td>XS0859920406</td>\n",
       "      <td>A2A S.p.A.</td>\n",
       "      <td>28/11/2019</td>\n",
       "      <td>4.5</td>\n",
       "      <td>A2A|A2A SPA|A2A SPA</td>\n",
       "      <td>https://permid.org/1-5000005309</td>\n",
       "    </tr>\n",
       "  </tbody>\n",
       "</table>\n",
       "</div>"
      ],
      "text/plain": [
       "     MONTH NCB          ISIN              ISSUER MATURITY DATE COUPON RATE  \\\n",
       "0  2017/06  IT  XS1088274169  2i Rete Gas S.p.A.    16/07/2019        1.75   \n",
       "1  2017/06  IT  XS1088274672  2i Rete Gas S.p.A.    16/07/2024           3   \n",
       "2  2017/06  IT  XS1144492532  2i Rete Gas S.p.A.    02/01/2020       1.125   \n",
       "3  2017/06  IT  XS1571982468  2i Rete Gas S.p.A.    28/08/2026        1.75   \n",
       "4  2017/06  IT  XS0859920406          A2A S.p.A.    28/11/2019         4.5   \n",
       "\n",
       "                         name                 Match OpenPermID  \n",
       "0  2I|2I RETE|2I RETE GAS SPA  https://permid.org/1-5000936840  \n",
       "1  2I|2I RETE|2I RETE GAS SPA  https://permid.org/1-5000936840  \n",
       "2  2I|2I RETE|2I RETE GAS SPA  https://permid.org/1-5000936840  \n",
       "3  2I|2I RETE|2I RETE GAS SPA  https://permid.org/1-5000936840  \n",
       "4         A2A|A2A SPA|A2A SPA  https://permid.org/1-5000005309  "
      ]
     },
     "execution_count": 23,
     "metadata": {},
     "output_type": "execute_result"
    }
   ],
   "source": [
    "df = df.merge(match_results, left_on = 'name', right_on = 'Input_Name', how = 'left').drop(columns='Input_Name')\n",
    "df.head()"
   ]
  },
  {
   "cell_type": "markdown",
   "metadata": {
    "slideshow": {
     "slide_type": "slide"
    }
   },
   "source": [
    "Around 10% of the data is not matched via names mapped from openFIGI. We try another approach.   \n",
    "Creating a template from raw companies' names:"
   ]
  },
  {
   "cell_type": "markdown",
   "metadata": {
    "slideshow": {
     "slide_type": "skip"
    }
   },
   "source": [
    "We decode special letters to their English equivalent, remove special characters, additional spaces, etc. Then we create a new csv template only for companies that do not have PermID."
   ]
  },
  {
   "cell_type": "code",
   "execution_count": 24,
   "metadata": {
    "slideshow": {
     "slide_type": "fragment"
    }
   },
   "outputs": [],
   "source": [
    "df['NAME'] = df['ISSUER'].str.normalize('NFKD').str.encode('ascii', errors='ignore').str.decode('utf-8').\\\n",
    "                                    str.replace('.',' ').str.replace('/',' ').str.replace('-',' ').str.replace('  ',' ').\\\n",
    "                                    str.replace('(','').str.replace(')','').str.split(',',1).str[0].str.strip().str.lower()     \n",
    "df['NAME'] =  df['NAME'].str.split().str[:1].str.join(' ') + '|' + \\\n",
    "              df['NAME'].str.split().str[:2].str.join(' ') + '|' + df['NAME']"
   ]
  },
  {
   "cell_type": "code",
   "execution_count": 25,
   "metadata": {
    "slideshow": {
     "slide_type": "skip"
    }
   },
   "outputs": [],
   "source": [
    "template = df[df['Match OpenPermID'].isna()]['NAME'].drop_duplicates().to_csv(index=False)"
   ]
  },
  {
   "cell_type": "markdown",
   "metadata": {
    "slideshow": {
     "slide_type": "slide"
    }
   },
   "source": [
    "Find companies' PermIDs using Record Matching API:"
   ]
  },
  {
   "cell_type": "code",
   "execution_count": 26,
   "metadata": {
    "slideshow": {
     "slide_type": "fragment"
    }
   },
   "outputs": [
    {
     "name": "stdout",
     "output_type": "stream",
     "text": [
      "Processed: 50\n",
      "Matched: \n",
      "  Total 35\n",
      "  Excellent 28\n",
      "  Good 5\n",
      "  Possible 2\n",
      "Unmatched: 15\n"
     ]
    }
   ],
   "source": [
    "match_results = permID.record_matching(permID_token,permIDmatch_url,template)"
   ]
  },
  {
   "cell_type": "markdown",
   "metadata": {
    "slideshow": {
     "slide_type": "skip"
    }
   },
   "source": [
    "Only several companies are not matched. Updating the main datafraime with additionally matched PermIDs:"
   ]
  },
  {
   "cell_type": "code",
   "execution_count": 27,
   "metadata": {
    "slideshow": {
     "slide_type": "skip"
    }
   },
   "outputs": [],
   "source": [
    "df.update(df.drop(columns=['Match OpenPermID']).merge(match_results[match_results['Match OpenPermID'].notna()],\\\n",
    "                                                      left_on = 'NAME', right_on = 'Input_Name', how = 'left'))"
   ]
  },
  {
   "cell_type": "markdown",
   "metadata": {
    "slideshow": {
     "slide_type": "slide"
    }
   },
   "source": [
    "### PermID Entity Search API"
   ]
  },
  {
   "cell_type": "markdown",
   "metadata": {
    "slideshow": {
     "slide_type": "skip"
    }
   },
   "source": [
    "To find PermID for the rest of the companies, we use PermID Entity Search API. Accessing API URL:"
   ]
  },
  {
   "cell_type": "code",
   "execution_count": 28,
   "metadata": {
    "slideshow": {
     "slide_type": "skip"
    }
   },
   "outputs": [],
   "source": [
    "permIDsearch_url = links[links['API']=='permID Entity Search']['URL'].reset_index(drop=True)[0]"
   ]
  },
  {
   "cell_type": "markdown",
   "metadata": {
    "slideshow": {
     "slide_type": "fragment"
    }
   },
   "source": [
    "List of possible queries for each company using columns generated for Record Matching API:"
   ]
  },
  {
   "cell_type": "code",
   "execution_count": 29,
   "metadata": {
    "slideshow": {
     "slide_type": "fragment"
    }
   },
   "outputs": [],
   "source": [
    "df['SEARCH'] = df['name'] + '|' + df['NAME'] + '|' + df['ISSUER']"
   ]
  },
  {
   "cell_type": "markdown",
   "metadata": {
    "slideshow": {
     "slide_type": "slide"
    }
   },
   "source": [
    " - We make reqests with several search queries (first word, first two words, whole name) via Entity Search API for each company that does not have PermID;  \n",
    " - Then we append results of each request to one dataframe;  \n",
    " - From the obtained list we choose the best search result for each company and get corresponding permID."
   ]
  },
  {
   "cell_type": "code",
   "execution_count": 30,
   "metadata": {
    "slideshow": {
     "slide_type": "fragment"
    }
   },
   "outputs": [],
   "source": [
    "res = []\n",
    "for name in df[df['Match OpenPermID'].isna()]['SEARCH'].drop_duplicates():\n",
    "    name_results = []\n",
    "    for query in name.split('|'):\n",
    "        search_company = permID.entity_search(permID_token,permIDsearch_url,query)\n",
    "        if search_company['total'] != 0:\n",
    "            name_results = name_results + search_company['entities']\n",
    "    res.append(pd.DataFrame(name_results).assign(ISSUER = name.split('|')[6]))"
   ]
  },
  {
   "cell_type": "markdown",
   "metadata": {
    "slideshow": {
     "slide_type": "skip"
    }
   },
   "source": [
    "<b>Note:</b> In case of an exception the message appears, the request is sent again after a pause."
   ]
  },
  {
   "cell_type": "code",
   "execution_count": 31,
   "metadata": {
    "slideshow": {
     "slide_type": "skip"
    }
   },
   "outputs": [],
   "source": [
    "res = pd.concat(res,ignore_index=True).drop_duplicates()"
   ]
  },
  {
   "cell_type": "markdown",
   "metadata": {
    "slideshow": {
     "slide_type": "skip"
    }
   },
   "source": [
    "Display results:"
   ]
  },
  {
   "cell_type": "code",
   "execution_count": 32,
   "metadata": {
    "scrolled": true,
    "slideshow": {
     "slide_type": "skip"
    }
   },
   "outputs": [
    {
     "data": {
      "text/html": [
       "<div>\n",
       "<style scoped>\n",
       "    .dataframe tbody tr th:only-of-type {\n",
       "        vertical-align: middle;\n",
       "    }\n",
       "\n",
       "    .dataframe tbody tr th {\n",
       "        vertical-align: top;\n",
       "    }\n",
       "\n",
       "    .dataframe thead th {\n",
       "        text-align: right;\n",
       "    }\n",
       "</style>\n",
       "<table border=\"1\" class=\"dataframe\">\n",
       "  <thead>\n",
       "    <tr style=\"text-align: right;\">\n",
       "      <th></th>\n",
       "      <th>ISSUER</th>\n",
       "      <th>organizationName</th>\n",
       "    </tr>\n",
       "  </thead>\n",
       "  <tbody>\n",
       "    <tr>\n",
       "      <th>0</th>\n",
       "      <td>Autostr. Bres.Ver.Vic.Pad. SpA</td>\n",
       "      <td>ASTM SpA</td>\n",
       "    </tr>\n",
       "    <tr>\n",
       "      <th>1</th>\n",
       "      <td>Autostr. Bres.Ver.Vic.Pad. SpA</td>\n",
       "      <td>Societa di Progetto Autostrada Diretta Brescia...</td>\n",
       "    </tr>\n",
       "    <tr>\n",
       "      <th>2</th>\n",
       "      <td>Autostr. Bres.Ver.Vic.Pad. SpA</td>\n",
       "      <td>A4 Holding SpA</td>\n",
       "    </tr>\n",
       "    <tr>\n",
       "      <th>3</th>\n",
       "      <td>Autostr. Bres.Ver.Vic.Pad. SpA</td>\n",
       "      <td>ATIVA Autostrada Torino Ivrea Valle d'Aosta SpA</td>\n",
       "    </tr>\n",
       "    <tr>\n",
       "      <th>4</th>\n",
       "      <td>Autostr. Bres.Ver.Vic.Pad. SpA</td>\n",
       "      <td>Autostrada Albenga Garessio Ceva SpA</td>\n",
       "    </tr>\n",
       "    <tr>\n",
       "      <th>7</th>\n",
       "      <td>Autostr. Bres.Ver.Vic.Pad. SpA</td>\n",
       "      <td>Autostrada Brescia Verona Vicenza Padova SpA</td>\n",
       "    </tr>\n",
       "    <tr>\n",
       "      <th>8</th>\n",
       "      <td>Autostr. Bres.Ver.Vic.Pad. SpA</td>\n",
       "      <td>Autostrada Campogalliano Sassuolo SpA</td>\n",
       "    </tr>\n",
       "    <tr>\n",
       "      <th>9</th>\n",
       "      <td>Autostr. Bres.Ver.Vic.Pad. SpA</td>\n",
       "      <td>Autostrada del Molise SpA</td>\n",
       "    </tr>\n",
       "    <tr>\n",
       "      <th>10</th>\n",
       "      <td>Autostr. Bres.Ver.Vic.Pad. SpA</td>\n",
       "      <td>Mattioda Autostrade SpA</td>\n",
       "    </tr>\n",
       "    <tr>\n",
       "      <th>11</th>\n",
       "      <td>Ciba Spc. Chem. Fin. Lxbg S.A.</td>\n",
       "      <td>CIBA SPECIAL-S</td>\n",
       "    </tr>\n",
       "    <tr>\n",
       "      <th>12</th>\n",
       "      <td>Ciba Spc. Chem. Fin. Lxbg S.A.</td>\n",
       "      <td>Ciba Specialty Chemicals Canada Inc</td>\n",
       "    </tr>\n",
       "    <tr>\n",
       "      <th>13</th>\n",
       "      <td>Ciba Spc. Chem. Fin. Lxbg S.A.</td>\n",
       "      <td>CIBA Specialty Chemicals Holdings NA Corp</td>\n",
       "    </tr>\n",
       "    <tr>\n",
       "      <th>14</th>\n",
       "      <td>Ciba Spc. Chem. Fin. Lxbg S.A.</td>\n",
       "      <td>CIBA Specialty Chemicals Korea YH</td>\n",
       "    </tr>\n",
       "    <tr>\n",
       "      <th>15</th>\n",
       "      <td>Ciba Spc. Chem. Fin. Lxbg S.A.</td>\n",
       "      <td>Ciba Vision Corp</td>\n",
       "    </tr>\n",
       "    <tr>\n",
       "      <th>16</th>\n",
       "      <td>Ciba Spc. Chem. Fin. Lxbg S.A.</td>\n",
       "      <td>CIBA Vision SA</td>\n",
       "    </tr>\n",
       "    <tr>\n",
       "      <th>17</th>\n",
       "      <td>Ciba Spc. Chem. Fin. Lxbg S.A.</td>\n",
       "      <td>CIBA Corp</td>\n",
       "    </tr>\n",
       "    <tr>\n",
       "      <th>18</th>\n",
       "      <td>Ciba Spc. Chem. Fin. Lxbg S.A.</td>\n",
       "      <td>Syngenta Crop Protection AG</td>\n",
       "    </tr>\n",
       "    <tr>\n",
       "      <th>19</th>\n",
       "      <td>Ciba Spc. Chem. Fin. Lxbg S.A.</td>\n",
       "      <td>Nihon Ciba Geigy KK</td>\n",
       "    </tr>\n",
       "    <tr>\n",
       "      <th>20</th>\n",
       "      <td>Compagnie Fin. Ind. Autoroutes</td>\n",
       "      <td>Canadian National Railway Co</td>\n",
       "    </tr>\n",
       "    <tr>\n",
       "      <th>21</th>\n",
       "      <td>Compagnie Fin. Ind. Autoroutes</td>\n",
       "      <td>Compagnie Generale des Etablissements Michelin...</td>\n",
       "    </tr>\n",
       "    <tr>\n",
       "      <th>22</th>\n",
       "      <td>Compagnie Fin. Ind. Autoroutes</td>\n",
       "      <td>Compagnie de Saint Gobain SA</td>\n",
       "    </tr>\n",
       "    <tr>\n",
       "      <th>23</th>\n",
       "      <td>Compagnie Fin. Ind. Autoroutes</td>\n",
       "      <td>Imperial Oil Ltd</td>\n",
       "    </tr>\n",
       "    <tr>\n",
       "      <th>24</th>\n",
       "      <td>Compagnie Fin. Ind. Autoroutes</td>\n",
       "      <td>Compagnie Financiere Richemont SA</td>\n",
       "    </tr>\n",
       "    <tr>\n",
       "      <th>25</th>\n",
       "      <td>Compagnie Fin. Ind. Autoroutes</td>\n",
       "      <td>Viel et Compagnie Finance SE</td>\n",
       "    </tr>\n",
       "    <tr>\n",
       "      <th>26</th>\n",
       "      <td>Compagnie Fin. Ind. Autoroutes</td>\n",
       "      <td>Compagnie Gestion &amp; Finance SA</td>\n",
       "    </tr>\n",
       "    <tr>\n",
       "      <th>27</th>\n",
       "      <td>Compagnie Fin. Ind. Autoroutes</td>\n",
       "      <td>Cie Financiere Sfac</td>\n",
       "    </tr>\n",
       "    <tr>\n",
       "      <th>28</th>\n",
       "      <td>Compagnie Fin. Ind. Autoroutes</td>\n",
       "      <td>Compagnie Cosmopolitaine de Finance SA</td>\n",
       "    </tr>\n",
       "    <tr>\n",
       "      <th>29</th>\n",
       "      <td>Compagnie Fin. Ind. Autoroutes</td>\n",
       "      <td>Compagnie Europeenne de Finance SARL</td>\n",
       "    </tr>\n",
       "    <tr>\n",
       "      <th>30</th>\n",
       "      <td>Compagnie Fin. Ind. Autoroutes</td>\n",
       "      <td>Compagnie Indust Et Finan Des Prod Amyplaces</td>\n",
       "    </tr>\n",
       "    <tr>\n",
       "      <th>31</th>\n",
       "      <td>Compagnie Fin. Ind. Autoroutes</td>\n",
       "      <td>Et Compagnie</td>\n",
       "    </tr>\n",
       "    <tr>\n",
       "      <th>42</th>\n",
       "      <td>Distribuidora Intl de Alim.SA</td>\n",
       "      <td>Fluxys Belgium NV</td>\n",
       "    </tr>\n",
       "    <tr>\n",
       "      <th>43</th>\n",
       "      <td>Distribuidora Intl de Alim.SA</td>\n",
       "      <td>DistIT AB</td>\n",
       "    </tr>\n",
       "    <tr>\n",
       "      <th>44</th>\n",
       "      <td>Distribuidora Intl de Alim.SA</td>\n",
       "      <td>Abu Dhabi National Oil Company for Distributio...</td>\n",
       "    </tr>\n",
       "    <tr>\n",
       "      <th>45</th>\n",
       "      <td>Distribuidora Intl de Alim.SA</td>\n",
       "      <td>Petrobras Distribuidora SA</td>\n",
       "    </tr>\n",
       "    <tr>\n",
       "      <th>46</th>\n",
       "      <td>Distribuidora Intl de Alim.SA</td>\n",
       "      <td>Compania de Distribucion Integral Logista Hold...</td>\n",
       "    </tr>\n",
       "    <tr>\n",
       "      <th>47</th>\n",
       "      <td>Distribuidora Intl de Alim.SA</td>\n",
       "      <td>Nex International Ltd</td>\n",
       "    </tr>\n",
       "    <tr>\n",
       "      <th>48</th>\n",
       "      <td>Distribuidora Intl de Alim.SA</td>\n",
       "      <td>Distribuidora Internacional de Alimentacion SA</td>\n",
       "    </tr>\n",
       "    <tr>\n",
       "      <th>49</th>\n",
       "      <td>Distribuidora Intl de Alim.SA</td>\n",
       "      <td>Administracion Nacional de Combustibles Alcoho...</td>\n",
       "    </tr>\n",
       "    <tr>\n",
       "      <th>51</th>\n",
       "      <td>Distribuidora Intl de Alim.SA</td>\n",
       "      <td>Energisa Mato Grosso do Sul Distribuidora de E...</td>\n",
       "    </tr>\n",
       "    <tr>\n",
       "      <th>52</th>\n",
       "      <td>Distribuidora Intl de Alim.SA</td>\n",
       "      <td>Importadora y Distribuidora Herbalife Internat...</td>\n",
       "    </tr>\n",
       "    <tr>\n",
       "      <th>53</th>\n",
       "      <td>Distribuidora Intl de Alim.SA</td>\n",
       "      <td>JT International Distribuidora de Cigarros Ltda</td>\n",
       "    </tr>\n",
       "    <tr>\n",
       "      <th>54</th>\n",
       "      <td>ELIA SYSTEM OPERATOR N.V.</td>\n",
       "      <td>Elia Group SA</td>\n",
       "    </tr>\n",
       "    <tr>\n",
       "      <th>55</th>\n",
       "      <td>ELIA SYSTEM OPERATOR N.V.</td>\n",
       "      <td>Akel Minott Elia (Desg)</td>\n",
       "    </tr>\n",
       "    <tr>\n",
       "      <th>56</th>\n",
       "      <td>ELIA SYSTEM OPERATOR N.V.</td>\n",
       "      <td>ANDREW D ELIA</td>\n",
       "    </tr>\n",
       "    <tr>\n",
       "      <th>57</th>\n",
       "      <td>ELIA SYSTEM OPERATOR N.V.</td>\n",
       "      <td>Bagno Elia Srl</td>\n",
       "    </tr>\n",
       "    <tr>\n",
       "      <th>58</th>\n",
       "      <td>ELIA SYSTEM OPERATOR N.V.</td>\n",
       "      <td>Bano Elia &amp; C SNC</td>\n",
       "    </tr>\n",
       "    <tr>\n",
       "      <th>59</th>\n",
       "      <td>ELIA SYSTEM OPERATOR N.V.</td>\n",
       "      <td>Elia Transmission Belgium NV</td>\n",
       "    </tr>\n",
       "    <tr>\n",
       "      <th>65</th>\n",
       "      <td>ELIA SYSTEM OPERATOR N.V.</td>\n",
       "      <td>Elia</td>\n",
       "    </tr>\n",
       "    <tr>\n",
       "      <th>66</th>\n",
       "      <td>Elia System Operator S.A./N.V.</td>\n",
       "      <td>Elia Group SA</td>\n",
       "    </tr>\n",
       "    <tr>\n",
       "      <th>67</th>\n",
       "      <td>Elia System Operator S.A./N.V.</td>\n",
       "      <td>Akel Minott Elia (Desg)</td>\n",
       "    </tr>\n",
       "    <tr>\n",
       "      <th>68</th>\n",
       "      <td>Elia System Operator S.A./N.V.</td>\n",
       "      <td>ANDREW D ELIA</td>\n",
       "    </tr>\n",
       "    <tr>\n",
       "      <th>69</th>\n",
       "      <td>Elia System Operator S.A./N.V.</td>\n",
       "      <td>Bagno Elia Srl</td>\n",
       "    </tr>\n",
       "    <tr>\n",
       "      <th>70</th>\n",
       "      <td>Elia System Operator S.A./N.V.</td>\n",
       "      <td>Bano Elia &amp; C SNC</td>\n",
       "    </tr>\n",
       "    <tr>\n",
       "      <th>71</th>\n",
       "      <td>Elia System Operator S.A./N.V.</td>\n",
       "      <td>Elia Transmission Belgium NV</td>\n",
       "    </tr>\n",
       "    <tr>\n",
       "      <th>77</th>\n",
       "      <td>Elia System Operator S.A./N.V.</td>\n",
       "      <td>Elia</td>\n",
       "    </tr>\n",
       "    <tr>\n",
       "      <th>90</th>\n",
       "      <td>O2 Telefónica Dtld. Finanzier.</td>\n",
       "      <td>Telefonica Holding de Argentina SA</td>\n",
       "    </tr>\n",
       "    <tr>\n",
       "      <th>91</th>\n",
       "      <td>O2 Telefónica Dtld. Finanzier.</td>\n",
       "      <td>O2 Czech Republic as</td>\n",
       "    </tr>\n",
       "    <tr>\n",
       "      <th>92</th>\n",
       "      <td>O2 Telefónica Dtld. Finanzier.</td>\n",
       "      <td>O2 Secure Wireless Inc</td>\n",
       "    </tr>\n",
       "    <tr>\n",
       "      <th>93</th>\n",
       "      <td>O2 Telefónica Dtld. Finanzier.</td>\n",
       "      <td>O2micro International Ltd</td>\n",
       "    </tr>\n",
       "    <tr>\n",
       "      <th>94</th>\n",
       "      <td>O2 Telefónica Dtld. Finanzier.</td>\n",
       "      <td>Oxygen Audio SA</td>\n",
       "    </tr>\n",
       "    <tr>\n",
       "      <th>95</th>\n",
       "      <td>O2 Telefónica Dtld. Finanzier.</td>\n",
       "      <td>O2 (UK) Ltd</td>\n",
       "    </tr>\n",
       "    <tr>\n",
       "      <th>96</th>\n",
       "      <td>O2 Telefónica Dtld. Finanzier.</td>\n",
       "      <td>Telefonica O2 Holdings Ltd</td>\n",
       "    </tr>\n",
       "    <tr>\n",
       "      <th>97</th>\n",
       "      <td>O2 Telefónica Dtld. Finanzier.</td>\n",
       "      <td>Telefonica O2 Ireland Ltd</td>\n",
       "    </tr>\n",
       "    <tr>\n",
       "      <th>98</th>\n",
       "      <td>O2 Telefónica Dtld. Finanzier.</td>\n",
       "      <td>O2 Telefonica Deutschland Finanzierungs GmbH</td>\n",
       "    </tr>\n",
       "    <tr>\n",
       "      <th>99</th>\n",
       "      <td>O2 Telefónica Dtld. Finanzier.</td>\n",
       "      <td>Telefonica O2 Business Solutions spol s ro</td>\n",
       "    </tr>\n",
       "    <tr>\n",
       "      <th>100</th>\n",
       "      <td>Red Eléctrica Financ. S.A.U.</td>\n",
       "      <td>Red Hat Inc</td>\n",
       "    </tr>\n",
       "    <tr>\n",
       "      <th>101</th>\n",
       "      <td>Red Eléctrica Financ. S.A.U.</td>\n",
       "      <td>Red Electrica Corporacion SA</td>\n",
       "    </tr>\n",
       "    <tr>\n",
       "      <th>102</th>\n",
       "      <td>Red Eléctrica Financ. S.A.U.</td>\n",
       "      <td>Red Robin Gourmet Burgers Inc</td>\n",
       "    </tr>\n",
       "    <tr>\n",
       "      <th>103</th>\n",
       "      <td>Red Eléctrica Financ. S.A.U.</td>\n",
       "      <td>Red Sea International Company</td>\n",
       "    </tr>\n",
       "    <tr>\n",
       "      <th>104</th>\n",
       "      <td>Red Eléctrica Financ. S.A.U.</td>\n",
       "      <td>Red Pine Exploration Inc</td>\n",
       "    </tr>\n",
       "    <tr>\n",
       "      <th>106</th>\n",
       "      <td>Red Eléctrica Financ. S.A.U.</td>\n",
       "      <td>Red Electrica de Espana SA</td>\n",
       "    </tr>\n",
       "    <tr>\n",
       "      <th>107</th>\n",
       "      <td>Red Eléctrica Financ. S.A.U.</td>\n",
       "      <td>Red Electrica Andina SA</td>\n",
       "    </tr>\n",
       "    <tr>\n",
       "      <th>108</th>\n",
       "      <td>Red Eléctrica Financ. S.A.U.</td>\n",
       "      <td>Red Electrica Brasil Holding Ltda</td>\n",
       "    </tr>\n",
       "    <tr>\n",
       "      <th>109</th>\n",
       "      <td>Red Eléctrica Financ. S.A.U.</td>\n",
       "      <td>Red Electrica Chile SpA</td>\n",
       "    </tr>\n",
       "    <tr>\n",
       "      <th>120</th>\n",
       "      <td>Red Eléctrica Financ. S.A.U.</td>\n",
       "      <td>Red Electrica Financiaciones SAU</td>\n",
       "    </tr>\n",
       "    <tr>\n",
       "      <th>121</th>\n",
       "      <td>RESA SA</td>\n",
       "      <td>Resaphene Suisse AG</td>\n",
       "    </tr>\n",
       "    <tr>\n",
       "      <th>122</th>\n",
       "      <td>RESA SA</td>\n",
       "      <td>AMUNDI RESA ACTIONS FRANCE</td>\n",
       "    </tr>\n",
       "    <tr>\n",
       "      <th>123</th>\n",
       "      <td>RESA SA</td>\n",
       "      <td>AMUNDI RESA ACTIONS</td>\n",
       "    </tr>\n",
       "    <tr>\n",
       "      <th>124</th>\n",
       "      <td>RESA SA</td>\n",
       "      <td>AMUNDI RESA DYNAMIQUE</td>\n",
       "    </tr>\n",
       "    <tr>\n",
       "      <th>125</th>\n",
       "      <td>RESA SA</td>\n",
       "      <td>AMUNDI RESA EQUILIBRE</td>\n",
       "    </tr>\n",
       "    <tr>\n",
       "      <th>126</th>\n",
       "      <td>RESA SA</td>\n",
       "      <td>Plasticos Resa SA de CV</td>\n",
       "    </tr>\n",
       "    <tr>\n",
       "      <th>127</th>\n",
       "      <td>RESA SA</td>\n",
       "      <td>Realisations Electroniques Spatiales Et Aerona...</td>\n",
       "    </tr>\n",
       "    <tr>\n",
       "      <th>128</th>\n",
       "      <td>RESA SA</td>\n",
       "      <td>Resa Guipuzcoana SA</td>\n",
       "    </tr>\n",
       "    <tr>\n",
       "      <th>129</th>\n",
       "      <td>RESA SA</td>\n",
       "      <td>RESA Immo Tatroz S.A.</td>\n",
       "    </tr>\n",
       "    <tr>\n",
       "      <th>130</th>\n",
       "      <td>RESA SA</td>\n",
       "      <td>Resa SA</td>\n",
       "    </tr>\n",
       "    <tr>\n",
       "      <th>151</th>\n",
       "      <td>SNCF MOBILITES</td>\n",
       "      <td>Societe Nationale SNCF SA</td>\n",
       "    </tr>\n",
       "    <tr>\n",
       "      <th>152</th>\n",
       "      <td>SNCF MOBILITES</td>\n",
       "      <td>Sncf Reseau SA</td>\n",
       "    </tr>\n",
       "    <tr>\n",
       "      <th>153</th>\n",
       "      <td>SNCF MOBILITES</td>\n",
       "      <td>Sncf Participations SAS</td>\n",
       "    </tr>\n",
       "    <tr>\n",
       "      <th>154</th>\n",
       "      <td>SNCF MOBILITES</td>\n",
       "      <td>L'Agence Voyages-SNCF.Com SAS</td>\n",
       "    </tr>\n",
       "    <tr>\n",
       "      <th>155</th>\n",
       "      <td>SNCF MOBILITES</td>\n",
       "      <td>Caisse de Prevoyance et de Retraite du personn...</td>\n",
       "    </tr>\n",
       "    <tr>\n",
       "      <th>161</th>\n",
       "      <td>Unilever NV</td>\n",
       "      <td>Unilever PLC</td>\n",
       "    </tr>\n",
       "    <tr>\n",
       "      <th>162</th>\n",
       "      <td>Unilever NV</td>\n",
       "      <td>Hindustan Unilever Ltd</td>\n",
       "    </tr>\n",
       "    <tr>\n",
       "      <th>163</th>\n",
       "      <td>Unilever NV</td>\n",
       "      <td>Unilever Group</td>\n",
       "    </tr>\n",
       "    <tr>\n",
       "      <th>164</th>\n",
       "      <td>Unilever NV</td>\n",
       "      <td>Unilever Indonesia Tbk PT</td>\n",
       "    </tr>\n",
       "    <tr>\n",
       "      <th>165</th>\n",
       "      <td>Unilever NV</td>\n",
       "      <td>A &amp; W Food Services of Canada Inc</td>\n",
       "    </tr>\n",
       "    <tr>\n",
       "      <th>166</th>\n",
       "      <td>Unilever NV</td>\n",
       "      <td>BIOLYN(UNILEVER NV)</td>\n",
       "    </tr>\n",
       "    <tr>\n",
       "      <th>167</th>\n",
       "      <td>Unilever NV</td>\n",
       "      <td>Boursault(Unilever Nv)</td>\n",
       "    </tr>\n",
       "    <tr>\n",
       "      <th>168</th>\n",
       "      <td>Unilever NV</td>\n",
       "      <td>Chesebrough Pond's Inc</td>\n",
       "    </tr>\n",
       "    <tr>\n",
       "      <th>169</th>\n",
       "      <td>Unilever NV</td>\n",
       "      <td>DERO(UNILEVER NV)</td>\n",
       "    </tr>\n",
       "    <tr>\n",
       "      <th>170</th>\n",
       "      <td>Unilever NV</td>\n",
       "      <td>Deutsche Unilever GmbH</td>\n",
       "    </tr>\n",
       "    <tr>\n",
       "      <th>196</th>\n",
       "      <td>Vivendi S.A.</td>\n",
       "      <td>Vivendi SE</td>\n",
       "    </tr>\n",
       "    <tr>\n",
       "      <th>197</th>\n",
       "      <td>Vivendi S.A.</td>\n",
       "      <td>Veolia Energie International SA</td>\n",
       "    </tr>\n",
       "    <tr>\n",
       "      <th>198</th>\n",
       "      <td>Vivendi S.A.</td>\n",
       "      <td>Vivendi Entertainment</td>\n",
       "    </tr>\n",
       "    <tr>\n",
       "      <th>199</th>\n",
       "      <td>Vivendi S.A.</td>\n",
       "      <td>Vivendi Games Inc</td>\n",
       "    </tr>\n",
       "    <tr>\n",
       "      <th>200</th>\n",
       "      <td>Vivendi S.A.</td>\n",
       "      <td>01net(Vivendi Universal)</td>\n",
       "    </tr>\n",
       "    <tr>\n",
       "      <th>202</th>\n",
       "      <td>Vivendi S.A.</td>\n",
       "      <td>Aqua Alliance Inc</td>\n",
       "    </tr>\n",
       "    <tr>\n",
       "      <th>203</th>\n",
       "      <td>Vivendi S.A.</td>\n",
       "      <td>ATI(VIVENDI SA)</td>\n",
       "    </tr>\n",
       "    <tr>\n",
       "      <th>204</th>\n",
       "      <td>Vivendi S.A.</td>\n",
       "      <td>Atviso(Vivendi Sa Softbank Co)</td>\n",
       "    </tr>\n",
       "    <tr>\n",
       "      <th>205</th>\n",
       "      <td>Vivendi S.A.</td>\n",
       "      <td>Beneport Sa(Vivendi Sa)</td>\n",
       "    </tr>\n",
       "    <tr>\n",
       "      <th>232</th>\n",
       "      <td>Elia System Operator S.A./N.V.</td>\n",
       "      <td>Elba NV</td>\n",
       "    </tr>\n",
       "    <tr>\n",
       "      <th>240</th>\n",
       "      <td>Covivio Hotels SACA, Paris</td>\n",
       "      <td>Covivio SA</td>\n",
       "    </tr>\n",
       "    <tr>\n",
       "      <th>241</th>\n",
       "      <td>Covivio Hotels SACA, Paris</td>\n",
       "      <td>Covivio Hotels SCA</td>\n",
       "    </tr>\n",
       "    <tr>\n",
       "      <th>242</th>\n",
       "      <td>Covivio Hotels SACA, Paris</td>\n",
       "      <td>Covivio Berlin IV ApS</td>\n",
       "    </tr>\n",
       "    <tr>\n",
       "      <th>243</th>\n",
       "      <td>Covivio Hotels SACA, Paris</td>\n",
       "      <td>Covivio 2 SAS</td>\n",
       "    </tr>\n",
       "    <tr>\n",
       "      <th>244</th>\n",
       "      <td>Covivio Hotels SACA, Paris</td>\n",
       "      <td>Covivio 4 SARL</td>\n",
       "    </tr>\n",
       "    <tr>\n",
       "      <th>252</th>\n",
       "      <td>Mondelez Intl Hldgs Nether. BV</td>\n",
       "      <td>Mondelez International Inc</td>\n",
       "    </tr>\n",
       "    <tr>\n",
       "      <th>253</th>\n",
       "      <td>Mondelez Intl Hldgs Nether. BV</td>\n",
       "      <td>Mondelez Australia Pty Ltd</td>\n",
       "    </tr>\n",
       "    <tr>\n",
       "      <th>254</th>\n",
       "      <td>Mondelez Intl Hldgs Nether. BV</td>\n",
       "      <td>Mondelez Uk Holdings &amp; Services Ltd</td>\n",
       "    </tr>\n",
       "    <tr>\n",
       "      <th>255</th>\n",
       "      <td>Mondelez Intl Hldgs Nether. BV</td>\n",
       "      <td>Mondelez Europe GmbH</td>\n",
       "    </tr>\n",
       "    <tr>\n",
       "      <th>256</th>\n",
       "      <td>Mondelez Intl Hldgs Nether. BV</td>\n",
       "      <td>Mondelez India Foods Pvt Ltd</td>\n",
       "    </tr>\n",
       "    <tr>\n",
       "      <th>258</th>\n",
       "      <td>Mondelez Intl Hldgs Nether. BV</td>\n",
       "      <td>Mondelez International Holdings Netherlands BV</td>\n",
       "    </tr>\n",
       "    <tr>\n",
       "      <th>259</th>\n",
       "      <td>Mondelez Intl Hldgs Nether. BV</td>\n",
       "      <td>Mondelez International Amea Pte Ltd</td>\n",
       "    </tr>\n",
       "    <tr>\n",
       "      <th>260</th>\n",
       "      <td>Mondelez Intl Hldgs Nether. BV</td>\n",
       "      <td>Mondelez International Bel OOO</td>\n",
       "    </tr>\n",
       "    <tr>\n",
       "      <th>261</th>\n",
       "      <td>Mondelez Intl Hldgs Nether. BV</td>\n",
       "      <td>Mondelez International Belgium BVBA</td>\n",
       "    </tr>\n",
       "    <tr>\n",
       "      <th>272</th>\n",
       "      <td>Auchan Holding SA</td>\n",
       "      <td>Eldorado Gold Corp</td>\n",
       "    </tr>\n",
       "    <tr>\n",
       "      <th>273</th>\n",
       "      <td>Auchan Holding SA</td>\n",
       "      <td>Elo SA</td>\n",
       "    </tr>\n",
       "    <tr>\n",
       "      <th>274</th>\n",
       "      <td>Auchan Holding SA</td>\n",
       "      <td>Eloro Resources Ltd</td>\n",
       "    </tr>\n",
       "    <tr>\n",
       "      <th>275</th>\n",
       "      <td>Auchan Holding SA</td>\n",
       "      <td>Elo Mutual Pension Insurance Co</td>\n",
       "    </tr>\n",
       "    <tr>\n",
       "      <th>276</th>\n",
       "      <td>Auchan Holding SA</td>\n",
       "      <td>Elo Touch Solutions Inc</td>\n",
       "    </tr>\n",
       "    <tr>\n",
       "      <th>278</th>\n",
       "      <td>Auchan Holding SA</td>\n",
       "      <td>Oney Bank SA</td>\n",
       "    </tr>\n",
       "    <tr>\n",
       "      <th>279</th>\n",
       "      <td>Auchan Holding SA</td>\n",
       "      <td>Auchan Romania SA</td>\n",
       "    </tr>\n",
       "    <tr>\n",
       "      <th>280</th>\n",
       "      <td>Auchan Holding SA</td>\n",
       "      <td>Anhui Auchan Hypermarket Co Ltd</td>\n",
       "    </tr>\n",
       "    <tr>\n",
       "      <th>281</th>\n",
       "      <td>Auchan Holding SA</td>\n",
       "      <td>Anhui Auchan Hypermarkets Co Ltd</td>\n",
       "    </tr>\n",
       "    <tr>\n",
       "      <th>282</th>\n",
       "      <td>Auchan Holding SA</td>\n",
       "      <td>Auchan II Holding UK Ltd</td>\n",
       "    </tr>\n",
       "    <tr>\n",
       "      <th>283</th>\n",
       "      <td>Auchan Holding SA</td>\n",
       "      <td>Auchan Assurances</td>\n",
       "    </tr>\n",
       "    <tr>\n",
       "      <th>284</th>\n",
       "      <td>Auchan Holding SA</td>\n",
       "      <td>Auchan Fly</td>\n",
       "    </tr>\n",
       "    <tr>\n",
       "      <th>285</th>\n",
       "      <td>Auchan Holding SA</td>\n",
       "      <td>Auchan Nedvizhimost' OOO</td>\n",
       "    </tr>\n",
       "    <tr>\n",
       "      <th>286</th>\n",
       "      <td>Auchan Holding SA</td>\n",
       "      <td>Auchan OOO</td>\n",
       "    </tr>\n",
       "    <tr>\n",
       "      <th>287</th>\n",
       "      <td>Auchan Holding SA</td>\n",
       "      <td>Auchan Supermarche SAS</td>\n",
       "    </tr>\n",
       "  </tbody>\n",
       "</table>\n",
       "</div>"
      ],
      "text/plain": [
       "                             ISSUER  \\\n",
       "0    Autostr. Bres.Ver.Vic.Pad. SpA   \n",
       "1    Autostr. Bres.Ver.Vic.Pad. SpA   \n",
       "2    Autostr. Bres.Ver.Vic.Pad. SpA   \n",
       "3    Autostr. Bres.Ver.Vic.Pad. SpA   \n",
       "4    Autostr. Bres.Ver.Vic.Pad. SpA   \n",
       "7    Autostr. Bres.Ver.Vic.Pad. SpA   \n",
       "8    Autostr. Bres.Ver.Vic.Pad. SpA   \n",
       "9    Autostr. Bres.Ver.Vic.Pad. SpA   \n",
       "10   Autostr. Bres.Ver.Vic.Pad. SpA   \n",
       "11   Ciba Spc. Chem. Fin. Lxbg S.A.   \n",
       "12   Ciba Spc. Chem. Fin. Lxbg S.A.   \n",
       "13   Ciba Spc. Chem. Fin. Lxbg S.A.   \n",
       "14   Ciba Spc. Chem. Fin. Lxbg S.A.   \n",
       "15   Ciba Spc. Chem. Fin. Lxbg S.A.   \n",
       "16   Ciba Spc. Chem. Fin. Lxbg S.A.   \n",
       "17   Ciba Spc. Chem. Fin. Lxbg S.A.   \n",
       "18   Ciba Spc. Chem. Fin. Lxbg S.A.   \n",
       "19   Ciba Spc. Chem. Fin. Lxbg S.A.   \n",
       "20   Compagnie Fin. Ind. Autoroutes   \n",
       "21   Compagnie Fin. Ind. Autoroutes   \n",
       "22   Compagnie Fin. Ind. Autoroutes   \n",
       "23   Compagnie Fin. Ind. Autoroutes   \n",
       "24   Compagnie Fin. Ind. Autoroutes   \n",
       "25   Compagnie Fin. Ind. Autoroutes   \n",
       "26   Compagnie Fin. Ind. Autoroutes   \n",
       "27   Compagnie Fin. Ind. Autoroutes   \n",
       "28   Compagnie Fin. Ind. Autoroutes   \n",
       "29   Compagnie Fin. Ind. Autoroutes   \n",
       "30   Compagnie Fin. Ind. Autoroutes   \n",
       "31   Compagnie Fin. Ind. Autoroutes   \n",
       "42    Distribuidora Intl de Alim.SA   \n",
       "43    Distribuidora Intl de Alim.SA   \n",
       "44    Distribuidora Intl de Alim.SA   \n",
       "45    Distribuidora Intl de Alim.SA   \n",
       "46    Distribuidora Intl de Alim.SA   \n",
       "47    Distribuidora Intl de Alim.SA   \n",
       "48    Distribuidora Intl de Alim.SA   \n",
       "49    Distribuidora Intl de Alim.SA   \n",
       "51    Distribuidora Intl de Alim.SA   \n",
       "52    Distribuidora Intl de Alim.SA   \n",
       "53    Distribuidora Intl de Alim.SA   \n",
       "54        ELIA SYSTEM OPERATOR N.V.   \n",
       "55        ELIA SYSTEM OPERATOR N.V.   \n",
       "56        ELIA SYSTEM OPERATOR N.V.   \n",
       "57        ELIA SYSTEM OPERATOR N.V.   \n",
       "58        ELIA SYSTEM OPERATOR N.V.   \n",
       "59        ELIA SYSTEM OPERATOR N.V.   \n",
       "65        ELIA SYSTEM OPERATOR N.V.   \n",
       "66   Elia System Operator S.A./N.V.   \n",
       "67   Elia System Operator S.A./N.V.   \n",
       "68   Elia System Operator S.A./N.V.   \n",
       "69   Elia System Operator S.A./N.V.   \n",
       "70   Elia System Operator S.A./N.V.   \n",
       "71   Elia System Operator S.A./N.V.   \n",
       "77   Elia System Operator S.A./N.V.   \n",
       "90   O2 Telefónica Dtld. Finanzier.   \n",
       "91   O2 Telefónica Dtld. Finanzier.   \n",
       "92   O2 Telefónica Dtld. Finanzier.   \n",
       "93   O2 Telefónica Dtld. Finanzier.   \n",
       "94   O2 Telefónica Dtld. Finanzier.   \n",
       "95   O2 Telefónica Dtld. Finanzier.   \n",
       "96   O2 Telefónica Dtld. Finanzier.   \n",
       "97   O2 Telefónica Dtld. Finanzier.   \n",
       "98   O2 Telefónica Dtld. Finanzier.   \n",
       "99   O2 Telefónica Dtld. Finanzier.   \n",
       "100    Red Eléctrica Financ. S.A.U.   \n",
       "101    Red Eléctrica Financ. S.A.U.   \n",
       "102    Red Eléctrica Financ. S.A.U.   \n",
       "103    Red Eléctrica Financ. S.A.U.   \n",
       "104    Red Eléctrica Financ. S.A.U.   \n",
       "106    Red Eléctrica Financ. S.A.U.   \n",
       "107    Red Eléctrica Financ. S.A.U.   \n",
       "108    Red Eléctrica Financ. S.A.U.   \n",
       "109    Red Eléctrica Financ. S.A.U.   \n",
       "120    Red Eléctrica Financ. S.A.U.   \n",
       "121                         RESA SA   \n",
       "122                         RESA SA   \n",
       "123                         RESA SA   \n",
       "124                         RESA SA   \n",
       "125                         RESA SA   \n",
       "126                         RESA SA   \n",
       "127                         RESA SA   \n",
       "128                         RESA SA   \n",
       "129                         RESA SA   \n",
       "130                         RESA SA   \n",
       "151                  SNCF MOBILITES   \n",
       "152                  SNCF MOBILITES   \n",
       "153                  SNCF MOBILITES   \n",
       "154                  SNCF MOBILITES   \n",
       "155                  SNCF MOBILITES   \n",
       "161                     Unilever NV   \n",
       "162                     Unilever NV   \n",
       "163                     Unilever NV   \n",
       "164                     Unilever NV   \n",
       "165                     Unilever NV   \n",
       "166                     Unilever NV   \n",
       "167                     Unilever NV   \n",
       "168                     Unilever NV   \n",
       "169                     Unilever NV   \n",
       "170                     Unilever NV   \n",
       "196                    Vivendi S.A.   \n",
       "197                    Vivendi S.A.   \n",
       "198                    Vivendi S.A.   \n",
       "199                    Vivendi S.A.   \n",
       "200                    Vivendi S.A.   \n",
       "202                    Vivendi S.A.   \n",
       "203                    Vivendi S.A.   \n",
       "204                    Vivendi S.A.   \n",
       "205                    Vivendi S.A.   \n",
       "232  Elia System Operator S.A./N.V.   \n",
       "240      Covivio Hotels SACA, Paris   \n",
       "241      Covivio Hotels SACA, Paris   \n",
       "242      Covivio Hotels SACA, Paris   \n",
       "243      Covivio Hotels SACA, Paris   \n",
       "244      Covivio Hotels SACA, Paris   \n",
       "252  Mondelez Intl Hldgs Nether. BV   \n",
       "253  Mondelez Intl Hldgs Nether. BV   \n",
       "254  Mondelez Intl Hldgs Nether. BV   \n",
       "255  Mondelez Intl Hldgs Nether. BV   \n",
       "256  Mondelez Intl Hldgs Nether. BV   \n",
       "258  Mondelez Intl Hldgs Nether. BV   \n",
       "259  Mondelez Intl Hldgs Nether. BV   \n",
       "260  Mondelez Intl Hldgs Nether. BV   \n",
       "261  Mondelez Intl Hldgs Nether. BV   \n",
       "272               Auchan Holding SA   \n",
       "273               Auchan Holding SA   \n",
       "274               Auchan Holding SA   \n",
       "275               Auchan Holding SA   \n",
       "276               Auchan Holding SA   \n",
       "278               Auchan Holding SA   \n",
       "279               Auchan Holding SA   \n",
       "280               Auchan Holding SA   \n",
       "281               Auchan Holding SA   \n",
       "282               Auchan Holding SA   \n",
       "283               Auchan Holding SA   \n",
       "284               Auchan Holding SA   \n",
       "285               Auchan Holding SA   \n",
       "286               Auchan Holding SA   \n",
       "287               Auchan Holding SA   \n",
       "\n",
       "                                      organizationName  \n",
       "0                                             ASTM SpA  \n",
       "1    Societa di Progetto Autostrada Diretta Brescia...  \n",
       "2                                       A4 Holding SpA  \n",
       "3      ATIVA Autostrada Torino Ivrea Valle d'Aosta SpA  \n",
       "4                 Autostrada Albenga Garessio Ceva SpA  \n",
       "7         Autostrada Brescia Verona Vicenza Padova SpA  \n",
       "8                Autostrada Campogalliano Sassuolo SpA  \n",
       "9                            Autostrada del Molise SpA  \n",
       "10                             Mattioda Autostrade SpA  \n",
       "11                                      CIBA SPECIAL-S  \n",
       "12                 Ciba Specialty Chemicals Canada Inc  \n",
       "13           CIBA Specialty Chemicals Holdings NA Corp  \n",
       "14                   CIBA Specialty Chemicals Korea YH  \n",
       "15                                    Ciba Vision Corp  \n",
       "16                                      CIBA Vision SA  \n",
       "17                                           CIBA Corp  \n",
       "18                         Syngenta Crop Protection AG  \n",
       "19                                 Nihon Ciba Geigy KK  \n",
       "20                        Canadian National Railway Co  \n",
       "21   Compagnie Generale des Etablissements Michelin...  \n",
       "22                        Compagnie de Saint Gobain SA  \n",
       "23                                    Imperial Oil Ltd  \n",
       "24                   Compagnie Financiere Richemont SA  \n",
       "25                        Viel et Compagnie Finance SE  \n",
       "26                      Compagnie Gestion & Finance SA  \n",
       "27                                 Cie Financiere Sfac  \n",
       "28              Compagnie Cosmopolitaine de Finance SA  \n",
       "29                Compagnie Europeenne de Finance SARL  \n",
       "30        Compagnie Indust Et Finan Des Prod Amyplaces  \n",
       "31                                        Et Compagnie  \n",
       "42                                   Fluxys Belgium NV  \n",
       "43                                           DistIT AB  \n",
       "44   Abu Dhabi National Oil Company for Distributio...  \n",
       "45                          Petrobras Distribuidora SA  \n",
       "46   Compania de Distribucion Integral Logista Hold...  \n",
       "47                               Nex International Ltd  \n",
       "48      Distribuidora Internacional de Alimentacion SA  \n",
       "49   Administracion Nacional de Combustibles Alcoho...  \n",
       "51   Energisa Mato Grosso do Sul Distribuidora de E...  \n",
       "52   Importadora y Distribuidora Herbalife Internat...  \n",
       "53     JT International Distribuidora de Cigarros Ltda  \n",
       "54                                       Elia Group SA  \n",
       "55                             Akel Minott Elia (Desg)  \n",
       "56                                       ANDREW D ELIA  \n",
       "57                                      Bagno Elia Srl  \n",
       "58                                   Bano Elia & C SNC  \n",
       "59                        Elia Transmission Belgium NV  \n",
       "65                                                Elia  \n",
       "66                                       Elia Group SA  \n",
       "67                             Akel Minott Elia (Desg)  \n",
       "68                                       ANDREW D ELIA  \n",
       "69                                      Bagno Elia Srl  \n",
       "70                                   Bano Elia & C SNC  \n",
       "71                        Elia Transmission Belgium NV  \n",
       "77                                                Elia  \n",
       "90                  Telefonica Holding de Argentina SA  \n",
       "91                                O2 Czech Republic as  \n",
       "92                              O2 Secure Wireless Inc  \n",
       "93                           O2micro International Ltd  \n",
       "94                                     Oxygen Audio SA  \n",
       "95                                         O2 (UK) Ltd  \n",
       "96                          Telefonica O2 Holdings Ltd  \n",
       "97                           Telefonica O2 Ireland Ltd  \n",
       "98        O2 Telefonica Deutschland Finanzierungs GmbH  \n",
       "99          Telefonica O2 Business Solutions spol s ro  \n",
       "100                                        Red Hat Inc  \n",
       "101                       Red Electrica Corporacion SA  \n",
       "102                      Red Robin Gourmet Burgers Inc  \n",
       "103                      Red Sea International Company  \n",
       "104                           Red Pine Exploration Inc  \n",
       "106                         Red Electrica de Espana SA  \n",
       "107                            Red Electrica Andina SA  \n",
       "108                  Red Electrica Brasil Holding Ltda  \n",
       "109                            Red Electrica Chile SpA  \n",
       "120                   Red Electrica Financiaciones SAU  \n",
       "121                                Resaphene Suisse AG  \n",
       "122                         AMUNDI RESA ACTIONS FRANCE  \n",
       "123                                AMUNDI RESA ACTIONS  \n",
       "124                              AMUNDI RESA DYNAMIQUE  \n",
       "125                              AMUNDI RESA EQUILIBRE  \n",
       "126                            Plasticos Resa SA de CV  \n",
       "127  Realisations Electroniques Spatiales Et Aerona...  \n",
       "128                                Resa Guipuzcoana SA  \n",
       "129                              RESA Immo Tatroz S.A.  \n",
       "130                                            Resa SA  \n",
       "151                          Societe Nationale SNCF SA  \n",
       "152                                     Sncf Reseau SA  \n",
       "153                            Sncf Participations SAS  \n",
       "154                      L'Agence Voyages-SNCF.Com SAS  \n",
       "155  Caisse de Prevoyance et de Retraite du personn...  \n",
       "161                                       Unilever PLC  \n",
       "162                             Hindustan Unilever Ltd  \n",
       "163                                     Unilever Group  \n",
       "164                          Unilever Indonesia Tbk PT  \n",
       "165                  A & W Food Services of Canada Inc  \n",
       "166                                BIOLYN(UNILEVER NV)  \n",
       "167                             Boursault(Unilever Nv)  \n",
       "168                             Chesebrough Pond's Inc  \n",
       "169                                  DERO(UNILEVER NV)  \n",
       "170                             Deutsche Unilever GmbH  \n",
       "196                                         Vivendi SE  \n",
       "197                    Veolia Energie International SA  \n",
       "198                              Vivendi Entertainment  \n",
       "199                                  Vivendi Games Inc  \n",
       "200                           01net(Vivendi Universal)  \n",
       "202                                  Aqua Alliance Inc  \n",
       "203                                    ATI(VIVENDI SA)  \n",
       "204                     Atviso(Vivendi Sa Softbank Co)  \n",
       "205                            Beneport Sa(Vivendi Sa)  \n",
       "232                                            Elba NV  \n",
       "240                                         Covivio SA  \n",
       "241                                 Covivio Hotels SCA  \n",
       "242                              Covivio Berlin IV ApS  \n",
       "243                                      Covivio 2 SAS  \n",
       "244                                     Covivio 4 SARL  \n",
       "252                         Mondelez International Inc  \n",
       "253                         Mondelez Australia Pty Ltd  \n",
       "254                Mondelez Uk Holdings & Services Ltd  \n",
       "255                               Mondelez Europe GmbH  \n",
       "256                       Mondelez India Foods Pvt Ltd  \n",
       "258     Mondelez International Holdings Netherlands BV  \n",
       "259                Mondelez International Amea Pte Ltd  \n",
       "260                     Mondelez International Bel OOO  \n",
       "261                Mondelez International Belgium BVBA  \n",
       "272                                 Eldorado Gold Corp  \n",
       "273                                             Elo SA  \n",
       "274                                Eloro Resources Ltd  \n",
       "275                    Elo Mutual Pension Insurance Co  \n",
       "276                            Elo Touch Solutions Inc  \n",
       "278                                       Oney Bank SA  \n",
       "279                                  Auchan Romania SA  \n",
       "280                    Anhui Auchan Hypermarket Co Ltd  \n",
       "281                   Anhui Auchan Hypermarkets Co Ltd  \n",
       "282                           Auchan II Holding UK Ltd  \n",
       "283                                  Auchan Assurances  \n",
       "284                                         Auchan Fly  \n",
       "285                           Auchan Nedvizhimost' OOO  \n",
       "286                                         Auchan OOO  \n",
       "287                             Auchan Supermarche SAS  "
      ]
     },
     "metadata": {},
     "output_type": "display_data"
    }
   ],
   "source": [
    "with pd.option_context('display.max_rows', None, 'display.max_columns', None):\n",
    "    display(res[['ISSUER','organizationName']].drop_duplicates())"
   ]
  },
  {
   "cell_type": "markdown",
   "metadata": {
    "slideshow": {
     "slide_type": "skip"
    }
   },
   "source": [
    "Next results are chosen:"
   ]
  },
  {
   "cell_type": "code",
   "execution_count": 33,
   "metadata": {
    "slideshow": {
     "slide_type": "skip"
    }
   },
   "outputs": [],
   "source": [
    "org = ['Autostrada Brescia Verona Vicenza Padova SpA','CIBA Corp','Distribuidora Internacional de Alimentacion SA', \\\n",
    "       'Elia Group SA','O2 Telefonica Deutschland Finanzierungs GmbH','Red Electrica Financiaciones SAU',\\\n",
    "       'Resa SA','Societe Nationale SNCF SA','Unilever PLC','Vivendi SE','Covivio Hotels SCA',\\\n",
    "       'Mondelez International Holdings Netherlands BV','Elo SA']\n",
    "res = res[res.organizationName.isin(org)][['@id','ISSUER']].rename(columns={'@id':'Match OpenPermID'})"
   ]
  },
  {
   "cell_type": "markdown",
   "metadata": {
    "slideshow": {
     "slide_type": "skip"
    }
   },
   "source": [
    "Updating the main datafraime with additionally matched PermIDs:"
   ]
  },
  {
   "cell_type": "code",
   "execution_count": 34,
   "metadata": {
    "slideshow": {
     "slide_type": "skip"
    }
   },
   "outputs": [],
   "source": [
    "df.update(df.drop(columns=['Match OpenPermID']).merge(res, on='ISSUER', how = 'left'))"
   ]
  },
  {
   "cell_type": "markdown",
   "metadata": {
    "slideshow": {
     "slide_type": "slide"
    }
   },
   "source": [
    "### PermID Entity Lookup API"
   ]
  },
  {
   "cell_type": "markdown",
   "metadata": {
    "slideshow": {
     "slide_type": "skip"
    }
   },
   "source": [
    "Next we have to get the data on industry for each company and join it to the main dataframe. A list of PermIDs for all companies:"
   ]
  },
  {
   "cell_type": "code",
   "execution_count": 35,
   "metadata": {
    "slideshow": {
     "slide_type": "skip"
    }
   },
   "outputs": [],
   "source": [
    "IDs = df[df['Match OpenPermID'].notna()]['Match OpenPermID'].drop_duplicates()"
   ]
  },
  {
   "cell_type": "markdown",
   "metadata": {
    "slideshow": {
     "slide_type": "slide"
    }
   },
   "source": [
    " - We request information about the company by its PermID using Entity Lookup API;  \n",
    " - If Industry Group key is available in the response, we request information about Industry Group and Business Sector using their PermIDs;  \n",
    " - We append data into one dataframe."
   ]
  },
  {
   "cell_type": "markdown",
   "metadata": {
    "slideshow": {
     "slide_type": "skip"
    }
   },
   "source": [
    "<b>Note</b>: for one Industry Group the label value was returned as a list (['Freight&Logistics Services', 'Freight & Logistics Services']), so additional check for the type is added."
   ]
  },
  {
   "cell_type": "code",
   "execution_count": 36,
   "metadata": {
    "slideshow": {
     "slide_type": "fragment"
    }
   },
   "outputs": [],
   "source": [
    "sectors = []\n",
    "for ID in IDs:\n",
    "    lookup_company = permID.entity_lookup(permID_token, ID)\n",
    "    if 'hasPrimaryIndustryGroup' in lookup_company:\n",
    "        industryID = lookup_company['hasPrimaryIndustryGroup']\n",
    "        sectorID = lookup_company['hasPrimaryBusinessSector']\n",
    "        lookup_industry = permID.entity_lookup(permID_token, industryID)\n",
    "        lookup_sector = permID.entity_lookup(permID_token, sectorID)\n",
    "        industry = lookup_industry['prefLabel'][0] if type(lookup_industry['prefLabel']) == list \\\n",
    "                                                    else lookup_industry['prefLabel']\n",
    "        sectors.append(pd.DataFrame({'Match OpenPermID' : [ID],\n",
    "                                     'Industry group ID' : [industryID],\n",
    "                                     'Industry Group' : [industry],\n",
    "                                     'Business Sector' : [lookup_sector['prefLabel']]}))"
   ]
  },
  {
   "cell_type": "code",
   "execution_count": 37,
   "metadata": {
    "slideshow": {
     "slide_type": "skip"
    }
   },
   "outputs": [
    {
     "data": {
      "text/html": [
       "<div>\n",
       "<style scoped>\n",
       "    .dataframe tbody tr th:only-of-type {\n",
       "        vertical-align: middle;\n",
       "    }\n",
       "\n",
       "    .dataframe tbody tr th {\n",
       "        vertical-align: top;\n",
       "    }\n",
       "\n",
       "    .dataframe thead th {\n",
       "        text-align: right;\n",
       "    }\n",
       "</style>\n",
       "<table border=\"1\" class=\"dataframe\">\n",
       "  <thead>\n",
       "    <tr style=\"text-align: right;\">\n",
       "      <th></th>\n",
       "      <th>Match OpenPermID</th>\n",
       "      <th>Industry group ID</th>\n",
       "      <th>Industry Group</th>\n",
       "      <th>Business Sector</th>\n",
       "    </tr>\n",
       "  </thead>\n",
       "  <tbody>\n",
       "    <tr>\n",
       "      <th>0</th>\n",
       "      <td>https://permid.org/1-5000936840</td>\n",
       "      <td>https://permid.org/1-4294952817</td>\n",
       "      <td>Natural Gas Utilities</td>\n",
       "      <td>Utilities</td>\n",
       "    </tr>\n",
       "    <tr>\n",
       "      <th>1</th>\n",
       "      <td>https://permid.org/1-5000005309</td>\n",
       "      <td>https://permid.org/1-4294952819</td>\n",
       "      <td>Electric Utilities &amp; IPPs</td>\n",
       "      <td>Utilities</td>\n",
       "    </tr>\n",
       "    <tr>\n",
       "      <th>2</th>\n",
       "      <td>https://permid.org/1-5000066931</td>\n",
       "      <td>https://permid.org/1-4294952765</td>\n",
       "      <td>Machinery, Tools, Heavy Vehicles, Trains &amp; Ships</td>\n",
       "      <td>Industrial Goods</td>\n",
       "    </tr>\n",
       "    <tr>\n",
       "      <th>3</th>\n",
       "      <td>https://permid.org/1-4295889666</td>\n",
       "      <td>https://permid.org/1-4294952750</td>\n",
       "      <td>Transport Infrastructure</td>\n",
       "      <td>Transportation</td>\n",
       "    </tr>\n",
       "    <tr>\n",
       "      <th>4</th>\n",
       "      <td>https://permid.org/1-4295875677</td>\n",
       "      <td>https://permid.org/1-4294952813</td>\n",
       "      <td>Multiline Utilities</td>\n",
       "      <td>Utilities</td>\n",
       "    </tr>\n",
       "  </tbody>\n",
       "</table>\n",
       "</div>"
      ],
      "text/plain": [
       "                  Match OpenPermID                Industry group ID  \\\n",
       "0  https://permid.org/1-5000936840  https://permid.org/1-4294952817   \n",
       "1  https://permid.org/1-5000005309  https://permid.org/1-4294952819   \n",
       "2  https://permid.org/1-5000066931  https://permid.org/1-4294952765   \n",
       "3  https://permid.org/1-4295889666  https://permid.org/1-4294952750   \n",
       "4  https://permid.org/1-4295875677  https://permid.org/1-4294952813   \n",
       "\n",
       "                                     Industry Group   Business Sector  \n",
       "0                             Natural Gas Utilities         Utilities  \n",
       "1                         Electric Utilities & IPPs         Utilities  \n",
       "2  Machinery, Tools, Heavy Vehicles, Trains & Ships  Industrial Goods  \n",
       "3                          Transport Infrastructure    Transportation  \n",
       "4                               Multiline Utilities         Utilities  "
      ]
     },
     "execution_count": 37,
     "metadata": {},
     "output_type": "execute_result"
    }
   ],
   "source": [
    "sectors = pd.concat(sectors,ignore_index=True).drop_duplicates()\n",
    "sectors.head()"
   ]
  },
  {
   "cell_type": "markdown",
   "metadata": {
    "slideshow": {
     "slide_type": "slide"
    }
   },
   "source": [
    "Add data about companies' Industry Groups and Business Sectors to the main dataframe by Match OpenPermID:"
   ]
  },
  {
   "cell_type": "code",
   "execution_count": 38,
   "metadata": {
    "scrolled": true,
    "slideshow": {
     "slide_type": "fragment"
    }
   },
   "outputs": [
    {
     "data": {
      "text/html": [
       "<div>\n",
       "<style scoped>\n",
       "    .dataframe tbody tr th:only-of-type {\n",
       "        vertical-align: middle;\n",
       "    }\n",
       "\n",
       "    .dataframe tbody tr th {\n",
       "        vertical-align: top;\n",
       "    }\n",
       "\n",
       "    .dataframe thead th {\n",
       "        text-align: right;\n",
       "    }\n",
       "</style>\n",
       "<table border=\"1\" class=\"dataframe\">\n",
       "  <thead>\n",
       "    <tr style=\"text-align: right;\">\n",
       "      <th></th>\n",
       "      <th>MONTH</th>\n",
       "      <th>NCB</th>\n",
       "      <th>ISIN</th>\n",
       "      <th>ISSUER</th>\n",
       "      <th>MATURITY DATE</th>\n",
       "      <th>COUPON RATE</th>\n",
       "      <th>Match OpenPermID</th>\n",
       "      <th>Industry group ID</th>\n",
       "      <th>Industry Group</th>\n",
       "      <th>Business Sector</th>\n",
       "    </tr>\n",
       "  </thead>\n",
       "  <tbody>\n",
       "    <tr>\n",
       "      <th>0</th>\n",
       "      <td>2017/06</td>\n",
       "      <td>IT</td>\n",
       "      <td>XS1088274169</td>\n",
       "      <td>2i Rete Gas S.p.A.</td>\n",
       "      <td>16/07/2019</td>\n",
       "      <td>1.75</td>\n",
       "      <td>https://permid.org/1-5000936840</td>\n",
       "      <td>https://permid.org/1-4294952817</td>\n",
       "      <td>Natural Gas Utilities</td>\n",
       "      <td>Utilities</td>\n",
       "    </tr>\n",
       "    <tr>\n",
       "      <th>1</th>\n",
       "      <td>2017/06</td>\n",
       "      <td>IT</td>\n",
       "      <td>XS1088274672</td>\n",
       "      <td>2i Rete Gas S.p.A.</td>\n",
       "      <td>16/07/2024</td>\n",
       "      <td>3</td>\n",
       "      <td>https://permid.org/1-5000936840</td>\n",
       "      <td>https://permid.org/1-4294952817</td>\n",
       "      <td>Natural Gas Utilities</td>\n",
       "      <td>Utilities</td>\n",
       "    </tr>\n",
       "    <tr>\n",
       "      <th>2</th>\n",
       "      <td>2017/06</td>\n",
       "      <td>IT</td>\n",
       "      <td>XS1144492532</td>\n",
       "      <td>2i Rete Gas S.p.A.</td>\n",
       "      <td>02/01/2020</td>\n",
       "      <td>1.125</td>\n",
       "      <td>https://permid.org/1-5000936840</td>\n",
       "      <td>https://permid.org/1-4294952817</td>\n",
       "      <td>Natural Gas Utilities</td>\n",
       "      <td>Utilities</td>\n",
       "    </tr>\n",
       "    <tr>\n",
       "      <th>3</th>\n",
       "      <td>2017/06</td>\n",
       "      <td>IT</td>\n",
       "      <td>XS1571982468</td>\n",
       "      <td>2i Rete Gas S.p.A.</td>\n",
       "      <td>28/08/2026</td>\n",
       "      <td>1.75</td>\n",
       "      <td>https://permid.org/1-5000936840</td>\n",
       "      <td>https://permid.org/1-4294952817</td>\n",
       "      <td>Natural Gas Utilities</td>\n",
       "      <td>Utilities</td>\n",
       "    </tr>\n",
       "    <tr>\n",
       "      <th>4</th>\n",
       "      <td>2017/06</td>\n",
       "      <td>IT</td>\n",
       "      <td>XS0859920406</td>\n",
       "      <td>A2A S.p.A.</td>\n",
       "      <td>28/11/2019</td>\n",
       "      <td>4.5</td>\n",
       "      <td>https://permid.org/1-5000005309</td>\n",
       "      <td>https://permid.org/1-4294952819</td>\n",
       "      <td>Electric Utilities &amp; IPPs</td>\n",
       "      <td>Utilities</td>\n",
       "    </tr>\n",
       "  </tbody>\n",
       "</table>\n",
       "</div>"
      ],
      "text/plain": [
       "     MONTH NCB          ISIN              ISSUER MATURITY DATE COUPON RATE  \\\n",
       "0  2017/06  IT  XS1088274169  2i Rete Gas S.p.A.    16/07/2019        1.75   \n",
       "1  2017/06  IT  XS1088274672  2i Rete Gas S.p.A.    16/07/2024           3   \n",
       "2  2017/06  IT  XS1144492532  2i Rete Gas S.p.A.    02/01/2020       1.125   \n",
       "3  2017/06  IT  XS1571982468  2i Rete Gas S.p.A.    28/08/2026        1.75   \n",
       "4  2017/06  IT  XS0859920406          A2A S.p.A.    28/11/2019         4.5   \n",
       "\n",
       "                  Match OpenPermID                Industry group ID  \\\n",
       "0  https://permid.org/1-5000936840  https://permid.org/1-4294952817   \n",
       "1  https://permid.org/1-5000936840  https://permid.org/1-4294952817   \n",
       "2  https://permid.org/1-5000936840  https://permid.org/1-4294952817   \n",
       "3  https://permid.org/1-5000936840  https://permid.org/1-4294952817   \n",
       "4  https://permid.org/1-5000005309  https://permid.org/1-4294952819   \n",
       "\n",
       "              Industry Group Business Sector  \n",
       "0      Natural Gas Utilities       Utilities  \n",
       "1      Natural Gas Utilities       Utilities  \n",
       "2      Natural Gas Utilities       Utilities  \n",
       "3      Natural Gas Utilities       Utilities  \n",
       "4  Electric Utilities & IPPs       Utilities  "
      ]
     },
     "execution_count": 38,
     "metadata": {},
     "output_type": "execute_result"
    }
   ],
   "source": [
    "df = df.merge(sectors, how='left').drop(columns=['name','NAME','SEARCH'])\n",
    "df.head()"
   ]
  },
  {
   "cell_type": "code",
   "execution_count": 39,
   "metadata": {
    "slideshow": {
     "slide_type": "skip"
    }
   },
   "outputs": [
    {
     "data": {
      "text/plain": [
       "MONTH                   0\n",
       "NCB                     0\n",
       "ISIN                    0\n",
       "ISSUER                  0\n",
       "MATURITY DATE           0\n",
       "COUPON RATE             0\n",
       "Match OpenPermID      196\n",
       "Industry group ID    5678\n",
       "Industry Group       5678\n",
       "Business Sector      5678\n",
       "dtype: int64"
      ]
     },
     "execution_count": 39,
     "metadata": {},
     "output_type": "execute_result"
    }
   ],
   "source": [
    "df.isna().sum()"
   ]
  },
  {
   "cell_type": "markdown",
   "metadata": {
    "slideshow": {
     "slide_type": "slide"
    }
   },
   "source": [
    "Put a resulting dataframe into \"CSPP_bonds_with_sectors.csv\" file on S3 bucket to use it in [further analysis](ECB%20bond%20purchases.ipynb):"
   ]
  },
  {
   "cell_type": "code",
   "execution_count": 40,
   "metadata": {
    "slideshow": {
     "slide_type": "fragment"
    }
   },
   "outputs": [],
   "source": [
    "s3data.df_to_csv(df, bucket, 'data/CSPP_bonds_with_sectors.csv')"
   ]
  }
 ],
 "metadata": {
  "kernelspec": {
   "display_name": "Python 3",
   "language": "python",
   "name": "python3"
  },
  "language_info": {
   "codemirror_mode": {
    "name": "ipython",
    "version": 3
   },
   "file_extension": ".py",
   "mimetype": "text/x-python",
   "name": "python",
   "nbconvert_exporter": "python",
   "pygments_lexer": "ipython3",
   "version": "3.8.5"
  },
  "toc": {
   "base_numbering": 1,
   "nav_menu": {
    "height": "350px",
    "width": "377px"
   },
   "number_sections": true,
   "sideBar": true,
   "skip_h1_title": false,
   "title_cell": "Table of Contents",
   "title_sidebar": "Contents",
   "toc_cell": false,
   "toc_position": {},
   "toc_section_display": true,
   "toc_window_display": false
  }
 },
 "nbformat": 4,
 "nbformat_minor": 4
}
