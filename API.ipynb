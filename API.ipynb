{
 "cells": [
  {
   "cell_type": "code",
   "execution_count": 1,
   "metadata": {
    "ExecuteTime": {
     "end_time": "2021-05-15T13:08:43.394163Z",
     "start_time": "2021-05-15T13:08:42.175571Z"
    }
   },
   "outputs": [],
   "source": [
    "import requests\n",
    "import json\n",
    "import pandas as pd"
   ]
  },
  {
   "cell_type": "code",
   "execution_count": 2,
   "metadata": {
    "ExecuteTime": {
     "end_time": "2021-05-15T13:08:44.709827Z",
     "start_time": "2021-05-15T13:08:44.668937Z"
    }
   },
   "outputs": [],
   "source": [
    "df = pd.read_csv('C:/Users/Seyong Ryoo/OneDrive - KU Leuven/1st year/2nd semester/Modern Data Analytics/Project/Data/CSPP_PEPP_corporate_bond_holdings_20210423.csv', encoding = 'latin-1')"
   ]
  },
  {
   "cell_type": "code",
   "execution_count": 3,
   "metadata": {
    "ExecuteTime": {
     "end_time": "2021-05-15T13:09:00.654485Z",
     "start_time": "2021-05-15T13:09:00.617546Z"
    }
   },
   "outputs": [
    {
     "data": {
      "text/html": [
       "<div>\n",
       "<style scoped>\n",
       "    .dataframe tbody tr th:only-of-type {\n",
       "        vertical-align: middle;\n",
       "    }\n",
       "\n",
       "    .dataframe tbody tr th {\n",
       "        vertical-align: top;\n",
       "    }\n",
       "\n",
       "    .dataframe thead th {\n",
       "        text-align: right;\n",
       "    }\n",
       "</style>\n",
       "<table border=\"1\" class=\"dataframe\">\n",
       "  <thead>\n",
       "    <tr style=\"text-align: right;\">\n",
       "      <th></th>\n",
       "      <th>NCB</th>\n",
       "      <th>ISIN</th>\n",
       "      <th>ISSUER</th>\n",
       "      <th>MATURITY DATE</th>\n",
       "      <th>COUPON RATE</th>\n",
       "    </tr>\n",
       "  </thead>\n",
       "  <tbody>\n",
       "    <tr>\n",
       "      <th>0</th>\n",
       "      <td>BE</td>\n",
       "      <td>BE0002239086</td>\n",
       "      <td>Elia Transmission Belgium</td>\n",
       "      <td>27/05/2024</td>\n",
       "      <td>1.375</td>\n",
       "    </tr>\n",
       "    <tr>\n",
       "      <th>1</th>\n",
       "      <td>BE</td>\n",
       "      <td>BE0002256254</td>\n",
       "      <td>Enodia SCRL</td>\n",
       "      <td>22/07/2026</td>\n",
       "      <td>1</td>\n",
       "    </tr>\n",
       "    <tr>\n",
       "      <th>2</th>\n",
       "      <td>BE</td>\n",
       "      <td>BE0002276450</td>\n",
       "      <td>Elia Transmission Belgium</td>\n",
       "      <td>07/04/2027</td>\n",
       "      <td>1.375</td>\n",
       "    </tr>\n",
       "    <tr>\n",
       "      <th>3</th>\n",
       "      <td>BE</td>\n",
       "      <td>BE0002280494</td>\n",
       "      <td>Groupe Bruxelles Lambert SA</td>\n",
       "      <td>23/05/2024</td>\n",
       "      <td>1.375</td>\n",
       "    </tr>\n",
       "    <tr>\n",
       "      <th>4</th>\n",
       "      <td>BE</td>\n",
       "      <td>BE0002285543</td>\n",
       "      <td>Fluvius System Operator CVBA</td>\n",
       "      <td>23/06/2025</td>\n",
       "      <td>2</td>\n",
       "    </tr>\n",
       "  </tbody>\n",
       "</table>\n",
       "</div>"
      ],
      "text/plain": [
       "  NCB          ISIN                        ISSUER MATURITY DATE COUPON RATE\n",
       "0  BE  BE0002239086     Elia Transmission Belgium    27/05/2024       1.375\n",
       "1  BE  BE0002256254                   Enodia SCRL    22/07/2026           1\n",
       "2  BE  BE0002276450     Elia Transmission Belgium    07/04/2027       1.375\n",
       "3  BE  BE0002280494   Groupe Bruxelles Lambert SA    23/05/2024       1.375\n",
       "4  BE  BE0002285543  Fluvius System Operator CVBA    23/06/2025           2"
      ]
     },
     "execution_count": 3,
     "metadata": {},
     "output_type": "execute_result"
    }
   ],
   "source": [
    "df.head()"
   ]
  },
  {
   "cell_type": "code",
   "execution_count": 4,
   "metadata": {
    "ExecuteTime": {
     "end_time": "2021-05-15T13:09:09.005491Z",
     "start_time": "2021-05-15T13:09:08.975573Z"
    }
   },
   "outputs": [],
   "source": [
    "template = pd.DataFrame({\"Name\": df['ISSUER'].unique()}).to_csv(index=False).encode('utf-8')"
   ]
  },
  {
   "cell_type": "code",
   "execution_count": 5,
   "metadata": {
    "ExecuteTime": {
     "end_time": "2021-05-15T13:09:10.927735Z",
     "start_time": "2021-05-15T13:09:10.909795Z"
    }
   },
   "outputs": [],
   "source": [
    "base_url = 'https://api-eit.refinitiv.com/permid/match'\n",
    "parameters = {}\n",
    "parameters['x-openmatch-dataType'] = 'Organization'\n",
    "parameters['X-AG-Access-Token'] = 'PcPRj33niVZ579C9GPTgwlTSpGihL3lA'\n",
    "parameters['Content-Type'] = 'text/plain'\n",
    "parameters['x-openmatchnumberOfMatchesPerRecord'] = '5'"
   ]
  },
  {
   "cell_type": "code",
   "execution_count": 6,
   "metadata": {
    "ExecuteTime": {
     "end_time": "2021-05-15T13:09:25.012778Z",
     "start_time": "2021-05-15T13:09:16.589463Z"
    }
   },
   "outputs": [],
   "source": [
    "response = requests.post(base_url, headers = parameters, data = template)"
   ]
  },
  {
   "cell_type": "code",
   "execution_count": 7,
   "metadata": {
    "ExecuteTime": {
     "end_time": "2021-05-15T13:09:58.922134Z",
     "start_time": "2021-05-15T13:09:58.901199Z"
    }
   },
   "outputs": [],
   "source": [
    "parameters2 = {}\n",
    "parameters2['Accept'] = 'application/ld+json'\n",
    "parameters2['x-ag-access-token'] = 'PcPRj33niVZ579C9GPTgwlTSpGihL3lA'"
   ]
  },
  {
   "cell_type": "code",
   "execution_count": 9,
   "metadata": {
    "ExecuteTime": {
     "end_time": "2021-05-15T13:15:09.136976Z",
     "start_time": "2021-05-15T13:15:09.106003Z"
    }
   },
   "outputs": [
    {
     "data": {
      "text/html": [
       "<div>\n",
       "<style scoped>\n",
       "    .dataframe tbody tr th:only-of-type {\n",
       "        vertical-align: middle;\n",
       "    }\n",
       "\n",
       "    .dataframe tbody tr th {\n",
       "        vertical-align: top;\n",
       "    }\n",
       "\n",
       "    .dataframe thead th {\n",
       "        text-align: right;\n",
       "    }\n",
       "</style>\n",
       "<table border=\"1\" class=\"dataframe\">\n",
       "  <thead>\n",
       "    <tr style=\"text-align: right;\">\n",
       "      <th></th>\n",
       "      <th>INDUSTRY</th>\n",
       "    </tr>\n",
       "  </thead>\n",
       "  <tbody>\n",
       "    <tr>\n",
       "      <th>Elia Transmission Belgium</th>\n",
       "      <td>Electric Utilities &amp; IPPs</td>\n",
       "    </tr>\n",
       "    <tr>\n",
       "      <th>Enodia SCRL</th>\n",
       "      <td>Investment Banking &amp; Investment Services</td>\n",
       "    </tr>\n",
       "    <tr>\n",
       "      <th>Groupe Bruxelles Lambert SA</th>\n",
       "      <td>Construction Materials</td>\n",
       "    </tr>\n",
       "    <tr>\n",
       "      <th>Fluvius System Operator CVBA</th>\n",
       "      <td>Multiline Utilities</td>\n",
       "    </tr>\n",
       "    <tr>\n",
       "      <th>BEFIMMO SA</th>\n",
       "      <td>Residential &amp; Commercial REITs</td>\n",
       "    </tr>\n",
       "    <tr>\n",
       "      <th>...</th>\n",
       "      <td>...</td>\n",
       "    </tr>\n",
       "    <tr>\n",
       "      <th>Esselunga S.p.A.</th>\n",
       "      <td>Food &amp; Drug Retailing</td>\n",
       "    </tr>\n",
       "    <tr>\n",
       "      <th>ERG S.p.A</th>\n",
       "      <td>Electric Utilities &amp; IPPs</td>\n",
       "    </tr>\n",
       "    <tr>\n",
       "      <th>RAI - RADIOTELEVISIONE ITALIANA SPA</th>\n",
       "      <td>Media &amp; Publishing</td>\n",
       "    </tr>\n",
       "    <tr>\n",
       "      <th>Infrastrutture Wireless Italiane S.p.A</th>\n",
       "      <td>Telecommunications Services</td>\n",
       "    </tr>\n",
       "    <tr>\n",
       "      <th>Poste Italiane S.p.A.</th>\n",
       "      <td>Freight &amp; Logistics Services</td>\n",
       "    </tr>\n",
       "  </tbody>\n",
       "</table>\n",
       "<p>358 rows × 1 columns</p>\n",
       "</div>"
      ],
      "text/plain": [
       "                                                                        INDUSTRY\n",
       "Elia Transmission Belgium                              Electric Utilities & IPPs\n",
       "Enodia SCRL                             Investment Banking & Investment Services\n",
       "Groupe Bruxelles Lambert SA                               Construction Materials\n",
       "Fluvius System Operator CVBA                                 Multiline Utilities\n",
       "BEFIMMO SA                                        Residential & Commercial REITs\n",
       "...                                                                          ...\n",
       "Esselunga S.p.A.                                           Food & Drug Retailing\n",
       "ERG S.p.A                                              Electric Utilities & IPPs\n",
       "RAI - RADIOTELEVISIONE ITALIANA SPA                           Media & Publishing\n",
       "Infrastrutture Wireless Italiane S.p.A               Telecommunications Services\n",
       "Poste Italiane S.p.A.                               Freight & Logistics Services\n",
       "\n",
       "[358 rows x 1 columns]"
      ]
     },
     "execution_count": 9,
     "metadata": {},
     "output_type": "execute_result"
    }
   ],
   "source": [
    "dt = {}\n",
    "\n",
    "for data in response.json()['outputContentResponse']:\n",
    "    try:\n",
    "        company_id = data['Match OpenPermID']\n",
    "        industry_id = requests.get(company_id, headers = parameters2).json()[\"hasPrimaryIndustryGroup\"]\n",
    "        dt[data['Input_Name']] = requests.get(industry_id, headers = parameters2).json()['rdfs:label']\n",
    "    except:\n",
    "        dt[data['Input_Name']] = 'NaN'\n",
    "\n",
    "#df2 = pd.DataFrame(list(dt.values()), columns = ['INDUSTRY'], index = list(dt.keys()))"
   ]
  },
  {
   "cell_type": "markdown",
   "metadata": {},
   "source": [
    "The companies with industry NaN."
   ]
  },
  {
   "cell_type": "code",
   "execution_count": 27,
   "metadata": {
    "ExecuteTime": {
     "end_time": "2021-05-15T13:25:52.805649Z",
     "start_time": "2021-05-15T13:25:52.799667Z"
    }
   },
   "outputs": [],
   "source": [
    "missing = [' '.join(key.split(maxsplit=2)[:-1]) for key, value in dt.items() if value == 'NaN']"
   ]
  },
  {
   "cell_type": "markdown",
   "metadata": {},
   "source": [
    "Entity search"
   ]
  },
  {
   "cell_type": "code",
   "execution_count": 32,
   "metadata": {
    "ExecuteTime": {
     "end_time": "2021-05-15T13:31:13.864410Z",
     "start_time": "2021-05-15T13:31:13.846465Z"
    }
   },
   "outputs": [],
   "source": [
    "template2 = pd.DataFrame({\"Name\": missing}).to_csv(index=False).encode('utf-8')"
   ]
  },
  {
   "cell_type": "code",
   "execution_count": 33,
   "metadata": {
    "ExecuteTime": {
     "end_time": "2021-05-15T13:31:48.573840Z",
     "start_time": "2021-05-15T13:31:14.835220Z"
    }
   },
   "outputs": [],
   "source": [
    "dt2 = {}\n",
    "\n",
    "response2 = requests.post(base_url, headers = parameters, data = template2)\n",
    "for data in response2.json()['outputContentResponse']:\n",
    "    try:\n",
    "        company_id = data['Match OpenPermID']\n",
    "        industry_id = requests.get(company_id, headers = parameters2).json()[\"hasPrimaryIndustryGroup\"]\n",
    "        dt2[data['Match OrgName']] = requests.get(industry_id, headers = parameters2).json()['rdfs:label']\n",
    "    except:\n",
    "        dt2[data['Input_Name']] = 'NaN'"
   ]
  },
  {
   "cell_type": "code",
   "execution_count": 47,
   "metadata": {
    "ExecuteTime": {
     "end_time": "2021-05-15T13:43:08.691616Z",
     "start_time": "2021-05-15T13:43:08.670672Z"
    }
   },
   "outputs": [
    {
     "data": {
      "text/plain": [
       "['TRATON Finance',\n",
       " 'SIX Finance',\n",
       " 'Nederlandse Gasunie,',\n",
       " 'HeidelbergCement Fin.Lux.',\n",
       " 'Richemont Intl',\n",
       " 'CTP',\n",
       " 'Simon International',\n",
       " 'LSEG Netherlands',\n",
       " 'Daimler Intl',\n",
       " 'BMW Finance',\n",
       " 'Vier Gas',\n",
       " 'Red Eléctrica',\n",
       " 'Iberdrola International',\n",
       " 'ACS Servicios',\n",
       " 'ACS, Act.de',\n",
       " 'El Corte',\n",
       " 'Compagnie Fin.',\n",
       " 'RTE EDF',\n",
       " 'SOCIETE ANONYME',\n",
       " 'LVMH Moët',\n",
       " 'INFRA',\n",
       " 'TOTAL INFRASTRUCTURES',\n",
       " 'SOCIETE DES',\n",
       " 'Holding d',\n",
       " 'Ceetrus',\n",
       " 'Auchan Holding',\n",
       " 'Worldline S.A.,',\n",
       " 'Terna Rete',\n",
       " 'Snam']"
      ]
     },
     "execution_count": 47,
     "metadata": {},
     "output_type": "execute_result"
    }
   ],
   "source": [
    "[key for key, value in dt2.items() if value == 'NaN']"
   ]
  },
  {
   "cell_type": "code",
   "execution_count": null,
   "metadata": {},
   "outputs": [],
   "source": []
  }
 ],
 "metadata": {
  "kernelspec": {
   "display_name": "Python 3",
   "language": "python",
   "name": "python3"
  },
  "language_info": {
   "codemirror_mode": {
    "name": "ipython",
    "version": 3
   },
   "file_extension": ".py",
   "mimetype": "text/x-python",
   "name": "python",
   "nbconvert_exporter": "python",
   "pygments_lexer": "ipython3",
   "version": "3.7.4"
  },
  "toc": {
   "base_numbering": 1,
   "nav_menu": {},
   "number_sections": true,
   "sideBar": true,
   "skip_h1_title": false,
   "title_cell": "Table of Contents",
   "title_sidebar": "Contents",
   "toc_cell": false,
   "toc_position": {},
   "toc_section_display": true,
   "toc_window_display": false
  },
  "varInspector": {
   "cols": {
    "lenName": 16,
    "lenType": 16,
    "lenVar": 40
   },
   "kernels_config": {
    "python": {
     "delete_cmd_postfix": "",
     "delete_cmd_prefix": "del ",
     "library": "var_list.py",
     "varRefreshCmd": "print(var_dic_list())"
    },
    "r": {
     "delete_cmd_postfix": ") ",
     "delete_cmd_prefix": "rm(",
     "library": "var_list.r",
     "varRefreshCmd": "cat(var_dic_list()) "
    }
   },
   "types_to_exclude": [
    "module",
    "function",
    "builtin_function_or_method",
    "instance",
    "_Feature"
   ],
   "window_display": false
  }
 },
 "nbformat": 4,
 "nbformat_minor": 2
}
