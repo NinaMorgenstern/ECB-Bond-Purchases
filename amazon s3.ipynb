{
 "cells": [
  {
   "cell_type": "markdown",
   "id": "1c379465",
   "metadata": {},
   "source": [
    "# Access data stored in Amazon S3"
   ]
  },
  {
   "cell_type": "markdown",
   "id": "49fe55dd",
   "metadata": {},
   "source": [
    "### Way 1 (as we commonly did in class):"
   ]
  },
  {
   "cell_type": "code",
   "execution_count": 1,
   "id": "b90a29e4",
   "metadata": {},
   "outputs": [],
   "source": [
    "import pandas as pd\n",
    "import os "
   ]
  },
  {
   "cell_type": "code",
   "execution_count": 23,
   "id": "6f59a27e",
   "metadata": {},
   "outputs": [
    {
     "data": {
      "text/html": [
       "<div>\n",
       "<style scoped>\n",
       "    .dataframe tbody tr th:only-of-type {\n",
       "        vertical-align: middle;\n",
       "    }\n",
       "\n",
       "    .dataframe tbody tr th {\n",
       "        vertical-align: top;\n",
       "    }\n",
       "\n",
       "    .dataframe thead th {\n",
       "        text-align: right;\n",
       "    }\n",
       "</style>\n",
       "<table border=\"1\" class=\"dataframe\">\n",
       "  <thead>\n",
       "    <tr style=\"text-align: right;\">\n",
       "      <th></th>\n",
       "      <th>End of Month</th>\n",
       "      <th>Primary market holdings</th>\n",
       "      <th>Share PM</th>\n",
       "      <th>Secondary market holdings</th>\n",
       "      <th>Share SM</th>\n",
       "      <th>Total holdings</th>\n",
       "    </tr>\n",
       "  </thead>\n",
       "  <tbody>\n",
       "    <tr>\n",
       "      <th>0</th>\n",
       "      <td>Jun 16</td>\n",
       "      <td>241</td>\n",
       "      <td>3.76%</td>\n",
       "      <td>6,158</td>\n",
       "      <td>96.24%</td>\n",
       "      <td>6,398</td>\n",
       "    </tr>\n",
       "    <tr>\n",
       "      <th>1</th>\n",
       "      <td>Jul 16</td>\n",
       "      <td>775</td>\n",
       "      <td>5.86%</td>\n",
       "      <td>12,439</td>\n",
       "      <td>94.14%</td>\n",
       "      <td>13,214</td>\n",
       "    </tr>\n",
       "    <tr>\n",
       "      <th>2</th>\n",
       "      <td>Aug 16</td>\n",
       "      <td>1,299</td>\n",
       "      <td>6.52%</td>\n",
       "      <td>18,622</td>\n",
       "      <td>93.48%</td>\n",
       "      <td>19,921</td>\n",
       "    </tr>\n",
       "    <tr>\n",
       "      <th>3</th>\n",
       "      <td>Sep 16</td>\n",
       "      <td>3,243</td>\n",
       "      <td>10.91%</td>\n",
       "      <td>26,479</td>\n",
       "      <td>89.09%</td>\n",
       "      <td>29,722</td>\n",
       "    </tr>\n",
       "    <tr>\n",
       "      <th>4</th>\n",
       "      <td>Oct 16</td>\n",
       "      <td>4,222</td>\n",
       "      <td>11.07%</td>\n",
       "      <td>33,922</td>\n",
       "      <td>88.93%</td>\n",
       "      <td>38,144</td>\n",
       "    </tr>\n",
       "  </tbody>\n",
       "</table>\n",
       "</div>"
      ],
      "text/plain": [
       "  End of Month Primary market holdings Share PM Secondary market holdings  \\\n",
       "0       Jun 16                     241    3.76%                     6,158   \n",
       "1       Jul 16                     775    5.86%                    12,439   \n",
       "2       Aug 16                   1,299    6.52%                    18,622   \n",
       "3       Sep 16                   3,243   10.91%                    26,479   \n",
       "4       Oct 16                   4,222   11.07%                    33,922   \n",
       "\n",
       "  Share SM Total holdings  \n",
       "0   96.24%          6,398  \n",
       "1   94.14%         13,214  \n",
       "2   93.48%         19,921  \n",
       "3   89.09%         29,722  \n",
       "4   88.93%         38,144  "
      ]
     },
     "execution_count": 23,
     "metadata": {},
     "output_type": "execute_result"
    }
   ],
   "source": [
    "# Read data from AWS S3 (public access)\n",
    "df = pd.read_csv(\"https://s3groupmorocco.s3.eu-central-1.amazonaws.com/data/CSPP_breakdown_history.csv\")\n",
    "df.head()"
   ]
  },
  {
   "cell_type": "markdown",
   "id": "16873a91",
   "metadata": {},
   "source": [
    "Notice that the only part that has changed with respect how we loaded data in class is the bucket (the root directory under which all the subsequent items will be stored) name \"s3groupmorocco\" (before it was \"goz39a\") and the ending part \"data/CSPP_breakdown_history.csv\". Any other file can be accessed by replacing the ending part. For instance, \"data/CSPP_PEPP_corporate_bond_holdings_20210423.csv\". Notice further that we can access the data files in this way because I previously stored them as files with public access (see below how to access the datafiles under private access). "
   ]
  },
  {
   "cell_type": "markdown",
   "id": "048555ef",
   "metadata": {},
   "source": [
    "### Way 2 (boto3 package):"
   ]
  },
  {
   "cell_type": "markdown",
   "id": "bf0dfa62",
   "metadata": {},
   "source": [
    "This is how it is suggested in the email we can access our S3 bucket. I find the first way easier, however, it requires the data files to be accesible to the public. Therefore, if we are working with sensible data files, we will prefer this way. First, we need to install the boto3 package:"
   ]
  },
  {
   "cell_type": "code",
   "execution_count": 17,
   "id": "70fed54f",
   "metadata": {},
   "outputs": [
    {
     "name": "stdout",
     "output_type": "stream",
     "text": [
      "Requirement already satisfied: boto3 in c:\\users\\juanp\\anaconda3\\lib\\site-packages (1.17.75)\n",
      "Requirement already satisfied: jmespath<1.0.0,>=0.7.1 in c:\\users\\juanp\\anaconda3\\lib\\site-packages (from boto3) (0.10.0)\n",
      "Requirement already satisfied: s3transfer<0.5.0,>=0.4.0 in c:\\users\\juanp\\anaconda3\\lib\\site-packages (from boto3) (0.4.2)\n",
      "Requirement already satisfied: botocore<1.21.0,>=1.20.75 in c:\\users\\juanp\\anaconda3\\lib\\site-packages (from boto3) (1.20.75)\n",
      "Requirement already satisfied: urllib3<1.27,>=1.25.4 in c:\\users\\juanp\\anaconda3\\lib\\site-packages (from botocore<1.21.0,>=1.20.75->boto3) (1.26.4)\n",
      "Requirement already satisfied: python-dateutil<3.0.0,>=2.1 in c:\\users\\juanp\\anaconda3\\lib\\site-packages (from botocore<1.21.0,>=1.20.75->boto3) (2.8.1)\n",
      "Requirement already satisfied: six>=1.5 in c:\\users\\juanp\\anaconda3\\lib\\site-packages (from python-dateutil<3.0.0,>=2.1->botocore<1.21.0,>=1.20.75->boto3) (1.15.0)\n",
      "Note: you may need to restart the kernel to use updated packages.\n"
     ]
    }
   ],
   "source": [
    "pip install boto3"
   ]
  },
  {
   "cell_type": "markdown",
   "id": "20967c8c",
   "metadata": {},
   "source": [
    "Notice that we can specify the version by typing \"pip install boto3==1.17.75\". Now, we need to install AWS Command Line Interface (AWS CLI) to be able to configure our client so we can access the datafiles."
   ]
  },
  {
   "cell_type": "code",
   "execution_count": 18,
   "id": "ac26946e",
   "metadata": {},
   "outputs": [
    {
     "name": "stdout",
     "output_type": "stream",
     "text": [
      "Requirement already satisfied: awscli in c:\\users\\juanp\\anaconda3\\lib\\site-packages (1.19.75)\n",
      "Requirement already satisfied: colorama<0.4.4,>=0.2.5 in c:\\users\\juanp\\anaconda3\\lib\\site-packages (from awscli) (0.4.3)\n",
      "Requirement already satisfied: botocore==1.20.75 in c:\\users\\juanp\\anaconda3\\lib\\site-packages (from awscli) (1.20.75)\n",
      "Requirement already satisfied: s3transfer<0.5.0,>=0.4.0 in c:\\users\\juanp\\anaconda3\\lib\\site-packages (from awscli) (0.4.2)\n",
      "Requirement already satisfied: PyYAML<5.5,>=3.10 in c:\\users\\juanp\\anaconda3\\lib\\site-packages (from awscli) (5.4.1)\n",
      "Requirement already satisfied: docutils<0.16,>=0.10 in c:\\users\\juanp\\anaconda3\\lib\\site-packages (from awscli) (0.15.2)\n",
      "Requirement already satisfied: rsa<4.8,>=3.1.2 in c:\\users\\juanp\\anaconda3\\lib\\site-packages (from awscli) (4.7.2)\n",
      "Requirement already satisfied: jmespath<1.0.0,>=0.7.1 in c:\\users\\juanp\\anaconda3\\lib\\site-packages (from botocore==1.20.75->awscli) (0.10.0)\n",
      "Requirement already satisfied: python-dateutil<3.0.0,>=2.1 in c:\\users\\juanp\\anaconda3\\lib\\site-packages (from botocore==1.20.75->awscli) (2.8.1)\n",
      "Requirement already satisfied: urllib3<1.27,>=1.25.4 in c:\\users\\juanp\\anaconda3\\lib\\site-packages (from botocore==1.20.75->awscli) (1.26.4)\n",
      "Requirement already satisfied: six>=1.5 in c:\\users\\juanp\\anaconda3\\lib\\site-packages (from python-dateutil<3.0.0,>=2.1->botocore==1.20.75->awscli) (1.15.0)\n",
      "Requirement already satisfied: pyasn1>=0.1.3 in c:\\users\\juanp\\anaconda3\\lib\\site-packages (from rsa<4.8,>=3.1.2->awscli) (0.4.8)\n",
      "Note: you may need to restart the kernel to use updated packages.\n"
     ]
    }
   ],
   "source": [
    "pip install awscli"
   ]
  },
  {
   "cell_type": "markdown",
   "id": "7980978e",
   "metadata": {},
   "source": [
    "After installing AWS CLI, we need to configure our credentials. To do this, access the Anaconda prompt and type \"aws configure\". Then, introduce the AWS Access Key ID and AWS Secret Access Key (I emailed them to you) and the Default region name (eu-central-1). The Default output format can be leave empty. Notice that it is possible to configure our credentials directly in jupyter, however, this would expose our credentials to anyone with access to this file. Once we have configured our credentials, we can finally access our data through the package boto3. "
   ]
  },
  {
   "cell_type": "code",
   "execution_count": 19,
   "id": "c274cb11",
   "metadata": {},
   "outputs": [],
   "source": [
    "import boto3"
   ]
  },
  {
   "cell_type": "markdown",
   "id": "af7a527e",
   "metadata": {},
   "source": [
    "Among all the services provided by AWS, we want to make use of Amazon S3. Thus, we create and s3 object."
   ]
  },
  {
   "cell_type": "code",
   "execution_count": 20,
   "id": "73d7e83d",
   "metadata": {},
   "outputs": [],
   "source": [
    "resource = boto3.resource('s3')"
   ]
  },
  {
   "cell_type": "markdown",
   "id": "0d1de9fb",
   "metadata": {},
   "source": [
    "This object can be used to create buckets or to access a list with existing buckets (the buckets from the other groups will show up too). "
   ]
  },
  {
   "cell_type": "code",
   "execution_count": 25,
   "id": "38c47b1e",
   "metadata": {},
   "outputs": [
    {
     "name": "stdout",
     "output_type": "stream",
     "text": [
      "cf-templates-16ihypz3vva90-eu-central-1\n",
      "goz39a\n",
      "kulsagemaker20210301\n",
      "lfspf\n",
      "s3groupandorra\n",
      "s3grouparmenia\n",
      "s3groupaustralia\n",
      "s3groupbahamas\n",
      "s3groupbarbados\n",
      "s3groupbelgium\n",
      "s3groupcameroon\n",
      "s3groupchad\n",
      "s3groupcroatia\n",
      "s3groupczechia\n",
      "s3groupdenmark\n",
      "s3groupegypt\n",
      "s3groupfinland\n",
      "s3groupgeorgia\n",
      "s3groupgermany\n",
      "s3grouphaiti\n",
      "s3grouphungary\n",
      "s3groupiceland\n",
      "s3groupireland\n",
      "s3groupjordan\n",
      "s3grouplatvia\n",
      "s3grouplebanon\n",
      "s3groupmalawi\n",
      "s3groupmalaysia\n",
      "s3groupmauritius\n",
      "s3groupmonaco\n",
      "s3groupmongolia\n",
      "s3groupmorocco\n",
      "s3groupmozambique\n",
      "s3groupnetherlands\n",
      "s3groupnewzealand\n",
      "s3grouppanama\n",
      "s3groupperu\n",
      "s3groupphilippines\n",
      "s3grouppoland\n",
      "s3grouprwanda\n",
      "s3groupseychelles\n",
      "s3groupsingapore\n",
      "s3groupsomalia\n",
      "s3groupsweden\n",
      "s3groupswitzerland\n",
      "s3grouptajikistan\n",
      "s3grouptest\n",
      "s3groupthailand\n",
      "s3grouptimorleste\n",
      "s3groupturkey\n",
      "s3grouptuvalu\n",
      "s3groupvaleria\n"
     ]
    }
   ],
   "source": [
    "# List buckets' names\n",
    "for bucket in resource.buckets.all():\n",
    "    print(bucket.name)"
   ]
  },
  {
   "cell_type": "markdown",
   "id": "be9a7733",
   "metadata": {},
   "source": [
    "To access our data files, we need to create a different object (client object). This object allows us, among other things, to upload data files to AWS S3 as well retrieve any data files stored previously. For instance, we can access \"CSPP_breakdown_history.csv\" in the following way:"
   ]
  },
  {
   "cell_type": "code",
   "execution_count": 26,
   "id": "6fba8ba7",
   "metadata": {},
   "outputs": [
    {
     "data": {
      "text/html": [
       "<div>\n",
       "<style scoped>\n",
       "    .dataframe tbody tr th:only-of-type {\n",
       "        vertical-align: middle;\n",
       "    }\n",
       "\n",
       "    .dataframe tbody tr th {\n",
       "        vertical-align: top;\n",
       "    }\n",
       "\n",
       "    .dataframe thead th {\n",
       "        text-align: right;\n",
       "    }\n",
       "</style>\n",
       "<table border=\"1\" class=\"dataframe\">\n",
       "  <thead>\n",
       "    <tr style=\"text-align: right;\">\n",
       "      <th></th>\n",
       "      <th>End of Month</th>\n",
       "      <th>Primary market holdings</th>\n",
       "      <th>Share PM</th>\n",
       "      <th>Secondary market holdings</th>\n",
       "      <th>Share SM</th>\n",
       "      <th>Total holdings</th>\n",
       "    </tr>\n",
       "  </thead>\n",
       "  <tbody>\n",
       "    <tr>\n",
       "      <th>0</th>\n",
       "      <td>Jun 16</td>\n",
       "      <td>241</td>\n",
       "      <td>3.76%</td>\n",
       "      <td>6,158</td>\n",
       "      <td>96.24%</td>\n",
       "      <td>6,398</td>\n",
       "    </tr>\n",
       "    <tr>\n",
       "      <th>1</th>\n",
       "      <td>Jul 16</td>\n",
       "      <td>775</td>\n",
       "      <td>5.86%</td>\n",
       "      <td>12,439</td>\n",
       "      <td>94.14%</td>\n",
       "      <td>13,214</td>\n",
       "    </tr>\n",
       "    <tr>\n",
       "      <th>2</th>\n",
       "      <td>Aug 16</td>\n",
       "      <td>1,299</td>\n",
       "      <td>6.52%</td>\n",
       "      <td>18,622</td>\n",
       "      <td>93.48%</td>\n",
       "      <td>19,921</td>\n",
       "    </tr>\n",
       "    <tr>\n",
       "      <th>3</th>\n",
       "      <td>Sep 16</td>\n",
       "      <td>3,243</td>\n",
       "      <td>10.91%</td>\n",
       "      <td>26,479</td>\n",
       "      <td>89.09%</td>\n",
       "      <td>29,722</td>\n",
       "    </tr>\n",
       "    <tr>\n",
       "      <th>4</th>\n",
       "      <td>Oct 16</td>\n",
       "      <td>4,222</td>\n",
       "      <td>11.07%</td>\n",
       "      <td>33,922</td>\n",
       "      <td>88.93%</td>\n",
       "      <td>38,144</td>\n",
       "    </tr>\n",
       "  </tbody>\n",
       "</table>\n",
       "</div>"
      ],
      "text/plain": [
       "  End of Month Primary market holdings Share PM Secondary market holdings  \\\n",
       "0       Jun 16                     241    3.76%                     6,158   \n",
       "1       Jul 16                     775    5.86%                    12,439   \n",
       "2       Aug 16                   1,299    6.52%                    18,622   \n",
       "3       Sep 16                   3,243   10.91%                    26,479   \n",
       "4       Oct 16                   4,222   11.07%                    33,922   \n",
       "\n",
       "  Share SM Total holdings  \n",
       "0   96.24%          6,398  \n",
       "1   94.14%         13,214  \n",
       "2   93.48%         19,921  \n",
       "3   89.09%         29,722  \n",
       "4   88.93%         38,144  "
      ]
     },
     "execution_count": 26,
     "metadata": {},
     "output_type": "execute_result"
    }
   ],
   "source": [
    "client = boto3.client('s3')\n",
    "\n",
    "# Create the S3 object\n",
    "obj = client.get_object(\n",
    "    Bucket = 's3groupmorocco',\n",
    "    Key = 'data/CSPP_breakdown_history.csv'\n",
    ")\n",
    "    \n",
    "# Read data from the S3 object\n",
    "data = pd.read_csv(obj['Body'])\n",
    "data.head()"
   ]
  }
 ],
 "metadata": {
  "kernelspec": {
   "display_name": "Python 3",
   "language": "python",
   "name": "python3"
  },
  "language_info": {
   "codemirror_mode": {
    "name": "ipython",
    "version": 3
   },
   "file_extension": ".py",
   "mimetype": "text/x-python",
   "name": "python",
   "nbconvert_exporter": "python",
   "pygments_lexer": "ipython3",
   "version": "3.8.8"
  },
  "latex_envs": {
   "LaTeX_envs_menu_present": true,
   "autoclose": false,
   "autocomplete": true,
   "bibliofile": "biblio.bib",
   "cite_by": "apalike",
   "current_citInitial": 1,
   "eqLabelWithNumbers": true,
   "eqNumInitial": 1,
   "hotkeys": {
    "equation": "Ctrl-E",
    "itemize": "Ctrl-I"
   },
   "labels_anchors": false,
   "latex_user_defs": false,
   "report_style_numbering": false,
   "user_envs_cfg": false
  }
 },
 "nbformat": 4,
 "nbformat_minor": 5
}
