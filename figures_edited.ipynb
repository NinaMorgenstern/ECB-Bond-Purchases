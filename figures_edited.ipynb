{
 "cells": [
  {
   "cell_type": "markdown",
   "metadata": {},
   "source": [
    "# Preliminaries"
   ]
  },
  {
   "cell_type": "markdown",
   "metadata": {},
   "source": [
    "Import necessary packages:"
   ]
  },
  {
   "cell_type": "code",
   "execution_count": 98,
   "metadata": {},
   "outputs": [],
   "source": [
    "import pandas as pd\n",
    "import seaborn as sns\n",
    "import matplotlib.pyplot as plt \n",
    "import plotly.express as px\n",
    "\n",
    "# Apply default theme\n",
    "sns.set_theme(style='whitegrid')"
   ]
  },
  {
   "cell_type": "markdown",
   "metadata": {},
   "source": [
    "# Figures"
   ]
  },
  {
   "cell_type": "markdown",
   "metadata": {},
   "source": [
    "### 1. Count of corporate bonds by sector"
   ]
  },
  {
   "cell_type": "markdown",
   "metadata": {},
   "source": [
    "Load data from AWS: "
   ]
  },
  {
   "cell_type": "code",
   "execution_count": 82,
   "metadata": {},
   "outputs": [
    {
     "data": {
      "text/html": [
       "<div>\n",
       "<style scoped>\n",
       "    .dataframe tbody tr th:only-of-type {\n",
       "        vertical-align: middle;\n",
       "    }\n",
       "\n",
       "    .dataframe tbody tr th {\n",
       "        vertical-align: top;\n",
       "    }\n",
       "\n",
       "    .dataframe thead th {\n",
       "        text-align: right;\n",
       "    }\n",
       "</style>\n",
       "<table border=\"1\" class=\"dataframe\">\n",
       "  <thead>\n",
       "    <tr style=\"text-align: right;\">\n",
       "      <th></th>\n",
       "      <th>Unnamed: 0</th>\n",
       "      <th>MONTH</th>\n",
       "      <th>NCB</th>\n",
       "      <th>ISIN</th>\n",
       "      <th>ISSUER</th>\n",
       "      <th>MATURITY DATE</th>\n",
       "      <th>COUPON RATE</th>\n",
       "      <th>Match OpenPermID</th>\n",
       "      <th>Industry group ID</th>\n",
       "      <th>Industry Group</th>\n",
       "      <th>Business Sector</th>\n",
       "    </tr>\n",
       "  </thead>\n",
       "  <tbody>\n",
       "    <tr>\n",
       "      <th>0</th>\n",
       "      <td>0</td>\n",
       "      <td>2017/06</td>\n",
       "      <td>IT</td>\n",
       "      <td>XS1088274169</td>\n",
       "      <td>2i Rete Gas S.p.A.</td>\n",
       "      <td>16/07/2019</td>\n",
       "      <td>1.75</td>\n",
       "      <td>https://permid.org/1-5000936840</td>\n",
       "      <td>https://permid.org/1-4294952817</td>\n",
       "      <td>Natural Gas Utilities</td>\n",
       "      <td>Utilities</td>\n",
       "    </tr>\n",
       "    <tr>\n",
       "      <th>1</th>\n",
       "      <td>1</td>\n",
       "      <td>2017/06</td>\n",
       "      <td>IT</td>\n",
       "      <td>XS1088274672</td>\n",
       "      <td>2i Rete Gas S.p.A.</td>\n",
       "      <td>16/07/2024</td>\n",
       "      <td>3.0</td>\n",
       "      <td>https://permid.org/1-5000936840</td>\n",
       "      <td>https://permid.org/1-4294952817</td>\n",
       "      <td>Natural Gas Utilities</td>\n",
       "      <td>Utilities</td>\n",
       "    </tr>\n",
       "    <tr>\n",
       "      <th>2</th>\n",
       "      <td>2</td>\n",
       "      <td>2017/06</td>\n",
       "      <td>IT</td>\n",
       "      <td>XS1144492532</td>\n",
       "      <td>2i Rete Gas S.p.A.</td>\n",
       "      <td>02/01/2020</td>\n",
       "      <td>1.125</td>\n",
       "      <td>https://permid.org/1-5000936840</td>\n",
       "      <td>https://permid.org/1-4294952817</td>\n",
       "      <td>Natural Gas Utilities</td>\n",
       "      <td>Utilities</td>\n",
       "    </tr>\n",
       "    <tr>\n",
       "      <th>3</th>\n",
       "      <td>3</td>\n",
       "      <td>2017/06</td>\n",
       "      <td>IT</td>\n",
       "      <td>XS1571982468</td>\n",
       "      <td>2i Rete Gas S.p.A.</td>\n",
       "      <td>28/08/2026</td>\n",
       "      <td>1.75</td>\n",
       "      <td>https://permid.org/1-5000936840</td>\n",
       "      <td>https://permid.org/1-4294952817</td>\n",
       "      <td>Natural Gas Utilities</td>\n",
       "      <td>Utilities</td>\n",
       "    </tr>\n",
       "    <tr>\n",
       "      <th>4</th>\n",
       "      <td>4</td>\n",
       "      <td>2017/06</td>\n",
       "      <td>IT</td>\n",
       "      <td>XS0859920406</td>\n",
       "      <td>A2A S.p.A.</td>\n",
       "      <td>28/11/2019</td>\n",
       "      <td>4.5</td>\n",
       "      <td>https://permid.org/1-5000005309</td>\n",
       "      <td>https://permid.org/1-4294952819</td>\n",
       "      <td>Electric Utilities &amp; IPPs</td>\n",
       "      <td>Utilities</td>\n",
       "    </tr>\n",
       "  </tbody>\n",
       "</table>\n",
       "</div>"
      ],
      "text/plain": [
       "   Unnamed: 0    MONTH NCB          ISIN              ISSUER MATURITY DATE  \\\n",
       "0           0  2017/06  IT  XS1088274169  2i Rete Gas S.p.A.    16/07/2019   \n",
       "1           1  2017/06  IT  XS1088274672  2i Rete Gas S.p.A.    16/07/2024   \n",
       "2           2  2017/06  IT  XS1144492532  2i Rete Gas S.p.A.    02/01/2020   \n",
       "3           3  2017/06  IT  XS1571982468  2i Rete Gas S.p.A.    28/08/2026   \n",
       "4           4  2017/06  IT  XS0859920406          A2A S.p.A.    28/11/2019   \n",
       "\n",
       "  COUPON RATE                 Match OpenPermID  \\\n",
       "0        1.75  https://permid.org/1-5000936840   \n",
       "1         3.0  https://permid.org/1-5000936840   \n",
       "2       1.125  https://permid.org/1-5000936840   \n",
       "3        1.75  https://permid.org/1-5000936840   \n",
       "4         4.5  https://permid.org/1-5000005309   \n",
       "\n",
       "                 Industry group ID             Industry Group Business Sector  \n",
       "0  https://permid.org/1-4294952817      Natural Gas Utilities       Utilities  \n",
       "1  https://permid.org/1-4294952817      Natural Gas Utilities       Utilities  \n",
       "2  https://permid.org/1-4294952817      Natural Gas Utilities       Utilities  \n",
       "3  https://permid.org/1-4294952817      Natural Gas Utilities       Utilities  \n",
       "4  https://permid.org/1-4294952819  Electric Utilities & IPPs       Utilities  "
      ]
     },
     "execution_count": 82,
     "metadata": {},
     "output_type": "execute_result"
    }
   ],
   "source": [
    "# Read data from AWS S3 (public access)\n",
    "df = pd.read_csv(\"https://s3groupmorocco.s3.eu-central-1.amazonaws.com/data/CSPP_bonds_with_sectors.csv\")\n",
    "df.head()"
   ]
  },
  {
   "cell_type": "markdown",
   "metadata": {},
   "source": [
    "How many industry groups?"
   ]
  },
  {
   "cell_type": "code",
   "execution_count": 90,
   "metadata": {},
   "outputs": [
    {
     "data": {
      "text/plain": [
       "array(['Energy supply', 'Industry', 'Transport', 'Residential/commercial',\n",
       "       nan, 'Agriculture', 'International aviation',\n",
       "       'International shipping'], dtype=object)"
      ]
     },
     "execution_count": 90,
     "metadata": {},
     "output_type": "execute_result"
    }
   ],
   "source": [
    "df['Industry Group'].unique()"
   ]
  },
  {
   "cell_type": "markdown",
   "metadata": {},
   "source": [
    "We will aggregate the industry groups (47 in total) present in this data to match those present in the greenhouse emissions data (8 in total). "
   ]
  },
  {
   "cell_type": "code",
   "execution_count": 91,
   "metadata": {},
   "outputs": [
    {
     "data": {
      "text/plain": [
       "Index(['Energy supply', 'Transport', 'Industry', 'Agriculture',\n",
       "       'Residential/commercial', 'International shipping',\n",
       "       'International aviation', 'Waste'],\n",
       "      dtype='object')"
      ]
     },
     "execution_count": 91,
     "metadata": {},
     "output_type": "execute_result"
    }
   ],
   "source": [
    "sectors = pd.read_csv(\"https://s3groupmorocco.s3.eu-central-1.amazonaws.com/data/greenhouse-gas-emissions-in-the-eu-28-1990-2018-by-sector.csv\").columns[1:]\n",
    "sectors"
   ]
  },
  {
   "cell_type": "code",
   "execution_count": 92,
   "metadata": {},
   "outputs": [],
   "source": [
    "aggregation = {'Natural Gas Utilities':'Energy supply', 'Electric Utilities & IPPs':'Energy supply',\n",
    "               'Machinery, Tools, Heavy Vehicles, Trains & Ships':'Industry', 'Transport Infrastructure':'Transport', \n",
    "               'Multiline Utilities':'Industry', 'Insurance':'Residential/commercial', 'Professional & Commercial Services':'Residential/commercial', \n",
    "               'Chemicals':'Industry', 'Aerospace & Defense':'Industry', 'Residential & Commercial REITs':'Residential/commercial',\n",
    "               'Beverages':'Industry', 'Oil & Gas':'Energy supply', 'Semiconductors & Semiconductor Equipment':'Industry',\n",
    "               'Real Estate Operations':'Residential/commercial', 'Banking Services':'Residential/commercial', \n",
    "               'Pharmaceuticals':'Industry', 'Media & Publishing':'Residential/commercial', 'Construction & Engineering':'Industry',\n",
    "               'Software & IT Services':'Residential/commercial', 'Telecommunications Services':'Residential/commercial',\n",
    "               'Investment Banking & Investment Services':'Residential/commercial', 'Automobiles & Auto Parts':'Industry', \n",
    "               'Food & Tobacco':'Agriculture', 'Food & Drug Retailing':'Agriculture', 'Passenger Transportation Services':'International aviation',\n",
    "               'Freight&Logistics Services':'International shipping', 'Textiles & Apparel':'Industry', 'Oil & Gas Related Equipment and Services':'Energy supply',\n",
    "               'Homebuilding & Construction Supplies':'Residential/commercial', 'Construction Materials':'Residential/commercial',\n",
    "               'Investment Holding Companies':'Residential/commercial', 'Specialty Retailers':'Residential/commercial',\n",
    "               'Hotels & Entertainment Services':'Residential/commercial', 'Water & Related Utilities':'Industry', 'Consumer Goods Conglomerates':'Industry', \n",
    "               'Household Goods':'Industry','Collective Investments':'Residential/commercial', 'Healthcare Equipment & Supplies':'Industry',\n",
    "               'Paper & Forest Products':'Agriculture', 'Healthcare Providers & Services':'Residential/commercial', 'Communications & Networking':'Residential/commercial', \n",
    "               'Electronic Equipment & Parts':'Industry', 'Metals & Mining':'Industry', 'Containers & Packaging': 'Industry',\n",
    "               'Financial Technology (Fintech) & Infrastructure':'Residential/commercial', 'Diversified Retail': 'Residential/commercial', 'Personal & Household Products & Services':'Residential/commercial'}\n",
    "\n",
    "df[\"Industry Group\"].replace(aggregation, inplace=True)"
   ]
  },
  {
   "cell_type": "markdown",
   "metadata": {},
   "source": [
    "Create new dataframe that contains the total number of bonds held by the ECB by sector:"
   ]
  },
  {
   "cell_type": "code",
   "execution_count": 102,
   "metadata": {},
   "outputs": [],
   "source": [
    "df2 = df.groupby(by=['MONTH','Industry Group'])['ISSUER'].count().add_suffix('').reset_index()\n",
    "df2['MONTH']= pd.to_datetime(df2['MONTH'], format='%Y %m %d')\n",
    "df2.sort_values(by=['MONTH','ISSUER'], ascending = False, inplace = True)"
   ]
  },
  {
   "cell_type": "code",
   "execution_count": 104,
   "metadata": {},
   "outputs": [
    {
     "data": {
      "application/vnd.plotly.v1+json": {
       "config": {
        "plotlyServerURL": "https://plot.ly"
       },
       "data": [
        {
         "hovertemplate": "Sector=Residential/commercial<br>Year=%{x}<br>Number of Bonds=%{y}<extra></extra>",
         "legendgroup": "Residential/commercial",
         "line": {
          "color": "#bd3786",
          "dash": "solid"
         },
         "mode": "lines",
         "name": "Residential/commercial",
         "orientation": "v",
         "showlegend": true,
         "type": "scatter",
         "x": [
          "2021-04-01T00:00:00",
          "2021-03-01T00:00:00",
          "2021-02-01T00:00:00",
          "2021-01-01T00:00:00",
          "2020-12-01T00:00:00",
          "2020-11-01T00:00:00",
          "2020-10-01T00:00:00",
          "2020-09-01T00:00:00",
          "2020-08-01T00:00:00",
          "2020-07-01T00:00:00",
          "2020-06-01T00:00:00",
          "2020-05-01T00:00:00",
          "2020-04-01T00:00:00",
          "2020-03-01T00:00:00",
          "2020-02-01T00:00:00",
          "2020-01-01T00:00:00",
          "2019-12-01T00:00:00",
          "2019-11-01T00:00:00",
          "2019-10-01T00:00:00",
          "2019-09-01T00:00:00",
          "2019-08-01T00:00:00",
          "2019-07-01T00:00:00",
          "2019-06-01T00:00:00",
          "2019-05-01T00:00:00",
          "2019-04-01T00:00:00",
          "2019-03-01T00:00:00",
          "2019-02-01T00:00:00",
          "2019-01-01T00:00:00",
          "2018-12-01T00:00:00",
          "2018-11-01T00:00:00",
          "2018-10-01T00:00:00",
          "2018-09-01T00:00:00",
          "2018-08-01T00:00:00",
          "2018-07-01T00:00:00",
          "2018-06-01T00:00:00",
          "2018-05-01T00:00:00",
          "2018-04-01T00:00:00",
          "2018-03-01T00:00:00",
          "2018-02-01T00:00:00",
          "2018-01-01T00:00:00",
          "2017-12-01T00:00:00",
          "2017-11-01T00:00:00",
          "2017-10-01T00:00:00",
          "2017-09-01T00:00:00",
          "2017-08-01T00:00:00",
          "2017-07-01T00:00:00",
          "2017-06-01T00:00:00"
         ],
         "xaxis": "x",
         "y": [
          680,
          670,
          659,
          655,
          654,
          646,
          645,
          631,
          622,
          620,
          605,
          589,
          550,
          510,
          502,
          496,
          482,
          480,
          465,
          464,
          463,
          461,
          464,
          462,
          466,
          466,
          469,
          470,
          472,
          467,
          463,
          459,
          443,
          442,
          440,
          428,
          423,
          420,
          403,
          390,
          387,
          379,
          378,
          373,
          360,
          353,
          352
         ],
         "yaxis": "y"
        },
        {
         "hovertemplate": "Sector=Industry<br>Year=%{x}<br>Number of Bonds=%{y}<extra></extra>",
         "legendgroup": "Industry",
         "line": {
          "color": "#38A457",
          "dash": "solid"
         },
         "mode": "lines",
         "name": "Industry",
         "orientation": "v",
         "showlegend": true,
         "type": "scatter",
         "x": [
          "2021-04-01T00:00:00",
          "2021-03-01T00:00:00",
          "2021-02-01T00:00:00",
          "2021-01-01T00:00:00",
          "2020-12-01T00:00:00",
          "2020-11-01T00:00:00",
          "2020-10-01T00:00:00",
          "2020-09-01T00:00:00",
          "2020-08-01T00:00:00",
          "2020-07-01T00:00:00",
          "2020-06-01T00:00:00",
          "2020-05-01T00:00:00",
          "2020-04-01T00:00:00",
          "2020-03-01T00:00:00",
          "2020-02-01T00:00:00",
          "2020-01-01T00:00:00",
          "2019-12-01T00:00:00",
          "2019-11-01T00:00:00",
          "2019-10-01T00:00:00",
          "2019-09-01T00:00:00",
          "2019-08-01T00:00:00",
          "2019-07-01T00:00:00",
          "2019-06-01T00:00:00",
          "2019-05-01T00:00:00",
          "2019-04-01T00:00:00",
          "2019-03-01T00:00:00",
          "2019-02-01T00:00:00",
          "2019-01-01T00:00:00",
          "2018-12-01T00:00:00",
          "2018-11-01T00:00:00",
          "2018-10-01T00:00:00",
          "2018-09-01T00:00:00",
          "2018-08-01T00:00:00",
          "2018-07-01T00:00:00",
          "2018-06-01T00:00:00",
          "2018-05-01T00:00:00",
          "2018-04-01T00:00:00",
          "2018-03-01T00:00:00",
          "2018-02-01T00:00:00",
          "2018-01-01T00:00:00",
          "2017-12-01T00:00:00",
          "2017-11-01T00:00:00",
          "2017-10-01T00:00:00",
          "2017-09-01T00:00:00",
          "2017-08-01T00:00:00",
          "2017-07-01T00:00:00",
          "2017-06-01T00:00:00"
         ],
         "xaxis": "x",
         "y": [
          468,
          466,
          465,
          461,
          456,
          452,
          455,
          453,
          448,
          448,
          441,
          417,
          404,
          379,
          380,
          369,
          361,
          359,
          336,
          331,
          328,
          327,
          327,
          325,
          323,
          321,
          324,
          324,
          328,
          329,
          328,
          328,
          320,
          321,
          322,
          317,
          316,
          316,
          312,
          313,
          308,
          303,
          296,
          295,
          286,
          283,
          271
         ],
         "yaxis": "y"
        },
        {
         "hovertemplate": "Sector=Energy supply<br>Year=%{x}<br>Number of Bonds=%{y}<extra></extra>",
         "legendgroup": "Energy supply",
         "line": {
          "color": "#0d0887",
          "dash": "solid"
         },
         "mode": "lines",
         "name": "Energy supply",
         "orientation": "v",
         "showlegend": true,
         "type": "scatter",
         "x": [
          "2021-04-01T00:00:00",
          "2021-03-01T00:00:00",
          "2021-02-01T00:00:00",
          "2021-01-01T00:00:00",
          "2020-12-01T00:00:00",
          "2020-11-01T00:00:00",
          "2020-10-01T00:00:00",
          "2020-09-01T00:00:00",
          "2020-08-01T00:00:00",
          "2020-07-01T00:00:00",
          "2020-06-01T00:00:00",
          "2020-05-01T00:00:00",
          "2020-04-01T00:00:00",
          "2020-03-01T00:00:00",
          "2020-02-01T00:00:00",
          "2020-01-01T00:00:00",
          "2019-12-01T00:00:00",
          "2019-11-01T00:00:00",
          "2019-10-01T00:00:00",
          "2019-09-01T00:00:00",
          "2019-08-01T00:00:00",
          "2019-07-01T00:00:00",
          "2019-06-01T00:00:00",
          "2019-05-01T00:00:00",
          "2019-04-01T00:00:00",
          "2019-03-01T00:00:00",
          "2019-02-01T00:00:00",
          "2019-01-01T00:00:00",
          "2018-12-01T00:00:00",
          "2018-11-01T00:00:00",
          "2018-10-01T00:00:00",
          "2018-09-01T00:00:00",
          "2018-08-01T00:00:00",
          "2018-07-01T00:00:00",
          "2018-06-01T00:00:00",
          "2018-05-01T00:00:00",
          "2018-04-01T00:00:00",
          "2018-03-01T00:00:00",
          "2018-02-01T00:00:00",
          "2018-01-01T00:00:00",
          "2017-12-01T00:00:00",
          "2017-11-01T00:00:00",
          "2017-10-01T00:00:00",
          "2017-09-01T00:00:00",
          "2017-08-01T00:00:00",
          "2017-07-01T00:00:00",
          "2017-06-01T00:00:00"
         ],
         "xaxis": "x",
         "y": [
          210,
          209,
          209,
          208,
          208,
          210,
          211,
          209,
          209,
          209,
          204,
          201,
          194,
          184,
          182,
          183,
          182,
          180,
          171,
          169,
          172,
          168,
          169,
          171,
          172,
          172,
          173,
          174,
          174,
          172,
          171,
          170,
          168,
          168,
          169,
          169,
          167,
          167,
          166,
          169,
          169,
          166,
          163,
          160,
          159,
          158,
          157
         ],
         "yaxis": "y"
        },
        {
         "hovertemplate": "Sector=Transport<br>Year=%{x}<br>Number of Bonds=%{y}<extra></extra>",
         "legendgroup": "Transport",
         "line": {
          "color": "#FF4933",
          "dash": "solid"
         },
         "mode": "lines",
         "name": "Transport",
         "orientation": "v",
         "showlegend": true,
         "type": "scatter",
         "x": [
          "2021-04-01T00:00:00",
          "2021-03-01T00:00:00",
          "2021-02-01T00:00:00",
          "2021-01-01T00:00:00",
          "2020-12-01T00:00:00",
          "2020-11-01T00:00:00",
          "2020-10-01T00:00:00",
          "2020-09-01T00:00:00",
          "2020-08-01T00:00:00",
          "2020-07-01T00:00:00",
          "2020-06-01T00:00:00",
          "2020-05-01T00:00:00",
          "2020-04-01T00:00:00",
          "2020-03-01T00:00:00",
          "2020-02-01T00:00:00",
          "2020-01-01T00:00:00",
          "2019-12-01T00:00:00",
          "2019-11-01T00:00:00",
          "2019-10-01T00:00:00",
          "2019-09-01T00:00:00",
          "2019-08-01T00:00:00",
          "2019-07-01T00:00:00",
          "2019-06-01T00:00:00",
          "2019-05-01T00:00:00",
          "2019-04-01T00:00:00",
          "2019-03-01T00:00:00",
          "2019-02-01T00:00:00",
          "2019-01-01T00:00:00",
          "2018-12-01T00:00:00",
          "2018-11-01T00:00:00",
          "2018-10-01T00:00:00",
          "2018-09-01T00:00:00",
          "2018-08-01T00:00:00",
          "2018-07-01T00:00:00",
          "2018-06-01T00:00:00",
          "2018-05-01T00:00:00",
          "2018-04-01T00:00:00",
          "2018-03-01T00:00:00",
          "2018-02-01T00:00:00",
          "2018-01-01T00:00:00",
          "2017-12-01T00:00:00",
          "2017-11-01T00:00:00",
          "2017-10-01T00:00:00",
          "2017-09-01T00:00:00",
          "2017-08-01T00:00:00",
          "2017-07-01T00:00:00",
          "2017-06-01T00:00:00"
         ],
         "xaxis": "x",
         "y": [
          68,
          67,
          67,
          69,
          68,
          68,
          68,
          68,
          65,
          64,
          63,
          63,
          60,
          60,
          62,
          61,
          60,
          60,
          57,
          58,
          58,
          56,
          56,
          54,
          54,
          54,
          54,
          55,
          55,
          55,
          54,
          53,
          54,
          54,
          54,
          53,
          53,
          54,
          54,
          54,
          52,
          50,
          49,
          49,
          48,
          48,
          47
         ],
         "yaxis": "y"
        },
        {
         "hovertemplate": "Sector=Agriculture<br>Year=%{x}<br>Number of Bonds=%{y}<extra></extra>",
         "legendgroup": "Agriculture",
         "line": {
          "color": "#2EE6D0",
          "dash": "solid"
         },
         "mode": "lines",
         "name": "Agriculture",
         "orientation": "v",
         "showlegend": true,
         "type": "scatter",
         "x": [
          "2021-04-01T00:00:00",
          "2021-03-01T00:00:00",
          "2021-02-01T00:00:00",
          "2021-01-01T00:00:00",
          "2020-12-01T00:00:00",
          "2020-11-01T00:00:00",
          "2020-10-01T00:00:00",
          "2020-09-01T00:00:00",
          "2020-08-01T00:00:00",
          "2020-07-01T00:00:00",
          "2020-06-01T00:00:00",
          "2020-05-01T00:00:00",
          "2020-04-01T00:00:00",
          "2020-03-01T00:00:00",
          "2020-02-01T00:00:00",
          "2020-01-01T00:00:00",
          "2019-12-01T00:00:00",
          "2019-11-01T00:00:00",
          "2019-10-01T00:00:00",
          "2019-09-01T00:00:00",
          "2019-08-01T00:00:00",
          "2019-07-01T00:00:00",
          "2019-06-01T00:00:00",
          "2019-05-01T00:00:00",
          "2019-04-01T00:00:00",
          "2019-03-01T00:00:00",
          "2019-02-01T00:00:00",
          "2019-01-01T00:00:00",
          "2018-12-01T00:00:00",
          "2018-11-01T00:00:00",
          "2018-10-01T00:00:00",
          "2018-09-01T00:00:00",
          "2018-08-01T00:00:00",
          "2018-07-01T00:00:00",
          "2018-06-01T00:00:00",
          "2018-05-01T00:00:00",
          "2018-04-01T00:00:00",
          "2018-03-01T00:00:00",
          "2018-02-01T00:00:00",
          "2018-01-01T00:00:00",
          "2017-12-01T00:00:00",
          "2017-11-01T00:00:00",
          "2017-10-01T00:00:00",
          "2017-09-01T00:00:00",
          "2017-08-01T00:00:00",
          "2017-07-01T00:00:00",
          "2017-06-01T00:00:00"
         ],
         "xaxis": "x",
         "y": [
          33,
          33,
          32,
          32,
          32,
          31,
          31,
          32,
          32,
          31,
          30,
          29,
          28,
          26,
          25,
          26,
          26,
          26,
          25,
          25,
          25,
          25,
          25,
          26,
          26,
          26,
          26,
          26,
          26,
          25,
          26,
          26,
          25,
          25,
          25,
          24,
          24,
          24,
          21,
          21,
          21,
          22,
          22,
          20,
          19,
          19,
          19
         ],
         "yaxis": "y"
        },
        {
         "hovertemplate": "Sector=International aviation<br>Year=%{x}<br>Number of Bonds=%{y}<extra></extra>",
         "legendgroup": "International aviation",
         "line": {
          "color": "#fdca26",
          "dash": "solid"
         },
         "mode": "lines",
         "name": "International aviation",
         "orientation": "v",
         "showlegend": true,
         "type": "scatter",
         "x": [
          "2021-04-01T00:00:00",
          "2021-03-01T00:00:00",
          "2021-02-01T00:00:00",
          "2021-01-01T00:00:00",
          "2020-12-01T00:00:00",
          "2020-11-01T00:00:00",
          "2020-10-01T00:00:00",
          "2020-09-01T00:00:00",
          "2020-08-01T00:00:00",
          "2020-07-01T00:00:00",
          "2020-06-01T00:00:00",
          "2020-05-01T00:00:00",
          "2020-04-01T00:00:00",
          "2020-03-01T00:00:00",
          "2020-02-01T00:00:00",
          "2020-01-01T00:00:00",
          "2019-12-01T00:00:00",
          "2019-11-01T00:00:00",
          "2019-10-01T00:00:00",
          "2019-09-01T00:00:00",
          "2019-08-01T00:00:00",
          "2019-07-01T00:00:00",
          "2019-06-01T00:00:00",
          "2019-05-01T00:00:00",
          "2019-04-01T00:00:00",
          "2019-03-01T00:00:00",
          "2019-02-01T00:00:00",
          "2019-01-01T00:00:00",
          "2018-12-01T00:00:00",
          "2018-11-01T00:00:00",
          "2018-10-01T00:00:00",
          "2018-09-01T00:00:00",
          "2018-08-01T00:00:00",
          "2018-07-01T00:00:00",
          "2018-06-01T00:00:00",
          "2018-05-01T00:00:00",
          "2018-04-01T00:00:00",
          "2018-03-01T00:00:00",
          "2018-02-01T00:00:00",
          "2018-01-01T00:00:00",
          "2017-12-01T00:00:00",
          "2017-11-01T00:00:00",
          "2017-10-01T00:00:00",
          "2017-09-01T00:00:00",
          "2017-08-01T00:00:00",
          "2017-07-01T00:00:00",
          "2017-06-01T00:00:00"
         ],
         "xaxis": "x",
         "y": [
          23,
          21,
          21,
          21,
          21,
          21,
          20,
          20,
          19,
          19,
          20,
          21,
          21,
          20,
          19,
          19,
          18,
          18,
          17,
          17,
          18,
          18,
          18,
          18,
          18,
          18,
          18,
          19,
          19,
          19,
          19,
          19,
          19,
          19,
          18,
          18,
          18,
          18,
          16,
          16,
          15,
          14,
          13,
          13,
          13,
          13,
          13
         ],
         "yaxis": "y"
        },
        {
         "hovertemplate": "Sector=International shipping<br>Year=%{x}<br>Number of Bonds=%{y}<extra></extra>",
         "legendgroup": "International shipping",
         "line": {
          "color": "#ed7953",
          "dash": "solid"
         },
         "mode": "lines",
         "name": "International shipping",
         "orientation": "v",
         "showlegend": true,
         "type": "scatter",
         "x": [
          "2021-04-01T00:00:00",
          "2021-03-01T00:00:00",
          "2021-02-01T00:00:00",
          "2021-01-01T00:00:00",
          "2020-12-01T00:00:00",
          "2020-11-01T00:00:00",
          "2020-10-01T00:00:00",
          "2020-09-01T00:00:00",
          "2020-08-01T00:00:00",
          "2020-07-01T00:00:00",
          "2020-06-01T00:00:00",
          "2020-05-01T00:00:00",
          "2020-04-01T00:00:00",
          "2020-03-01T00:00:00",
          "2020-02-01T00:00:00",
          "2020-01-01T00:00:00",
          "2019-12-01T00:00:00",
          "2019-11-01T00:00:00",
          "2019-10-01T00:00:00",
          "2019-09-01T00:00:00",
          "2019-08-01T00:00:00",
          "2019-07-01T00:00:00",
          "2019-06-01T00:00:00",
          "2019-05-01T00:00:00",
          "2019-04-01T00:00:00",
          "2019-03-01T00:00:00",
          "2019-02-01T00:00:00",
          "2019-01-01T00:00:00",
          "2018-12-01T00:00:00",
          "2018-11-01T00:00:00",
          "2018-10-01T00:00:00",
          "2018-09-01T00:00:00",
          "2018-08-01T00:00:00",
          "2018-07-01T00:00:00",
          "2018-06-01T00:00:00",
          "2018-05-01T00:00:00",
          "2018-04-01T00:00:00",
          "2018-03-01T00:00:00",
          "2018-02-01T00:00:00",
          "2018-01-01T00:00:00",
          "2017-12-01T00:00:00",
          "2017-11-01T00:00:00",
          "2017-10-01T00:00:00",
          "2017-09-01T00:00:00",
          "2017-08-01T00:00:00",
          "2017-07-01T00:00:00",
          "2017-06-01T00:00:00"
         ],
         "xaxis": "x",
         "y": [
          16,
          16,
          16,
          16,
          15,
          16,
          16,
          16,
          16,
          16,
          16,
          16,
          13,
          13,
          13,
          13,
          13,
          13,
          13,
          12,
          12,
          12,
          13,
          13,
          13,
          13,
          13,
          13,
          13,
          12,
          12,
          13,
          13,
          13,
          12,
          13,
          13,
          13,
          14,
          14,
          14,
          13,
          13,
          13,
          13,
          13,
          13
         ],
         "yaxis": "y"
        }
       ],
       "layout": {
        "autosize": false,
        "height": 600,
        "legend": {
         "title": {
          "text": "Sector"
         },
         "tracegroupgap": 0
        },
        "template": {
         "data": {
          "bar": [
           {
            "error_x": {
             "color": "#2a3f5f"
            },
            "error_y": {
             "color": "#2a3f5f"
            },
            "marker": {
             "line": {
              "color": "#E5ECF6",
              "width": 0.5
             }
            },
            "type": "bar"
           }
          ],
          "barpolar": [
           {
            "marker": {
             "line": {
              "color": "#E5ECF6",
              "width": 0.5
             }
            },
            "type": "barpolar"
           }
          ],
          "carpet": [
           {
            "aaxis": {
             "endlinecolor": "#2a3f5f",
             "gridcolor": "white",
             "linecolor": "white",
             "minorgridcolor": "white",
             "startlinecolor": "#2a3f5f"
            },
            "baxis": {
             "endlinecolor": "#2a3f5f",
             "gridcolor": "white",
             "linecolor": "white",
             "minorgridcolor": "white",
             "startlinecolor": "#2a3f5f"
            },
            "type": "carpet"
           }
          ],
          "choropleth": [
           {
            "colorbar": {
             "outlinewidth": 0,
             "ticks": ""
            },
            "type": "choropleth"
           }
          ],
          "contour": [
           {
            "colorbar": {
             "outlinewidth": 0,
             "ticks": ""
            },
            "colorscale": [
             [
              0,
              "#0d0887"
             ],
             [
              0.1111111111111111,
              "#46039f"
             ],
             [
              0.2222222222222222,
              "#7201a8"
             ],
             [
              0.3333333333333333,
              "#9c179e"
             ],
             [
              0.4444444444444444,
              "#bd3786"
             ],
             [
              0.5555555555555556,
              "#d8576b"
             ],
             [
              0.6666666666666666,
              "#ed7953"
             ],
             [
              0.7777777777777778,
              "#fb9f3a"
             ],
             [
              0.8888888888888888,
              "#fdca26"
             ],
             [
              1,
              "#f0f921"
             ]
            ],
            "type": "contour"
           }
          ],
          "contourcarpet": [
           {
            "colorbar": {
             "outlinewidth": 0,
             "ticks": ""
            },
            "type": "contourcarpet"
           }
          ],
          "heatmap": [
           {
            "colorbar": {
             "outlinewidth": 0,
             "ticks": ""
            },
            "colorscale": [
             [
              0,
              "#0d0887"
             ],
             [
              0.1111111111111111,
              "#46039f"
             ],
             [
              0.2222222222222222,
              "#7201a8"
             ],
             [
              0.3333333333333333,
              "#9c179e"
             ],
             [
              0.4444444444444444,
              "#bd3786"
             ],
             [
              0.5555555555555556,
              "#d8576b"
             ],
             [
              0.6666666666666666,
              "#ed7953"
             ],
             [
              0.7777777777777778,
              "#fb9f3a"
             ],
             [
              0.8888888888888888,
              "#fdca26"
             ],
             [
              1,
              "#f0f921"
             ]
            ],
            "type": "heatmap"
           }
          ],
          "heatmapgl": [
           {
            "colorbar": {
             "outlinewidth": 0,
             "ticks": ""
            },
            "colorscale": [
             [
              0,
              "#0d0887"
             ],
             [
              0.1111111111111111,
              "#46039f"
             ],
             [
              0.2222222222222222,
              "#7201a8"
             ],
             [
              0.3333333333333333,
              "#9c179e"
             ],
             [
              0.4444444444444444,
              "#bd3786"
             ],
             [
              0.5555555555555556,
              "#d8576b"
             ],
             [
              0.6666666666666666,
              "#ed7953"
             ],
             [
              0.7777777777777778,
              "#fb9f3a"
             ],
             [
              0.8888888888888888,
              "#fdca26"
             ],
             [
              1,
              "#f0f921"
             ]
            ],
            "type": "heatmapgl"
           }
          ],
          "histogram": [
           {
            "marker": {
             "colorbar": {
              "outlinewidth": 0,
              "ticks": ""
             }
            },
            "type": "histogram"
           }
          ],
          "histogram2d": [
           {
            "colorbar": {
             "outlinewidth": 0,
             "ticks": ""
            },
            "colorscale": [
             [
              0,
              "#0d0887"
             ],
             [
              0.1111111111111111,
              "#46039f"
             ],
             [
              0.2222222222222222,
              "#7201a8"
             ],
             [
              0.3333333333333333,
              "#9c179e"
             ],
             [
              0.4444444444444444,
              "#bd3786"
             ],
             [
              0.5555555555555556,
              "#d8576b"
             ],
             [
              0.6666666666666666,
              "#ed7953"
             ],
             [
              0.7777777777777778,
              "#fb9f3a"
             ],
             [
              0.8888888888888888,
              "#fdca26"
             ],
             [
              1,
              "#f0f921"
             ]
            ],
            "type": "histogram2d"
           }
          ],
          "histogram2dcontour": [
           {
            "colorbar": {
             "outlinewidth": 0,
             "ticks": ""
            },
            "colorscale": [
             [
              0,
              "#0d0887"
             ],
             [
              0.1111111111111111,
              "#46039f"
             ],
             [
              0.2222222222222222,
              "#7201a8"
             ],
             [
              0.3333333333333333,
              "#9c179e"
             ],
             [
              0.4444444444444444,
              "#bd3786"
             ],
             [
              0.5555555555555556,
              "#d8576b"
             ],
             [
              0.6666666666666666,
              "#ed7953"
             ],
             [
              0.7777777777777778,
              "#fb9f3a"
             ],
             [
              0.8888888888888888,
              "#fdca26"
             ],
             [
              1,
              "#f0f921"
             ]
            ],
            "type": "histogram2dcontour"
           }
          ],
          "mesh3d": [
           {
            "colorbar": {
             "outlinewidth": 0,
             "ticks": ""
            },
            "type": "mesh3d"
           }
          ],
          "parcoords": [
           {
            "line": {
             "colorbar": {
              "outlinewidth": 0,
              "ticks": ""
             }
            },
            "type": "parcoords"
           }
          ],
          "pie": [
           {
            "automargin": true,
            "type": "pie"
           }
          ],
          "scatter": [
           {
            "marker": {
             "colorbar": {
              "outlinewidth": 0,
              "ticks": ""
             }
            },
            "type": "scatter"
           }
          ],
          "scatter3d": [
           {
            "line": {
             "colorbar": {
              "outlinewidth": 0,
              "ticks": ""
             }
            },
            "marker": {
             "colorbar": {
              "outlinewidth": 0,
              "ticks": ""
             }
            },
            "type": "scatter3d"
           }
          ],
          "scattercarpet": [
           {
            "marker": {
             "colorbar": {
              "outlinewidth": 0,
              "ticks": ""
             }
            },
            "type": "scattercarpet"
           }
          ],
          "scattergeo": [
           {
            "marker": {
             "colorbar": {
              "outlinewidth": 0,
              "ticks": ""
             }
            },
            "type": "scattergeo"
           }
          ],
          "scattergl": [
           {
            "marker": {
             "colorbar": {
              "outlinewidth": 0,
              "ticks": ""
             }
            },
            "type": "scattergl"
           }
          ],
          "scattermapbox": [
           {
            "marker": {
             "colorbar": {
              "outlinewidth": 0,
              "ticks": ""
             }
            },
            "type": "scattermapbox"
           }
          ],
          "scatterpolar": [
           {
            "marker": {
             "colorbar": {
              "outlinewidth": 0,
              "ticks": ""
             }
            },
            "type": "scatterpolar"
           }
          ],
          "scatterpolargl": [
           {
            "marker": {
             "colorbar": {
              "outlinewidth": 0,
              "ticks": ""
             }
            },
            "type": "scatterpolargl"
           }
          ],
          "scatterternary": [
           {
            "marker": {
             "colorbar": {
              "outlinewidth": 0,
              "ticks": ""
             }
            },
            "type": "scatterternary"
           }
          ],
          "surface": [
           {
            "colorbar": {
             "outlinewidth": 0,
             "ticks": ""
            },
            "colorscale": [
             [
              0,
              "#0d0887"
             ],
             [
              0.1111111111111111,
              "#46039f"
             ],
             [
              0.2222222222222222,
              "#7201a8"
             ],
             [
              0.3333333333333333,
              "#9c179e"
             ],
             [
              0.4444444444444444,
              "#bd3786"
             ],
             [
              0.5555555555555556,
              "#d8576b"
             ],
             [
              0.6666666666666666,
              "#ed7953"
             ],
             [
              0.7777777777777778,
              "#fb9f3a"
             ],
             [
              0.8888888888888888,
              "#fdca26"
             ],
             [
              1,
              "#f0f921"
             ]
            ],
            "type": "surface"
           }
          ],
          "table": [
           {
            "cells": {
             "fill": {
              "color": "#EBF0F8"
             },
             "line": {
              "color": "white"
             }
            },
            "header": {
             "fill": {
              "color": "#C8D4E3"
             },
             "line": {
              "color": "white"
             }
            },
            "type": "table"
           }
          ]
         },
         "layout": {
          "annotationdefaults": {
           "arrowcolor": "#2a3f5f",
           "arrowhead": 0,
           "arrowwidth": 1
          },
          "autotypenumbers": "strict",
          "coloraxis": {
           "colorbar": {
            "outlinewidth": 0,
            "ticks": ""
           }
          },
          "colorscale": {
           "diverging": [
            [
             0,
             "#8e0152"
            ],
            [
             0.1,
             "#c51b7d"
            ],
            [
             0.2,
             "#de77ae"
            ],
            [
             0.3,
             "#f1b6da"
            ],
            [
             0.4,
             "#fde0ef"
            ],
            [
             0.5,
             "#f7f7f7"
            ],
            [
             0.6,
             "#e6f5d0"
            ],
            [
             0.7,
             "#b8e186"
            ],
            [
             0.8,
             "#7fbc41"
            ],
            [
             0.9,
             "#4d9221"
            ],
            [
             1,
             "#276419"
            ]
           ],
           "sequential": [
            [
             0,
             "#0d0887"
            ],
            [
             0.1111111111111111,
             "#46039f"
            ],
            [
             0.2222222222222222,
             "#7201a8"
            ],
            [
             0.3333333333333333,
             "#9c179e"
            ],
            [
             0.4444444444444444,
             "#bd3786"
            ],
            [
             0.5555555555555556,
             "#d8576b"
            ],
            [
             0.6666666666666666,
             "#ed7953"
            ],
            [
             0.7777777777777778,
             "#fb9f3a"
            ],
            [
             0.8888888888888888,
             "#fdca26"
            ],
            [
             1,
             "#f0f921"
            ]
           ],
           "sequentialminus": [
            [
             0,
             "#0d0887"
            ],
            [
             0.1111111111111111,
             "#46039f"
            ],
            [
             0.2222222222222222,
             "#7201a8"
            ],
            [
             0.3333333333333333,
             "#9c179e"
            ],
            [
             0.4444444444444444,
             "#bd3786"
            ],
            [
             0.5555555555555556,
             "#d8576b"
            ],
            [
             0.6666666666666666,
             "#ed7953"
            ],
            [
             0.7777777777777778,
             "#fb9f3a"
            ],
            [
             0.8888888888888888,
             "#fdca26"
            ],
            [
             1,
             "#f0f921"
            ]
           ]
          },
          "colorway": [
           "#636efa",
           "#EF553B",
           "#00cc96",
           "#ab63fa",
           "#FFA15A",
           "#19d3f3",
           "#FF6692",
           "#B6E880",
           "#FF97FF",
           "#FECB52"
          ],
          "font": {
           "color": "#2a3f5f"
          },
          "geo": {
           "bgcolor": "white",
           "lakecolor": "white",
           "landcolor": "#E5ECF6",
           "showlakes": true,
           "showland": true,
           "subunitcolor": "white"
          },
          "hoverlabel": {
           "align": "left"
          },
          "hovermode": "closest",
          "mapbox": {
           "style": "light"
          },
          "paper_bgcolor": "white",
          "plot_bgcolor": "#E5ECF6",
          "polar": {
           "angularaxis": {
            "gridcolor": "white",
            "linecolor": "white",
            "ticks": ""
           },
           "bgcolor": "#E5ECF6",
           "radialaxis": {
            "gridcolor": "white",
            "linecolor": "white",
            "ticks": ""
           }
          },
          "scene": {
           "xaxis": {
            "backgroundcolor": "#E5ECF6",
            "gridcolor": "white",
            "gridwidth": 2,
            "linecolor": "white",
            "showbackground": true,
            "ticks": "",
            "zerolinecolor": "white"
           },
           "yaxis": {
            "backgroundcolor": "#E5ECF6",
            "gridcolor": "white",
            "gridwidth": 2,
            "linecolor": "white",
            "showbackground": true,
            "ticks": "",
            "zerolinecolor": "white"
           },
           "zaxis": {
            "backgroundcolor": "#E5ECF6",
            "gridcolor": "white",
            "gridwidth": 2,
            "linecolor": "white",
            "showbackground": true,
            "ticks": "",
            "zerolinecolor": "white"
           }
          },
          "shapedefaults": {
           "line": {
            "color": "#2a3f5f"
           }
          },
          "ternary": {
           "aaxis": {
            "gridcolor": "white",
            "linecolor": "white",
            "ticks": ""
           },
           "baxis": {
            "gridcolor": "white",
            "linecolor": "white",
            "ticks": ""
           },
           "bgcolor": "#E5ECF6",
           "caxis": {
            "gridcolor": "white",
            "linecolor": "white",
            "ticks": ""
           }
          },
          "title": {
           "x": 0.05
          },
          "xaxis": {
           "automargin": true,
           "gridcolor": "white",
           "linecolor": "white",
           "ticks": "",
           "title": {
            "standoff": 15
           },
           "zerolinecolor": "white",
           "zerolinewidth": 2
          },
          "yaxis": {
           "automargin": true,
           "gridcolor": "white",
           "linecolor": "white",
           "ticks": "",
           "title": {
            "standoff": 15
           },
           "zerolinecolor": "white",
           "zerolinewidth": 2
          }
         }
        },
        "title": {
         "text": "Number of Bonds held per Sector under CSPP"
        },
        "width": 800,
        "xaxis": {
         "anchor": "y",
         "domain": [
          0,
          1
         ],
         "title": {
          "text": "Year"
         }
        },
        "yaxis": {
         "anchor": "x",
         "domain": [
          0,
          1
         ],
         "title": {
          "text": "Number of Bonds"
         }
        }
       }
      },
      "text/html": [
       "<div>                            <div id=\"6ce0a5b9-dcc2-4a5e-add5-9a813796f2b2\" class=\"plotly-graph-div\" style=\"height:600px; width:800px;\"></div>            <script type=\"text/javascript\">                require([\"plotly\"], function(Plotly) {                    window.PLOTLYENV=window.PLOTLYENV || {};                                    if (document.getElementById(\"6ce0a5b9-dcc2-4a5e-add5-9a813796f2b2\")) {                    Plotly.newPlot(                        \"6ce0a5b9-dcc2-4a5e-add5-9a813796f2b2\",                        [{\"hovertemplate\": \"Sector=Residential/commercial<br>Year=%{x}<br>Number of Bonds=%{y}<extra></extra>\", \"legendgroup\": \"Residential/commercial\", \"line\": {\"color\": \"#bd3786\", \"dash\": \"solid\"}, \"mode\": \"lines\", \"name\": \"Residential/commercial\", \"orientation\": \"v\", \"showlegend\": true, \"type\": \"scatter\", \"x\": [\"2021-04-01T00:00:00\", \"2021-03-01T00:00:00\", \"2021-02-01T00:00:00\", \"2021-01-01T00:00:00\", \"2020-12-01T00:00:00\", \"2020-11-01T00:00:00\", \"2020-10-01T00:00:00\", \"2020-09-01T00:00:00\", \"2020-08-01T00:00:00\", \"2020-07-01T00:00:00\", \"2020-06-01T00:00:00\", \"2020-05-01T00:00:00\", \"2020-04-01T00:00:00\", \"2020-03-01T00:00:00\", \"2020-02-01T00:00:00\", \"2020-01-01T00:00:00\", \"2019-12-01T00:00:00\", \"2019-11-01T00:00:00\", \"2019-10-01T00:00:00\", \"2019-09-01T00:00:00\", \"2019-08-01T00:00:00\", \"2019-07-01T00:00:00\", \"2019-06-01T00:00:00\", \"2019-05-01T00:00:00\", \"2019-04-01T00:00:00\", \"2019-03-01T00:00:00\", \"2019-02-01T00:00:00\", \"2019-01-01T00:00:00\", \"2018-12-01T00:00:00\", \"2018-11-01T00:00:00\", \"2018-10-01T00:00:00\", \"2018-09-01T00:00:00\", \"2018-08-01T00:00:00\", \"2018-07-01T00:00:00\", \"2018-06-01T00:00:00\", \"2018-05-01T00:00:00\", \"2018-04-01T00:00:00\", \"2018-03-01T00:00:00\", \"2018-02-01T00:00:00\", \"2018-01-01T00:00:00\", \"2017-12-01T00:00:00\", \"2017-11-01T00:00:00\", \"2017-10-01T00:00:00\", \"2017-09-01T00:00:00\", \"2017-08-01T00:00:00\", \"2017-07-01T00:00:00\", \"2017-06-01T00:00:00\"], \"xaxis\": \"x\", \"y\": [680, 670, 659, 655, 654, 646, 645, 631, 622, 620, 605, 589, 550, 510, 502, 496, 482, 480, 465, 464, 463, 461, 464, 462, 466, 466, 469, 470, 472, 467, 463, 459, 443, 442, 440, 428, 423, 420, 403, 390, 387, 379, 378, 373, 360, 353, 352], \"yaxis\": \"y\"}, {\"hovertemplate\": \"Sector=Industry<br>Year=%{x}<br>Number of Bonds=%{y}<extra></extra>\", \"legendgroup\": \"Industry\", \"line\": {\"color\": \"#38A457\", \"dash\": \"solid\"}, \"mode\": \"lines\", \"name\": \"Industry\", \"orientation\": \"v\", \"showlegend\": true, \"type\": \"scatter\", \"x\": [\"2021-04-01T00:00:00\", \"2021-03-01T00:00:00\", \"2021-02-01T00:00:00\", \"2021-01-01T00:00:00\", \"2020-12-01T00:00:00\", \"2020-11-01T00:00:00\", \"2020-10-01T00:00:00\", \"2020-09-01T00:00:00\", \"2020-08-01T00:00:00\", \"2020-07-01T00:00:00\", \"2020-06-01T00:00:00\", \"2020-05-01T00:00:00\", \"2020-04-01T00:00:00\", \"2020-03-01T00:00:00\", \"2020-02-01T00:00:00\", \"2020-01-01T00:00:00\", \"2019-12-01T00:00:00\", \"2019-11-01T00:00:00\", \"2019-10-01T00:00:00\", \"2019-09-01T00:00:00\", \"2019-08-01T00:00:00\", \"2019-07-01T00:00:00\", \"2019-06-01T00:00:00\", \"2019-05-01T00:00:00\", \"2019-04-01T00:00:00\", \"2019-03-01T00:00:00\", \"2019-02-01T00:00:00\", \"2019-01-01T00:00:00\", \"2018-12-01T00:00:00\", \"2018-11-01T00:00:00\", \"2018-10-01T00:00:00\", \"2018-09-01T00:00:00\", \"2018-08-01T00:00:00\", \"2018-07-01T00:00:00\", \"2018-06-01T00:00:00\", \"2018-05-01T00:00:00\", \"2018-04-01T00:00:00\", \"2018-03-01T00:00:00\", \"2018-02-01T00:00:00\", \"2018-01-01T00:00:00\", \"2017-12-01T00:00:00\", \"2017-11-01T00:00:00\", \"2017-10-01T00:00:00\", \"2017-09-01T00:00:00\", \"2017-08-01T00:00:00\", \"2017-07-01T00:00:00\", \"2017-06-01T00:00:00\"], \"xaxis\": \"x\", \"y\": [468, 466, 465, 461, 456, 452, 455, 453, 448, 448, 441, 417, 404, 379, 380, 369, 361, 359, 336, 331, 328, 327, 327, 325, 323, 321, 324, 324, 328, 329, 328, 328, 320, 321, 322, 317, 316, 316, 312, 313, 308, 303, 296, 295, 286, 283, 271], \"yaxis\": \"y\"}, {\"hovertemplate\": \"Sector=Energy supply<br>Year=%{x}<br>Number of Bonds=%{y}<extra></extra>\", \"legendgroup\": \"Energy supply\", \"line\": {\"color\": \"#0d0887\", \"dash\": \"solid\"}, \"mode\": \"lines\", \"name\": \"Energy supply\", \"orientation\": \"v\", \"showlegend\": true, \"type\": \"scatter\", \"x\": [\"2021-04-01T00:00:00\", \"2021-03-01T00:00:00\", \"2021-02-01T00:00:00\", \"2021-01-01T00:00:00\", \"2020-12-01T00:00:00\", \"2020-11-01T00:00:00\", \"2020-10-01T00:00:00\", \"2020-09-01T00:00:00\", \"2020-08-01T00:00:00\", \"2020-07-01T00:00:00\", \"2020-06-01T00:00:00\", \"2020-05-01T00:00:00\", \"2020-04-01T00:00:00\", \"2020-03-01T00:00:00\", \"2020-02-01T00:00:00\", \"2020-01-01T00:00:00\", \"2019-12-01T00:00:00\", \"2019-11-01T00:00:00\", \"2019-10-01T00:00:00\", \"2019-09-01T00:00:00\", \"2019-08-01T00:00:00\", \"2019-07-01T00:00:00\", \"2019-06-01T00:00:00\", \"2019-05-01T00:00:00\", \"2019-04-01T00:00:00\", \"2019-03-01T00:00:00\", \"2019-02-01T00:00:00\", \"2019-01-01T00:00:00\", \"2018-12-01T00:00:00\", \"2018-11-01T00:00:00\", \"2018-10-01T00:00:00\", \"2018-09-01T00:00:00\", \"2018-08-01T00:00:00\", \"2018-07-01T00:00:00\", \"2018-06-01T00:00:00\", \"2018-05-01T00:00:00\", \"2018-04-01T00:00:00\", \"2018-03-01T00:00:00\", \"2018-02-01T00:00:00\", \"2018-01-01T00:00:00\", \"2017-12-01T00:00:00\", \"2017-11-01T00:00:00\", \"2017-10-01T00:00:00\", \"2017-09-01T00:00:00\", \"2017-08-01T00:00:00\", \"2017-07-01T00:00:00\", \"2017-06-01T00:00:00\"], \"xaxis\": \"x\", \"y\": [210, 209, 209, 208, 208, 210, 211, 209, 209, 209, 204, 201, 194, 184, 182, 183, 182, 180, 171, 169, 172, 168, 169, 171, 172, 172, 173, 174, 174, 172, 171, 170, 168, 168, 169, 169, 167, 167, 166, 169, 169, 166, 163, 160, 159, 158, 157], \"yaxis\": \"y\"}, {\"hovertemplate\": \"Sector=Transport<br>Year=%{x}<br>Number of Bonds=%{y}<extra></extra>\", \"legendgroup\": \"Transport\", \"line\": {\"color\": \"#FF4933\", \"dash\": \"solid\"}, \"mode\": \"lines\", \"name\": \"Transport\", \"orientation\": \"v\", \"showlegend\": true, \"type\": \"scatter\", \"x\": [\"2021-04-01T00:00:00\", \"2021-03-01T00:00:00\", \"2021-02-01T00:00:00\", \"2021-01-01T00:00:00\", \"2020-12-01T00:00:00\", \"2020-11-01T00:00:00\", \"2020-10-01T00:00:00\", \"2020-09-01T00:00:00\", \"2020-08-01T00:00:00\", \"2020-07-01T00:00:00\", \"2020-06-01T00:00:00\", \"2020-05-01T00:00:00\", \"2020-04-01T00:00:00\", \"2020-03-01T00:00:00\", \"2020-02-01T00:00:00\", \"2020-01-01T00:00:00\", \"2019-12-01T00:00:00\", \"2019-11-01T00:00:00\", \"2019-10-01T00:00:00\", \"2019-09-01T00:00:00\", \"2019-08-01T00:00:00\", \"2019-07-01T00:00:00\", \"2019-06-01T00:00:00\", \"2019-05-01T00:00:00\", \"2019-04-01T00:00:00\", \"2019-03-01T00:00:00\", \"2019-02-01T00:00:00\", \"2019-01-01T00:00:00\", \"2018-12-01T00:00:00\", \"2018-11-01T00:00:00\", \"2018-10-01T00:00:00\", \"2018-09-01T00:00:00\", \"2018-08-01T00:00:00\", \"2018-07-01T00:00:00\", \"2018-06-01T00:00:00\", \"2018-05-01T00:00:00\", \"2018-04-01T00:00:00\", \"2018-03-01T00:00:00\", \"2018-02-01T00:00:00\", \"2018-01-01T00:00:00\", \"2017-12-01T00:00:00\", \"2017-11-01T00:00:00\", \"2017-10-01T00:00:00\", \"2017-09-01T00:00:00\", \"2017-08-01T00:00:00\", \"2017-07-01T00:00:00\", \"2017-06-01T00:00:00\"], \"xaxis\": \"x\", \"y\": [68, 67, 67, 69, 68, 68, 68, 68, 65, 64, 63, 63, 60, 60, 62, 61, 60, 60, 57, 58, 58, 56, 56, 54, 54, 54, 54, 55, 55, 55, 54, 53, 54, 54, 54, 53, 53, 54, 54, 54, 52, 50, 49, 49, 48, 48, 47], \"yaxis\": \"y\"}, {\"hovertemplate\": \"Sector=Agriculture<br>Year=%{x}<br>Number of Bonds=%{y}<extra></extra>\", \"legendgroup\": \"Agriculture\", \"line\": {\"color\": \"#2EE6D0\", \"dash\": \"solid\"}, \"mode\": \"lines\", \"name\": \"Agriculture\", \"orientation\": \"v\", \"showlegend\": true, \"type\": \"scatter\", \"x\": [\"2021-04-01T00:00:00\", \"2021-03-01T00:00:00\", \"2021-02-01T00:00:00\", \"2021-01-01T00:00:00\", \"2020-12-01T00:00:00\", \"2020-11-01T00:00:00\", \"2020-10-01T00:00:00\", \"2020-09-01T00:00:00\", \"2020-08-01T00:00:00\", \"2020-07-01T00:00:00\", \"2020-06-01T00:00:00\", \"2020-05-01T00:00:00\", \"2020-04-01T00:00:00\", \"2020-03-01T00:00:00\", \"2020-02-01T00:00:00\", \"2020-01-01T00:00:00\", \"2019-12-01T00:00:00\", \"2019-11-01T00:00:00\", \"2019-10-01T00:00:00\", \"2019-09-01T00:00:00\", \"2019-08-01T00:00:00\", \"2019-07-01T00:00:00\", \"2019-06-01T00:00:00\", \"2019-05-01T00:00:00\", \"2019-04-01T00:00:00\", \"2019-03-01T00:00:00\", \"2019-02-01T00:00:00\", \"2019-01-01T00:00:00\", \"2018-12-01T00:00:00\", \"2018-11-01T00:00:00\", \"2018-10-01T00:00:00\", \"2018-09-01T00:00:00\", \"2018-08-01T00:00:00\", \"2018-07-01T00:00:00\", \"2018-06-01T00:00:00\", \"2018-05-01T00:00:00\", \"2018-04-01T00:00:00\", \"2018-03-01T00:00:00\", \"2018-02-01T00:00:00\", \"2018-01-01T00:00:00\", \"2017-12-01T00:00:00\", \"2017-11-01T00:00:00\", \"2017-10-01T00:00:00\", \"2017-09-01T00:00:00\", \"2017-08-01T00:00:00\", \"2017-07-01T00:00:00\", \"2017-06-01T00:00:00\"], \"xaxis\": \"x\", \"y\": [33, 33, 32, 32, 32, 31, 31, 32, 32, 31, 30, 29, 28, 26, 25, 26, 26, 26, 25, 25, 25, 25, 25, 26, 26, 26, 26, 26, 26, 25, 26, 26, 25, 25, 25, 24, 24, 24, 21, 21, 21, 22, 22, 20, 19, 19, 19], \"yaxis\": \"y\"}, {\"hovertemplate\": \"Sector=International aviation<br>Year=%{x}<br>Number of Bonds=%{y}<extra></extra>\", \"legendgroup\": \"International aviation\", \"line\": {\"color\": \"#fdca26\", \"dash\": \"solid\"}, \"mode\": \"lines\", \"name\": \"International aviation\", \"orientation\": \"v\", \"showlegend\": true, \"type\": \"scatter\", \"x\": [\"2021-04-01T00:00:00\", \"2021-03-01T00:00:00\", \"2021-02-01T00:00:00\", \"2021-01-01T00:00:00\", \"2020-12-01T00:00:00\", \"2020-11-01T00:00:00\", \"2020-10-01T00:00:00\", \"2020-09-01T00:00:00\", \"2020-08-01T00:00:00\", \"2020-07-01T00:00:00\", \"2020-06-01T00:00:00\", \"2020-05-01T00:00:00\", \"2020-04-01T00:00:00\", \"2020-03-01T00:00:00\", \"2020-02-01T00:00:00\", \"2020-01-01T00:00:00\", \"2019-12-01T00:00:00\", \"2019-11-01T00:00:00\", \"2019-10-01T00:00:00\", \"2019-09-01T00:00:00\", \"2019-08-01T00:00:00\", \"2019-07-01T00:00:00\", \"2019-06-01T00:00:00\", \"2019-05-01T00:00:00\", \"2019-04-01T00:00:00\", \"2019-03-01T00:00:00\", \"2019-02-01T00:00:00\", \"2019-01-01T00:00:00\", \"2018-12-01T00:00:00\", \"2018-11-01T00:00:00\", \"2018-10-01T00:00:00\", \"2018-09-01T00:00:00\", \"2018-08-01T00:00:00\", \"2018-07-01T00:00:00\", \"2018-06-01T00:00:00\", \"2018-05-01T00:00:00\", \"2018-04-01T00:00:00\", \"2018-03-01T00:00:00\", \"2018-02-01T00:00:00\", \"2018-01-01T00:00:00\", \"2017-12-01T00:00:00\", \"2017-11-01T00:00:00\", \"2017-10-01T00:00:00\", \"2017-09-01T00:00:00\", \"2017-08-01T00:00:00\", \"2017-07-01T00:00:00\", \"2017-06-01T00:00:00\"], \"xaxis\": \"x\", \"y\": [23, 21, 21, 21, 21, 21, 20, 20, 19, 19, 20, 21, 21, 20, 19, 19, 18, 18, 17, 17, 18, 18, 18, 18, 18, 18, 18, 19, 19, 19, 19, 19, 19, 19, 18, 18, 18, 18, 16, 16, 15, 14, 13, 13, 13, 13, 13], \"yaxis\": \"y\"}, {\"hovertemplate\": \"Sector=International shipping<br>Year=%{x}<br>Number of Bonds=%{y}<extra></extra>\", \"legendgroup\": \"International shipping\", \"line\": {\"color\": \"#ed7953\", \"dash\": \"solid\"}, \"mode\": \"lines\", \"name\": \"International shipping\", \"orientation\": \"v\", \"showlegend\": true, \"type\": \"scatter\", \"x\": [\"2021-04-01T00:00:00\", \"2021-03-01T00:00:00\", \"2021-02-01T00:00:00\", \"2021-01-01T00:00:00\", \"2020-12-01T00:00:00\", \"2020-11-01T00:00:00\", \"2020-10-01T00:00:00\", \"2020-09-01T00:00:00\", \"2020-08-01T00:00:00\", \"2020-07-01T00:00:00\", \"2020-06-01T00:00:00\", \"2020-05-01T00:00:00\", \"2020-04-01T00:00:00\", \"2020-03-01T00:00:00\", \"2020-02-01T00:00:00\", \"2020-01-01T00:00:00\", \"2019-12-01T00:00:00\", \"2019-11-01T00:00:00\", \"2019-10-01T00:00:00\", \"2019-09-01T00:00:00\", \"2019-08-01T00:00:00\", \"2019-07-01T00:00:00\", \"2019-06-01T00:00:00\", \"2019-05-01T00:00:00\", \"2019-04-01T00:00:00\", \"2019-03-01T00:00:00\", \"2019-02-01T00:00:00\", \"2019-01-01T00:00:00\", \"2018-12-01T00:00:00\", \"2018-11-01T00:00:00\", \"2018-10-01T00:00:00\", \"2018-09-01T00:00:00\", \"2018-08-01T00:00:00\", \"2018-07-01T00:00:00\", \"2018-06-01T00:00:00\", \"2018-05-01T00:00:00\", \"2018-04-01T00:00:00\", \"2018-03-01T00:00:00\", \"2018-02-01T00:00:00\", \"2018-01-01T00:00:00\", \"2017-12-01T00:00:00\", \"2017-11-01T00:00:00\", \"2017-10-01T00:00:00\", \"2017-09-01T00:00:00\", \"2017-08-01T00:00:00\", \"2017-07-01T00:00:00\", \"2017-06-01T00:00:00\"], \"xaxis\": \"x\", \"y\": [16, 16, 16, 16, 15, 16, 16, 16, 16, 16, 16, 16, 13, 13, 13, 13, 13, 13, 13, 12, 12, 12, 13, 13, 13, 13, 13, 13, 13, 12, 12, 13, 13, 13, 12, 13, 13, 13, 14, 14, 14, 13, 13, 13, 13, 13, 13], \"yaxis\": \"y\"}],                        {\"autosize\": false, \"height\": 600, \"legend\": {\"title\": {\"text\": \"Sector\"}, \"tracegroupgap\": 0}, \"template\": {\"data\": {\"bar\": [{\"error_x\": {\"color\": \"#2a3f5f\"}, \"error_y\": {\"color\": \"#2a3f5f\"}, \"marker\": {\"line\": {\"color\": \"#E5ECF6\", \"width\": 0.5}}, \"type\": \"bar\"}], \"barpolar\": [{\"marker\": {\"line\": {\"color\": \"#E5ECF6\", \"width\": 0.5}}, \"type\": \"barpolar\"}], \"carpet\": [{\"aaxis\": {\"endlinecolor\": \"#2a3f5f\", \"gridcolor\": \"white\", \"linecolor\": \"white\", \"minorgridcolor\": \"white\", \"startlinecolor\": \"#2a3f5f\"}, \"baxis\": {\"endlinecolor\": \"#2a3f5f\", \"gridcolor\": \"white\", \"linecolor\": \"white\", \"minorgridcolor\": \"white\", \"startlinecolor\": \"#2a3f5f\"}, \"type\": \"carpet\"}], \"choropleth\": [{\"colorbar\": {\"outlinewidth\": 0, \"ticks\": \"\"}, \"type\": \"choropleth\"}], \"contour\": [{\"colorbar\": {\"outlinewidth\": 0, \"ticks\": \"\"}, \"colorscale\": [[0.0, \"#0d0887\"], [0.1111111111111111, \"#46039f\"], [0.2222222222222222, \"#7201a8\"], [0.3333333333333333, \"#9c179e\"], [0.4444444444444444, \"#bd3786\"], [0.5555555555555556, \"#d8576b\"], [0.6666666666666666, \"#ed7953\"], [0.7777777777777778, \"#fb9f3a\"], [0.8888888888888888, \"#fdca26\"], [1.0, \"#f0f921\"]], \"type\": \"contour\"}], \"contourcarpet\": [{\"colorbar\": {\"outlinewidth\": 0, \"ticks\": \"\"}, \"type\": \"contourcarpet\"}], \"heatmap\": [{\"colorbar\": {\"outlinewidth\": 0, \"ticks\": \"\"}, \"colorscale\": [[0.0, \"#0d0887\"], [0.1111111111111111, \"#46039f\"], [0.2222222222222222, \"#7201a8\"], [0.3333333333333333, \"#9c179e\"], [0.4444444444444444, \"#bd3786\"], [0.5555555555555556, \"#d8576b\"], [0.6666666666666666, \"#ed7953\"], [0.7777777777777778, \"#fb9f3a\"], [0.8888888888888888, \"#fdca26\"], [1.0, \"#f0f921\"]], \"type\": \"heatmap\"}], \"heatmapgl\": [{\"colorbar\": {\"outlinewidth\": 0, \"ticks\": \"\"}, \"colorscale\": [[0.0, \"#0d0887\"], [0.1111111111111111, \"#46039f\"], [0.2222222222222222, \"#7201a8\"], [0.3333333333333333, \"#9c179e\"], [0.4444444444444444, \"#bd3786\"], [0.5555555555555556, \"#d8576b\"], [0.6666666666666666, \"#ed7953\"], [0.7777777777777778, \"#fb9f3a\"], [0.8888888888888888, \"#fdca26\"], [1.0, \"#f0f921\"]], \"type\": \"heatmapgl\"}], \"histogram\": [{\"marker\": {\"colorbar\": {\"outlinewidth\": 0, \"ticks\": \"\"}}, \"type\": \"histogram\"}], \"histogram2d\": [{\"colorbar\": {\"outlinewidth\": 0, \"ticks\": \"\"}, \"colorscale\": [[0.0, \"#0d0887\"], [0.1111111111111111, \"#46039f\"], [0.2222222222222222, \"#7201a8\"], [0.3333333333333333, \"#9c179e\"], [0.4444444444444444, \"#bd3786\"], [0.5555555555555556, \"#d8576b\"], [0.6666666666666666, \"#ed7953\"], [0.7777777777777778, \"#fb9f3a\"], [0.8888888888888888, \"#fdca26\"], [1.0, \"#f0f921\"]], \"type\": \"histogram2d\"}], \"histogram2dcontour\": [{\"colorbar\": {\"outlinewidth\": 0, \"ticks\": \"\"}, \"colorscale\": [[0.0, \"#0d0887\"], [0.1111111111111111, \"#46039f\"], [0.2222222222222222, \"#7201a8\"], [0.3333333333333333, \"#9c179e\"], [0.4444444444444444, \"#bd3786\"], [0.5555555555555556, \"#d8576b\"], [0.6666666666666666, \"#ed7953\"], [0.7777777777777778, \"#fb9f3a\"], [0.8888888888888888, \"#fdca26\"], [1.0, \"#f0f921\"]], \"type\": \"histogram2dcontour\"}], \"mesh3d\": [{\"colorbar\": {\"outlinewidth\": 0, \"ticks\": \"\"}, \"type\": \"mesh3d\"}], \"parcoords\": [{\"line\": {\"colorbar\": {\"outlinewidth\": 0, \"ticks\": \"\"}}, \"type\": \"parcoords\"}], \"pie\": [{\"automargin\": true, \"type\": \"pie\"}], \"scatter\": [{\"marker\": {\"colorbar\": {\"outlinewidth\": 0, \"ticks\": \"\"}}, \"type\": \"scatter\"}], \"scatter3d\": [{\"line\": {\"colorbar\": {\"outlinewidth\": 0, \"ticks\": \"\"}}, \"marker\": {\"colorbar\": {\"outlinewidth\": 0, \"ticks\": \"\"}}, \"type\": \"scatter3d\"}], \"scattercarpet\": [{\"marker\": {\"colorbar\": {\"outlinewidth\": 0, \"ticks\": \"\"}}, \"type\": \"scattercarpet\"}], \"scattergeo\": [{\"marker\": {\"colorbar\": {\"outlinewidth\": 0, \"ticks\": \"\"}}, \"type\": \"scattergeo\"}], \"scattergl\": [{\"marker\": {\"colorbar\": {\"outlinewidth\": 0, \"ticks\": \"\"}}, \"type\": \"scattergl\"}], \"scattermapbox\": [{\"marker\": {\"colorbar\": {\"outlinewidth\": 0, \"ticks\": \"\"}}, \"type\": \"scattermapbox\"}], \"scatterpolar\": [{\"marker\": {\"colorbar\": {\"outlinewidth\": 0, \"ticks\": \"\"}}, \"type\": \"scatterpolar\"}], \"scatterpolargl\": [{\"marker\": {\"colorbar\": {\"outlinewidth\": 0, \"ticks\": \"\"}}, \"type\": \"scatterpolargl\"}], \"scatterternary\": [{\"marker\": {\"colorbar\": {\"outlinewidth\": 0, \"ticks\": \"\"}}, \"type\": \"scatterternary\"}], \"surface\": [{\"colorbar\": {\"outlinewidth\": 0, \"ticks\": \"\"}, \"colorscale\": [[0.0, \"#0d0887\"], [0.1111111111111111, \"#46039f\"], [0.2222222222222222, \"#7201a8\"], [0.3333333333333333, \"#9c179e\"], [0.4444444444444444, \"#bd3786\"], [0.5555555555555556, \"#d8576b\"], [0.6666666666666666, \"#ed7953\"], [0.7777777777777778, \"#fb9f3a\"], [0.8888888888888888, \"#fdca26\"], [1.0, \"#f0f921\"]], \"type\": \"surface\"}], \"table\": [{\"cells\": {\"fill\": {\"color\": \"#EBF0F8\"}, \"line\": {\"color\": \"white\"}}, \"header\": {\"fill\": {\"color\": \"#C8D4E3\"}, \"line\": {\"color\": \"white\"}}, \"type\": \"table\"}]}, \"layout\": {\"annotationdefaults\": {\"arrowcolor\": \"#2a3f5f\", \"arrowhead\": 0, \"arrowwidth\": 1}, \"autotypenumbers\": \"strict\", \"coloraxis\": {\"colorbar\": {\"outlinewidth\": 0, \"ticks\": \"\"}}, \"colorscale\": {\"diverging\": [[0, \"#8e0152\"], [0.1, \"#c51b7d\"], [0.2, \"#de77ae\"], [0.3, \"#f1b6da\"], [0.4, \"#fde0ef\"], [0.5, \"#f7f7f7\"], [0.6, \"#e6f5d0\"], [0.7, \"#b8e186\"], [0.8, \"#7fbc41\"], [0.9, \"#4d9221\"], [1, \"#276419\"]], \"sequential\": [[0.0, \"#0d0887\"], [0.1111111111111111, \"#46039f\"], [0.2222222222222222, \"#7201a8\"], [0.3333333333333333, \"#9c179e\"], [0.4444444444444444, \"#bd3786\"], [0.5555555555555556, \"#d8576b\"], [0.6666666666666666, \"#ed7953\"], [0.7777777777777778, \"#fb9f3a\"], [0.8888888888888888, \"#fdca26\"], [1.0, \"#f0f921\"]], \"sequentialminus\": [[0.0, \"#0d0887\"], [0.1111111111111111, \"#46039f\"], [0.2222222222222222, \"#7201a8\"], [0.3333333333333333, \"#9c179e\"], [0.4444444444444444, \"#bd3786\"], [0.5555555555555556, \"#d8576b\"], [0.6666666666666666, \"#ed7953\"], [0.7777777777777778, \"#fb9f3a\"], [0.8888888888888888, \"#fdca26\"], [1.0, \"#f0f921\"]]}, \"colorway\": [\"#636efa\", \"#EF553B\", \"#00cc96\", \"#ab63fa\", \"#FFA15A\", \"#19d3f3\", \"#FF6692\", \"#B6E880\", \"#FF97FF\", \"#FECB52\"], \"font\": {\"color\": \"#2a3f5f\"}, \"geo\": {\"bgcolor\": \"white\", \"lakecolor\": \"white\", \"landcolor\": \"#E5ECF6\", \"showlakes\": true, \"showland\": true, \"subunitcolor\": \"white\"}, \"hoverlabel\": {\"align\": \"left\"}, \"hovermode\": \"closest\", \"mapbox\": {\"style\": \"light\"}, \"paper_bgcolor\": \"white\", \"plot_bgcolor\": \"#E5ECF6\", \"polar\": {\"angularaxis\": {\"gridcolor\": \"white\", \"linecolor\": \"white\", \"ticks\": \"\"}, \"bgcolor\": \"#E5ECF6\", \"radialaxis\": {\"gridcolor\": \"white\", \"linecolor\": \"white\", \"ticks\": \"\"}}, \"scene\": {\"xaxis\": {\"backgroundcolor\": \"#E5ECF6\", \"gridcolor\": \"white\", \"gridwidth\": 2, \"linecolor\": \"white\", \"showbackground\": true, \"ticks\": \"\", \"zerolinecolor\": \"white\"}, \"yaxis\": {\"backgroundcolor\": \"#E5ECF6\", \"gridcolor\": \"white\", \"gridwidth\": 2, \"linecolor\": \"white\", \"showbackground\": true, \"ticks\": \"\", \"zerolinecolor\": \"white\"}, \"zaxis\": {\"backgroundcolor\": \"#E5ECF6\", \"gridcolor\": \"white\", \"gridwidth\": 2, \"linecolor\": \"white\", \"showbackground\": true, \"ticks\": \"\", \"zerolinecolor\": \"white\"}}, \"shapedefaults\": {\"line\": {\"color\": \"#2a3f5f\"}}, \"ternary\": {\"aaxis\": {\"gridcolor\": \"white\", \"linecolor\": \"white\", \"ticks\": \"\"}, \"baxis\": {\"gridcolor\": \"white\", \"linecolor\": \"white\", \"ticks\": \"\"}, \"bgcolor\": \"#E5ECF6\", \"caxis\": {\"gridcolor\": \"white\", \"linecolor\": \"white\", \"ticks\": \"\"}}, \"title\": {\"x\": 0.05}, \"xaxis\": {\"automargin\": true, \"gridcolor\": \"white\", \"linecolor\": \"white\", \"ticks\": \"\", \"title\": {\"standoff\": 15}, \"zerolinecolor\": \"white\", \"zerolinewidth\": 2}, \"yaxis\": {\"automargin\": true, \"gridcolor\": \"white\", \"linecolor\": \"white\", \"ticks\": \"\", \"title\": {\"standoff\": 15}, \"zerolinecolor\": \"white\", \"zerolinewidth\": 2}}}, \"title\": {\"text\": \"Number of Bonds held per Sector under CSPP\"}, \"width\": 800, \"xaxis\": {\"anchor\": \"y\", \"domain\": [0.0, 1.0], \"title\": {\"text\": \"Year\"}}, \"yaxis\": {\"anchor\": \"x\", \"domain\": [0.0, 1.0], \"title\": {\"text\": \"Number of Bonds\"}}},                        {\"responsive\": true}                    ).then(function(){\n",
       "                            \n",
       "var gd = document.getElementById('6ce0a5b9-dcc2-4a5e-add5-9a813796f2b2');\n",
       "var x = new MutationObserver(function (mutations, observer) {{\n",
       "        var display = window.getComputedStyle(gd).display;\n",
       "        if (!display || display === 'none') {{\n",
       "            console.log([gd, 'removed!']);\n",
       "            Plotly.purge(gd);\n",
       "            observer.disconnect();\n",
       "        }}\n",
       "}});\n",
       "\n",
       "// Listen for the removal of the full notebook cells\n",
       "var notebookContainer = gd.closest('#notebook-container');\n",
       "if (notebookContainer) {{\n",
       "    x.observe(notebookContainer, {childList: true});\n",
       "}}\n",
       "\n",
       "// Listen for the clearing of the current output cell\n",
       "var outputEl = gd.closest('.output');\n",
       "if (outputEl) {{\n",
       "    x.observe(outputEl, {childList: true});\n",
       "}}\n",
       "\n",
       "                        })                };                });            </script>        </div>"
      ]
     },
     "metadata": {},
     "output_type": "display_data"
    }
   ],
   "source": [
    "fig = px.line(df2, x = \"MONTH\", y = \"ISSUER\", color = \"Industry Group\", line_group = \"Industry Group\",\n",
    "              labels={\"MONTH\": \"Year\", \"ISSUER\": \"Number of Bonds\", \"Industry Group\": \"Sector\"},\n",
    "              title=\"Number of Bonds held per Sector under CSPP\", color_discrete_map={\n",
    "                \"Energy supply\": '#0d0887',\n",
    "                \"Transport\": '#FF4933',\n",
    "                \"Industry\": '#38A457',\n",
    "                \"Agriculture\": '#2EE6D0',\n",
    "                \"Residential/commercial\": '#bd3786',\n",
    "                \"International shipping\": '#ed7953',\n",
    "                \"International aviation\": '#fdca26',\n",
    "                \"Waste\": '#112317'})\n",
    "\n",
    "fig.update_layout(\n",
    "    autosize=False,\n",
    "    width=800,\n",
    "    height=600)\n",
    "fig.show()"
   ]
  },
  {
   "cell_type": "markdown",
   "metadata": {},
   "source": [
    "### 2. CO2 emissions in the European Union from 1990 to 2018"
   ]
  },
  {
   "cell_type": "markdown",
   "metadata": {},
   "source": [
    "Load data from AWS: "
   ]
  },
  {
   "cell_type": "code",
   "execution_count": 74,
   "metadata": {},
   "outputs": [
    {
     "data": {
      "text/html": [
       "<div>\n",
       "<style scoped>\n",
       "    .dataframe tbody tr th:only-of-type {\n",
       "        vertical-align: middle;\n",
       "    }\n",
       "\n",
       "    .dataframe tbody tr th {\n",
       "        vertical-align: top;\n",
       "    }\n",
       "\n",
       "    .dataframe thead th {\n",
       "        text-align: right;\n",
       "    }\n",
       "</style>\n",
       "<table border=\"1\" class=\"dataframe\">\n",
       "  <thead>\n",
       "    <tr style=\"text-align: right;\">\n",
       "      <th></th>\n",
       "      <th>year</th>\n",
       "      <th>Energy supply</th>\n",
       "      <th>Transport</th>\n",
       "      <th>Industry</th>\n",
       "      <th>Agriculture</th>\n",
       "      <th>Residential/commercial</th>\n",
       "      <th>International shipping</th>\n",
       "      <th>International aviation</th>\n",
       "      <th>Waste</th>\n",
       "    </tr>\n",
       "  </thead>\n",
       "  <tbody>\n",
       "    <tr>\n",
       "      <th>0</th>\n",
       "      <td>1990</td>\n",
       "      <td>1590.9</td>\n",
       "      <td>672.7</td>\n",
       "      <td>1184.9</td>\n",
       "      <td>588.5</td>\n",
       "      <td>624.2</td>\n",
       "      <td>101.9</td>\n",
       "      <td>53.7</td>\n",
       "      <td>174.0</td>\n",
       "    </tr>\n",
       "    <tr>\n",
       "      <th>1</th>\n",
       "      <td>1991</td>\n",
       "      <td>1545.6</td>\n",
       "      <td>680.9</td>\n",
       "      <td>1110.3</td>\n",
       "      <td>557.0</td>\n",
       "      <td>663.4</td>\n",
       "      <td>100.2</td>\n",
       "      <td>53.0</td>\n",
       "      <td>177.0</td>\n",
       "    </tr>\n",
       "    <tr>\n",
       "      <th>2</th>\n",
       "      <td>1992</td>\n",
       "      <td>1495.0</td>\n",
       "      <td>703.0</td>\n",
       "      <td>1064.3</td>\n",
       "      <td>531.7</td>\n",
       "      <td>612.1</td>\n",
       "      <td>101.6</td>\n",
       "      <td>56.7</td>\n",
       "      <td>178.9</td>\n",
       "    </tr>\n",
       "    <tr>\n",
       "      <th>3</th>\n",
       "      <td>1993</td>\n",
       "      <td>1442.6</td>\n",
       "      <td>706.3</td>\n",
       "      <td>1033.0</td>\n",
       "      <td>523.6</td>\n",
       "      <td>621.9</td>\n",
       "      <td>102.5</td>\n",
       "      <td>59.6</td>\n",
       "      <td>179.3</td>\n",
       "    </tr>\n",
       "    <tr>\n",
       "      <th>4</th>\n",
       "      <td>1994</td>\n",
       "      <td>1446.6</td>\n",
       "      <td>711.5</td>\n",
       "      <td>1057.7</td>\n",
       "      <td>516.0</td>\n",
       "      <td>579.6</td>\n",
       "      <td>102.9</td>\n",
       "      <td>62.3</td>\n",
       "      <td>178.5</td>\n",
       "    </tr>\n",
       "  </tbody>\n",
       "</table>\n",
       "</div>"
      ],
      "text/plain": [
       "   year  Energy supply  Transport  Industry  Agriculture  \\\n",
       "0  1990         1590.9      672.7    1184.9        588.5   \n",
       "1  1991         1545.6      680.9    1110.3        557.0   \n",
       "2  1992         1495.0      703.0    1064.3        531.7   \n",
       "3  1993         1442.6      706.3    1033.0        523.6   \n",
       "4  1994         1446.6      711.5    1057.7        516.0   \n",
       "\n",
       "   Residential/commercial  International shipping  International aviation  \\\n",
       "0                   624.2                   101.9                    53.7   \n",
       "1                   663.4                   100.2                    53.0   \n",
       "2                   612.1                   101.6                    56.7   \n",
       "3                   621.9                   102.5                    59.6   \n",
       "4                   579.6                   102.9                    62.3   \n",
       "\n",
       "   Waste  \n",
       "0  174.0  \n",
       "1  177.0  \n",
       "2  178.9  \n",
       "3  179.3  \n",
       "4  178.5  "
      ]
     },
     "execution_count": 74,
     "metadata": {},
     "output_type": "execute_result"
    }
   ],
   "source": [
    "# Read data from AWS S3 (public access)\n",
    "df = pd.read_csv(\"https://s3groupmorocco.s3.eu-central-1.amazonaws.com/data/greenhouse-gas-emissions-in-the-eu-28-1990-2018-by-sector.csv\", thousands=',')\n",
    "df.head()"
   ]
  },
  {
   "cell_type": "markdown",
   "metadata": {},
   "source": [
    "Prepare the data for the plot:"
   ]
  },
  {
   "cell_type": "code",
   "execution_count": 75,
   "metadata": {},
   "outputs": [],
   "source": [
    "data = pd.melt(df, id_vars = 'year', var_name = 'sector', value_name = 'emission' )"
   ]
  },
  {
   "cell_type": "markdown",
   "metadata": {},
   "source": [
    "Create a line chart:"
   ]
  },
  {
   "cell_type": "code",
   "execution_count": 76,
   "metadata": {},
   "outputs": [
    {
     "data": {
      "application/vnd.plotly.v1+json": {
       "config": {
        "plotlyServerURL": "https://plot.ly"
       },
       "data": [
        {
         "hovertemplate": "Sector=Energy supply<br>Year=%{x}<br>CO2-equivalent in million of tons=%{y}<extra></extra>",
         "legendgroup": "Energy supply",
         "line": {
          "color": "#0d0887",
          "dash": "solid"
         },
         "mode": "lines",
         "name": "Energy supply",
         "orientation": "v",
         "showlegend": true,
         "type": "scatter",
         "x": [
          1990,
          1991,
          1992,
          1993,
          1994,
          1995,
          1996,
          1997,
          1998,
          1999,
          2000,
          2001,
          2002,
          2003,
          2004,
          2005,
          2006,
          2007,
          2008,
          2009,
          2010,
          2011,
          2012,
          2013,
          2014,
          2015,
          2016,
          2017,
          2018
         ],
         "xaxis": "x",
         "y": [
          1590.9,
          1545.6,
          1495,
          1442.6,
          1446.6,
          1448.9,
          1473,
          1445.1,
          1439.9,
          1400.7,
          1413.9,
          1436.9,
          1459.6,
          1506.8,
          1503.3,
          1482.4,
          1487,
          1498.7,
          1428.8,
          1320.7,
          1340.3,
          1328.4,
          1309.1,
          1245.5,
          1183.3,
          1188.8,
          1161.7,
          1154.2,
          1087.8
         ],
         "yaxis": "y"
        },
        {
         "hovertemplate": "Sector=Transport<br>Year=%{x}<br>CO2-equivalent in million of tons=%{y}<extra></extra>",
         "legendgroup": "Transport",
         "line": {
          "color": "#FF4933",
          "dash": "solid"
         },
         "mode": "lines",
         "name": "Transport",
         "orientation": "v",
         "showlegend": true,
         "type": "scatter",
         "x": [
          1990,
          1991,
          1992,
          1993,
          1994,
          1995,
          1996,
          1997,
          1998,
          1999,
          2000,
          2001,
          2002,
          2003,
          2004,
          2005,
          2006,
          2007,
          2008,
          2009,
          2010,
          2011,
          2012,
          2013,
          2014,
          2015,
          2016,
          2017,
          2018
         ],
         "xaxis": "x",
         "y": [
          672.7,
          680.9,
          703,
          706.3,
          711.5,
          724.3,
          746.4,
          756.2,
          785.5,
          802.3,
          798.6,
          812.4,
          821.2,
          830.5,
          848.9,
          847.4,
          855.5,
          863.9,
          844.7,
          821.8,
          818.1,
          808.1,
          778.3,
          773.2,
          779.2,
          793.5,
          811.8,
          825.6,
          828
         ],
         "yaxis": "y"
        },
        {
         "hovertemplate": "Sector=Industry<br>Year=%{x}<br>CO2-equivalent in million of tons=%{y}<extra></extra>",
         "legendgroup": "Industry",
         "line": {
          "color": "#38A457",
          "dash": "solid"
         },
         "mode": "lines",
         "name": "Industry",
         "orientation": "v",
         "showlegend": true,
         "type": "scatter",
         "x": [
          1990,
          1991,
          1992,
          1993,
          1994,
          1995,
          1996,
          1997,
          1998,
          1999,
          2000,
          2001,
          2002,
          2003,
          2004,
          2005,
          2006,
          2007,
          2008,
          2009,
          2010,
          2011,
          2012,
          2013,
          2014,
          2015,
          2016,
          2017,
          2018
         ],
         "xaxis": "x",
         "y": [
          1184.9,
          1110.3,
          1064.3,
          1033,
          1057.7,
          1091.1,
          1082.6,
          1078.3,
          1036.1,
          997.4,
          1009.7,
          980.2,
          970.2,
          988.1,
          986.3,
          989.6,
          980,
          996.4,
          951.6,
          788.5,
          836.7,
          822.5,
          791.4,
          772.7,
          767.2,
          773.7,
          775.3,
          795.2,
          793.1
         ],
         "yaxis": "y"
        },
        {
         "hovertemplate": "Sector=Agriculture<br>Year=%{x}<br>CO2-equivalent in million of tons=%{y}<extra></extra>",
         "legendgroup": "Agriculture",
         "line": {
          "color": "#2EE6D0",
          "dash": "solid"
         },
         "mode": "lines",
         "name": "Agriculture",
         "orientation": "v",
         "showlegend": true,
         "type": "scatter",
         "x": [
          1990,
          1991,
          1992,
          1993,
          1994,
          1995,
          1996,
          1997,
          1998,
          1999,
          2000,
          2001,
          2002,
          2003,
          2004,
          2005,
          2006,
          2007,
          2008,
          2009,
          2010,
          2011,
          2012,
          2013,
          2014,
          2015,
          2016,
          2017,
          2018
         ],
         "xaxis": "x",
         "y": [
          588.5,
          557,
          531.7,
          523.6,
          516,
          516.6,
          520.5,
          515.4,
          510.3,
          508.3,
          503.4,
          500.2,
          490.7,
          486.4,
          488.2,
          482,
          475.9,
          476.4,
          475.5,
          467.7,
          465,
          463.8,
          460.2,
          463.9,
          468.9,
          470.5,
          471.4,
          475.7,
          470.9
         ],
         "yaxis": "y"
        },
        {
         "hovertemplate": "Sector=Residential/commercial<br>Year=%{x}<br>CO2-equivalent in million of tons=%{y}<extra></extra>",
         "legendgroup": "Residential/commercial",
         "line": {
          "color": "#bd3786",
          "dash": "solid"
         },
         "mode": "lines",
         "name": "Residential/commercial",
         "orientation": "v",
         "showlegend": true,
         "type": "scatter",
         "x": [
          1990,
          1991,
          1992,
          1993,
          1994,
          1995,
          1996,
          1997,
          1998,
          1999,
          2000,
          2001,
          2002,
          2003,
          2004,
          2005,
          2006,
          2007,
          2008,
          2009,
          2010,
          2011,
          2012,
          2013,
          2014,
          2015,
          2016,
          2017,
          2018
         ],
         "xaxis": "x",
         "y": [
          624.2,
          663.4,
          612.1,
          621.9,
          579.6,
          588.1,
          639.3,
          600.4,
          587.4,
          575.7,
          553.7,
          598.4,
          576.2,
          589.2,
          583.6,
          584.9,
          586.4,
          516.5,
          559.4,
          549.2,
          581.3,
          509.6,
          518.3,
          521.4,
          445.8,
          472.1,
          479.7,
          476.4,
          460.5
         ],
         "yaxis": "y"
        },
        {
         "hovertemplate": "Sector=International shipping<br>Year=%{x}<br>CO2-equivalent in million of tons=%{y}<extra></extra>",
         "legendgroup": "International shipping",
         "line": {
          "color": "#ed7953",
          "dash": "solid"
         },
         "mode": "lines",
         "name": "International shipping",
         "orientation": "v",
         "showlegend": true,
         "type": "scatter",
         "x": [
          1990,
          1991,
          1992,
          1993,
          1994,
          1995,
          1996,
          1997,
          1998,
          1999,
          2000,
          2001,
          2002,
          2003,
          2004,
          2005,
          2006,
          2007,
          2008,
          2009,
          2010,
          2011,
          2012,
          2013,
          2014,
          2015,
          2016,
          2017,
          2018
         ],
         "xaxis": "x",
         "y": [
          101.9,
          100.2,
          101.6,
          102.5,
          102.9,
          102.6,
          109.5,
          118.7,
          123.7,
          120.6,
          128,
          132.6,
          138.6,
          141.1,
          149.4,
          153.4,
          164.1,
          171.5,
          169.5,
          150.8,
          149.9,
          150.4,
          139.1,
          130.9,
          127.4,
          127.1,
          133.2,
          135.6,
          138.4
         ],
         "yaxis": "y"
        },
        {
         "hovertemplate": "Sector=International aviation<br>Year=%{x}<br>CO2-equivalent in million of tons=%{y}<extra></extra>",
         "legendgroup": "International aviation",
         "line": {
          "color": "#fdca26",
          "dash": "solid"
         },
         "mode": "lines",
         "name": "International aviation",
         "orientation": "v",
         "showlegend": true,
         "type": "scatter",
         "x": [
          1990,
          1991,
          1992,
          1993,
          1994,
          1995,
          1996,
          1997,
          1998,
          1999,
          2000,
          2001,
          2002,
          2003,
          2004,
          2005,
          2006,
          2007,
          2008,
          2009,
          2010,
          2011,
          2012,
          2013,
          2014,
          2015,
          2016,
          2017,
          2018
         ],
         "xaxis": "x",
         "y": [
          53.7,
          53,
          56.7,
          59.6,
          62.3,
          65.7,
          68.7,
          71.5,
          75.8,
          82.2,
          85.4,
          84.5,
          82,
          85.7,
          90.6,
          96.1,
          101.1,
          105.8,
          107.2,
          98.4,
          100.1,
          102.3,
          101.2,
          102.2,
          104,
          107.9,
          114.4,
          123.4,
          129.2
         ],
         "yaxis": "y"
        },
        {
         "hovertemplate": "Sector=Waste<br>Year=%{x}<br>CO2-equivalent in million of tons=%{y}<extra></extra>",
         "legendgroup": "Waste",
         "line": {
          "color": "#112317",
          "dash": "solid"
         },
         "mode": "lines",
         "name": "Waste",
         "orientation": "v",
         "showlegend": true,
         "type": "scatter",
         "x": [
          1990,
          1991,
          1992,
          1993,
          1994,
          1995,
          1996,
          1997,
          1998,
          1999,
          2000,
          2001,
          2002,
          2003,
          2004,
          2005,
          2006,
          2007,
          2008,
          2009,
          2010,
          2011,
          2012,
          2013,
          2014,
          2015,
          2016,
          2017,
          2018
         ],
         "xaxis": "x",
         "y": [
          174,
          177,
          178.9,
          179.3,
          178.5,
          178.3,
          177.5,
          175.1,
          172.5,
          169.8,
          169,
          167.1,
          164.3,
          162.3,
          158,
          153.8,
          150.7,
          147.1,
          143.6,
          141.7,
          138.8,
          135.2,
          132.5,
          129.1,
          125.4,
          123.4,
          120.8,
          119.3,
          117.2
         ],
         "yaxis": "y"
        }
       ],
       "layout": {
        "autosize": false,
        "height": 600,
        "legend": {
         "title": {
          "text": "Sector"
         },
         "tracegroupgap": 0
        },
        "template": {
         "data": {
          "bar": [
           {
            "error_x": {
             "color": "#2a3f5f"
            },
            "error_y": {
             "color": "#2a3f5f"
            },
            "marker": {
             "line": {
              "color": "#E5ECF6",
              "width": 0.5
             }
            },
            "type": "bar"
           }
          ],
          "barpolar": [
           {
            "marker": {
             "line": {
              "color": "#E5ECF6",
              "width": 0.5
             }
            },
            "type": "barpolar"
           }
          ],
          "carpet": [
           {
            "aaxis": {
             "endlinecolor": "#2a3f5f",
             "gridcolor": "white",
             "linecolor": "white",
             "minorgridcolor": "white",
             "startlinecolor": "#2a3f5f"
            },
            "baxis": {
             "endlinecolor": "#2a3f5f",
             "gridcolor": "white",
             "linecolor": "white",
             "minorgridcolor": "white",
             "startlinecolor": "#2a3f5f"
            },
            "type": "carpet"
           }
          ],
          "choropleth": [
           {
            "colorbar": {
             "outlinewidth": 0,
             "ticks": ""
            },
            "type": "choropleth"
           }
          ],
          "contour": [
           {
            "colorbar": {
             "outlinewidth": 0,
             "ticks": ""
            },
            "colorscale": [
             [
              0,
              "#0d0887"
             ],
             [
              0.1111111111111111,
              "#46039f"
             ],
             [
              0.2222222222222222,
              "#7201a8"
             ],
             [
              0.3333333333333333,
              "#9c179e"
             ],
             [
              0.4444444444444444,
              "#bd3786"
             ],
             [
              0.5555555555555556,
              "#d8576b"
             ],
             [
              0.6666666666666666,
              "#ed7953"
             ],
             [
              0.7777777777777778,
              "#fb9f3a"
             ],
             [
              0.8888888888888888,
              "#fdca26"
             ],
             [
              1,
              "#f0f921"
             ]
            ],
            "type": "contour"
           }
          ],
          "contourcarpet": [
           {
            "colorbar": {
             "outlinewidth": 0,
             "ticks": ""
            },
            "type": "contourcarpet"
           }
          ],
          "heatmap": [
           {
            "colorbar": {
             "outlinewidth": 0,
             "ticks": ""
            },
            "colorscale": [
             [
              0,
              "#0d0887"
             ],
             [
              0.1111111111111111,
              "#46039f"
             ],
             [
              0.2222222222222222,
              "#7201a8"
             ],
             [
              0.3333333333333333,
              "#9c179e"
             ],
             [
              0.4444444444444444,
              "#bd3786"
             ],
             [
              0.5555555555555556,
              "#d8576b"
             ],
             [
              0.6666666666666666,
              "#ed7953"
             ],
             [
              0.7777777777777778,
              "#fb9f3a"
             ],
             [
              0.8888888888888888,
              "#fdca26"
             ],
             [
              1,
              "#f0f921"
             ]
            ],
            "type": "heatmap"
           }
          ],
          "heatmapgl": [
           {
            "colorbar": {
             "outlinewidth": 0,
             "ticks": ""
            },
            "colorscale": [
             [
              0,
              "#0d0887"
             ],
             [
              0.1111111111111111,
              "#46039f"
             ],
             [
              0.2222222222222222,
              "#7201a8"
             ],
             [
              0.3333333333333333,
              "#9c179e"
             ],
             [
              0.4444444444444444,
              "#bd3786"
             ],
             [
              0.5555555555555556,
              "#d8576b"
             ],
             [
              0.6666666666666666,
              "#ed7953"
             ],
             [
              0.7777777777777778,
              "#fb9f3a"
             ],
             [
              0.8888888888888888,
              "#fdca26"
             ],
             [
              1,
              "#f0f921"
             ]
            ],
            "type": "heatmapgl"
           }
          ],
          "histogram": [
           {
            "marker": {
             "colorbar": {
              "outlinewidth": 0,
              "ticks": ""
             }
            },
            "type": "histogram"
           }
          ],
          "histogram2d": [
           {
            "colorbar": {
             "outlinewidth": 0,
             "ticks": ""
            },
            "colorscale": [
             [
              0,
              "#0d0887"
             ],
             [
              0.1111111111111111,
              "#46039f"
             ],
             [
              0.2222222222222222,
              "#7201a8"
             ],
             [
              0.3333333333333333,
              "#9c179e"
             ],
             [
              0.4444444444444444,
              "#bd3786"
             ],
             [
              0.5555555555555556,
              "#d8576b"
             ],
             [
              0.6666666666666666,
              "#ed7953"
             ],
             [
              0.7777777777777778,
              "#fb9f3a"
             ],
             [
              0.8888888888888888,
              "#fdca26"
             ],
             [
              1,
              "#f0f921"
             ]
            ],
            "type": "histogram2d"
           }
          ],
          "histogram2dcontour": [
           {
            "colorbar": {
             "outlinewidth": 0,
             "ticks": ""
            },
            "colorscale": [
             [
              0,
              "#0d0887"
             ],
             [
              0.1111111111111111,
              "#46039f"
             ],
             [
              0.2222222222222222,
              "#7201a8"
             ],
             [
              0.3333333333333333,
              "#9c179e"
             ],
             [
              0.4444444444444444,
              "#bd3786"
             ],
             [
              0.5555555555555556,
              "#d8576b"
             ],
             [
              0.6666666666666666,
              "#ed7953"
             ],
             [
              0.7777777777777778,
              "#fb9f3a"
             ],
             [
              0.8888888888888888,
              "#fdca26"
             ],
             [
              1,
              "#f0f921"
             ]
            ],
            "type": "histogram2dcontour"
           }
          ],
          "mesh3d": [
           {
            "colorbar": {
             "outlinewidth": 0,
             "ticks": ""
            },
            "type": "mesh3d"
           }
          ],
          "parcoords": [
           {
            "line": {
             "colorbar": {
              "outlinewidth": 0,
              "ticks": ""
             }
            },
            "type": "parcoords"
           }
          ],
          "pie": [
           {
            "automargin": true,
            "type": "pie"
           }
          ],
          "scatter": [
           {
            "marker": {
             "colorbar": {
              "outlinewidth": 0,
              "ticks": ""
             }
            },
            "type": "scatter"
           }
          ],
          "scatter3d": [
           {
            "line": {
             "colorbar": {
              "outlinewidth": 0,
              "ticks": ""
             }
            },
            "marker": {
             "colorbar": {
              "outlinewidth": 0,
              "ticks": ""
             }
            },
            "type": "scatter3d"
           }
          ],
          "scattercarpet": [
           {
            "marker": {
             "colorbar": {
              "outlinewidth": 0,
              "ticks": ""
             }
            },
            "type": "scattercarpet"
           }
          ],
          "scattergeo": [
           {
            "marker": {
             "colorbar": {
              "outlinewidth": 0,
              "ticks": ""
             }
            },
            "type": "scattergeo"
           }
          ],
          "scattergl": [
           {
            "marker": {
             "colorbar": {
              "outlinewidth": 0,
              "ticks": ""
             }
            },
            "type": "scattergl"
           }
          ],
          "scattermapbox": [
           {
            "marker": {
             "colorbar": {
              "outlinewidth": 0,
              "ticks": ""
             }
            },
            "type": "scattermapbox"
           }
          ],
          "scatterpolar": [
           {
            "marker": {
             "colorbar": {
              "outlinewidth": 0,
              "ticks": ""
             }
            },
            "type": "scatterpolar"
           }
          ],
          "scatterpolargl": [
           {
            "marker": {
             "colorbar": {
              "outlinewidth": 0,
              "ticks": ""
             }
            },
            "type": "scatterpolargl"
           }
          ],
          "scatterternary": [
           {
            "marker": {
             "colorbar": {
              "outlinewidth": 0,
              "ticks": ""
             }
            },
            "type": "scatterternary"
           }
          ],
          "surface": [
           {
            "colorbar": {
             "outlinewidth": 0,
             "ticks": ""
            },
            "colorscale": [
             [
              0,
              "#0d0887"
             ],
             [
              0.1111111111111111,
              "#46039f"
             ],
             [
              0.2222222222222222,
              "#7201a8"
             ],
             [
              0.3333333333333333,
              "#9c179e"
             ],
             [
              0.4444444444444444,
              "#bd3786"
             ],
             [
              0.5555555555555556,
              "#d8576b"
             ],
             [
              0.6666666666666666,
              "#ed7953"
             ],
             [
              0.7777777777777778,
              "#fb9f3a"
             ],
             [
              0.8888888888888888,
              "#fdca26"
             ],
             [
              1,
              "#f0f921"
             ]
            ],
            "type": "surface"
           }
          ],
          "table": [
           {
            "cells": {
             "fill": {
              "color": "#EBF0F8"
             },
             "line": {
              "color": "white"
             }
            },
            "header": {
             "fill": {
              "color": "#C8D4E3"
             },
             "line": {
              "color": "white"
             }
            },
            "type": "table"
           }
          ]
         },
         "layout": {
          "annotationdefaults": {
           "arrowcolor": "#2a3f5f",
           "arrowhead": 0,
           "arrowwidth": 1
          },
          "autotypenumbers": "strict",
          "coloraxis": {
           "colorbar": {
            "outlinewidth": 0,
            "ticks": ""
           }
          },
          "colorscale": {
           "diverging": [
            [
             0,
             "#8e0152"
            ],
            [
             0.1,
             "#c51b7d"
            ],
            [
             0.2,
             "#de77ae"
            ],
            [
             0.3,
             "#f1b6da"
            ],
            [
             0.4,
             "#fde0ef"
            ],
            [
             0.5,
             "#f7f7f7"
            ],
            [
             0.6,
             "#e6f5d0"
            ],
            [
             0.7,
             "#b8e186"
            ],
            [
             0.8,
             "#7fbc41"
            ],
            [
             0.9,
             "#4d9221"
            ],
            [
             1,
             "#276419"
            ]
           ],
           "sequential": [
            [
             0,
             "#0d0887"
            ],
            [
             0.1111111111111111,
             "#46039f"
            ],
            [
             0.2222222222222222,
             "#7201a8"
            ],
            [
             0.3333333333333333,
             "#9c179e"
            ],
            [
             0.4444444444444444,
             "#bd3786"
            ],
            [
             0.5555555555555556,
             "#d8576b"
            ],
            [
             0.6666666666666666,
             "#ed7953"
            ],
            [
             0.7777777777777778,
             "#fb9f3a"
            ],
            [
             0.8888888888888888,
             "#fdca26"
            ],
            [
             1,
             "#f0f921"
            ]
           ],
           "sequentialminus": [
            [
             0,
             "#0d0887"
            ],
            [
             0.1111111111111111,
             "#46039f"
            ],
            [
             0.2222222222222222,
             "#7201a8"
            ],
            [
             0.3333333333333333,
             "#9c179e"
            ],
            [
             0.4444444444444444,
             "#bd3786"
            ],
            [
             0.5555555555555556,
             "#d8576b"
            ],
            [
             0.6666666666666666,
             "#ed7953"
            ],
            [
             0.7777777777777778,
             "#fb9f3a"
            ],
            [
             0.8888888888888888,
             "#fdca26"
            ],
            [
             1,
             "#f0f921"
            ]
           ]
          },
          "colorway": [
           "#636efa",
           "#EF553B",
           "#00cc96",
           "#ab63fa",
           "#FFA15A",
           "#19d3f3",
           "#FF6692",
           "#B6E880",
           "#FF97FF",
           "#FECB52"
          ],
          "font": {
           "color": "#2a3f5f"
          },
          "geo": {
           "bgcolor": "white",
           "lakecolor": "white",
           "landcolor": "#E5ECF6",
           "showlakes": true,
           "showland": true,
           "subunitcolor": "white"
          },
          "hoverlabel": {
           "align": "left"
          },
          "hovermode": "closest",
          "mapbox": {
           "style": "light"
          },
          "paper_bgcolor": "white",
          "plot_bgcolor": "#E5ECF6",
          "polar": {
           "angularaxis": {
            "gridcolor": "white",
            "linecolor": "white",
            "ticks": ""
           },
           "bgcolor": "#E5ECF6",
           "radialaxis": {
            "gridcolor": "white",
            "linecolor": "white",
            "ticks": ""
           }
          },
          "scene": {
           "xaxis": {
            "backgroundcolor": "#E5ECF6",
            "gridcolor": "white",
            "gridwidth": 2,
            "linecolor": "white",
            "showbackground": true,
            "ticks": "",
            "zerolinecolor": "white"
           },
           "yaxis": {
            "backgroundcolor": "#E5ECF6",
            "gridcolor": "white",
            "gridwidth": 2,
            "linecolor": "white",
            "showbackground": true,
            "ticks": "",
            "zerolinecolor": "white"
           },
           "zaxis": {
            "backgroundcolor": "#E5ECF6",
            "gridcolor": "white",
            "gridwidth": 2,
            "linecolor": "white",
            "showbackground": true,
            "ticks": "",
            "zerolinecolor": "white"
           }
          },
          "shapedefaults": {
           "line": {
            "color": "#2a3f5f"
           }
          },
          "ternary": {
           "aaxis": {
            "gridcolor": "white",
            "linecolor": "white",
            "ticks": ""
           },
           "baxis": {
            "gridcolor": "white",
            "linecolor": "white",
            "ticks": ""
           },
           "bgcolor": "#E5ECF6",
           "caxis": {
            "gridcolor": "white",
            "linecolor": "white",
            "ticks": ""
           }
          },
          "title": {
           "x": 0.05
          },
          "xaxis": {
           "automargin": true,
           "gridcolor": "white",
           "linecolor": "white",
           "ticks": "",
           "title": {
            "standoff": 15
           },
           "zerolinecolor": "white",
           "zerolinewidth": 2
          },
          "yaxis": {
           "automargin": true,
           "gridcolor": "white",
           "linecolor": "white",
           "ticks": "",
           "title": {
            "standoff": 15
           },
           "zerolinecolor": "white",
           "zerolinewidth": 2
          }
         }
        },
        "title": {
         "text": "Annual greenhouse gas emissions in the European Union from 1990 to 2018"
        },
        "width": 800,
        "xaxis": {
         "anchor": "y",
         "domain": [
          0,
          1
         ],
         "title": {
          "text": "Year"
         }
        },
        "yaxis": {
         "anchor": "x",
         "domain": [
          0,
          1
         ],
         "title": {
          "text": "CO2-equivalent in million of tons"
         }
        }
       }
      },
      "text/html": [
       "<div>                            <div id=\"0540942c-6c71-46d1-bdc7-a2fc24705b7f\" class=\"plotly-graph-div\" style=\"height:600px; width:800px;\"></div>            <script type=\"text/javascript\">                require([\"plotly\"], function(Plotly) {                    window.PLOTLYENV=window.PLOTLYENV || {};                                    if (document.getElementById(\"0540942c-6c71-46d1-bdc7-a2fc24705b7f\")) {                    Plotly.newPlot(                        \"0540942c-6c71-46d1-bdc7-a2fc24705b7f\",                        [{\"hovertemplate\": \"Sector=Energy supply<br>Year=%{x}<br>CO2-equivalent in million of tons=%{y}<extra></extra>\", \"legendgroup\": \"Energy supply\", \"line\": {\"color\": \"#0d0887\", \"dash\": \"solid\"}, \"mode\": \"lines\", \"name\": \"Energy supply\", \"orientation\": \"v\", \"showlegend\": true, \"type\": \"scatter\", \"x\": [1990, 1991, 1992, 1993, 1994, 1995, 1996, 1997, 1998, 1999, 2000, 2001, 2002, 2003, 2004, 2005, 2006, 2007, 2008, 2009, 2010, 2011, 2012, 2013, 2014, 2015, 2016, 2017, 2018], \"xaxis\": \"x\", \"y\": [1590.9, 1545.6, 1495.0, 1442.6, 1446.6, 1448.9, 1473.0, 1445.1, 1439.9, 1400.7, 1413.9, 1436.9, 1459.6, 1506.8, 1503.3, 1482.4, 1487.0, 1498.7, 1428.8, 1320.7, 1340.3, 1328.4, 1309.1, 1245.5, 1183.3, 1188.8, 1161.7, 1154.2, 1087.8], \"yaxis\": \"y\"}, {\"hovertemplate\": \"Sector=Transport<br>Year=%{x}<br>CO2-equivalent in million of tons=%{y}<extra></extra>\", \"legendgroup\": \"Transport\", \"line\": {\"color\": \"#FF4933\", \"dash\": \"solid\"}, \"mode\": \"lines\", \"name\": \"Transport\", \"orientation\": \"v\", \"showlegend\": true, \"type\": \"scatter\", \"x\": [1990, 1991, 1992, 1993, 1994, 1995, 1996, 1997, 1998, 1999, 2000, 2001, 2002, 2003, 2004, 2005, 2006, 2007, 2008, 2009, 2010, 2011, 2012, 2013, 2014, 2015, 2016, 2017, 2018], \"xaxis\": \"x\", \"y\": [672.7, 680.9, 703.0, 706.3, 711.5, 724.3, 746.4, 756.2, 785.5, 802.3, 798.6, 812.4, 821.2, 830.5, 848.9, 847.4, 855.5, 863.9, 844.7, 821.8, 818.1, 808.1, 778.3, 773.2, 779.2, 793.5, 811.8, 825.6, 828.0], \"yaxis\": \"y\"}, {\"hovertemplate\": \"Sector=Industry<br>Year=%{x}<br>CO2-equivalent in million of tons=%{y}<extra></extra>\", \"legendgroup\": \"Industry\", \"line\": {\"color\": \"#38A457\", \"dash\": \"solid\"}, \"mode\": \"lines\", \"name\": \"Industry\", \"orientation\": \"v\", \"showlegend\": true, \"type\": \"scatter\", \"x\": [1990, 1991, 1992, 1993, 1994, 1995, 1996, 1997, 1998, 1999, 2000, 2001, 2002, 2003, 2004, 2005, 2006, 2007, 2008, 2009, 2010, 2011, 2012, 2013, 2014, 2015, 2016, 2017, 2018], \"xaxis\": \"x\", \"y\": [1184.9, 1110.3, 1064.3, 1033.0, 1057.7, 1091.1, 1082.6, 1078.3, 1036.1, 997.4, 1009.7, 980.2, 970.2, 988.1, 986.3, 989.6, 980.0, 996.4, 951.6, 788.5, 836.7, 822.5, 791.4, 772.7, 767.2, 773.7, 775.3, 795.2, 793.1], \"yaxis\": \"y\"}, {\"hovertemplate\": \"Sector=Agriculture<br>Year=%{x}<br>CO2-equivalent in million of tons=%{y}<extra></extra>\", \"legendgroup\": \"Agriculture\", \"line\": {\"color\": \"#2EE6D0\", \"dash\": \"solid\"}, \"mode\": \"lines\", \"name\": \"Agriculture\", \"orientation\": \"v\", \"showlegend\": true, \"type\": \"scatter\", \"x\": [1990, 1991, 1992, 1993, 1994, 1995, 1996, 1997, 1998, 1999, 2000, 2001, 2002, 2003, 2004, 2005, 2006, 2007, 2008, 2009, 2010, 2011, 2012, 2013, 2014, 2015, 2016, 2017, 2018], \"xaxis\": \"x\", \"y\": [588.5, 557.0, 531.7, 523.6, 516.0, 516.6, 520.5, 515.4, 510.3, 508.3, 503.4, 500.2, 490.7, 486.4, 488.2, 482.0, 475.9, 476.4, 475.5, 467.7, 465.0, 463.8, 460.2, 463.9, 468.9, 470.5, 471.4, 475.7, 470.9], \"yaxis\": \"y\"}, {\"hovertemplate\": \"Sector=Residential/commercial<br>Year=%{x}<br>CO2-equivalent in million of tons=%{y}<extra></extra>\", \"legendgroup\": \"Residential/commercial\", \"line\": {\"color\": \"#bd3786\", \"dash\": \"solid\"}, \"mode\": \"lines\", \"name\": \"Residential/commercial\", \"orientation\": \"v\", \"showlegend\": true, \"type\": \"scatter\", \"x\": [1990, 1991, 1992, 1993, 1994, 1995, 1996, 1997, 1998, 1999, 2000, 2001, 2002, 2003, 2004, 2005, 2006, 2007, 2008, 2009, 2010, 2011, 2012, 2013, 2014, 2015, 2016, 2017, 2018], \"xaxis\": \"x\", \"y\": [624.2, 663.4, 612.1, 621.9, 579.6, 588.1, 639.3, 600.4, 587.4, 575.7, 553.7, 598.4, 576.2, 589.2, 583.6, 584.9, 586.4, 516.5, 559.4, 549.2, 581.3, 509.6, 518.3, 521.4, 445.8, 472.1, 479.7, 476.4, 460.5], \"yaxis\": \"y\"}, {\"hovertemplate\": \"Sector=International shipping<br>Year=%{x}<br>CO2-equivalent in million of tons=%{y}<extra></extra>\", \"legendgroup\": \"International shipping\", \"line\": {\"color\": \"#ed7953\", \"dash\": \"solid\"}, \"mode\": \"lines\", \"name\": \"International shipping\", \"orientation\": \"v\", \"showlegend\": true, \"type\": \"scatter\", \"x\": [1990, 1991, 1992, 1993, 1994, 1995, 1996, 1997, 1998, 1999, 2000, 2001, 2002, 2003, 2004, 2005, 2006, 2007, 2008, 2009, 2010, 2011, 2012, 2013, 2014, 2015, 2016, 2017, 2018], \"xaxis\": \"x\", \"y\": [101.9, 100.2, 101.6, 102.5, 102.9, 102.6, 109.5, 118.7, 123.7, 120.6, 128.0, 132.6, 138.6, 141.1, 149.4, 153.4, 164.1, 171.5, 169.5, 150.8, 149.9, 150.4, 139.1, 130.9, 127.4, 127.1, 133.2, 135.6, 138.4], \"yaxis\": \"y\"}, {\"hovertemplate\": \"Sector=International aviation<br>Year=%{x}<br>CO2-equivalent in million of tons=%{y}<extra></extra>\", \"legendgroup\": \"International aviation\", \"line\": {\"color\": \"#fdca26\", \"dash\": \"solid\"}, \"mode\": \"lines\", \"name\": \"International aviation\", \"orientation\": \"v\", \"showlegend\": true, \"type\": \"scatter\", \"x\": [1990, 1991, 1992, 1993, 1994, 1995, 1996, 1997, 1998, 1999, 2000, 2001, 2002, 2003, 2004, 2005, 2006, 2007, 2008, 2009, 2010, 2011, 2012, 2013, 2014, 2015, 2016, 2017, 2018], \"xaxis\": \"x\", \"y\": [53.7, 53.0, 56.7, 59.6, 62.3, 65.7, 68.7, 71.5, 75.8, 82.2, 85.4, 84.5, 82.0, 85.7, 90.6, 96.1, 101.1, 105.8, 107.2, 98.4, 100.1, 102.3, 101.2, 102.2, 104.0, 107.9, 114.4, 123.4, 129.2], \"yaxis\": \"y\"}, {\"hovertemplate\": \"Sector=Waste<br>Year=%{x}<br>CO2-equivalent in million of tons=%{y}<extra></extra>\", \"legendgroup\": \"Waste\", \"line\": {\"color\": \"#112317\", \"dash\": \"solid\"}, \"mode\": \"lines\", \"name\": \"Waste\", \"orientation\": \"v\", \"showlegend\": true, \"type\": \"scatter\", \"x\": [1990, 1991, 1992, 1993, 1994, 1995, 1996, 1997, 1998, 1999, 2000, 2001, 2002, 2003, 2004, 2005, 2006, 2007, 2008, 2009, 2010, 2011, 2012, 2013, 2014, 2015, 2016, 2017, 2018], \"xaxis\": \"x\", \"y\": [174.0, 177.0, 178.9, 179.3, 178.5, 178.3, 177.5, 175.1, 172.5, 169.8, 169.0, 167.1, 164.3, 162.3, 158.0, 153.8, 150.7, 147.1, 143.6, 141.7, 138.8, 135.2, 132.5, 129.1, 125.4, 123.4, 120.8, 119.3, 117.2], \"yaxis\": \"y\"}],                        {\"autosize\": false, \"height\": 600, \"legend\": {\"title\": {\"text\": \"Sector\"}, \"tracegroupgap\": 0}, \"template\": {\"data\": {\"bar\": [{\"error_x\": {\"color\": \"#2a3f5f\"}, \"error_y\": {\"color\": \"#2a3f5f\"}, \"marker\": {\"line\": {\"color\": \"#E5ECF6\", \"width\": 0.5}}, \"type\": \"bar\"}], \"barpolar\": [{\"marker\": {\"line\": {\"color\": \"#E5ECF6\", \"width\": 0.5}}, \"type\": \"barpolar\"}], \"carpet\": [{\"aaxis\": {\"endlinecolor\": \"#2a3f5f\", \"gridcolor\": \"white\", \"linecolor\": \"white\", \"minorgridcolor\": \"white\", \"startlinecolor\": \"#2a3f5f\"}, \"baxis\": {\"endlinecolor\": \"#2a3f5f\", \"gridcolor\": \"white\", \"linecolor\": \"white\", \"minorgridcolor\": \"white\", \"startlinecolor\": \"#2a3f5f\"}, \"type\": \"carpet\"}], \"choropleth\": [{\"colorbar\": {\"outlinewidth\": 0, \"ticks\": \"\"}, \"type\": \"choropleth\"}], \"contour\": [{\"colorbar\": {\"outlinewidth\": 0, \"ticks\": \"\"}, \"colorscale\": [[0.0, \"#0d0887\"], [0.1111111111111111, \"#46039f\"], [0.2222222222222222, \"#7201a8\"], [0.3333333333333333, \"#9c179e\"], [0.4444444444444444, \"#bd3786\"], [0.5555555555555556, \"#d8576b\"], [0.6666666666666666, \"#ed7953\"], [0.7777777777777778, \"#fb9f3a\"], [0.8888888888888888, \"#fdca26\"], [1.0, \"#f0f921\"]], \"type\": \"contour\"}], \"contourcarpet\": [{\"colorbar\": {\"outlinewidth\": 0, \"ticks\": \"\"}, \"type\": \"contourcarpet\"}], \"heatmap\": [{\"colorbar\": {\"outlinewidth\": 0, \"ticks\": \"\"}, \"colorscale\": [[0.0, \"#0d0887\"], [0.1111111111111111, \"#46039f\"], [0.2222222222222222, \"#7201a8\"], [0.3333333333333333, \"#9c179e\"], [0.4444444444444444, \"#bd3786\"], [0.5555555555555556, \"#d8576b\"], [0.6666666666666666, \"#ed7953\"], [0.7777777777777778, \"#fb9f3a\"], [0.8888888888888888, \"#fdca26\"], [1.0, \"#f0f921\"]], \"type\": \"heatmap\"}], \"heatmapgl\": [{\"colorbar\": {\"outlinewidth\": 0, \"ticks\": \"\"}, \"colorscale\": [[0.0, \"#0d0887\"], [0.1111111111111111, \"#46039f\"], [0.2222222222222222, \"#7201a8\"], [0.3333333333333333, \"#9c179e\"], [0.4444444444444444, \"#bd3786\"], [0.5555555555555556, \"#d8576b\"], [0.6666666666666666, \"#ed7953\"], [0.7777777777777778, \"#fb9f3a\"], [0.8888888888888888, \"#fdca26\"], [1.0, \"#f0f921\"]], \"type\": \"heatmapgl\"}], \"histogram\": [{\"marker\": {\"colorbar\": {\"outlinewidth\": 0, \"ticks\": \"\"}}, \"type\": \"histogram\"}], \"histogram2d\": [{\"colorbar\": {\"outlinewidth\": 0, \"ticks\": \"\"}, \"colorscale\": [[0.0, \"#0d0887\"], [0.1111111111111111, \"#46039f\"], [0.2222222222222222, \"#7201a8\"], [0.3333333333333333, \"#9c179e\"], [0.4444444444444444, \"#bd3786\"], [0.5555555555555556, \"#d8576b\"], [0.6666666666666666, \"#ed7953\"], [0.7777777777777778, \"#fb9f3a\"], [0.8888888888888888, \"#fdca26\"], [1.0, \"#f0f921\"]], \"type\": \"histogram2d\"}], \"histogram2dcontour\": [{\"colorbar\": {\"outlinewidth\": 0, \"ticks\": \"\"}, \"colorscale\": [[0.0, \"#0d0887\"], [0.1111111111111111, \"#46039f\"], [0.2222222222222222, \"#7201a8\"], [0.3333333333333333, \"#9c179e\"], [0.4444444444444444, \"#bd3786\"], [0.5555555555555556, \"#d8576b\"], [0.6666666666666666, \"#ed7953\"], [0.7777777777777778, \"#fb9f3a\"], [0.8888888888888888, \"#fdca26\"], [1.0, \"#f0f921\"]], \"type\": \"histogram2dcontour\"}], \"mesh3d\": [{\"colorbar\": {\"outlinewidth\": 0, \"ticks\": \"\"}, \"type\": \"mesh3d\"}], \"parcoords\": [{\"line\": {\"colorbar\": {\"outlinewidth\": 0, \"ticks\": \"\"}}, \"type\": \"parcoords\"}], \"pie\": [{\"automargin\": true, \"type\": \"pie\"}], \"scatter\": [{\"marker\": {\"colorbar\": {\"outlinewidth\": 0, \"ticks\": \"\"}}, \"type\": \"scatter\"}], \"scatter3d\": [{\"line\": {\"colorbar\": {\"outlinewidth\": 0, \"ticks\": \"\"}}, \"marker\": {\"colorbar\": {\"outlinewidth\": 0, \"ticks\": \"\"}}, \"type\": \"scatter3d\"}], \"scattercarpet\": [{\"marker\": {\"colorbar\": {\"outlinewidth\": 0, \"ticks\": \"\"}}, \"type\": \"scattercarpet\"}], \"scattergeo\": [{\"marker\": {\"colorbar\": {\"outlinewidth\": 0, \"ticks\": \"\"}}, \"type\": \"scattergeo\"}], \"scattergl\": [{\"marker\": {\"colorbar\": {\"outlinewidth\": 0, \"ticks\": \"\"}}, \"type\": \"scattergl\"}], \"scattermapbox\": [{\"marker\": {\"colorbar\": {\"outlinewidth\": 0, \"ticks\": \"\"}}, \"type\": \"scattermapbox\"}], \"scatterpolar\": [{\"marker\": {\"colorbar\": {\"outlinewidth\": 0, \"ticks\": \"\"}}, \"type\": \"scatterpolar\"}], \"scatterpolargl\": [{\"marker\": {\"colorbar\": {\"outlinewidth\": 0, \"ticks\": \"\"}}, \"type\": \"scatterpolargl\"}], \"scatterternary\": [{\"marker\": {\"colorbar\": {\"outlinewidth\": 0, \"ticks\": \"\"}}, \"type\": \"scatterternary\"}], \"surface\": [{\"colorbar\": {\"outlinewidth\": 0, \"ticks\": \"\"}, \"colorscale\": [[0.0, \"#0d0887\"], [0.1111111111111111, \"#46039f\"], [0.2222222222222222, \"#7201a8\"], [0.3333333333333333, \"#9c179e\"], [0.4444444444444444, \"#bd3786\"], [0.5555555555555556, \"#d8576b\"], [0.6666666666666666, \"#ed7953\"], [0.7777777777777778, \"#fb9f3a\"], [0.8888888888888888, \"#fdca26\"], [1.0, \"#f0f921\"]], \"type\": \"surface\"}], \"table\": [{\"cells\": {\"fill\": {\"color\": \"#EBF0F8\"}, \"line\": {\"color\": \"white\"}}, \"header\": {\"fill\": {\"color\": \"#C8D4E3\"}, \"line\": {\"color\": \"white\"}}, \"type\": \"table\"}]}, \"layout\": {\"annotationdefaults\": {\"arrowcolor\": \"#2a3f5f\", \"arrowhead\": 0, \"arrowwidth\": 1}, \"autotypenumbers\": \"strict\", \"coloraxis\": {\"colorbar\": {\"outlinewidth\": 0, \"ticks\": \"\"}}, \"colorscale\": {\"diverging\": [[0, \"#8e0152\"], [0.1, \"#c51b7d\"], [0.2, \"#de77ae\"], [0.3, \"#f1b6da\"], [0.4, \"#fde0ef\"], [0.5, \"#f7f7f7\"], [0.6, \"#e6f5d0\"], [0.7, \"#b8e186\"], [0.8, \"#7fbc41\"], [0.9, \"#4d9221\"], [1, \"#276419\"]], \"sequential\": [[0.0, \"#0d0887\"], [0.1111111111111111, \"#46039f\"], [0.2222222222222222, \"#7201a8\"], [0.3333333333333333, \"#9c179e\"], [0.4444444444444444, \"#bd3786\"], [0.5555555555555556, \"#d8576b\"], [0.6666666666666666, \"#ed7953\"], [0.7777777777777778, \"#fb9f3a\"], [0.8888888888888888, \"#fdca26\"], [1.0, \"#f0f921\"]], \"sequentialminus\": [[0.0, \"#0d0887\"], [0.1111111111111111, \"#46039f\"], [0.2222222222222222, \"#7201a8\"], [0.3333333333333333, \"#9c179e\"], [0.4444444444444444, \"#bd3786\"], [0.5555555555555556, \"#d8576b\"], [0.6666666666666666, \"#ed7953\"], [0.7777777777777778, \"#fb9f3a\"], [0.8888888888888888, \"#fdca26\"], [1.0, \"#f0f921\"]]}, \"colorway\": [\"#636efa\", \"#EF553B\", \"#00cc96\", \"#ab63fa\", \"#FFA15A\", \"#19d3f3\", \"#FF6692\", \"#B6E880\", \"#FF97FF\", \"#FECB52\"], \"font\": {\"color\": \"#2a3f5f\"}, \"geo\": {\"bgcolor\": \"white\", \"lakecolor\": \"white\", \"landcolor\": \"#E5ECF6\", \"showlakes\": true, \"showland\": true, \"subunitcolor\": \"white\"}, \"hoverlabel\": {\"align\": \"left\"}, \"hovermode\": \"closest\", \"mapbox\": {\"style\": \"light\"}, \"paper_bgcolor\": \"white\", \"plot_bgcolor\": \"#E5ECF6\", \"polar\": {\"angularaxis\": {\"gridcolor\": \"white\", \"linecolor\": \"white\", \"ticks\": \"\"}, \"bgcolor\": \"#E5ECF6\", \"radialaxis\": {\"gridcolor\": \"white\", \"linecolor\": \"white\", \"ticks\": \"\"}}, \"scene\": {\"xaxis\": {\"backgroundcolor\": \"#E5ECF6\", \"gridcolor\": \"white\", \"gridwidth\": 2, \"linecolor\": \"white\", \"showbackground\": true, \"ticks\": \"\", \"zerolinecolor\": \"white\"}, \"yaxis\": {\"backgroundcolor\": \"#E5ECF6\", \"gridcolor\": \"white\", \"gridwidth\": 2, \"linecolor\": \"white\", \"showbackground\": true, \"ticks\": \"\", \"zerolinecolor\": \"white\"}, \"zaxis\": {\"backgroundcolor\": \"#E5ECF6\", \"gridcolor\": \"white\", \"gridwidth\": 2, \"linecolor\": \"white\", \"showbackground\": true, \"ticks\": \"\", \"zerolinecolor\": \"white\"}}, \"shapedefaults\": {\"line\": {\"color\": \"#2a3f5f\"}}, \"ternary\": {\"aaxis\": {\"gridcolor\": \"white\", \"linecolor\": \"white\", \"ticks\": \"\"}, \"baxis\": {\"gridcolor\": \"white\", \"linecolor\": \"white\", \"ticks\": \"\"}, \"bgcolor\": \"#E5ECF6\", \"caxis\": {\"gridcolor\": \"white\", \"linecolor\": \"white\", \"ticks\": \"\"}}, \"title\": {\"x\": 0.05}, \"xaxis\": {\"automargin\": true, \"gridcolor\": \"white\", \"linecolor\": \"white\", \"ticks\": \"\", \"title\": {\"standoff\": 15}, \"zerolinecolor\": \"white\", \"zerolinewidth\": 2}, \"yaxis\": {\"automargin\": true, \"gridcolor\": \"white\", \"linecolor\": \"white\", \"ticks\": \"\", \"title\": {\"standoff\": 15}, \"zerolinecolor\": \"white\", \"zerolinewidth\": 2}}}, \"title\": {\"text\": \"Annual greenhouse gas emissions in the European Union from 1990 to 2018\"}, \"width\": 800, \"xaxis\": {\"anchor\": \"y\", \"domain\": [0.0, 1.0], \"title\": {\"text\": \"Year\"}}, \"yaxis\": {\"anchor\": \"x\", \"domain\": [0.0, 1.0], \"title\": {\"text\": \"CO2-equivalent in million of tons\"}}},                        {\"responsive\": true}                    ).then(function(){\n",
       "                            \n",
       "var gd = document.getElementById('0540942c-6c71-46d1-bdc7-a2fc24705b7f');\n",
       "var x = new MutationObserver(function (mutations, observer) {{\n",
       "        var display = window.getComputedStyle(gd).display;\n",
       "        if (!display || display === 'none') {{\n",
       "            console.log([gd, 'removed!']);\n",
       "            Plotly.purge(gd);\n",
       "            observer.disconnect();\n",
       "        }}\n",
       "}});\n",
       "\n",
       "// Listen for the removal of the full notebook cells\n",
       "var notebookContainer = gd.closest('#notebook-container');\n",
       "if (notebookContainer) {{\n",
       "    x.observe(notebookContainer, {childList: true});\n",
       "}}\n",
       "\n",
       "// Listen for the clearing of the current output cell\n",
       "var outputEl = gd.closest('.output');\n",
       "if (outputEl) {{\n",
       "    x.observe(outputEl, {childList: true});\n",
       "}}\n",
       "\n",
       "                        })                };                });            </script>        </div>"
      ]
     },
     "metadata": {},
     "output_type": "display_data"
    }
   ],
   "source": [
    "fig = px.line(data, x = \"year\", y = \"emission\", color = \"sector\", line_group = \"sector\",\n",
    "              labels={\"year\": \"Year\", \"emission\": \"CO2-equivalent in million of tons\", \"sector\": \"Sector\"},\n",
    "              title=\"Annual greenhouse gas emissions in the European Union from 1990 to 2018\", color_discrete_map={\n",
    "                \"Energy supply\": '#0d0887',\n",
    "                \"Transport\": '#FF4933',\n",
    "                \"Industry\": '#38A457',\n",
    "                \"Agriculture\": '#2EE6D0',\n",
    "                \"Residential/commercial\": '#bd3786',\n",
    "                \"International shipping\": '#ed7953',\n",
    "                \"International aviation\": '#fdca26',\n",
    "                \"Waste\": '#112317'})\n",
    "\n",
    "fig.update_layout(\n",
    "    autosize=False,\n",
    "    width=800,\n",
    "    height=600)\n",
    "fig.show()\n",
    "\n",
    "    "
   ]
  },
  {
   "cell_type": "markdown",
   "metadata": {},
   "source": [
    "### 3. ECB CSPP Total Holdings"
   ]
  },
  {
   "cell_type": "markdown",
   "metadata": {},
   "source": [
    "Load data from AWS:"
   ]
  },
  {
   "cell_type": "code",
   "execution_count": 13,
   "metadata": {},
   "outputs": [
    {
     "data": {
      "text/html": [
       "<div>\n",
       "<style scoped>\n",
       "    .dataframe tbody tr th:only-of-type {\n",
       "        vertical-align: middle;\n",
       "    }\n",
       "\n",
       "    .dataframe tbody tr th {\n",
       "        vertical-align: top;\n",
       "    }\n",
       "\n",
       "    .dataframe thead th {\n",
       "        text-align: right;\n",
       "    }\n",
       "</style>\n",
       "<table border=\"1\" class=\"dataframe\">\n",
       "  <thead>\n",
       "    <tr style=\"text-align: right;\">\n",
       "      <th></th>\n",
       "      <th>End of Month</th>\n",
       "      <th>Primary market holdings</th>\n",
       "      <th>Share PM</th>\n",
       "      <th>Secondary market holdings</th>\n",
       "      <th>Share SM</th>\n",
       "      <th>Total holdings</th>\n",
       "      <th>Total Holdings in Billions</th>\n",
       "    </tr>\n",
       "  </thead>\n",
       "  <tbody>\n",
       "    <tr>\n",
       "      <th>0</th>\n",
       "      <td>2016-06-01</td>\n",
       "      <td>241</td>\n",
       "      <td>3.76%</td>\n",
       "      <td>6158</td>\n",
       "      <td>96.24%</td>\n",
       "      <td>6398</td>\n",
       "      <td>6.398</td>\n",
       "    </tr>\n",
       "    <tr>\n",
       "      <th>1</th>\n",
       "      <td>2016-07-01</td>\n",
       "      <td>775</td>\n",
       "      <td>5.86%</td>\n",
       "      <td>12439</td>\n",
       "      <td>94.14%</td>\n",
       "      <td>13214</td>\n",
       "      <td>13.214</td>\n",
       "    </tr>\n",
       "    <tr>\n",
       "      <th>2</th>\n",
       "      <td>2016-08-01</td>\n",
       "      <td>1299</td>\n",
       "      <td>6.52%</td>\n",
       "      <td>18622</td>\n",
       "      <td>93.48%</td>\n",
       "      <td>19921</td>\n",
       "      <td>19.921</td>\n",
       "    </tr>\n",
       "    <tr>\n",
       "      <th>3</th>\n",
       "      <td>2016-09-01</td>\n",
       "      <td>3243</td>\n",
       "      <td>10.91%</td>\n",
       "      <td>26479</td>\n",
       "      <td>89.09%</td>\n",
       "      <td>29722</td>\n",
       "      <td>29.722</td>\n",
       "    </tr>\n",
       "    <tr>\n",
       "      <th>4</th>\n",
       "      <td>2016-10-01</td>\n",
       "      <td>4222</td>\n",
       "      <td>11.07%</td>\n",
       "      <td>33922</td>\n",
       "      <td>88.93%</td>\n",
       "      <td>38144</td>\n",
       "      <td>38.144</td>\n",
       "    </tr>\n",
       "  </tbody>\n",
       "</table>\n",
       "</div>"
      ],
      "text/plain": [
       "  End of Month  Primary market holdings Share PM  Secondary market holdings  \\\n",
       "0   2016-06-01                      241    3.76%                       6158   \n",
       "1   2016-07-01                      775    5.86%                      12439   \n",
       "2   2016-08-01                     1299    6.52%                      18622   \n",
       "3   2016-09-01                     3243   10.91%                      26479   \n",
       "4   2016-10-01                     4222   11.07%                      33922   \n",
       "\n",
       "  Share SM  Total holdings  Total Holdings in Billions  \n",
       "0   96.24%            6398                       6.398  \n",
       "1   94.14%           13214                      13.214  \n",
       "2   93.48%           19921                      19.921  \n",
       "3   89.09%           29722                      29.722  \n",
       "4   88.93%           38144                      38.144  "
      ]
     },
     "execution_count": 13,
     "metadata": {},
     "output_type": "execute_result"
    }
   ],
   "source": [
    "# Read data from AWS S3 (public access)\n",
    "data_CSPP = pd.read_csv(\"https://s3groupmorocco.s3.eu-central-1.amazonaws.com/data/CSPP_breakdown_history.csv\",thousands=',')\n",
    "data_CSPP['Total Holdings in Billions']=data_CSPP['Total holdings']/1000\n",
    "data_CSPP['End of Month']= pd.to_datetime(data_CSPP['End of Month'], format='%b %y')\n",
    "data_CSPP.head() "
   ]
  },
  {
   "cell_type": "code",
   "execution_count": 14,
   "metadata": {},
   "outputs": [
    {
     "data": {
      "application/vnd.plotly.v1+json": {
       "config": {
        "plotlyServerURL": "https://plot.ly"
       },
       "data": [
        {
         "hovertemplate": "Year=%{x}<br>Asset Holings in Billion of Euros=%{y}<extra></extra>",
         "legendgroup": "",
         "line": {
          "color": "#636efa",
          "dash": "solid"
         },
         "mode": "lines",
         "name": "",
         "orientation": "v",
         "showlegend": false,
         "type": "scatter",
         "x": [
          "2016-06-01T00:00:00",
          "2016-07-01T00:00:00",
          "2016-08-01T00:00:00",
          "2016-09-01T00:00:00",
          "2016-10-01T00:00:00",
          "2016-11-01T00:00:00",
          "2016-12-01T00:00:00",
          "2017-01-01T00:00:00",
          "2017-02-01T00:00:00",
          "2017-03-01T00:00:00",
          "2017-04-01T00:00:00",
          "2017-05-01T00:00:00",
          "2017-06-01T00:00:00",
          "2017-07-01T00:00:00",
          "2017-08-01T00:00:00",
          "2017-09-01T00:00:00",
          "2017-10-01T00:00:00",
          "2017-11-01T00:00:00",
          "2017-12-01T00:00:00",
          "2018-01-01T00:00:00",
          "2018-02-01T00:00:00",
          "2018-03-01T00:00:00",
          "2018-04-01T00:00:00",
          "2018-05-01T00:00:00",
          "2018-06-01T00:00:00",
          "2018-07-01T00:00:00",
          "2018-08-01T00:00:00",
          "2018-09-01T00:00:00",
          "2018-10-01T00:00:00",
          "2018-11-01T00:00:00",
          "2018-12-01T00:00:00",
          "2019-01-01T00:00:00",
          "2019-02-01T00:00:00",
          "2019-03-01T00:00:00",
          "2019-04-01T00:00:00",
          "2019-05-01T00:00:00",
          "2019-06-01T00:00:00",
          "2019-07-01T00:00:00",
          "2019-08-01T00:00:00",
          "2019-09-01T00:00:00",
          "2019-10-01T00:00:00",
          "2019-11-01T00:00:00",
          "2019-12-01T00:00:00",
          "2020-01-01T00:00:00",
          "2020-02-01T00:00:00",
          "2020-03-01T00:00:00",
          "2020-04-01T00:00:00",
          "2020-05-01T00:00:00",
          "2020-06-01T00:00:00",
          "2020-07-01T00:00:00",
          "2020-08-01T00:00:00",
          "2020-09-01T00:00:00",
          "2020-10-01T00:00:00",
          "2020-11-01T00:00:00",
          "2020-12-01T00:00:00",
          "2021-01-01T00:00:00",
          "2021-02-01T00:00:00",
          "2021-03-01T00:00:00"
         ],
         "xaxis": "x",
         "y": [
          6.398,
          13.214,
          19.921,
          29.722,
          38.144,
          47.18,
          51.069,
          59.489,
          67.337,
          75.455,
          82.262,
          89.83,
          96.62,
          102.226,
          106.898,
          114.658,
          121.607,
          128.81,
          131.593,
          137.232,
          142.68,
          148.702,
          151.851,
          156.823,
          162.015,
          165.033,
          166.537,
          170.378,
          173.883,
          176.878,
          178.05,
          177.812,
          178.188,
          177.7,
          177.67,
          177.706,
          177.655,
          177.102,
          177.409,
          176.937,
          177.096,
          183.014,
          184.505,
          189.117,
          194.854,
          201.507,
          207.067,
          212.505,
          219.719,
          224.22,
          228.224,
          236.349,
          243.331,
          248.34,
          250.403,
          255.327,
          259.391,
          266.06
         ],
         "yaxis": "y"
        }
       ],
       "layout": {
        "autosize": false,
        "height": 600,
        "legend": {
         "tracegroupgap": 0
        },
        "template": {
         "data": {
          "bar": [
           {
            "error_x": {
             "color": "#2a3f5f"
            },
            "error_y": {
             "color": "#2a3f5f"
            },
            "marker": {
             "line": {
              "color": "#E5ECF6",
              "width": 0.5
             }
            },
            "type": "bar"
           }
          ],
          "barpolar": [
           {
            "marker": {
             "line": {
              "color": "#E5ECF6",
              "width": 0.5
             }
            },
            "type": "barpolar"
           }
          ],
          "carpet": [
           {
            "aaxis": {
             "endlinecolor": "#2a3f5f",
             "gridcolor": "white",
             "linecolor": "white",
             "minorgridcolor": "white",
             "startlinecolor": "#2a3f5f"
            },
            "baxis": {
             "endlinecolor": "#2a3f5f",
             "gridcolor": "white",
             "linecolor": "white",
             "minorgridcolor": "white",
             "startlinecolor": "#2a3f5f"
            },
            "type": "carpet"
           }
          ],
          "choropleth": [
           {
            "colorbar": {
             "outlinewidth": 0,
             "ticks": ""
            },
            "type": "choropleth"
           }
          ],
          "contour": [
           {
            "colorbar": {
             "outlinewidth": 0,
             "ticks": ""
            },
            "colorscale": [
             [
              0,
              "#0d0887"
             ],
             [
              0.1111111111111111,
              "#46039f"
             ],
             [
              0.2222222222222222,
              "#7201a8"
             ],
             [
              0.3333333333333333,
              "#9c179e"
             ],
             [
              0.4444444444444444,
              "#bd3786"
             ],
             [
              0.5555555555555556,
              "#d8576b"
             ],
             [
              0.6666666666666666,
              "#ed7953"
             ],
             [
              0.7777777777777778,
              "#fb9f3a"
             ],
             [
              0.8888888888888888,
              "#fdca26"
             ],
             [
              1,
              "#f0f921"
             ]
            ],
            "type": "contour"
           }
          ],
          "contourcarpet": [
           {
            "colorbar": {
             "outlinewidth": 0,
             "ticks": ""
            },
            "type": "contourcarpet"
           }
          ],
          "heatmap": [
           {
            "colorbar": {
             "outlinewidth": 0,
             "ticks": ""
            },
            "colorscale": [
             [
              0,
              "#0d0887"
             ],
             [
              0.1111111111111111,
              "#46039f"
             ],
             [
              0.2222222222222222,
              "#7201a8"
             ],
             [
              0.3333333333333333,
              "#9c179e"
             ],
             [
              0.4444444444444444,
              "#bd3786"
             ],
             [
              0.5555555555555556,
              "#d8576b"
             ],
             [
              0.6666666666666666,
              "#ed7953"
             ],
             [
              0.7777777777777778,
              "#fb9f3a"
             ],
             [
              0.8888888888888888,
              "#fdca26"
             ],
             [
              1,
              "#f0f921"
             ]
            ],
            "type": "heatmap"
           }
          ],
          "heatmapgl": [
           {
            "colorbar": {
             "outlinewidth": 0,
             "ticks": ""
            },
            "colorscale": [
             [
              0,
              "#0d0887"
             ],
             [
              0.1111111111111111,
              "#46039f"
             ],
             [
              0.2222222222222222,
              "#7201a8"
             ],
             [
              0.3333333333333333,
              "#9c179e"
             ],
             [
              0.4444444444444444,
              "#bd3786"
             ],
             [
              0.5555555555555556,
              "#d8576b"
             ],
             [
              0.6666666666666666,
              "#ed7953"
             ],
             [
              0.7777777777777778,
              "#fb9f3a"
             ],
             [
              0.8888888888888888,
              "#fdca26"
             ],
             [
              1,
              "#f0f921"
             ]
            ],
            "type": "heatmapgl"
           }
          ],
          "histogram": [
           {
            "marker": {
             "colorbar": {
              "outlinewidth": 0,
              "ticks": ""
             }
            },
            "type": "histogram"
           }
          ],
          "histogram2d": [
           {
            "colorbar": {
             "outlinewidth": 0,
             "ticks": ""
            },
            "colorscale": [
             [
              0,
              "#0d0887"
             ],
             [
              0.1111111111111111,
              "#46039f"
             ],
             [
              0.2222222222222222,
              "#7201a8"
             ],
             [
              0.3333333333333333,
              "#9c179e"
             ],
             [
              0.4444444444444444,
              "#bd3786"
             ],
             [
              0.5555555555555556,
              "#d8576b"
             ],
             [
              0.6666666666666666,
              "#ed7953"
             ],
             [
              0.7777777777777778,
              "#fb9f3a"
             ],
             [
              0.8888888888888888,
              "#fdca26"
             ],
             [
              1,
              "#f0f921"
             ]
            ],
            "type": "histogram2d"
           }
          ],
          "histogram2dcontour": [
           {
            "colorbar": {
             "outlinewidth": 0,
             "ticks": ""
            },
            "colorscale": [
             [
              0,
              "#0d0887"
             ],
             [
              0.1111111111111111,
              "#46039f"
             ],
             [
              0.2222222222222222,
              "#7201a8"
             ],
             [
              0.3333333333333333,
              "#9c179e"
             ],
             [
              0.4444444444444444,
              "#bd3786"
             ],
             [
              0.5555555555555556,
              "#d8576b"
             ],
             [
              0.6666666666666666,
              "#ed7953"
             ],
             [
              0.7777777777777778,
              "#fb9f3a"
             ],
             [
              0.8888888888888888,
              "#fdca26"
             ],
             [
              1,
              "#f0f921"
             ]
            ],
            "type": "histogram2dcontour"
           }
          ],
          "mesh3d": [
           {
            "colorbar": {
             "outlinewidth": 0,
             "ticks": ""
            },
            "type": "mesh3d"
           }
          ],
          "parcoords": [
           {
            "line": {
             "colorbar": {
              "outlinewidth": 0,
              "ticks": ""
             }
            },
            "type": "parcoords"
           }
          ],
          "pie": [
           {
            "automargin": true,
            "type": "pie"
           }
          ],
          "scatter": [
           {
            "marker": {
             "colorbar": {
              "outlinewidth": 0,
              "ticks": ""
             }
            },
            "type": "scatter"
           }
          ],
          "scatter3d": [
           {
            "line": {
             "colorbar": {
              "outlinewidth": 0,
              "ticks": ""
             }
            },
            "marker": {
             "colorbar": {
              "outlinewidth": 0,
              "ticks": ""
             }
            },
            "type": "scatter3d"
           }
          ],
          "scattercarpet": [
           {
            "marker": {
             "colorbar": {
              "outlinewidth": 0,
              "ticks": ""
             }
            },
            "type": "scattercarpet"
           }
          ],
          "scattergeo": [
           {
            "marker": {
             "colorbar": {
              "outlinewidth": 0,
              "ticks": ""
             }
            },
            "type": "scattergeo"
           }
          ],
          "scattergl": [
           {
            "marker": {
             "colorbar": {
              "outlinewidth": 0,
              "ticks": ""
             }
            },
            "type": "scattergl"
           }
          ],
          "scattermapbox": [
           {
            "marker": {
             "colorbar": {
              "outlinewidth": 0,
              "ticks": ""
             }
            },
            "type": "scattermapbox"
           }
          ],
          "scatterpolar": [
           {
            "marker": {
             "colorbar": {
              "outlinewidth": 0,
              "ticks": ""
             }
            },
            "type": "scatterpolar"
           }
          ],
          "scatterpolargl": [
           {
            "marker": {
             "colorbar": {
              "outlinewidth": 0,
              "ticks": ""
             }
            },
            "type": "scatterpolargl"
           }
          ],
          "scatterternary": [
           {
            "marker": {
             "colorbar": {
              "outlinewidth": 0,
              "ticks": ""
             }
            },
            "type": "scatterternary"
           }
          ],
          "surface": [
           {
            "colorbar": {
             "outlinewidth": 0,
             "ticks": ""
            },
            "colorscale": [
             [
              0,
              "#0d0887"
             ],
             [
              0.1111111111111111,
              "#46039f"
             ],
             [
              0.2222222222222222,
              "#7201a8"
             ],
             [
              0.3333333333333333,
              "#9c179e"
             ],
             [
              0.4444444444444444,
              "#bd3786"
             ],
             [
              0.5555555555555556,
              "#d8576b"
             ],
             [
              0.6666666666666666,
              "#ed7953"
             ],
             [
              0.7777777777777778,
              "#fb9f3a"
             ],
             [
              0.8888888888888888,
              "#fdca26"
             ],
             [
              1,
              "#f0f921"
             ]
            ],
            "type": "surface"
           }
          ],
          "table": [
           {
            "cells": {
             "fill": {
              "color": "#EBF0F8"
             },
             "line": {
              "color": "white"
             }
            },
            "header": {
             "fill": {
              "color": "#C8D4E3"
             },
             "line": {
              "color": "white"
             }
            },
            "type": "table"
           }
          ]
         },
         "layout": {
          "annotationdefaults": {
           "arrowcolor": "#2a3f5f",
           "arrowhead": 0,
           "arrowwidth": 1
          },
          "autotypenumbers": "strict",
          "coloraxis": {
           "colorbar": {
            "outlinewidth": 0,
            "ticks": ""
           }
          },
          "colorscale": {
           "diverging": [
            [
             0,
             "#8e0152"
            ],
            [
             0.1,
             "#c51b7d"
            ],
            [
             0.2,
             "#de77ae"
            ],
            [
             0.3,
             "#f1b6da"
            ],
            [
             0.4,
             "#fde0ef"
            ],
            [
             0.5,
             "#f7f7f7"
            ],
            [
             0.6,
             "#e6f5d0"
            ],
            [
             0.7,
             "#b8e186"
            ],
            [
             0.8,
             "#7fbc41"
            ],
            [
             0.9,
             "#4d9221"
            ],
            [
             1,
             "#276419"
            ]
           ],
           "sequential": [
            [
             0,
             "#0d0887"
            ],
            [
             0.1111111111111111,
             "#46039f"
            ],
            [
             0.2222222222222222,
             "#7201a8"
            ],
            [
             0.3333333333333333,
             "#9c179e"
            ],
            [
             0.4444444444444444,
             "#bd3786"
            ],
            [
             0.5555555555555556,
             "#d8576b"
            ],
            [
             0.6666666666666666,
             "#ed7953"
            ],
            [
             0.7777777777777778,
             "#fb9f3a"
            ],
            [
             0.8888888888888888,
             "#fdca26"
            ],
            [
             1,
             "#f0f921"
            ]
           ],
           "sequentialminus": [
            [
             0,
             "#0d0887"
            ],
            [
             0.1111111111111111,
             "#46039f"
            ],
            [
             0.2222222222222222,
             "#7201a8"
            ],
            [
             0.3333333333333333,
             "#9c179e"
            ],
            [
             0.4444444444444444,
             "#bd3786"
            ],
            [
             0.5555555555555556,
             "#d8576b"
            ],
            [
             0.6666666666666666,
             "#ed7953"
            ],
            [
             0.7777777777777778,
             "#fb9f3a"
            ],
            [
             0.8888888888888888,
             "#fdca26"
            ],
            [
             1,
             "#f0f921"
            ]
           ]
          },
          "colorway": [
           "#636efa",
           "#EF553B",
           "#00cc96",
           "#ab63fa",
           "#FFA15A",
           "#19d3f3",
           "#FF6692",
           "#B6E880",
           "#FF97FF",
           "#FECB52"
          ],
          "font": {
           "color": "#2a3f5f"
          },
          "geo": {
           "bgcolor": "white",
           "lakecolor": "white",
           "landcolor": "#E5ECF6",
           "showlakes": true,
           "showland": true,
           "subunitcolor": "white"
          },
          "hoverlabel": {
           "align": "left"
          },
          "hovermode": "closest",
          "mapbox": {
           "style": "light"
          },
          "paper_bgcolor": "white",
          "plot_bgcolor": "#E5ECF6",
          "polar": {
           "angularaxis": {
            "gridcolor": "white",
            "linecolor": "white",
            "ticks": ""
           },
           "bgcolor": "#E5ECF6",
           "radialaxis": {
            "gridcolor": "white",
            "linecolor": "white",
            "ticks": ""
           }
          },
          "scene": {
           "xaxis": {
            "backgroundcolor": "#E5ECF6",
            "gridcolor": "white",
            "gridwidth": 2,
            "linecolor": "white",
            "showbackground": true,
            "ticks": "",
            "zerolinecolor": "white"
           },
           "yaxis": {
            "backgroundcolor": "#E5ECF6",
            "gridcolor": "white",
            "gridwidth": 2,
            "linecolor": "white",
            "showbackground": true,
            "ticks": "",
            "zerolinecolor": "white"
           },
           "zaxis": {
            "backgroundcolor": "#E5ECF6",
            "gridcolor": "white",
            "gridwidth": 2,
            "linecolor": "white",
            "showbackground": true,
            "ticks": "",
            "zerolinecolor": "white"
           }
          },
          "shapedefaults": {
           "line": {
            "color": "#2a3f5f"
           }
          },
          "ternary": {
           "aaxis": {
            "gridcolor": "white",
            "linecolor": "white",
            "ticks": ""
           },
           "baxis": {
            "gridcolor": "white",
            "linecolor": "white",
            "ticks": ""
           },
           "bgcolor": "#E5ECF6",
           "caxis": {
            "gridcolor": "white",
            "linecolor": "white",
            "ticks": ""
           }
          },
          "title": {
           "x": 0.05
          },
          "xaxis": {
           "automargin": true,
           "gridcolor": "white",
           "linecolor": "white",
           "ticks": "",
           "title": {
            "standoff": 15
           },
           "zerolinecolor": "white",
           "zerolinewidth": 2
          },
          "yaxis": {
           "automargin": true,
           "gridcolor": "white",
           "linecolor": "white",
           "ticks": "",
           "title": {
            "standoff": 15
           },
           "zerolinecolor": "white",
           "zerolinewidth": 2
          }
         }
        },
        "title": {
         "text": "Asset Holdings under CSPP in Billions of Euro"
        },
        "width": 800,
        "xaxis": {
         "anchor": "y",
         "domain": [
          0,
          1
         ],
         "title": {
          "text": "Year"
         }
        },
        "yaxis": {
         "anchor": "x",
         "domain": [
          0,
          1
         ],
         "title": {
          "text": "Asset Holings in Billion of Euros"
         }
        }
       }
      },
      "text/html": [
       "<div>                            <div id=\"58b39876-819a-43e2-949b-dd453c7e0f57\" class=\"plotly-graph-div\" style=\"height:600px; width:800px;\"></div>            <script type=\"text/javascript\">                require([\"plotly\"], function(Plotly) {                    window.PLOTLYENV=window.PLOTLYENV || {};                                    if (document.getElementById(\"58b39876-819a-43e2-949b-dd453c7e0f57\")) {                    Plotly.newPlot(                        \"58b39876-819a-43e2-949b-dd453c7e0f57\",                        [{\"hovertemplate\": \"Year=%{x}<br>Asset Holings in Billion of Euros=%{y}<extra></extra>\", \"legendgroup\": \"\", \"line\": {\"color\": \"#636efa\", \"dash\": \"solid\"}, \"mode\": \"lines\", \"name\": \"\", \"orientation\": \"v\", \"showlegend\": false, \"type\": \"scatter\", \"x\": [\"2016-06-01T00:00:00\", \"2016-07-01T00:00:00\", \"2016-08-01T00:00:00\", \"2016-09-01T00:00:00\", \"2016-10-01T00:00:00\", \"2016-11-01T00:00:00\", \"2016-12-01T00:00:00\", \"2017-01-01T00:00:00\", \"2017-02-01T00:00:00\", \"2017-03-01T00:00:00\", \"2017-04-01T00:00:00\", \"2017-05-01T00:00:00\", \"2017-06-01T00:00:00\", \"2017-07-01T00:00:00\", \"2017-08-01T00:00:00\", \"2017-09-01T00:00:00\", \"2017-10-01T00:00:00\", \"2017-11-01T00:00:00\", \"2017-12-01T00:00:00\", \"2018-01-01T00:00:00\", \"2018-02-01T00:00:00\", \"2018-03-01T00:00:00\", \"2018-04-01T00:00:00\", \"2018-05-01T00:00:00\", \"2018-06-01T00:00:00\", \"2018-07-01T00:00:00\", \"2018-08-01T00:00:00\", \"2018-09-01T00:00:00\", \"2018-10-01T00:00:00\", \"2018-11-01T00:00:00\", \"2018-12-01T00:00:00\", \"2019-01-01T00:00:00\", \"2019-02-01T00:00:00\", \"2019-03-01T00:00:00\", \"2019-04-01T00:00:00\", \"2019-05-01T00:00:00\", \"2019-06-01T00:00:00\", \"2019-07-01T00:00:00\", \"2019-08-01T00:00:00\", \"2019-09-01T00:00:00\", \"2019-10-01T00:00:00\", \"2019-11-01T00:00:00\", \"2019-12-01T00:00:00\", \"2020-01-01T00:00:00\", \"2020-02-01T00:00:00\", \"2020-03-01T00:00:00\", \"2020-04-01T00:00:00\", \"2020-05-01T00:00:00\", \"2020-06-01T00:00:00\", \"2020-07-01T00:00:00\", \"2020-08-01T00:00:00\", \"2020-09-01T00:00:00\", \"2020-10-01T00:00:00\", \"2020-11-01T00:00:00\", \"2020-12-01T00:00:00\", \"2021-01-01T00:00:00\", \"2021-02-01T00:00:00\", \"2021-03-01T00:00:00\"], \"xaxis\": \"x\", \"y\": [6.398, 13.214, 19.921, 29.722, 38.144, 47.18, 51.069, 59.489, 67.337, 75.455, 82.262, 89.83, 96.62, 102.226, 106.898, 114.658, 121.607, 128.81, 131.593, 137.232, 142.68, 148.702, 151.851, 156.823, 162.015, 165.033, 166.537, 170.378, 173.883, 176.878, 178.05, 177.812, 178.188, 177.7, 177.67, 177.706, 177.655, 177.102, 177.409, 176.937, 177.096, 183.014, 184.505, 189.117, 194.854, 201.507, 207.067, 212.505, 219.719, 224.22, 228.224, 236.349, 243.331, 248.34, 250.403, 255.327, 259.391, 266.06], \"yaxis\": \"y\"}],                        {\"autosize\": false, \"height\": 600, \"legend\": {\"tracegroupgap\": 0}, \"template\": {\"data\": {\"bar\": [{\"error_x\": {\"color\": \"#2a3f5f\"}, \"error_y\": {\"color\": \"#2a3f5f\"}, \"marker\": {\"line\": {\"color\": \"#E5ECF6\", \"width\": 0.5}}, \"type\": \"bar\"}], \"barpolar\": [{\"marker\": {\"line\": {\"color\": \"#E5ECF6\", \"width\": 0.5}}, \"type\": \"barpolar\"}], \"carpet\": [{\"aaxis\": {\"endlinecolor\": \"#2a3f5f\", \"gridcolor\": \"white\", \"linecolor\": \"white\", \"minorgridcolor\": \"white\", \"startlinecolor\": \"#2a3f5f\"}, \"baxis\": {\"endlinecolor\": \"#2a3f5f\", \"gridcolor\": \"white\", \"linecolor\": \"white\", \"minorgridcolor\": \"white\", \"startlinecolor\": \"#2a3f5f\"}, \"type\": \"carpet\"}], \"choropleth\": [{\"colorbar\": {\"outlinewidth\": 0, \"ticks\": \"\"}, \"type\": \"choropleth\"}], \"contour\": [{\"colorbar\": {\"outlinewidth\": 0, \"ticks\": \"\"}, \"colorscale\": [[0.0, \"#0d0887\"], [0.1111111111111111, \"#46039f\"], [0.2222222222222222, \"#7201a8\"], [0.3333333333333333, \"#9c179e\"], [0.4444444444444444, \"#bd3786\"], [0.5555555555555556, \"#d8576b\"], [0.6666666666666666, \"#ed7953\"], [0.7777777777777778, \"#fb9f3a\"], [0.8888888888888888, \"#fdca26\"], [1.0, \"#f0f921\"]], \"type\": \"contour\"}], \"contourcarpet\": [{\"colorbar\": {\"outlinewidth\": 0, \"ticks\": \"\"}, \"type\": \"contourcarpet\"}], \"heatmap\": [{\"colorbar\": {\"outlinewidth\": 0, \"ticks\": \"\"}, \"colorscale\": [[0.0, \"#0d0887\"], [0.1111111111111111, \"#46039f\"], [0.2222222222222222, \"#7201a8\"], [0.3333333333333333, \"#9c179e\"], [0.4444444444444444, \"#bd3786\"], [0.5555555555555556, \"#d8576b\"], [0.6666666666666666, \"#ed7953\"], [0.7777777777777778, \"#fb9f3a\"], [0.8888888888888888, \"#fdca26\"], [1.0, \"#f0f921\"]], \"type\": \"heatmap\"}], \"heatmapgl\": [{\"colorbar\": {\"outlinewidth\": 0, \"ticks\": \"\"}, \"colorscale\": [[0.0, \"#0d0887\"], [0.1111111111111111, \"#46039f\"], [0.2222222222222222, \"#7201a8\"], [0.3333333333333333, \"#9c179e\"], [0.4444444444444444, \"#bd3786\"], [0.5555555555555556, \"#d8576b\"], [0.6666666666666666, \"#ed7953\"], [0.7777777777777778, \"#fb9f3a\"], [0.8888888888888888, \"#fdca26\"], [1.0, \"#f0f921\"]], \"type\": \"heatmapgl\"}], \"histogram\": [{\"marker\": {\"colorbar\": {\"outlinewidth\": 0, \"ticks\": \"\"}}, \"type\": \"histogram\"}], \"histogram2d\": [{\"colorbar\": {\"outlinewidth\": 0, \"ticks\": \"\"}, \"colorscale\": [[0.0, \"#0d0887\"], [0.1111111111111111, \"#46039f\"], [0.2222222222222222, \"#7201a8\"], [0.3333333333333333, \"#9c179e\"], [0.4444444444444444, \"#bd3786\"], [0.5555555555555556, \"#d8576b\"], [0.6666666666666666, \"#ed7953\"], [0.7777777777777778, \"#fb9f3a\"], [0.8888888888888888, \"#fdca26\"], [1.0, \"#f0f921\"]], \"type\": \"histogram2d\"}], \"histogram2dcontour\": [{\"colorbar\": {\"outlinewidth\": 0, \"ticks\": \"\"}, \"colorscale\": [[0.0, \"#0d0887\"], [0.1111111111111111, \"#46039f\"], [0.2222222222222222, \"#7201a8\"], [0.3333333333333333, \"#9c179e\"], [0.4444444444444444, \"#bd3786\"], [0.5555555555555556, \"#d8576b\"], [0.6666666666666666, \"#ed7953\"], [0.7777777777777778, \"#fb9f3a\"], [0.8888888888888888, \"#fdca26\"], [1.0, \"#f0f921\"]], \"type\": \"histogram2dcontour\"}], \"mesh3d\": [{\"colorbar\": {\"outlinewidth\": 0, \"ticks\": \"\"}, \"type\": \"mesh3d\"}], \"parcoords\": [{\"line\": {\"colorbar\": {\"outlinewidth\": 0, \"ticks\": \"\"}}, \"type\": \"parcoords\"}], \"pie\": [{\"automargin\": true, \"type\": \"pie\"}], \"scatter\": [{\"marker\": {\"colorbar\": {\"outlinewidth\": 0, \"ticks\": \"\"}}, \"type\": \"scatter\"}], \"scatter3d\": [{\"line\": {\"colorbar\": {\"outlinewidth\": 0, \"ticks\": \"\"}}, \"marker\": {\"colorbar\": {\"outlinewidth\": 0, \"ticks\": \"\"}}, \"type\": \"scatter3d\"}], \"scattercarpet\": [{\"marker\": {\"colorbar\": {\"outlinewidth\": 0, \"ticks\": \"\"}}, \"type\": \"scattercarpet\"}], \"scattergeo\": [{\"marker\": {\"colorbar\": {\"outlinewidth\": 0, \"ticks\": \"\"}}, \"type\": \"scattergeo\"}], \"scattergl\": [{\"marker\": {\"colorbar\": {\"outlinewidth\": 0, \"ticks\": \"\"}}, \"type\": \"scattergl\"}], \"scattermapbox\": [{\"marker\": {\"colorbar\": {\"outlinewidth\": 0, \"ticks\": \"\"}}, \"type\": \"scattermapbox\"}], \"scatterpolar\": [{\"marker\": {\"colorbar\": {\"outlinewidth\": 0, \"ticks\": \"\"}}, \"type\": \"scatterpolar\"}], \"scatterpolargl\": [{\"marker\": {\"colorbar\": {\"outlinewidth\": 0, \"ticks\": \"\"}}, \"type\": \"scatterpolargl\"}], \"scatterternary\": [{\"marker\": {\"colorbar\": {\"outlinewidth\": 0, \"ticks\": \"\"}}, \"type\": \"scatterternary\"}], \"surface\": [{\"colorbar\": {\"outlinewidth\": 0, \"ticks\": \"\"}, \"colorscale\": [[0.0, \"#0d0887\"], [0.1111111111111111, \"#46039f\"], [0.2222222222222222, \"#7201a8\"], [0.3333333333333333, \"#9c179e\"], [0.4444444444444444, \"#bd3786\"], [0.5555555555555556, \"#d8576b\"], [0.6666666666666666, \"#ed7953\"], [0.7777777777777778, \"#fb9f3a\"], [0.8888888888888888, \"#fdca26\"], [1.0, \"#f0f921\"]], \"type\": \"surface\"}], \"table\": [{\"cells\": {\"fill\": {\"color\": \"#EBF0F8\"}, \"line\": {\"color\": \"white\"}}, \"header\": {\"fill\": {\"color\": \"#C8D4E3\"}, \"line\": {\"color\": \"white\"}}, \"type\": \"table\"}]}, \"layout\": {\"annotationdefaults\": {\"arrowcolor\": \"#2a3f5f\", \"arrowhead\": 0, \"arrowwidth\": 1}, \"autotypenumbers\": \"strict\", \"coloraxis\": {\"colorbar\": {\"outlinewidth\": 0, \"ticks\": \"\"}}, \"colorscale\": {\"diverging\": [[0, \"#8e0152\"], [0.1, \"#c51b7d\"], [0.2, \"#de77ae\"], [0.3, \"#f1b6da\"], [0.4, \"#fde0ef\"], [0.5, \"#f7f7f7\"], [0.6, \"#e6f5d0\"], [0.7, \"#b8e186\"], [0.8, \"#7fbc41\"], [0.9, \"#4d9221\"], [1, \"#276419\"]], \"sequential\": [[0.0, \"#0d0887\"], [0.1111111111111111, \"#46039f\"], [0.2222222222222222, \"#7201a8\"], [0.3333333333333333, \"#9c179e\"], [0.4444444444444444, \"#bd3786\"], [0.5555555555555556, \"#d8576b\"], [0.6666666666666666, \"#ed7953\"], [0.7777777777777778, \"#fb9f3a\"], [0.8888888888888888, \"#fdca26\"], [1.0, \"#f0f921\"]], \"sequentialminus\": [[0.0, \"#0d0887\"], [0.1111111111111111, \"#46039f\"], [0.2222222222222222, \"#7201a8\"], [0.3333333333333333, \"#9c179e\"], [0.4444444444444444, \"#bd3786\"], [0.5555555555555556, \"#d8576b\"], [0.6666666666666666, \"#ed7953\"], [0.7777777777777778, \"#fb9f3a\"], [0.8888888888888888, \"#fdca26\"], [1.0, \"#f0f921\"]]}, \"colorway\": [\"#636efa\", \"#EF553B\", \"#00cc96\", \"#ab63fa\", \"#FFA15A\", \"#19d3f3\", \"#FF6692\", \"#B6E880\", \"#FF97FF\", \"#FECB52\"], \"font\": {\"color\": \"#2a3f5f\"}, \"geo\": {\"bgcolor\": \"white\", \"lakecolor\": \"white\", \"landcolor\": \"#E5ECF6\", \"showlakes\": true, \"showland\": true, \"subunitcolor\": \"white\"}, \"hoverlabel\": {\"align\": \"left\"}, \"hovermode\": \"closest\", \"mapbox\": {\"style\": \"light\"}, \"paper_bgcolor\": \"white\", \"plot_bgcolor\": \"#E5ECF6\", \"polar\": {\"angularaxis\": {\"gridcolor\": \"white\", \"linecolor\": \"white\", \"ticks\": \"\"}, \"bgcolor\": \"#E5ECF6\", \"radialaxis\": {\"gridcolor\": \"white\", \"linecolor\": \"white\", \"ticks\": \"\"}}, \"scene\": {\"xaxis\": {\"backgroundcolor\": \"#E5ECF6\", \"gridcolor\": \"white\", \"gridwidth\": 2, \"linecolor\": \"white\", \"showbackground\": true, \"ticks\": \"\", \"zerolinecolor\": \"white\"}, \"yaxis\": {\"backgroundcolor\": \"#E5ECF6\", \"gridcolor\": \"white\", \"gridwidth\": 2, \"linecolor\": \"white\", \"showbackground\": true, \"ticks\": \"\", \"zerolinecolor\": \"white\"}, \"zaxis\": {\"backgroundcolor\": \"#E5ECF6\", \"gridcolor\": \"white\", \"gridwidth\": 2, \"linecolor\": \"white\", \"showbackground\": true, \"ticks\": \"\", \"zerolinecolor\": \"white\"}}, \"shapedefaults\": {\"line\": {\"color\": \"#2a3f5f\"}}, \"ternary\": {\"aaxis\": {\"gridcolor\": \"white\", \"linecolor\": \"white\", \"ticks\": \"\"}, \"baxis\": {\"gridcolor\": \"white\", \"linecolor\": \"white\", \"ticks\": \"\"}, \"bgcolor\": \"#E5ECF6\", \"caxis\": {\"gridcolor\": \"white\", \"linecolor\": \"white\", \"ticks\": \"\"}}, \"title\": {\"x\": 0.05}, \"xaxis\": {\"automargin\": true, \"gridcolor\": \"white\", \"linecolor\": \"white\", \"ticks\": \"\", \"title\": {\"standoff\": 15}, \"zerolinecolor\": \"white\", \"zerolinewidth\": 2}, \"yaxis\": {\"automargin\": true, \"gridcolor\": \"white\", \"linecolor\": \"white\", \"ticks\": \"\", \"title\": {\"standoff\": 15}, \"zerolinecolor\": \"white\", \"zerolinewidth\": 2}}}, \"title\": {\"text\": \"Asset Holdings under CSPP in Billions of Euro\"}, \"width\": 800, \"xaxis\": {\"anchor\": \"y\", \"domain\": [0.0, 1.0], \"title\": {\"text\": \"Year\"}}, \"yaxis\": {\"anchor\": \"x\", \"domain\": [0.0, 1.0], \"title\": {\"text\": \"Asset Holings in Billion of Euros\"}}},                        {\"responsive\": true}                    ).then(function(){\n",
       "                            \n",
       "var gd = document.getElementById('58b39876-819a-43e2-949b-dd453c7e0f57');\n",
       "var x = new MutationObserver(function (mutations, observer) {{\n",
       "        var display = window.getComputedStyle(gd).display;\n",
       "        if (!display || display === 'none') {{\n",
       "            console.log([gd, 'removed!']);\n",
       "            Plotly.purge(gd);\n",
       "            observer.disconnect();\n",
       "        }}\n",
       "}});\n",
       "\n",
       "// Listen for the removal of the full notebook cells\n",
       "var notebookContainer = gd.closest('#notebook-container');\n",
       "if (notebookContainer) {{\n",
       "    x.observe(notebookContainer, {childList: true});\n",
       "}}\n",
       "\n",
       "// Listen for the clearing of the current output cell\n",
       "var outputEl = gd.closest('.output');\n",
       "if (outputEl) {{\n",
       "    x.observe(outputEl, {childList: true});\n",
       "}}\n",
       "\n",
       "                        })                };                });            </script>        </div>"
      ]
     },
     "metadata": {},
     "output_type": "display_data"
    }
   ],
   "source": [
    "fig = px.line(data_CSPP, x = \"End of Month\", y = \"Total Holdings in Billions\",\n",
    "              labels={\"End of Month\": \"Year\", \"Total Holdings in Billions\": \"Asset Holings in Billion of Euros\"},\n",
    "              title=\"Asset Holdings under CSPP in Billions of Euro\")\n",
    "\n",
    "fig.update_layout(\n",
    "    autosize=False,\n",
    "    width=800,\n",
    "    height=600)\n",
    "fig.show()"
   ]
  }
 ],
 "metadata": {
  "kernelspec": {
   "display_name": "Python 3",
   "language": "python",
   "name": "python3"
  },
  "language_info": {
   "codemirror_mode": {
    "name": "ipython",
    "version": 3
   },
   "file_extension": ".py",
   "mimetype": "text/x-python",
   "name": "python",
   "nbconvert_exporter": "python",
   "pygments_lexer": "ipython3",
   "version": "3.8.5"
  }
 },
 "nbformat": 4,
 "nbformat_minor": 5
}
