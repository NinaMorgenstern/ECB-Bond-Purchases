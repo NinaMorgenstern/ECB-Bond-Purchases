{
 "cells": [
  {
   "cell_type": "markdown",
   "metadata": {
    "slideshow": {
     "slide_type": "skip"
    }
   },
   "source": [
    "# Data Preparation\n",
    "## Preliminaries"
   ]
  },
  {
   "cell_type": "markdown",
   "metadata": {
    "slideshow": {
     "slide_type": "skip"
    }
   },
   "source": [
    "Importing the packages:"
   ]
  },
  {
   "cell_type": "code",
   "execution_count": 1,
   "metadata": {
    "slideshow": {
     "slide_type": "skip"
    }
   },
   "outputs": [],
   "source": [
    "import pandas as pd\n",
    "import boto3\n",
    "import io\n",
    "from io import StringIO\n",
    "import requests\n",
    "import json\n",
    "from time import sleep\n",
    "import math"
   ]
  },
  {
   "cell_type": "markdown",
   "metadata": {
    "slideshow": {
     "slide_type": "skip"
    }
   },
   "source": [
    "Importing the python files:"
   ]
  },
  {
   "cell_type": "code",
   "execution_count": 2,
   "metadata": {
    "slideshow": {
     "slide_type": "skip"
    }
   },
   "outputs": [],
   "source": [
    "import s3data\n",
    "import openfigiapi as openFIGI\n",
    "import permidapi as permID"
   ]
  },
  {
   "cell_type": "markdown",
   "metadata": {
    "slideshow": {
     "slide_type": "slide"
    }
   },
   "source": [
    "## ECB data on CSPP holdings"
   ]
  },
  {
   "cell_type": "markdown",
   "metadata": {
    "slideshow": {
     "slide_type": "fragment"
    }
   },
   "source": [
    "### Read and combine data from several CSV files"
   ]
  },
  {
   "cell_type": "markdown",
   "metadata": {
    "slideshow": {
     "slide_type": "skip"
    }
   },
   "source": [
    "In order to access data, configure your Boto3 credentials (AWS Access Key ID, AWS Secret Access Key, Default region name) via Anaconda promt command `aws configure`."
   ]
  },
  {
   "cell_type": "code",
   "execution_count": 3,
   "metadata": {
    "slideshow": {
     "slide_type": "skip"
    }
   },
   "outputs": [],
   "source": [
    "bucket = 's3groupmorocco'"
   ]
  },
  {
   "cell_type": "markdown",
   "metadata": {
    "slideshow": {
     "slide_type": "skip"
    }
   },
   "source": [
    "Loading files on CSPP corporate bonds holdings with filenames starting with \"CSPPholdings_\":"
   ]
  },
  {
   "cell_type": "code",
   "execution_count": 4,
   "metadata": {
    "slideshow": {
     "slide_type": "skip"
    }
   },
   "outputs": [],
   "source": [
    "df1 = s3data.read_multiple_csv(bucket, 'data/CSPPholdings_', 'iso8859-1')"
   ]
  },
  {
   "cell_type": "markdown",
   "metadata": {
    "slideshow": {
     "slide_type": "skip"
    }
   },
   "source": [
    "Loading files on CSPP corporate bonds holdings with filenames starting with \"CSPP_PEPP_corporate_bond_holdings_\":"
   ]
  },
  {
   "cell_type": "code",
   "execution_count": 5,
   "metadata": {
    "slideshow": {
     "slide_type": "skip"
    }
   },
   "outputs": [],
   "source": [
    "df2 = s3data.read_multiple_csv(bucket, 'data/CSPP_PEPP_corporate_bond_holdings_', 'iso8859-1')"
   ]
  },
  {
   "cell_type": "markdown",
   "metadata": {
    "slideshow": {
     "slide_type": "skip"
    }
   },
   "source": [
    "Combining two dataframes together:"
   ]
  },
  {
   "cell_type": "code",
   "execution_count": 6,
   "metadata": {
    "slideshow": {
     "slide_type": "skip"
    }
   },
   "outputs": [],
   "source": [
    "df = pd.concat([df1, df2], ignore_index=True)"
   ]
  },
  {
   "cell_type": "markdown",
   "metadata": {
    "slideshow": {
     "slide_type": "skip"
    }
   },
   "source": [
    "Check for the null values:"
   ]
  },
  {
   "cell_type": "code",
   "execution_count": 7,
   "metadata": {
    "slideshow": {
     "slide_type": "skip"
    }
   },
   "outputs": [
    {
     "data": {
      "text/plain": [
       "NCB                2069\n",
       "ISIN_CODE         21215\n",
       "ISSUER_NAME_      56389\n",
       "MATURITY_DATE_    56389\n",
       "COUPON_RATE_      56389\n",
       "MONTH                 0\n",
       "ISSUER_NAME       25409\n",
       "MATURITY_DATE     25409\n",
       "COUPON_RATE       25409\n",
       "Unnamed: 0        59371\n",
       "ISIN              40226\n",
       "ISSUER            40226\n",
       "MATURITY DATE     40226\n",
       "COUPON RATE       40226\n",
       "dtype: int64"
      ]
     },
     "execution_count": 7,
     "metadata": {},
     "output_type": "execute_result"
    }
   ],
   "source": [
    "df.isna().sum()"
   ]
  },
  {
   "cell_type": "markdown",
   "metadata": {
    "slideshow": {
     "slide_type": "skip"
    }
   },
   "source": [
    "Column names are a slightly different in reports generated in different months. Filling in empty cells to put all relevant data into one column:"
   ]
  },
  {
   "cell_type": "code",
   "execution_count": 8,
   "metadata": {
    "slideshow": {
     "slide_type": "skip"
    }
   },
   "outputs": [],
   "source": [
    "df['NCB'].fillna(df['Unnamed: 0'], inplace=True)\n",
    "df['ISIN'].fillna(df['ISIN_CODE'], inplace=True)\n",
    "df['ISSUER'].fillna(df['ISSUER_NAME_'], inplace=True)\n",
    "df['ISSUER'].fillna(df['ISSUER_NAME'], inplace=True)\n",
    "df['MATURITY DATE'].fillna(df['MATURITY_DATE_'], inplace=True)\n",
    "df['MATURITY DATE'].fillna(df['MATURITY_DATE'], inplace=True)\n",
    "df['COUPON RATE'].fillna(df['COUPON_RATE_'], inplace=True)\n",
    "df['COUPON RATE'].fillna(df['COUPON_RATE'], inplace=True)"
   ]
  },
  {
   "cell_type": "markdown",
   "metadata": {
    "slideshow": {
     "slide_type": "skip"
    }
   },
   "source": [
    "Choosing necessary columns and rows:"
   ]
  },
  {
   "cell_type": "code",
   "execution_count": 9,
   "metadata": {
    "slideshow": {
     "slide_type": "skip"
    }
   },
   "outputs": [],
   "source": [
    "df = df[df['ISIN'].notna()][['MONTH', 'NCB', 'ISIN', 'ISSUER', 'MATURITY DATE', 'COUPON RATE']]"
   ]
  },
  {
   "cell_type": "markdown",
   "metadata": {
    "slideshow": {
     "slide_type": "skip"
    }
   },
   "source": [
    "Check for the null values:"
   ]
  },
  {
   "cell_type": "code",
   "execution_count": 10,
   "metadata": {
    "slideshow": {
     "slide_type": "skip"
    }
   },
   "outputs": [
    {
     "data": {
      "text/plain": [
       "MONTH            0\n",
       "NCB              0\n",
       "ISIN             0\n",
       "ISSUER           0\n",
       "MATURITY DATE    0\n",
       "COUPON RATE      0\n",
       "dtype: int64"
      ]
     },
     "execution_count": 10,
     "metadata": {},
     "output_type": "execute_result"
    }
   ],
   "source": [
    "df.isna().sum()"
   ]
  },
  {
   "cell_type": "code",
   "execution_count": 11,
   "metadata": {
    "slideshow": {
     "slide_type": "fragment"
    }
   },
   "outputs": [
    {
     "data": {
      "text/html": [
       "<div>\n",
       "<style scoped>\n",
       "    .dataframe tbody tr th:only-of-type {\n",
       "        vertical-align: middle;\n",
       "    }\n",
       "\n",
       "    .dataframe tbody tr th {\n",
       "        vertical-align: top;\n",
       "    }\n",
       "\n",
       "    .dataframe thead th {\n",
       "        text-align: right;\n",
       "    }\n",
       "</style>\n",
       "<table border=\"1\" class=\"dataframe\">\n",
       "  <thead>\n",
       "    <tr style=\"text-align: right;\">\n",
       "      <th></th>\n",
       "      <th>MONTH</th>\n",
       "      <th>NCB</th>\n",
       "      <th>ISIN</th>\n",
       "      <th>ISSUER</th>\n",
       "      <th>MATURITY DATE</th>\n",
       "      <th>COUPON RATE</th>\n",
       "    </tr>\n",
       "  </thead>\n",
       "  <tbody>\n",
       "    <tr>\n",
       "      <th>0</th>\n",
       "      <td>2017/06</td>\n",
       "      <td>IT</td>\n",
       "      <td>XS1088274169</td>\n",
       "      <td>2i Rete Gas S.p.A.</td>\n",
       "      <td>16/07/2019</td>\n",
       "      <td>1.75</td>\n",
       "    </tr>\n",
       "    <tr>\n",
       "      <th>1</th>\n",
       "      <td>2017/06</td>\n",
       "      <td>IT</td>\n",
       "      <td>XS1088274672</td>\n",
       "      <td>2i Rete Gas S.p.A.</td>\n",
       "      <td>16/07/2024</td>\n",
       "      <td>3</td>\n",
       "    </tr>\n",
       "    <tr>\n",
       "      <th>2</th>\n",
       "      <td>2017/06</td>\n",
       "      <td>IT</td>\n",
       "      <td>XS1144492532</td>\n",
       "      <td>2i Rete Gas S.p.A.</td>\n",
       "      <td>02/01/2020</td>\n",
       "      <td>1.125</td>\n",
       "    </tr>\n",
       "    <tr>\n",
       "      <th>3</th>\n",
       "      <td>2017/06</td>\n",
       "      <td>IT</td>\n",
       "      <td>XS1571982468</td>\n",
       "      <td>2i Rete Gas S.p.A.</td>\n",
       "      <td>28/08/2026</td>\n",
       "      <td>1.75</td>\n",
       "    </tr>\n",
       "    <tr>\n",
       "      <th>4</th>\n",
       "      <td>2017/06</td>\n",
       "      <td>IT</td>\n",
       "      <td>XS0859920406</td>\n",
       "      <td>A2A S.p.A.</td>\n",
       "      <td>28/11/2019</td>\n",
       "      <td>4.5</td>\n",
       "    </tr>\n",
       "  </tbody>\n",
       "</table>\n",
       "</div>"
      ],
      "text/plain": [
       "     MONTH NCB          ISIN              ISSUER MATURITY DATE COUPON RATE\n",
       "0  2017/06  IT  XS1088274169  2i Rete Gas S.p.A.    16/07/2019        1.75\n",
       "1  2017/06  IT  XS1088274672  2i Rete Gas S.p.A.    16/07/2024           3\n",
       "2  2017/06  IT  XS1144492532  2i Rete Gas S.p.A.    02/01/2020       1.125\n",
       "3  2017/06  IT  XS1571982468  2i Rete Gas S.p.A.    28/08/2026        1.75\n",
       "4  2017/06  IT  XS0859920406          A2A S.p.A.    28/11/2019         4.5"
      ]
     },
     "execution_count": 11,
     "metadata": {},
     "output_type": "execute_result"
    }
   ],
   "source": [
    "df.head()"
   ]
  },
  {
   "cell_type": "markdown",
   "metadata": {
    "slideshow": {
     "slide_type": "slide"
    }
   },
   "source": [
    "## Data Extraction via API"
   ]
  },
  {
   "cell_type": "markdown",
   "metadata": {
    "slideshow": {
     "slide_type": "skip"
    }
   },
   "source": [
    "Accessing APIs keys and URLs:"
   ]
  },
  {
   "cell_type": "code",
   "execution_count": 12,
   "metadata": {
    "slideshow": {
     "slide_type": "skip"
    }
   },
   "outputs": [],
   "source": [
    "keys = s3data.read_csv(bucket,'data/keys.csv')\n",
    "links = s3data.read_csv(bucket,'data/links.csv')"
   ]
  },
  {
   "cell_type": "markdown",
   "metadata": {
    "slideshow": {
     "slide_type": "slide"
    }
   },
   "source": [
    "### OpenFIGI API"
   ]
  },
  {
   "cell_type": "markdown",
   "metadata": {
    "slideshow": {
     "slide_type": "fragment"
    }
   },
   "source": [
    "We use openFIGI API to map formatted companies' names via ISIN code of the bonds."
   ]
  },
  {
   "cell_type": "markdown",
   "metadata": {
    "slideshow": {
     "slide_type": "skip"
    }
   },
   "source": [
    "Accessing openFIGI API key and URL:"
   ]
  },
  {
   "cell_type": "code",
   "execution_count": 13,
   "metadata": {
    "slideshow": {
     "slide_type": "skip"
    }
   },
   "outputs": [],
   "source": [
    "openFIGI_key = keys[keys['API']=='openFIGI']['KEY'].reset_index(drop=True)[0]\n",
    "openFIGI_url = links[links['API']=='openFIGI']['URL'].reset_index(drop=True)[0]"
   ]
  },
  {
   "cell_type": "markdown",
   "metadata": {
    "slideshow": {
     "slide_type": "skip"
    }
   },
   "source": [
    "Creating list of unique ISIN codes:"
   ]
  },
  {
   "cell_type": "code",
   "execution_count": 14,
   "metadata": {
    "slideshow": {
     "slide_type": "skip"
    }
   },
   "outputs": [],
   "source": [
    "ISIN_codes = df['ISIN'].drop_duplicates().reset_index(drop=True)"
   ]
  },
  {
   "cell_type": "markdown",
   "metadata": {
    "slideshow": {
     "slide_type": "skip"
    }
   },
   "source": [
    "Mapping request:"
   ]
  },
  {
   "cell_type": "code",
   "execution_count": 15,
   "metadata": {
    "slideshow": {
     "slide_type": "skip"
    }
   },
   "outputs": [],
   "source": [
    "map_result = openFIGI.map_ISIN(openFIGI_key,openFIGI_url,ISIN_codes)"
   ]
  },
  {
   "cell_type": "markdown",
   "metadata": {
    "slideshow": {
     "slide_type": "skip"
    }
   },
   "source": [
    "Merge mapped names to the main dataframe via ISIN:"
   ]
  },
  {
   "cell_type": "code",
   "execution_count": 16,
   "metadata": {
    "slideshow": {
     "slide_type": "skip"
    }
   },
   "outputs": [],
   "source": [
    "df = df.merge(pd.concat([ISIN_codes, map_result], axis=1),on='ISIN', how='left')"
   ]
  },
  {
   "cell_type": "code",
   "execution_count": 17,
   "metadata": {
    "slideshow": {
     "slide_type": "fragment"
    }
   },
   "outputs": [
    {
     "data": {
      "text/html": [
       "<div>\n",
       "<style scoped>\n",
       "    .dataframe tbody tr th:only-of-type {\n",
       "        vertical-align: middle;\n",
       "    }\n",
       "\n",
       "    .dataframe tbody tr th {\n",
       "        vertical-align: top;\n",
       "    }\n",
       "\n",
       "    .dataframe thead th {\n",
       "        text-align: right;\n",
       "    }\n",
       "</style>\n",
       "<table border=\"1\" class=\"dataframe\">\n",
       "  <thead>\n",
       "    <tr style=\"text-align: right;\">\n",
       "      <th></th>\n",
       "      <th>MONTH</th>\n",
       "      <th>NCB</th>\n",
       "      <th>ISIN</th>\n",
       "      <th>ISSUER</th>\n",
       "      <th>MATURITY DATE</th>\n",
       "      <th>COUPON RATE</th>\n",
       "      <th>name</th>\n",
       "    </tr>\n",
       "  </thead>\n",
       "  <tbody>\n",
       "    <tr>\n",
       "      <th>0</th>\n",
       "      <td>2017/06</td>\n",
       "      <td>IT</td>\n",
       "      <td>XS1088274169</td>\n",
       "      <td>2i Rete Gas S.p.A.</td>\n",
       "      <td>16/07/2019</td>\n",
       "      <td>1.75</td>\n",
       "      <td>2I RETE GAS SPA</td>\n",
       "    </tr>\n",
       "    <tr>\n",
       "      <th>1</th>\n",
       "      <td>2017/06</td>\n",
       "      <td>IT</td>\n",
       "      <td>XS1088274672</td>\n",
       "      <td>2i Rete Gas S.p.A.</td>\n",
       "      <td>16/07/2024</td>\n",
       "      <td>3</td>\n",
       "      <td>2I RETE GAS SPA</td>\n",
       "    </tr>\n",
       "    <tr>\n",
       "      <th>2</th>\n",
       "      <td>2017/06</td>\n",
       "      <td>IT</td>\n",
       "      <td>XS1144492532</td>\n",
       "      <td>2i Rete Gas S.p.A.</td>\n",
       "      <td>02/01/2020</td>\n",
       "      <td>1.125</td>\n",
       "      <td>2I RETE GAS SPA</td>\n",
       "    </tr>\n",
       "    <tr>\n",
       "      <th>3</th>\n",
       "      <td>2017/06</td>\n",
       "      <td>IT</td>\n",
       "      <td>XS1571982468</td>\n",
       "      <td>2i Rete Gas S.p.A.</td>\n",
       "      <td>28/08/2026</td>\n",
       "      <td>1.75</td>\n",
       "      <td>2I RETE GAS SPA</td>\n",
       "    </tr>\n",
       "    <tr>\n",
       "      <th>4</th>\n",
       "      <td>2017/06</td>\n",
       "      <td>IT</td>\n",
       "      <td>XS0859920406</td>\n",
       "      <td>A2A S.p.A.</td>\n",
       "      <td>28/11/2019</td>\n",
       "      <td>4.5</td>\n",
       "      <td>A2A SPA</td>\n",
       "    </tr>\n",
       "  </tbody>\n",
       "</table>\n",
       "</div>"
      ],
      "text/plain": [
       "     MONTH NCB          ISIN              ISSUER MATURITY DATE COUPON RATE  \\\n",
       "0  2017/06  IT  XS1088274169  2i Rete Gas S.p.A.    16/07/2019        1.75   \n",
       "1  2017/06  IT  XS1088274672  2i Rete Gas S.p.A.    16/07/2024           3   \n",
       "2  2017/06  IT  XS1144492532  2i Rete Gas S.p.A.    02/01/2020       1.125   \n",
       "3  2017/06  IT  XS1571982468  2i Rete Gas S.p.A.    28/08/2026        1.75   \n",
       "4  2017/06  IT  XS0859920406          A2A S.p.A.    28/11/2019         4.5   \n",
       "\n",
       "              name  \n",
       "0  2I RETE GAS SPA  \n",
       "1  2I RETE GAS SPA  \n",
       "2  2I RETE GAS SPA  \n",
       "3  2I RETE GAS SPA  \n",
       "4          A2A SPA  "
      ]
     },
     "execution_count": 17,
     "metadata": {},
     "output_type": "execute_result"
    }
   ],
   "source": [
    "df.head()"
   ]
  },
  {
   "cell_type": "markdown",
   "metadata": {
    "slideshow": {
     "slide_type": "slide"
    }
   },
   "source": [
    "### PermID Record Matching API"
   ]
  },
  {
   "cell_type": "markdown",
   "metadata": {
    "slideshow": {
     "slide_type": "skip"
    }
   },
   "source": [
    "We use different PermID APIs to assign Industrial groups and Business sectors to companies. Accessing token for API requests:"
   ]
  },
  {
   "cell_type": "code",
   "execution_count": 18,
   "metadata": {
    "slideshow": {
     "slide_type": "skip"
    }
   },
   "outputs": [],
   "source": [
    "permID_token = keys[keys['API']=='permID']['KEY'].reset_index(drop=True)[0]"
   ]
  },
  {
   "cell_type": "markdown",
   "metadata": {
    "slideshow": {
     "slide_type": "skip"
    }
   },
   "source": [
    "Accessing PermID Record Matching API URL:"
   ]
  },
  {
   "cell_type": "code",
   "execution_count": 19,
   "metadata": {
    "slideshow": {
     "slide_type": "skip"
    }
   },
   "outputs": [],
   "source": [
    "permIDmatch_url = links[links['API']=='permID Record Matching']['URL'].reset_index(drop=True)[0]"
   ]
  },
  {
   "cell_type": "markdown",
   "metadata": {
    "slideshow": {
     "slide_type": "fragment"
    }
   },
   "source": [
    "Creating a csv template for Record Matching API:"
   ]
  },
  {
   "cell_type": "markdown",
   "metadata": {
    "slideshow": {
     "slide_type": "skip"
    }
   },
   "source": [
    "Instructions on the format of the template can be found here: https://permid.org/match."
   ]
  },
  {
   "cell_type": "code",
   "execution_count": 20,
   "metadata": {
    "slideshow": {
     "slide_type": "skip"
    }
   },
   "outputs": [],
   "source": [
    "df['name'] = df['name'].str.split().str[:1].str.join(' ') + '|' + \\\n",
    "             df['name'].str.split().str[:2].str.join(' ') + '|' + df['name']"
   ]
  },
  {
   "cell_type": "code",
   "execution_count": 21,
   "metadata": {
    "slideshow": {
     "slide_type": "skip"
    }
   },
   "outputs": [],
   "source": [
    "template = df['name'].drop_duplicates().to_csv(index=False)"
   ]
  },
  {
   "cell_type": "code",
   "execution_count": 22,
   "metadata": {
    "slideshow": {
     "slide_type": "fragment"
    }
   },
   "outputs": [
    {
     "name": "stdout",
     "output_type": "stream",
     "text": [
      "name\r\n",
      "2I|2I RETE|2I RETE GAS SPA\r\n",
      "A2A|A2A SPA|A2A SPA\r\n",
      "ABB|ABB FINANCE|ABB FINANCE BV\r\n",
      "ABERTIS|ABERTIS INFRAESTRUCTURAS|ABERTIS INFRAESTRUCTURAS\r\n",
      "ACEA|ACEA SPA|ACEA SPA\r\n",
      "ACHMEA|ACHMEA BV|ACHMEA BV\r\n",
      "ADECCO|ADECCO INT|ADECCO INT FINANCIAL SVS\r\n",
      "AEGON|AEGON NV|AEGON NV\r\n",
      "AEROPORTI|AEROPORTI DI|AEROPORTI DI ROMA SPA\r\n",
      "AEROPORTS|AEROPORTS DE|AEROPORTS DE PARIS\r\n",
      "AIR|AIR LIQUIDE|AIR LIQUIDE FINANCE\r\n",
      "AIR|AIR LIQUIDE|AIR LIQUIDE SA\r\n",
      "AIRBUS|AIRBUS FINANCE|AIRBUS FINANCE BV\r\n",
      "AKZO|AKZO NOBEL|AKZO NOBEL NV\r\n",
      "ALLIANDER|ALLIANDER NV|ALLIANDER NV\r\n",
      "ALLIANZ|ALLIANZ FINANCE|ALLIANZ FINANCE II B.V.\r\n",
      "ALSTRIA|ALSTRIA OFFICE|ALSTRIA OFFICE REIT-AG\r\n",
      "AMADEUS|AMADEUS CAP|AMADEUS CAP MARKT\r\n",
      "ANHEUSER-BUSCH|ANHEUSER-BUSCH INBEV|ANHEUSER-BUSCH INBEV SA/\r\n",
      "APETRA|APETRA NV|APETRA NV\r\n",
      "APRR|APRR SA|APRR SA\r\n",
      "ARKEMA|ARKEMA|ARKEMA\r\n",
      "ASML|ASML HOLDING|ASML HOLDING NV\r\n",
      "ASSICURAZIONI|ASSICURAZIONI GENERALI|ASSICURAZIONI GENERALI\r\n",
      "AROUNDTOWN|AROUNDTOWN SA|AROUNDTOWN SA\r\n",
      "ATLANTIA|ATLANTIA SPA|ATLANTIA SPA\r\n",
      "AUTOROUTES|AUTOROUTES DU|AUTOROUTES DU SUD DE LA\r\n",
      "ASF|ASF|ASF\r\n",
      "AUTOSTRADA|AUTOSTRADA BRESCIA|AUTOSTRADA BRESCIA V\r\n",
      "AUTOSTRADE|AUTOSTRADE PER|AUTOSTRADE PER L'ITALIA\r\n",
      "AXA|AXA SA|AXA SA\r\n",
      "BASF|BASF FINANCE|BASF FINANCE EUROPE NV\r\n",
      "BASF|BASF SE|BASF SE\r\n",
      "BAYER|BAYER AG|BAYER AG\r\n",
      "BAYER|BAYER CAPITAL|BAYER CAPITAL CORP BV\r\n",
      "BERTELSMANN|BERTELSMANN SE|BERTELSMANN SE & CO KGAA\r\n",
      "BMW|BMW FINANCE|BMW FINANCE NV\r\n",
      "BOUYGUES|BOUYGUES SA|BOUYGUES SA\r\n",
      "BRISA|BRISA CONCESSAO|BRISA CONCESSAO RODOV SA\r\n",
      "BRUSSELS|BRUSSELS AIRPORT|BRUSSELS AIRPORT CO NV/S\r\n",
      "BUNGE|BUNGE FINANCE|BUNGE FINANCE EUROPE BV\r\n",
      "CAPGEMINI|CAPGEMINI SE|CAPGEMINI SE\r\n",
      "CARMILA|CARMILA SA|CARMILA SA\r\n",
      "CATERPILLAR|CATERPILLAR INTL|CATERPILLAR INTL FIN DAC\r\n",
      "CELLNEX|CELLNEX TELECOM|CELLNEX TELECOM SA\r\n",
      "CIBA|CIBA SPECIAL|CIBA SPECIAL CHEM FIN LX\r\n",
      "CITYCON|CITYCON OYJ|CITYCON OYJ\r\n",
      "CITYCON|CITYCON TREASURY|CITYCON TREASURY BV\r\n",
      "COCA-COLA|COCA-COLA HBC|COCA-COLA HBC FINANCE BV\r\n",
      "CTE|CTE CO|CTE CO TRANSP ELEC\r\n",
      "COFINIMMO|COFINIMMO|COFINIMMO\r\n",
      "CIE|CIE DE|CIE DE SAINT-GOBAIN\r\n",
      "COMPAGNIE|COMPAGNIE FIN|COMPAGNIE FIN ET INDUS\r\n",
      "CONTINENTAL|CONTINENTAL AG|CONTINENTAL AG\r\n",
      "COVESTRO|COVESTRO AG|COVESTRO AG\r\n",
      "CRH|CRH FINANCE|CRH FINANCE DAC\r\n",
      "DAA|DAA FINANCE|DAA FINANCE PLC\r\n",
      "DAIMLER|DAIMLER AG|DAIMLER AG\r\n",
      "DAIMLER|DAIMLER INTL|DAIMLER INTL FINANCE BV\r\n",
      "DANONE|DANONE SA|DANONE SA\r\n",
      "DELHAIZE|DELHAIZE LION/DE|DELHAIZE LION/DE LEEUW\r\n",
      "DELTA|DELTA LLOYD|DELTA LLOYD NV\r\n",
      "DEUTSCHE|DEUTSCHE BAHN|DEUTSCHE BAHN FIN GMBH\r\n",
      "DEUTSCHE|DEUTSCHE BAHN|DEUTSCHE BAHN FINANCE BV\r\n",
      "DEUTSCHE|DEUTSCHE BOERSE|DEUTSCHE BOERSE AG\r\n",
      "DEUTSCHE|DEUTSCHE LUFTHANSA|DEUTSCHE LUFTHANSA AG\r\n",
      "DEUTSCHE|DEUTSCHE POST|DEUTSCHE POST AG\r\n",
      "DEUTSCHE|DEUTSCHE POST|DEUTSCHE POST FINANCE\r\n",
      "DEUTSCHE|DEUTSCHE TELEKOM|DEUTSCHE TELEKOM INT FIN\r\n",
      "DEUTSCHE|DEUTSCHE WOHNEN|DEUTSCHE WOHNEN SE\r\n",
      "DIST|DIST INTER|DIST INTER DE ALIMENTACI\r\n",
      "E.ON|E.ON INTL|E.ON INTL FINANCE BV\r\n",
      "E.ON|E.ON SE|E.ON SE\r\n",
      "FLUVIUS|FLUVIUS SYSTEM|FLUVIUS SYSTEM OP\r\n",
      "EATON|EATON CAPITAL|EATON CAPITAL UNLIMITED\r\n",
      "EDENRED|EDENRED|EDENRED\r\n",
      "EDISON|EDISON SPA|EDISON SPA\r\n",
      "EDP|EDP FINANCE|EDP FINANCE BV\r\n",
      "EESTI|EESTI ENERGIA|EESTI ENERGIA AS\r\n",
      "ELECTRICITE|ELECTRICITE DE|ELECTRICITE DE FRANCE SA\r\n",
      "ELERING|ELERING|ELERING\r\n",
      "ELIA|ELIA TRANSMISSION|ELIA TRANSMISSION BE\r\n",
      "ELIA|ELIA SYSTEM|ELIA SYSTEM OP SA/NV\r\n",
      "ELISA|ELISA OYJ|ELISA OYJ\r\n",
      "ENAGAS|ENAGAS FINANCIACIONES|ENAGAS FINANCIACIONES SA\r\n",
      "ENBW|ENBW INTL|ENBW INTL FINANCE BV\r\n",
      "ENEL|ENEL SPA|ENEL SPA\r\n",
      "ENEL|ENEL FINANCE|ENEL FINANCE INTL NV\r\n",
      "ENERGIE|ENERGIE OBEROESTERREICH|ENERGIE OBEROESTERREICH\r\n",
      "ENEXIS|ENEXIS HOLDING|ENEXIS HOLDING NV\r\n",
      "ENGIE|ENGIE SA|ENGIE SA\r\n",
      "ENI|ENI SPA|ENI SPA\r\n",
      "ERDOEL|ERDOEL LAGERGESELLSCHAFT|ERDOEL LAGERGESELLSCHAFT\r\n",
      "ESB|ESB FINANCE|ESB FINANCE DAC\r\n",
      "ESSILORLUXOTTICA|ESSILORLUXOTTICA|ESSILORLUXOTTICA\r\n",
      "EUROGRID|EUROGRID GMBH|EUROGRID GMBH\r\n",
      "EUTELSAT|EUTELSAT SA|EUTELSAT SA\r\n",
      "EVN|EVN AG|EVN AG\r\n",
      "EVONIK|EVONIK FINANCE|EVONIK FINANCE BV\r\n",
      "EVONIK|EVONIK INDUSTRIES|EVONIK INDUSTRIES AG\r\n",
      "EWE|EWE AG|EWE AG\r\n",
      "EXOR|EXOR NV|EXOR NV\r\n",
      "FERROVIAL|FERROVIAL EMISIONES|FERROVIAL EMISIONES SA\r\n",
      "FERROVIE|FERROVIE DELLO|FERROVIE DELLO STATO\r\n",
      "FINGRID|FINGRID OYJ|FINGRID OYJ\r\n",
      "COVIVIO|COVIVIO|COVIVIO\r\n",
      "FRESENIUS|FRESENIUS FIN|FRESENIUS FIN IRELAND PL\r\n",
      "NATURGY|NATURGY CAPITAL|NATURGY CAPITAL MARKETS\r\n",
      "NATURGY|NATURGY FINANCE|NATURGY FINANCE BV\r\n",
      "GAS|GAS NETWORKS|GAS NETWORKS IRELAND\r\n",
      "GEBERIT|GEBERIT INTERNATIONAL|GEBERIT INTERNATIONAL\r\n",
      "GECINA|GECINA|GECINA\r\n",
      "ENGIE|ENGIE ALLIANCE|ENGIE ALLIANCE GIE\r\n",
      "GLENCORE|GLENCORE FINANCE|GLENCORE FINANCE EUROPE\r\n",
      "HEIDELBERGCEMENT|HEIDELBERGCEMENT AG|HEIDELBERGCEMENT AG\r\n",
      "HEIDELBERGCEMENT|HEIDELBERGCEMENT FIN|HEIDELBERGCEMENT FIN LUX\r\n",
      "HEINEKEN|HEINEKEN NV|HEINEKEN NV\r\n",
      "HELLA|HELLA GMBH|HELLA GMBH & CO KGAA\r\n",
      "HELLA|HELLA KGAA|HELLA KGAA HUECK & CO\r\n",
      "HENKEL|HENKEL AG|HENKEL AG & CO KGAA\r\n",
      "HERA|HERA SPA|HERA SPA\r\n",
      "HOLCIM|HOLCIM FINANCE|HOLCIM FINANCE LUX SA\r\n",
      "HOLCIM|HOLCIM US|HOLCIM US FINANCE SARL &\r\n",
      "HOLDING|HOLDING D'INFRASTRUCTURE|HOLDING D'INFRASTRUCTURE\r\n",
      "IBERDROLA|IBERDROLA FINANZAS|IBERDROLA FINANZAS SAU\r\n",
      "IBERDROLA|IBERDROLA INTL|IBERDROLA INTL BV\r\n",
      "INFINEON|INFINEON TECHNOLOGIES|INFINEON TECHNOLOGIES AG\r\n",
      "INDIGO|INDIGO GROUP|INDIGO GROUP SAS\r\n",
      "INFRA|INFRA PARK|INFRA PARK SAS\r\n",
      "INNOGY|INNOGY FINANCE|INNOGY FINANCE BV\r\n",
      "IREN|IREN SPA|IREN SPA\r\n",
      "ITALGAS|ITALGAS SPA|ITALGAS SPA\r\n",
      "JAB|JAB HOLDINGS|JAB HOLDINGS BV\r\n",
      "JCDECAUX|JCDECAUX SA|JCDECAUX SA\r\n",
      "K+S|K+S AG|K+S AG\r\n",
      "KAERNTNER|KAERNTNER ELEKTRIZITAETS|KAERNTNER ELEKTRIZITAETS\r\n",
      "KERING|KERING|KERING\r\n",
      "KERRY|KERRY GROUP|KERRY GROUP FIN SERVICES\r\n",
      "KLEPIERRE|KLEPIERRE|KLEPIERRE\r\n",
      "KNORR-BREMSE|KNORR-BREMSE AG|KNORR-BREMSE AG\r\n",
      "KOJAMO|KOJAMO OYJ|KOJAMO OYJ\r\n",
      "KONINKLIJKE|KONINKLIJKE DSM|KONINKLIJKE DSM NV\r\n",
      "KONINKLIJKE|KONINKLIJKE KPN|KONINKLIJKE KPN NV\r\n",
      "LA|LA POSTE|LA POSTE SA\r\n",
      "LANXESS|LANXESS AG|LANXESS AG\r\n",
      "LEG|LEG IMMOBILIEN|LEG IMMOBILIEN SE\r\n",
      "LEGRAND|LEGRAND SA|LEGRAND SA\r\n",
      "LIBERTY|LIBERTY MUTUAL|LIBERTY MUTUAL FIN EU\r\n",
      "LINDE|LINDE FINANCE|LINDE FINANCE BV\r\n",
      "LINEA|LINEA GROUP|LINEA GROUP HOLDING SPA\r\n",
      "LVMH|LVMH MOET|LVMH MOET HENNESSY VUITT\r\n",
      "MADRILENA|MADRILENA RED|MADRILENA RED DE GAS FIN\r\n",
      "MAPFRE|MAPFRE SA|MAPFRE SA\r\n",
      "MERCIALYS|MERCIALYS SA|MERCIALYS SA\r\n",
      "MERCK|MERCK FIN|MERCK FIN SERVICES GMBH\r\n",
      "MERLIN|MERLIN PROPERTIES|MERLIN PROPERTIES SOCIMI\r\n",
      "METRO|METRO AG|METRO AG\r\n",
      "METSO|METSO OUTOTEC|METSO OUTOTEC OYJ\r\n",
      "MICHELIN|MICHELIN LUXEMBOURG|MICHELIN LUXEMBOURG SCS\r\n",
      "MICHELIN|MICHELIN (CGEM)|MICHELIN (CGEM)\r\n",
      "NV|NV NEDERLANDSE|NV NEDERLANDSE GASUNIE\r\n",
      "NEDERLANDSE|NEDERLANDSE GASUNIE|NEDERLANDSE GASUNIE N.V.\r\n",
      "NESTLE|NESTLE FINANCE|NESTLE FINANCE INTL LTD\r\n",
      "NN|NN GROUP|NN GROUP NV\r\n",
      "NOVARTIS|NOVARTIS FINANCE|NOVARTIS FINANCE SA\r\n",
      "NOVOMATIC|NOVOMATIC AG|NOVOMATIC AG\r\n",
      "TELFONICA|TELFONICA DEUTSCH|TELFONICA DEUTSCH FINAN\r\n",
      "OMV|OMV AG|OMV AG\r\n",
      "ORANGE|ORANGE SA|ORANGE SA\r\n",
      "PACCAR|PACCAR FINANCIAL|PACCAR FINANCIAL EUROPE\r\n",
      "PARTNERRE|PARTNERRE IRELAND|PARTNERRE IRELAND FINANC\r\n",
      "PERNOD|PERNOD RICARD|PERNOD RICARD SA\r\n",
      "PETROL|PETROL D.D.|PETROL D.D. LJUBLJANA\r\n",
      "POSTE|POSTE ITALIANE|POSTE ITALIANE SPA\r\n",
      "POSTNL|POSTNL NV|POSTNL NV\r\n",
      "PUBLICIS|PUBLICIS GROUPE|PUBLICIS GROUPE SA\r\n",
      "RADIOTELEVISIONE|RADIOTELEVISIONE ITALIAN|RADIOTELEVISIONE ITALIAN\r\n",
      "RED|RED ELECTRICA|RED ELECTRICA FIN SA UNI\r\n",
      "REDEXIS|REDEXIS GAS|REDEXIS GAS FINANCE BV\r\n",
      "REGIE|REGIE AUTONOME|REGIE AUTONOME DES TRANS\r\n",
      "RELX|RELX FINANCE|RELX FINANCE BV\r\n",
      "REN|REN FINANCE|REN FINANCE BV\r\n",
      "RENAULT|RENAULT SA|RENAULT SA\r\n",
      "REPSOL|REPSOL INTL|REPSOL INTL FINANCE\r\n",
      "RESA|RESA SA|RESA SA BELGIUM\r\n",
      "ROBERT|ROBERT BOSCH|ROBERT BOSCH GMBH\r\n",
      "ROBERT|ROBERT BOSCH|ROBERT BOSCH INVESTMENT\r\n",
      "ROCHE|ROCHE FINANCE|ROCHE FINANCE EUROPE BV\r\n",
      "ROYAL|ROYAL SCHIPHOL|ROYAL SCHIPHOL GROUP NV\r\n",
      "RTE|RTE RESEAU|RTE RESEAU DE TRANSPORT\r\n",
      "RYANAIR|RYANAIR DAC|RYANAIR DAC\r\n",
      "SAGESS|SAGESS|SAGESS\r\n",
      "SAMPO|SAMPO OYJ|SAMPO OYJ\r\n",
      "SANOFI|SANOFI|SANOFI\r\n",
      "SAP|SAP SE|SAP SE\r\n",
      "SCHLUMBERGER|SCHLUMBERGER FINANCE|SCHLUMBERGER FINANCE FRA\r\n",
      "SCHLUMBERGER|SCHLUMBERGER FINANCE|SCHLUMBERGER FINANCE BV\r\n",
      "SCHNEIDER|SCHNEIDER ELECTRIC|SCHNEIDER ELECTRIC SE\r\n",
      "SES|SES SA|SES SA\r\n",
      "SHELL|SHELL INTERNATIONAL|SHELL INTERNATIONAL FIN\r\n",
      "SIEMENS|SIEMENS FINANCIERINGSMAT|SIEMENS FINANCIERINGSMAT\r\n",
      "SNAM|SNAM SPA|SNAM SPA\r\n",
      "SOCIETE|SOCIETE NATIONALE|SOCIETE NATIONALE SNCF S\r\n",
      "SNCF|SNCF MOBILITES|SNCF MOBILITES EPIC\r\n",
      "SANEF|SANEF SA|SANEF SA\r\n",
      "SOCIETE|SOCIETE FONCIERE|SOCIETE FONCIERE LYONNAI\r\n",
      "SODEXO|SODEXO SA|SODEXO SA\r\n",
      "SOLVAY|SOLVAY SA|SOLVAY SA\r\n",
      "SPP|SPP INFRASTRUCTURE|SPP INFRASTRUCTURE FIN\r\n",
      "SPP|SPP DISTRIBUCIA|SPP DISTRIBUCIA AS\r\n",
      "STRABAG|STRABAG SE|STRABAG SE\r\n",
      "SUDZUCKER|SUDZUCKER INT|SUDZUCKER INT FINANCE\r\n",
      "SUEZ|SUEZ|SUEZ\r\n",
      "TALANX|TALANX AG|TALANX AG\r\n",
      "TELECOM|TELECOM ITALIA|TELECOM ITALIA SPA\r\n",
      "TELEFONICA|TELEFONICA EMISIONES|TELEFONICA EMISIONES SAU\r\n",
      "TELEFONICA|TELEFONICA EUROPE|TELEFONICA EUROPE BV\r\n",
      "TELEKOM|TELEKOM FINANZMANAGEMENT|TELEKOM FINANZMANAGEMENT\r\n",
      "TENNET|TENNET HOLDING|TENNET HOLDING BV\r\n",
      "TEOLLISUUDEN|TEOLLISUUDEN VOIMA|TEOLLISUUDEN VOIMA OYJ\r\n",
      "TERNA|TERNA SPA|TERNA SPA\r\n",
      "THALES|THALES SA|THALES SA\r\n",
      "TOTAL|TOTAL CAPITAL|TOTAL CAPITAL INTL SA\r\n",
      "TOTAL|TOTAL CAPITAL|TOTAL CAPITAL SA\r\n",
      "TEREGA|TEREGA SA|TEREGA SA\r\n",
      "UNIBAIL-RODAMCO|UNIBAIL-RODAMCO SE|UNIBAIL-RODAMCO SE\r\n",
      "UNIBAIL-RODAMCO-WESTFLD|UNIBAIL-RODAMCO-WESTFLD|UNIBAIL-RODAMCO-WESTFLD\r\n",
      "UNILEVER|UNILEVER NV|UNILEVER NV\r\n",
      "UNILEVER|UNILEVER FINANCE|UNILEVER FINANCE\r\n",
      "UNIPER|UNIPER SE|UNIPER SE\r\n",
      "URENCO|URENCO FINANCE|URENCO FINANCE NV\r\n",
      "VALEO|VALEO SA|VALEO SA\r\n",
      "VEOLIA|VEOLIA ENVIRONNEMENT|VEOLIA ENVIRONNEMENT SA\r\n",
      "VERBUND|VERBUND AG|VERBUND AG\r\n",
      "VIER|VIER GAS|VIER GAS TRANSPORT GMBH\r\n",
      "VINCI|VINCI SA|VINCI SA\r\n",
      "VIVENDI|VIVENDI SA|VIVENDI SA\r\n",
      "VOLKSWAGEN|VOLKSWAGEN INTL|VOLKSWAGEN INTL FIN NV\r\n",
      "VONOVIA|VONOVIA FINANCE|VONOVIA FINANCE BV\r\n",
      "WENDEL|WENDEL SA|WENDEL SA\r\n",
      "WENDEL|WENDEL SE|WENDEL SE\r\n",
      "WHIRLPOOL|WHIRLPOOL FINANCE|WHIRLPOOL FINANCE LU\r\n",
      "WOLTERS|WOLTERS KLUWER|WOLTERS KLUWER NV\r\n",
      "WPC|WPC EUROBOND|WPC EUROBOND BV\r\n",
      "WPP|WPP FINANCE|WPP FINANCE SA\r\n",
      "WUERTH|WUERTH FINANCE|WUERTH FINANCE INTL BV\r\n",
      "ZAPADOSLOVENSKA|ZAPADOSLOVENSKA ENRG|ZAPADOSLOVENSKA ENRG AS\r\n",
      "COMPASS|COMPASS GROUP|COMPASS GROUP FINANCE NV\r\n",
      "ADLER|ADLER GROUP|ADLER GROUP SA\r\n",
      "AB|AB IGNITIS|AB IGNITIS GRUPE\r\n",
      "STEINHOFF|STEINHOFF EUROPE|STEINHOFF EUROPE AG\r\n",
      "CNH|CNH INDUSTRIAL|CNH INDUSTRIAL FIN EUR S\r\n",
      "GRAND|GRAND CITY|GRAND CITY PROPERTIES SA\r\n",
      "TELECOM|TELECOM ITALIA|TELECOM ITALIA FIN SA\r\n",
      "KONINKLIJKE|KONINKLIJKE PHILIPS|KONINKLIJKE PHILIPS NV\r\n",
      "JOHN|JOHN DEERE|JOHN DEERE CASH MANAGEME\r\n",
      "KONINKIJKE|KONINKIJKE AHOLD|KONINKIJKE AHOLD DLHAIZE\r\n",
      "BRENNTAG|BRENNTAG FINANCE|BRENNTAG FINANCE BV\r\n",
      "STEDIN|STEDIN HOLDING|STEDIN HOLDING NV\r\n",
      "ALSTOM|ALSTOM SA|ALSTOM SA\r\n",
      "ESSELUNGA|ESSELUNGA SPA|ESSELUNGA SPA\r\n",
      "CORES|CORES|CORES\r\n",
      "PROSEGUR|PROSEGUR CASH|PROSEGUR CASH SA\r\n",
      "LEONARDO|LEONARDO SPA|LEONARDO SPA\r\n",
      "METROPOLITANO|METROPOLITANO DE|METROPOLITANO DE LISBOA\r\n",
      "PROSEGUR|PROSEGUR CIA|PROSEGUR CIA DE SEGURIDA\r\n",
      "BEFIMMO|BEFIMMO SA|BEFIMMO SA\r\n",
      "CP|CP COMBOIOS|CP COMBOIOS DE PORTUGAL\r\n",
      "RICHEMONT|RICHEMONT INTERNATIONAL|RICHEMONT INTERNATIONAL\r\n",
      "DNA|DNA OYJ|DNA OYJ\r\n",
      "HANNOVER|HANNOVER RE|HANNOVER RE\r\n",
      "ACS|ACS SERVICIOS|ACS SERVICIOS COMUNICAC\r\n",
      "NOS|NOS SGPS|NOS SGPS\r\n",
      "EURONEXT|EURONEXT NV|EURONEXT NV\r\n",
      "METSA|METSA BOARD|METSA BOARD OYJ\r\n",
      "CARREFOUR|CARREFOUR SA|CARREFOUR SA\r\n",
      "FRESENIUS|FRESENIUS MEDICAL|FRESENIUS MEDICAL CARE A\r\n",
      "ALTAREIT|ALTAREIT SCA|ALTAREIT SCA\r\n",
      "VVO-YHTYMA|VVO-YHTYMA OYJ|VVO-YHTYMA OYJ\r\n",
      "ELIA|ELIA GROUP|ELIA GROUP SA/NV\r\n",
      "AMADEUS|AMADEUS IT|AMADEUS IT GROUP SA\r\n",
      "NOKIA|NOKIA OYJ|NOKIA OYJ\r\n",
      "STORA|STORA ENSO|STORA ENSO OYJ\r\n",
      "CIE|CIE GENERALE|CIE GENERALE DES ESTABLI\r\n",
      "COVIVIO|COVIVIO HOTELS|COVIVIO HOTELS SACA\r\n",
      "AMPHENOL|AMPHENOL TECH|AMPHENOL TECH HLDS GMBH\r\n",
      "BUZZI|BUZZI UNICEM|BUZZI UNICEM SPA\r\n",
      "HOCHTIEF|HOCHTIEF AG|HOCHTIEF AG\r\n",
      "ATOS|ATOS SE|ATOS SE\r\n",
      "BOREALIS|BOREALIS AG|BOREALIS AG\r\n",
      "FRESENIUS|FRESENIUS SE|FRESENIUS SE & CO KGAA\r\n",
      "SCHAEFFLER|SCHAEFFLER AG|SCHAEFFLER AG\r\n",
      "CEPSA|CEPSA FINANCE|CEPSA FINANCE SA\r\n",
      "DEUTSCHE|DEUTSCHE TELEKOM|DEUTSCHE TELEKOM AG\r\n",
      "FORTUM|FORTUM OYJ|FORTUM OYJ\r\n",
      "LYB|LYB INTERNATIONAL|LYB INTERNATIONAL FINANC\r\n",
      "MONDELEZ|MONDELEZ INTL|MONDELEZ INTL HLDINGS NE\r\n",
      "CK|CK HUTCHISON|CK HUTCHISON GROUP\r\n",
      "ARCELORMITTAL|ARCELORMITTAL|ARCELORMITTAL\r\n",
      "ZF|ZF EUROPE|ZF EUROPE FINANCE BV\r\n",
      "ALBEMARLE|ALBEMARLE NEW|ALBEMARLE NEW HOLDING\r\n",
      "DASSAULT|DASSAULT SYSTEMES|DASSAULT SYSTEMES\r\n",
      "CEETRUS|CEETRUS SA|CEETRUS SA\r\n",
      "ERG|ERG SPA|ERG SPA\r\n",
      "DIGITAL|DIGITAL DUTCH|DIGITAL DUTCH FINCO BV\r\n",
      "INTL|INTL CONSOLIDATED|INTL CONSOLIDATED AIRLIN\r\n",
      "ZURICH|ZURICH FINANCE|ZURICH FINANCE IRELAND\r\n",
      "ATLAS|ATLAS COPCO|ATLAS COPCO FINANCE\r\n",
      "CARREFOUR|CARREFOUR|CARREFOUR\r\n",
      "TYCO|TYCO ELECTRONICS|TYCO ELECTRONICS GROUP S\r\n",
      "WHIRLPOOL|WHIRLPOOL EMEA|WHIRLPOOL EMEA FIN SARL\r\n",
      "STELLANTIS|STELLANTIS NV|STELLANTIS NV\r\n",
      "LONZA|LONZA FINANCE|LONZA FINANCE INTL NV\r\n",
      "ENERGIAS|ENERGIAS DE|ENERGIAS DE PORTUGAL SA\r\n",
      "GIVAUDAN|GIVAUDAN FIN|GIVAUDAN FIN EUROPE\r\n",
      "AIRBUS|AIRBUS SE|AIRBUS SE\r\n",
      "BAT|BAT NETHERLANDS|BAT NETHERLANDS FINANCE\r\n",
      "RED|RED ELECTRICA|RED ELECTRICA CORP\r\n",
      "CA|CA IMMOBILIEN|CA IMMOBILIEN ANLAGEN AG\r\n",
      "MONDI|MONDI FINANCE|MONDI FINANCE EUROPE\r\n",
      "SATO-OYJ|SATO-OYJ|SATO-OYJ\r\n",
      "SOCIETE|SOCIETE NATIONALE|SOCIETE NATIONALE SNCF\r\n",
      "ENI|ENI FINANCE|ENI FINANCE INTL SA\r\n",
      "SIGNIFY|SIGNIFY NV|SIGNIFY NV\r\n",
      "SWISSCOM|SWISSCOM FINANCE|SWISSCOM FINANCE\r\n",
      "CRH|CRH FUNDING|CRH FUNDING\r\n",
      "CPI|CPI PROPERTY|CPI PROPERTY GROUP SA\r\n",
      "RECKITT|RECKITT BENCKISER|RECKITT BENCKISER TSY NL\r\n",
      "CONTI-GUMMI|CONTI-GUMMI FINANCE|CONTI-GUMMI FINANCE B.V.\r\n",
      "CRH|CRH SMW|CRH SMW FINANCE DAC\r\n",
      "CRH|CRH FINLAND|CRH FINLAND SERVICES OYJ\r\n",
      "ELO|ELO SACA|ELO SACA\r\n",
      "KLEPIERRE|KLEPIERRE SA|KLEPIERRE SA\r\n",
      "MOHAWK|MOHAWK CAPITAL|MOHAWK CAPITAL FINANCE\r\n",
      "SIG|SIG COMBIBLOC|SIG COMBIBLOC PURCHASER\r\n",
      "UPJOHN|UPJOHN FINANCE|UPJOHN FINANCE BV\r\n",
      "ACS|ACS ACTIVIDADES|ACS ACTIVIDADES CONS Y S\r\n",
      "EUSTREAM|EUSTREAM AS|EUSTREAM AS\r\n",
      "CZECH|CZECH GAS|CZECH GAS NETWORKS INV\r\n",
      "ISS|ISS FINANCE|ISS FINANCE B.V.\r\n",
      "NE|NE PROPERTY|NE PROPERTY BV\r\n",
      "MTU|MTU AERO|MTU AERO ENGINES AG\r\n",
      "UNIQA|UNIQA INSURANCE|UNIQA INSURANCE GROUP AG\r\n",
      "WORLDLINE|WORLDLINE SA/FRANCE|WORLDLINE SA/FRANCE\r\n",
      "INFRASTRUTTURE|INFRASTRUTTURE WIRELESS|INFRASTRUTTURE WIRELESS\r\n",
      "BARRY|BARRY CALLEBAUT|BARRY CALLEBAUT SVCS NV\r\n",
      "EUROFINS|EUROFINS SCIENTIFIC|EUROFINS SCIENTIFIC SE\r\n",
      "PROSUS|PROSUS NV|PROSUS NV\r\n",
      "HEIMSTADEN|HEIMSTADEN BOSTAD|HEIMSTADEN BOSTAD TRESRY\r\n",
      "AKELIUS|AKELIUS RESIDENTIAL|AKELIUS RESIDENTIAL PROP\r\n",
      "BEVCO|BEVCO LUX|BEVCO LUX SARL\r\n",
      "STG|STG GLOBAL|STG GLOBAL FINANCE BV\r\n",
      "ADIDAS|ADIDAS AG|ADIDAS AG\r\n",
      "KION|KION GROUP|KION GROUP AG\r\n",
      "GLENCORE|GLENCORE CAP|GLENCORE CAP FIN DAC\r\n",
      "CTP|CTP NV|CTP NV\r\n",
      "DIAGEO|DIAGEO CAPITAL|DIAGEO CAPITAL BV\r\n",
      "GLOBAL|GLOBAL SWITCH|GLOBAL SWITCH FINANCE\r\n",
      "INMOBILIARIA|INMOBILIARIA COLONIAL|INMOBILIARIA COLONIAL SO\r\n",
      "EL|EL CORTE|EL CORTE INGLES SA\r\n",
      "IMMOFINANZ|IMMOFINANZ AG|IMMOFINANZ AG\r\n",
      "GRP|GRP BRUXELLES|GRP BRUXELLES LAMBERT SA\r\n",
      "UPM-KYMMENE|UPM-KYMMENE OYJ|UPM-KYMMENE OYJ\r\n",
      "TELEPERFORMANCE|TELEPERFORMANCE|TELEPERFORMANCE\r\n",
      "SIX|SIX FINANCE|SIX FINANCE LUXEMBOURG\r\n",
      "BP|BP CAPITAL|BP CAPITAL MARKETS BV\r\n",
      "ALTAREA|ALTAREA|ALTAREA\r\n",
      "DIGITAL|DIGITAL INTREPID|DIGITAL INTREPID HOLDING\r\n",
      "WIZZ|WIZZ AIR|WIZZ AIR FINANCE COMPANY\r\n",
      "SAGAX|SAGAX EURO|SAGAX EURO MTN\r\n",
      "NORTEGAS|NORTEGAS ENERGIA|NORTEGAS ENERGIA DISTRI\r\n",
      "BALDER|BALDER FINLAND|BALDER FINLAND OYJ\r\n",
      "FIRMENICH|FIRMENICH PRODUCTIONS|FIRMENICH PRODUCTIONS\r\n",
      "H&M|H&M FINANCE|H&M FINANCE BV\r\n",
      "CELLNEX|CELLNEX FINANCE|CELLNEX FINANCE CO SA\r\n",
      "HEMSO|HEMSO TREASURY|HEMSO TREASURY OYJ\r\n",
      "SBB|SBB TREASURY|SBB TREASURY OYJ\r\n",
      "TRATON|TRATON FINANCE|TRATON FINANCE LUXEMBRG\r\n",
      "EASYJET|EASYJET FINCO|EASYJET FINCO BV\r\n",
      "DSV|DSV PANALPINA|DSV PANALPINA FINANCE BV\r\n",
      "SIMON|SIMON INTL|SIMON INTL FINANCE SCA\r\n",
      "IMPERIAL|IMPERIAL BRANDS|IMPERIAL BRANDS FIN NETH\r\n",
      "VONOVIA|VONOVIA SE|VONOVIA SE\r\n",
      "VIENNA|VIENNA INSURANCE|VIENNA INSURANCE GRP AGW\r\n",
      "SAFRAN|SAFRAN SA|SAFRAN SA\r\n",
      "VGP|VGP NV|VGP NV\r\n",
      "LSEG|LSEG NETHERLANDS|LSEG NETHERLANDS BV\r\n",
      "SGS|SGS NEDERLAND|SGS NEDERLAND HLDG BV\r\n",
      "DANFOSS|DANFOSS FIN|DANFOSS FIN I BV\r\n",
      "DANFOSS|DANFOSS FIN|DANFOSS FIN 2 BV\r\n",
      "HOCHTIEF|HOCHTIEF AKTIENGESELLSCH|HOCHTIEF AKTIENGESELLSCH\r\n",
      "VANTAGE|VANTAGE TOWERS|VANTAGE TOWERS AG\r\n",
      "TEREGA|TEREGA SASU|TEREGA SASU\r\n",
      "\n"
     ]
    }
   ],
   "source": [
    "print(template)"
   ]
  },
  {
   "cell_type": "markdown",
   "metadata": {
    "slideshow": {
     "slide_type": "subslide"
    }
   },
   "source": [
    "Find companies' PermIDs by their names using Record Matching API:"
   ]
  },
  {
   "cell_type": "code",
   "execution_count": 23,
   "metadata": {
    "slideshow": {
     "slide_type": "fragment"
    }
   },
   "outputs": [
    {
     "name": "stdout",
     "output_type": "stream",
     "text": [
      "Processed: 393\n",
      "Matched: \n",
      "  Total 352\n",
      "  Excellent 296\n",
      "  Good 22\n",
      "  Possible 34\n",
      "Unmatched: 41\n"
     ]
    }
   ],
   "source": [
    "match_results = permID.record_matching(permID_token,permIDmatch_url,template)"
   ]
  },
  {
   "cell_type": "markdown",
   "metadata": {
    "slideshow": {
     "slide_type": "skip"
    }
   },
   "source": [
    "<b>Note:</b> Sometimes the request is processed successfully, but does not return any matches due to unexpected server errors. Then the message appears and the request is sent again."
   ]
  },
  {
   "cell_type": "markdown",
   "metadata": {
    "slideshow": {
     "slide_type": "skip"
    }
   },
   "source": [
    "Around 90% of the companies from the list were matched. Merge PermIDs to the main dataframe via template name:"
   ]
  },
  {
   "cell_type": "code",
   "execution_count": 24,
   "metadata": {
    "slideshow": {
     "slide_type": "skip"
    }
   },
   "outputs": [
    {
     "data": {
      "text/html": [
       "<div>\n",
       "<style scoped>\n",
       "    .dataframe tbody tr th:only-of-type {\n",
       "        vertical-align: middle;\n",
       "    }\n",
       "\n",
       "    .dataframe tbody tr th {\n",
       "        vertical-align: top;\n",
       "    }\n",
       "\n",
       "    .dataframe thead th {\n",
       "        text-align: right;\n",
       "    }\n",
       "</style>\n",
       "<table border=\"1\" class=\"dataframe\">\n",
       "  <thead>\n",
       "    <tr style=\"text-align: right;\">\n",
       "      <th></th>\n",
       "      <th>MONTH</th>\n",
       "      <th>NCB</th>\n",
       "      <th>ISIN</th>\n",
       "      <th>ISSUER</th>\n",
       "      <th>MATURITY DATE</th>\n",
       "      <th>COUPON RATE</th>\n",
       "      <th>name</th>\n",
       "      <th>Match OpenPermID</th>\n",
       "    </tr>\n",
       "  </thead>\n",
       "  <tbody>\n",
       "    <tr>\n",
       "      <th>0</th>\n",
       "      <td>2017/06</td>\n",
       "      <td>IT</td>\n",
       "      <td>XS1088274169</td>\n",
       "      <td>2i Rete Gas S.p.A.</td>\n",
       "      <td>16/07/2019</td>\n",
       "      <td>1.75</td>\n",
       "      <td>2I|2I RETE|2I RETE GAS SPA</td>\n",
       "      <td>https://permid.org/1-5000936840</td>\n",
       "    </tr>\n",
       "    <tr>\n",
       "      <th>1</th>\n",
       "      <td>2017/06</td>\n",
       "      <td>IT</td>\n",
       "      <td>XS1088274672</td>\n",
       "      <td>2i Rete Gas S.p.A.</td>\n",
       "      <td>16/07/2024</td>\n",
       "      <td>3</td>\n",
       "      <td>2I|2I RETE|2I RETE GAS SPA</td>\n",
       "      <td>https://permid.org/1-5000936840</td>\n",
       "    </tr>\n",
       "    <tr>\n",
       "      <th>2</th>\n",
       "      <td>2017/06</td>\n",
       "      <td>IT</td>\n",
       "      <td>XS1144492532</td>\n",
       "      <td>2i Rete Gas S.p.A.</td>\n",
       "      <td>02/01/2020</td>\n",
       "      <td>1.125</td>\n",
       "      <td>2I|2I RETE|2I RETE GAS SPA</td>\n",
       "      <td>https://permid.org/1-5000936840</td>\n",
       "    </tr>\n",
       "    <tr>\n",
       "      <th>3</th>\n",
       "      <td>2017/06</td>\n",
       "      <td>IT</td>\n",
       "      <td>XS1571982468</td>\n",
       "      <td>2i Rete Gas S.p.A.</td>\n",
       "      <td>28/08/2026</td>\n",
       "      <td>1.75</td>\n",
       "      <td>2I|2I RETE|2I RETE GAS SPA</td>\n",
       "      <td>https://permid.org/1-5000936840</td>\n",
       "    </tr>\n",
       "    <tr>\n",
       "      <th>4</th>\n",
       "      <td>2017/06</td>\n",
       "      <td>IT</td>\n",
       "      <td>XS0859920406</td>\n",
       "      <td>A2A S.p.A.</td>\n",
       "      <td>28/11/2019</td>\n",
       "      <td>4.5</td>\n",
       "      <td>A2A|A2A SPA|A2A SPA</td>\n",
       "      <td>https://permid.org/1-5000005309</td>\n",
       "    </tr>\n",
       "  </tbody>\n",
       "</table>\n",
       "</div>"
      ],
      "text/plain": [
       "     MONTH NCB          ISIN              ISSUER MATURITY DATE COUPON RATE  \\\n",
       "0  2017/06  IT  XS1088274169  2i Rete Gas S.p.A.    16/07/2019        1.75   \n",
       "1  2017/06  IT  XS1088274672  2i Rete Gas S.p.A.    16/07/2024           3   \n",
       "2  2017/06  IT  XS1144492532  2i Rete Gas S.p.A.    02/01/2020       1.125   \n",
       "3  2017/06  IT  XS1571982468  2i Rete Gas S.p.A.    28/08/2026        1.75   \n",
       "4  2017/06  IT  XS0859920406          A2A S.p.A.    28/11/2019         4.5   \n",
       "\n",
       "                         name                 Match OpenPermID  \n",
       "0  2I|2I RETE|2I RETE GAS SPA  https://permid.org/1-5000936840  \n",
       "1  2I|2I RETE|2I RETE GAS SPA  https://permid.org/1-5000936840  \n",
       "2  2I|2I RETE|2I RETE GAS SPA  https://permid.org/1-5000936840  \n",
       "3  2I|2I RETE|2I RETE GAS SPA  https://permid.org/1-5000936840  \n",
       "4         A2A|A2A SPA|A2A SPA  https://permid.org/1-5000005309  "
      ]
     },
     "execution_count": 24,
     "metadata": {},
     "output_type": "execute_result"
    }
   ],
   "source": [
    "df = df.merge(match_results, left_on = 'name', right_on = 'Input_Name', how = 'left').drop(columns='Input_Name')\n",
    "df.head()"
   ]
  },
  {
   "cell_type": "markdown",
   "metadata": {
    "slideshow": {
     "slide_type": "subslide"
    }
   },
   "source": [
    "Around 10% of the data is not matched via names mapped from openFIGI. We try another approach.   \n",
    "Creating a template from raw companies' names:"
   ]
  },
  {
   "cell_type": "markdown",
   "metadata": {
    "slideshow": {
     "slide_type": "skip"
    }
   },
   "source": [
    "We decode special letters to their English equivalent, remove special characters, additional spaces, etc. Then we create a new csv template only for companies that do not have PermID."
   ]
  },
  {
   "cell_type": "code",
   "execution_count": 25,
   "metadata": {
    "slideshow": {
     "slide_type": "skip"
    }
   },
   "outputs": [],
   "source": [
    "df['NAME'] = df['ISSUER'].str.normalize('NFKD').str.encode('ascii', errors='ignore').str.decode('utf-8').\\\n",
    "             str.replace('.',' ').str.replace('/',' ').str.replace('-',' ').str.replace('  ',' ').\\\n",
    "             str.replace('(','').str.replace(')','').str.split(',',1).str[0].str.strip().str.lower()     \n",
    "df['NAME'] =  df['NAME'].str.split().str[:1].str.join(' ') + '|' + \\\n",
    "              df['NAME'].str.split().str[:2].str.join(' ') + '|' + df['NAME']"
   ]
  },
  {
   "cell_type": "code",
   "execution_count": 26,
   "metadata": {
    "slideshow": {
     "slide_type": "skip"
    }
   },
   "outputs": [],
   "source": [
    "template = df[df['Match OpenPermID'].isna()]['NAME'].drop_duplicates().to_csv(index=False)"
   ]
  },
  {
   "cell_type": "code",
   "execution_count": 27,
   "metadata": {
    "slideshow": {
     "slide_type": "fragment"
    }
   },
   "outputs": [
    {
     "name": "stdout",
     "output_type": "stream",
     "text": [
      "NAME\r\n",
      "amadeus|amadeus capital|amadeus capital markets s a u\r\n",
      "autostr|autostr bres|autostr bres ver vic pad spa\r\n",
      "ciba|ciba spc|ciba spc chem fin lxbg s a\r\n",
      "coentreprise|coentreprise de|coentreprise de transport d'electricite\r\n",
      "compagnie|compagnie fin|compagnie fin ind autoroutes\r\n",
      "distribuidora|distribuidora intl|distribuidora intl de alim sa\r\n",
      "elia|elia system|elia system operator n v\r\n",
      "elia|elia system|elia system operator s a n v\r\n",
      "erdol|erdol lagergesellschaft|erdol lagergesellschaft m b h\r\n",
      "infra|infra park|infra park\r\n",
      "liberty|liberty mutual|liberty mutual fin europe dac\r\n",
      "michelin|michelin luxembourg|michelin luxembourg scs\r\n",
      "o2|o2 telefonica|o2 telefonica dtld finanzier\r\n",
      "red|red electrica|red electrica financ s a u\r\n",
      "regie|regie autonome|regie autonome des transports parisiens\r\n",
      "resa|resa sa|resa sa\r\n",
      "schlumberger|schlumberger fin|schlumberger fin france sas\r\n",
      "siemens|siemens finan|siemens finan maatschappij nv\r\n",
      "sncf|sncf mobilites|sncf mobilites\r\n",
      "unilever|unilever nv|unilever nv\r\n",
      "vivendi|vivendi|vivendi\r\n",
      "vivendi|vivendi s|vivendi s a\r\n",
      "zapadoslovenska|zapadoslovenska energetika|zapadoslovenska energetika as\r\n",
      "compass|compass group|compass group international bv\r\n",
      "siemens|siemens financieringsmaatschappij|siemens financieringsmaatschappij n v\r\n",
      "regie|regie autonome|regie autonome des transports parisiens ratp\r\n",
      "koninklijke|koninklijke ahold|koninklijke ahold delhaize n v\r\n",
      "richemont|richemont international|richemont international holding sa\r\n",
      "richemont|richemont intl|richemont intl holding s a\r\n",
      "compass|compass group|compass group finance netherlands b v\r\n",
      "covivio|covivio hotels|covivio hotels saca\r\n",
      "autostrada|autostrada brescia|autostrada brescia verona vicenza padova s p a\r\n",
      "mondelez|mondelez intl|mondelez intl hldgs nether bv\r\n",
      "international|international consolidated|international consolidated airlines group\r\n",
      "elia|elia transmission|elia transmission belgium\r\n",
      "reckitt|reckitt benckiser|reckitt benckiser treasury services bv\r\n",
      "auchan|auchan holding|auchan holding sa\r\n",
      "acs|acs|acs\r\n",
      "worldline|worldline s|worldline s a\r\n",
      "infrastrutture|infrastrutture wireless|infrastrutture wireless italiane s p a\r\n",
      "akelius|akelius residential|akelius residential property finance b v\r\n",
      "glencore|glencore capital|glencore capital finance dac\r\n",
      "inmobiliaria|inmobiliaria colonial|inmobiliaria colonial\r\n",
      "groupe|groupe bruxelles|groupe bruxelles lambert sa\r\n",
      "nortegas|nortegas energia|nortegas energia distribution\r\n",
      "enodia|enodia scrl|enodia scrl\r\n",
      "imperial|imperial brands|imperial brands finance netherlands b v\r\n",
      "danfoss|danfoss finance|danfoss finance ii bv\r\n",
      "hochtief|hochtief ag|hochtief ag\r\n",
      "\n"
     ]
    }
   ],
   "source": [
    "print(template)"
   ]
  },
  {
   "cell_type": "markdown",
   "metadata": {
    "slideshow": {
     "slide_type": "subslide"
    }
   },
   "source": [
    "Find companies' PermIDs using Record Matching API:"
   ]
  },
  {
   "cell_type": "code",
   "execution_count": 28,
   "metadata": {
    "slideshow": {
     "slide_type": "fragment"
    }
   },
   "outputs": [
    {
     "name": "stdout",
     "output_type": "stream",
     "text": [
      "Processed: 49\n",
      "Matched: \n",
      "  Total 34\n",
      "  Excellent 27\n",
      "  Good 5\n",
      "  Possible 2\n",
      "Unmatched: 15\n"
     ]
    }
   ],
   "source": [
    "match_results = permID.record_matching(permID_token,permIDmatch_url,template)"
   ]
  },
  {
   "cell_type": "markdown",
   "metadata": {
    "slideshow": {
     "slide_type": "skip"
    }
   },
   "source": [
    "Only several companies are not matched. Updating the main datafraime with additionally matched PermIDs:"
   ]
  },
  {
   "cell_type": "code",
   "execution_count": 29,
   "metadata": {
    "slideshow": {
     "slide_type": "skip"
    }
   },
   "outputs": [],
   "source": [
    "df.update(df.drop(columns=['Match OpenPermID']).merge(match_results[match_results['Match OpenPermID'].notna()],\\\n",
    "                                                      left_on = 'NAME', right_on = 'Input_Name', how = 'left'))"
   ]
  },
  {
   "cell_type": "markdown",
   "metadata": {
    "slideshow": {
     "slide_type": "slide"
    }
   },
   "source": [
    "### PermID Entity Search API"
   ]
  },
  {
   "cell_type": "markdown",
   "metadata": {
    "slideshow": {
     "slide_type": "skip"
    }
   },
   "source": [
    "To find PermID for the rest of the companies, we use PermID Entity Search API. Accessing API URL:"
   ]
  },
  {
   "cell_type": "code",
   "execution_count": 30,
   "metadata": {
    "slideshow": {
     "slide_type": "skip"
    }
   },
   "outputs": [],
   "source": [
    "permIDsearch_url = links[links['API']=='permID Entity Search']['URL'].reset_index(drop=True)[0]"
   ]
  },
  {
   "cell_type": "markdown",
   "metadata": {
    "slideshow": {
     "slide_type": "fragment"
    }
   },
   "source": [
    "List of possible queries for each company using columns generated for Record Matching API:"
   ]
  },
  {
   "cell_type": "code",
   "execution_count": 31,
   "metadata": {
    "slideshow": {
     "slide_type": "skip"
    }
   },
   "outputs": [],
   "source": [
    "df['SEARCH'] = df['name'] + '|' + df['NAME'] + '|' + df['ISSUER']"
   ]
  },
  {
   "cell_type": "code",
   "execution_count": 32,
   "metadata": {
    "slideshow": {
     "slide_type": "fragment"
    }
   },
   "outputs": [
    {
     "name": "stdout",
     "output_type": "stream",
     "text": [
      "0        2I|2I RETE|2I RETE GAS SPA|2i|2i rete|2i rete ...\n",
      "4        A2A|A2A SPA|A2A SPA|a2a|a2a s|a2a s p a|A2A S....\n",
      "9        ABB|ABB FINANCE|ABB FINANCE BV|abb|abb finance...\n",
      "12       ABERTIS|ABERTIS INFRAESTRUCTURAS|ABERTIS INFRA...\n",
      "18       ACEA|ACEA SPA|ACEA SPA|acea|acea s|acea s p a|...\n",
      "                               ...                        \n",
      "58501    DANFOSS|DANFOSS FIN|DANFOSS FIN I BV|danfoss|d...\n",
      "58503    DANFOSS|DANFOSS FIN|DANFOSS FIN 2 BV|danfoss|d...\n",
      "58617    HOCHTIEF|HOCHTIEF AKTIENGESELLSCH|HOCHTIEF AKT...\n",
      "58624    VANTAGE|VANTAGE TOWERS|VANTAGE TOWERS AG|vanta...\n",
      "59435    TEREGA|TEREGA SASU|TEREGA SASU|total|total inf...\n",
      "Name: SEARCH, Length: 484, dtype: object\n"
     ]
    }
   ],
   "source": [
    "print(df['SEARCH'].drop_duplicates())"
   ]
  },
  {
   "cell_type": "markdown",
   "metadata": {
    "slideshow": {
     "slide_type": "subslide"
    }
   },
   "source": [
    " - We make reqests with several search queries (first word, first two words, whole name) via Entity Search API for each company that does not have PermID;  \n",
    " - Then we append results of each request to one dataframe;  \n",
    " - From the obtained list we choose the best search result for each company and get corresponding permID."
   ]
  },
  {
   "cell_type": "code",
   "execution_count": 33,
   "metadata": {
    "slideshow": {
     "slide_type": "skip"
    }
   },
   "outputs": [
    {
     "name": "stdout",
     "output_type": "stream",
     "text": [
      "Exception occurred. Suspending and trying again...\n",
      "Exception occurred. Suspending and trying again...\n"
     ]
    }
   ],
   "source": [
    "res = []\n",
    "for name in df[df['Match OpenPermID'].isna()]['SEARCH'].drop_duplicates():\n",
    "    name_results = []\n",
    "    for query in name.split('|'):\n",
    "        search_company = permID.entity_search(permID_token,permIDsearch_url,query)\n",
    "        if search_company['total'] != 0:\n",
    "            name_results = name_results + search_company['entities']\n",
    "    res.append(pd.DataFrame(name_results).assign(ISSUER = name.split('|')[6]))"
   ]
  },
  {
   "cell_type": "markdown",
   "metadata": {
    "slideshow": {
     "slide_type": "skip"
    }
   },
   "source": [
    "<b>Note:</b> In case of an exception the message appears, the request is sent again after a pause."
   ]
  },
  {
   "cell_type": "code",
   "execution_count": 34,
   "metadata": {
    "slideshow": {
     "slide_type": "skip"
    }
   },
   "outputs": [],
   "source": [
    "res = pd.concat(res,ignore_index=True).drop_duplicates()"
   ]
  },
  {
   "cell_type": "markdown",
   "metadata": {
    "slideshow": {
     "slide_type": "skip"
    }
   },
   "source": [
    "Display results:"
   ]
  },
  {
   "cell_type": "code",
   "execution_count": 35,
   "metadata": {
    "scrolled": true,
    "slideshow": {
     "slide_type": "skip"
    }
   },
   "outputs": [
    {
     "data": {
      "text/html": [
       "<div>\n",
       "<style scoped>\n",
       "    .dataframe tbody tr th:only-of-type {\n",
       "        vertical-align: middle;\n",
       "    }\n",
       "\n",
       "    .dataframe tbody tr th {\n",
       "        vertical-align: top;\n",
       "    }\n",
       "\n",
       "    .dataframe thead th {\n",
       "        text-align: right;\n",
       "    }\n",
       "</style>\n",
       "<table border=\"1\" class=\"dataframe\">\n",
       "  <thead>\n",
       "    <tr style=\"text-align: right;\">\n",
       "      <th></th>\n",
       "      <th>ISSUER</th>\n",
       "      <th>organizationName</th>\n",
       "    </tr>\n",
       "  </thead>\n",
       "  <tbody>\n",
       "    <tr>\n",
       "      <th>0</th>\n",
       "      <td>Autostr. Bres.Ver.Vic.Pad. SpA</td>\n",
       "      <td>ASTM SpA</td>\n",
       "    </tr>\n",
       "    <tr>\n",
       "      <th>1</th>\n",
       "      <td>Autostr. Bres.Ver.Vic.Pad. SpA</td>\n",
       "      <td>Societa di Progetto Autostrada Diretta Brescia...</td>\n",
       "    </tr>\n",
       "    <tr>\n",
       "      <th>2</th>\n",
       "      <td>Autostr. Bres.Ver.Vic.Pad. SpA</td>\n",
       "      <td>A4 Holding SpA</td>\n",
       "    </tr>\n",
       "    <tr>\n",
       "      <th>3</th>\n",
       "      <td>Autostr. Bres.Ver.Vic.Pad. SpA</td>\n",
       "      <td>ATIVA Autostrada Torino Ivrea Valle d'Aosta SpA</td>\n",
       "    </tr>\n",
       "    <tr>\n",
       "      <th>4</th>\n",
       "      <td>Autostr. Bres.Ver.Vic.Pad. SpA</td>\n",
       "      <td>Autostrada Albenga Garessio Ceva SpA</td>\n",
       "    </tr>\n",
       "    <tr>\n",
       "      <th>7</th>\n",
       "      <td>Autostr. Bres.Ver.Vic.Pad. SpA</td>\n",
       "      <td>Autostrada Brescia Verona Vicenza Padova SpA</td>\n",
       "    </tr>\n",
       "    <tr>\n",
       "      <th>8</th>\n",
       "      <td>Autostr. Bres.Ver.Vic.Pad. SpA</td>\n",
       "      <td>Autostrada Campogalliano Sassuolo SpA</td>\n",
       "    </tr>\n",
       "    <tr>\n",
       "      <th>9</th>\n",
       "      <td>Autostr. Bres.Ver.Vic.Pad. SpA</td>\n",
       "      <td>Autostrada del Molise SpA</td>\n",
       "    </tr>\n",
       "    <tr>\n",
       "      <th>10</th>\n",
       "      <td>Autostr. Bres.Ver.Vic.Pad. SpA</td>\n",
       "      <td>Mattioda Autostrade SpA</td>\n",
       "    </tr>\n",
       "    <tr>\n",
       "      <th>11</th>\n",
       "      <td>Ciba Spc. Chem. Fin. Lxbg S.A.</td>\n",
       "      <td>Ciba Vision Corp</td>\n",
       "    </tr>\n",
       "    <tr>\n",
       "      <th>12</th>\n",
       "      <td>Ciba Spc. Chem. Fin. Lxbg S.A.</td>\n",
       "      <td>CIBA Vision SA</td>\n",
       "    </tr>\n",
       "    <tr>\n",
       "      <th>13</th>\n",
       "      <td>Ciba Spc. Chem. Fin. Lxbg S.A.</td>\n",
       "      <td>CIBA Corp</td>\n",
       "    </tr>\n",
       "    <tr>\n",
       "      <th>14</th>\n",
       "      <td>Ciba Spc. Chem. Fin. Lxbg S.A.</td>\n",
       "      <td>Syngenta Crop Protection AG</td>\n",
       "    </tr>\n",
       "    <tr>\n",
       "      <th>15</th>\n",
       "      <td>Ciba Spc. Chem. Fin. Lxbg S.A.</td>\n",
       "      <td>Nihon Ciba Geigy KK</td>\n",
       "    </tr>\n",
       "    <tr>\n",
       "      <th>16</th>\n",
       "      <td>Ciba Spc. Chem. Fin. Lxbg S.A.</td>\n",
       "      <td>CIBA SPECIAL-S</td>\n",
       "    </tr>\n",
       "    <tr>\n",
       "      <th>17</th>\n",
       "      <td>Ciba Spc. Chem. Fin. Lxbg S.A.</td>\n",
       "      <td>Ciba Specialty Chemicals Canada Inc</td>\n",
       "    </tr>\n",
       "    <tr>\n",
       "      <th>18</th>\n",
       "      <td>Ciba Spc. Chem. Fin. Lxbg S.A.</td>\n",
       "      <td>CIBA Specialty Chemicals Holdings NA Corp</td>\n",
       "    </tr>\n",
       "    <tr>\n",
       "      <th>19</th>\n",
       "      <td>Ciba Spc. Chem. Fin. Lxbg S.A.</td>\n",
       "      <td>CIBA Specialty Chemicals Korea YH</td>\n",
       "    </tr>\n",
       "    <tr>\n",
       "      <th>25</th>\n",
       "      <td>Compagnie Fin. Ind. Autoroutes</td>\n",
       "      <td>Canadian National Railway Co</td>\n",
       "    </tr>\n",
       "    <tr>\n",
       "      <th>26</th>\n",
       "      <td>Compagnie Fin. Ind. Autoroutes</td>\n",
       "      <td>Compagnie Generale des Etablissements Michelin...</td>\n",
       "    </tr>\n",
       "    <tr>\n",
       "      <th>27</th>\n",
       "      <td>Compagnie Fin. Ind. Autoroutes</td>\n",
       "      <td>Compagnie de Saint Gobain SA</td>\n",
       "    </tr>\n",
       "    <tr>\n",
       "      <th>28</th>\n",
       "      <td>Compagnie Fin. Ind. Autoroutes</td>\n",
       "      <td>Imperial Oil Ltd</td>\n",
       "    </tr>\n",
       "    <tr>\n",
       "      <th>29</th>\n",
       "      <td>Compagnie Fin. Ind. Autoroutes</td>\n",
       "      <td>Compagnie Financiere Richemont SA</td>\n",
       "    </tr>\n",
       "    <tr>\n",
       "      <th>30</th>\n",
       "      <td>Compagnie Fin. Ind. Autoroutes</td>\n",
       "      <td>Viel et Compagnie Finance SE</td>\n",
       "    </tr>\n",
       "    <tr>\n",
       "      <th>31</th>\n",
       "      <td>Compagnie Fin. Ind. Autoroutes</td>\n",
       "      <td>Compagnie Gestion &amp; Finance SA</td>\n",
       "    </tr>\n",
       "    <tr>\n",
       "      <th>32</th>\n",
       "      <td>Compagnie Fin. Ind. Autoroutes</td>\n",
       "      <td>Cie Financiere Sfac</td>\n",
       "    </tr>\n",
       "    <tr>\n",
       "      <th>33</th>\n",
       "      <td>Compagnie Fin. Ind. Autoroutes</td>\n",
       "      <td>Compagnie Cosmopolitaine de Finance SA</td>\n",
       "    </tr>\n",
       "    <tr>\n",
       "      <th>34</th>\n",
       "      <td>Compagnie Fin. Ind. Autoroutes</td>\n",
       "      <td>Compagnie Europeenne de Finance SARL</td>\n",
       "    </tr>\n",
       "    <tr>\n",
       "      <th>35</th>\n",
       "      <td>Compagnie Fin. Ind. Autoroutes</td>\n",
       "      <td>Compagnie Indust Et Finan Des Prod Amyplaces</td>\n",
       "    </tr>\n",
       "    <tr>\n",
       "      <th>36</th>\n",
       "      <td>Compagnie Fin. Ind. Autoroutes</td>\n",
       "      <td>Et Compagnie</td>\n",
       "    </tr>\n",
       "    <tr>\n",
       "      <th>47</th>\n",
       "      <td>Distribuidora Intl de Alim.SA</td>\n",
       "      <td>Fluxys Belgium NV</td>\n",
       "    </tr>\n",
       "    <tr>\n",
       "      <th>48</th>\n",
       "      <td>Distribuidora Intl de Alim.SA</td>\n",
       "      <td>DistIT AB</td>\n",
       "    </tr>\n",
       "    <tr>\n",
       "      <th>49</th>\n",
       "      <td>Distribuidora Intl de Alim.SA</td>\n",
       "      <td>Abu Dhabi National Oil Company for Distributio...</td>\n",
       "    </tr>\n",
       "    <tr>\n",
       "      <th>50</th>\n",
       "      <td>Distribuidora Intl de Alim.SA</td>\n",
       "      <td>Petrobras Distribuidora SA</td>\n",
       "    </tr>\n",
       "    <tr>\n",
       "      <th>51</th>\n",
       "      <td>Distribuidora Intl de Alim.SA</td>\n",
       "      <td>Compania de Distribucion Integral Logista Hold...</td>\n",
       "    </tr>\n",
       "    <tr>\n",
       "      <th>52</th>\n",
       "      <td>Distribuidora Intl de Alim.SA</td>\n",
       "      <td>Nex International Ltd</td>\n",
       "    </tr>\n",
       "    <tr>\n",
       "      <th>53</th>\n",
       "      <td>Distribuidora Intl de Alim.SA</td>\n",
       "      <td>Distribuidora Internacional de Alimentacion SA</td>\n",
       "    </tr>\n",
       "    <tr>\n",
       "      <th>54</th>\n",
       "      <td>Distribuidora Intl de Alim.SA</td>\n",
       "      <td>Administracion Nacional de Combustibles Alcoho...</td>\n",
       "    </tr>\n",
       "    <tr>\n",
       "      <th>56</th>\n",
       "      <td>Distribuidora Intl de Alim.SA</td>\n",
       "      <td>Energisa Mato Grosso do Sul Distribuidora de E...</td>\n",
       "    </tr>\n",
       "    <tr>\n",
       "      <th>57</th>\n",
       "      <td>Distribuidora Intl de Alim.SA</td>\n",
       "      <td>Importadora y Distribuidora Herbalife Internat...</td>\n",
       "    </tr>\n",
       "    <tr>\n",
       "      <th>58</th>\n",
       "      <td>Distribuidora Intl de Alim.SA</td>\n",
       "      <td>JT International Distribuidora de Cigarros Ltda</td>\n",
       "    </tr>\n",
       "    <tr>\n",
       "      <th>59</th>\n",
       "      <td>ELIA SYSTEM OPERATOR N.V.</td>\n",
       "      <td>Elia Group SA</td>\n",
       "    </tr>\n",
       "    <tr>\n",
       "      <th>60</th>\n",
       "      <td>ELIA SYSTEM OPERATOR N.V.</td>\n",
       "      <td>Akel Minott Elia (Desg)</td>\n",
       "    </tr>\n",
       "    <tr>\n",
       "      <th>61</th>\n",
       "      <td>ELIA SYSTEM OPERATOR N.V.</td>\n",
       "      <td>ANDREW D ELIA</td>\n",
       "    </tr>\n",
       "    <tr>\n",
       "      <th>62</th>\n",
       "      <td>ELIA SYSTEM OPERATOR N.V.</td>\n",
       "      <td>Bagno Elia Srl</td>\n",
       "    </tr>\n",
       "    <tr>\n",
       "      <th>63</th>\n",
       "      <td>ELIA SYSTEM OPERATOR N.V.</td>\n",
       "      <td>Bano Elia &amp; C SNC</td>\n",
       "    </tr>\n",
       "    <tr>\n",
       "      <th>64</th>\n",
       "      <td>ELIA SYSTEM OPERATOR N.V.</td>\n",
       "      <td>Elia Transmission Belgium NV</td>\n",
       "    </tr>\n",
       "    <tr>\n",
       "      <th>70</th>\n",
       "      <td>ELIA SYSTEM OPERATOR N.V.</td>\n",
       "      <td>Elia</td>\n",
       "    </tr>\n",
       "    <tr>\n",
       "      <th>71</th>\n",
       "      <td>Elia System Operator S.A./N.V.</td>\n",
       "      <td>Elia Group SA</td>\n",
       "    </tr>\n",
       "    <tr>\n",
       "      <th>72</th>\n",
       "      <td>Elia System Operator S.A./N.V.</td>\n",
       "      <td>Akel Minott Elia (Desg)</td>\n",
       "    </tr>\n",
       "    <tr>\n",
       "      <th>73</th>\n",
       "      <td>Elia System Operator S.A./N.V.</td>\n",
       "      <td>ANDREW D ELIA</td>\n",
       "    </tr>\n",
       "    <tr>\n",
       "      <th>74</th>\n",
       "      <td>Elia System Operator S.A./N.V.</td>\n",
       "      <td>Bagno Elia Srl</td>\n",
       "    </tr>\n",
       "    <tr>\n",
       "      <th>75</th>\n",
       "      <td>Elia System Operator S.A./N.V.</td>\n",
       "      <td>Bano Elia &amp; C SNC</td>\n",
       "    </tr>\n",
       "    <tr>\n",
       "      <th>76</th>\n",
       "      <td>Elia System Operator S.A./N.V.</td>\n",
       "      <td>Elia Transmission Belgium NV</td>\n",
       "    </tr>\n",
       "    <tr>\n",
       "      <th>82</th>\n",
       "      <td>Elia System Operator S.A./N.V.</td>\n",
       "      <td>Elia</td>\n",
       "    </tr>\n",
       "    <tr>\n",
       "      <th>95</th>\n",
       "      <td>O2 Telefónica Dtld. Finanzier.</td>\n",
       "      <td>Telefonica Holding de Argentina SA</td>\n",
       "    </tr>\n",
       "    <tr>\n",
       "      <th>96</th>\n",
       "      <td>O2 Telefónica Dtld. Finanzier.</td>\n",
       "      <td>O2 Czech Republic as</td>\n",
       "    </tr>\n",
       "    <tr>\n",
       "      <th>97</th>\n",
       "      <td>O2 Telefónica Dtld. Finanzier.</td>\n",
       "      <td>O2 Secure Wireless Inc</td>\n",
       "    </tr>\n",
       "    <tr>\n",
       "      <th>98</th>\n",
       "      <td>O2 Telefónica Dtld. Finanzier.</td>\n",
       "      <td>O2micro International Ltd</td>\n",
       "    </tr>\n",
       "    <tr>\n",
       "      <th>99</th>\n",
       "      <td>O2 Telefónica Dtld. Finanzier.</td>\n",
       "      <td>Oxygen Audio SA</td>\n",
       "    </tr>\n",
       "    <tr>\n",
       "      <th>100</th>\n",
       "      <td>O2 Telefónica Dtld. Finanzier.</td>\n",
       "      <td>O2 (UK) Ltd</td>\n",
       "    </tr>\n",
       "    <tr>\n",
       "      <th>101</th>\n",
       "      <td>O2 Telefónica Dtld. Finanzier.</td>\n",
       "      <td>Telefonica O2 Holdings Ltd</td>\n",
       "    </tr>\n",
       "    <tr>\n",
       "      <th>102</th>\n",
       "      <td>O2 Telefónica Dtld. Finanzier.</td>\n",
       "      <td>Telefonica O2 Ireland Ltd</td>\n",
       "    </tr>\n",
       "    <tr>\n",
       "      <th>103</th>\n",
       "      <td>O2 Telefónica Dtld. Finanzier.</td>\n",
       "      <td>O2 Telefonica Deutschland Finanzierungs GmbH</td>\n",
       "    </tr>\n",
       "    <tr>\n",
       "      <th>104</th>\n",
       "      <td>O2 Telefónica Dtld. Finanzier.</td>\n",
       "      <td>Telefonica O2 Business Solutions spol s ro</td>\n",
       "    </tr>\n",
       "    <tr>\n",
       "      <th>105</th>\n",
       "      <td>Red Eléctrica Financ. S.A.U.</td>\n",
       "      <td>Red Hat Inc</td>\n",
       "    </tr>\n",
       "    <tr>\n",
       "      <th>106</th>\n",
       "      <td>Red Eléctrica Financ. S.A.U.</td>\n",
       "      <td>Red Electrica Corporacion SA</td>\n",
       "    </tr>\n",
       "    <tr>\n",
       "      <th>107</th>\n",
       "      <td>Red Eléctrica Financ. S.A.U.</td>\n",
       "      <td>Red Robin Gourmet Burgers Inc</td>\n",
       "    </tr>\n",
       "    <tr>\n",
       "      <th>108</th>\n",
       "      <td>Red Eléctrica Financ. S.A.U.</td>\n",
       "      <td>Red Sea International Company</td>\n",
       "    </tr>\n",
       "    <tr>\n",
       "      <th>109</th>\n",
       "      <td>Red Eléctrica Financ. S.A.U.</td>\n",
       "      <td>Red Pine Exploration Inc</td>\n",
       "    </tr>\n",
       "    <tr>\n",
       "      <th>111</th>\n",
       "      <td>Red Eléctrica Financ. S.A.U.</td>\n",
       "      <td>Red Electrica de Espana SA</td>\n",
       "    </tr>\n",
       "    <tr>\n",
       "      <th>112</th>\n",
       "      <td>Red Eléctrica Financ. S.A.U.</td>\n",
       "      <td>Red Electrica Andina SA</td>\n",
       "    </tr>\n",
       "    <tr>\n",
       "      <th>113</th>\n",
       "      <td>Red Eléctrica Financ. S.A.U.</td>\n",
       "      <td>Red Electrica Brasil Holding Ltda</td>\n",
       "    </tr>\n",
       "    <tr>\n",
       "      <th>114</th>\n",
       "      <td>Red Eléctrica Financ. S.A.U.</td>\n",
       "      <td>Red Electrica Chile SpA</td>\n",
       "    </tr>\n",
       "    <tr>\n",
       "      <th>125</th>\n",
       "      <td>Red Eléctrica Financ. S.A.U.</td>\n",
       "      <td>Red Electrica Financiaciones SAU</td>\n",
       "    </tr>\n",
       "    <tr>\n",
       "      <th>126</th>\n",
       "      <td>RESA SA</td>\n",
       "      <td>Resaphene Suisse AG</td>\n",
       "    </tr>\n",
       "    <tr>\n",
       "      <th>127</th>\n",
       "      <td>RESA SA</td>\n",
       "      <td>AMUNDI RESA ACTIONS FRANCE</td>\n",
       "    </tr>\n",
       "    <tr>\n",
       "      <th>128</th>\n",
       "      <td>RESA SA</td>\n",
       "      <td>AMUNDI RESA ACTIONS</td>\n",
       "    </tr>\n",
       "    <tr>\n",
       "      <th>129</th>\n",
       "      <td>RESA SA</td>\n",
       "      <td>AMUNDI RESA DYNAMIQUE</td>\n",
       "    </tr>\n",
       "    <tr>\n",
       "      <th>130</th>\n",
       "      <td>RESA SA</td>\n",
       "      <td>AMUNDI RESA EQUILIBRE</td>\n",
       "    </tr>\n",
       "    <tr>\n",
       "      <th>131</th>\n",
       "      <td>RESA SA</td>\n",
       "      <td>Plasticos Resa SA de CV</td>\n",
       "    </tr>\n",
       "    <tr>\n",
       "      <th>132</th>\n",
       "      <td>RESA SA</td>\n",
       "      <td>Realisations Electroniques Spatiales Et Aerona...</td>\n",
       "    </tr>\n",
       "    <tr>\n",
       "      <th>133</th>\n",
       "      <td>RESA SA</td>\n",
       "      <td>Resa Guipuzcoana SA</td>\n",
       "    </tr>\n",
       "    <tr>\n",
       "      <th>134</th>\n",
       "      <td>RESA SA</td>\n",
       "      <td>RESA Immo Tatroz S.A.</td>\n",
       "    </tr>\n",
       "    <tr>\n",
       "      <th>135</th>\n",
       "      <td>RESA SA</td>\n",
       "      <td>Resa SA</td>\n",
       "    </tr>\n",
       "    <tr>\n",
       "      <th>156</th>\n",
       "      <td>SNCF MOBILITES</td>\n",
       "      <td>Societe Nationale SNCF SA</td>\n",
       "    </tr>\n",
       "    <tr>\n",
       "      <th>157</th>\n",
       "      <td>SNCF MOBILITES</td>\n",
       "      <td>Sncf Reseau SA</td>\n",
       "    </tr>\n",
       "    <tr>\n",
       "      <th>158</th>\n",
       "      <td>SNCF MOBILITES</td>\n",
       "      <td>Sncf Participations SAS</td>\n",
       "    </tr>\n",
       "    <tr>\n",
       "      <th>159</th>\n",
       "      <td>SNCF MOBILITES</td>\n",
       "      <td>L'Agence Voyages-SNCF.Com SAS</td>\n",
       "    </tr>\n",
       "    <tr>\n",
       "      <th>160</th>\n",
       "      <td>SNCF MOBILITES</td>\n",
       "      <td>Caisse de Prevoyance et de Retraite du personn...</td>\n",
       "    </tr>\n",
       "    <tr>\n",
       "      <th>166</th>\n",
       "      <td>Unilever NV</td>\n",
       "      <td>Unilever PLC</td>\n",
       "    </tr>\n",
       "    <tr>\n",
       "      <th>167</th>\n",
       "      <td>Unilever NV</td>\n",
       "      <td>Hindustan Unilever Ltd</td>\n",
       "    </tr>\n",
       "    <tr>\n",
       "      <th>168</th>\n",
       "      <td>Unilever NV</td>\n",
       "      <td>Unilever Group</td>\n",
       "    </tr>\n",
       "    <tr>\n",
       "      <th>169</th>\n",
       "      <td>Unilever NV</td>\n",
       "      <td>Unilever Indonesia Tbk PT</td>\n",
       "    </tr>\n",
       "    <tr>\n",
       "      <th>170</th>\n",
       "      <td>Unilever NV</td>\n",
       "      <td>A &amp; W Food Services of Canada Inc</td>\n",
       "    </tr>\n",
       "    <tr>\n",
       "      <th>171</th>\n",
       "      <td>Unilever NV</td>\n",
       "      <td>BIOLYN(UNILEVER NV)</td>\n",
       "    </tr>\n",
       "    <tr>\n",
       "      <th>172</th>\n",
       "      <td>Unilever NV</td>\n",
       "      <td>Boursault(Unilever Nv)</td>\n",
       "    </tr>\n",
       "    <tr>\n",
       "      <th>173</th>\n",
       "      <td>Unilever NV</td>\n",
       "      <td>Chesebrough Pond's Inc</td>\n",
       "    </tr>\n",
       "    <tr>\n",
       "      <th>174</th>\n",
       "      <td>Unilever NV</td>\n",
       "      <td>DERO(UNILEVER NV)</td>\n",
       "    </tr>\n",
       "    <tr>\n",
       "      <th>175</th>\n",
       "      <td>Unilever NV</td>\n",
       "      <td>Deutsche Unilever GmbH</td>\n",
       "    </tr>\n",
       "    <tr>\n",
       "      <th>201</th>\n",
       "      <td>Vivendi S.A.</td>\n",
       "      <td>Vivendi SE</td>\n",
       "    </tr>\n",
       "    <tr>\n",
       "      <th>202</th>\n",
       "      <td>Vivendi S.A.</td>\n",
       "      <td>Veolia Energie International SA</td>\n",
       "    </tr>\n",
       "    <tr>\n",
       "      <th>203</th>\n",
       "      <td>Vivendi S.A.</td>\n",
       "      <td>Vivendi Entertainment</td>\n",
       "    </tr>\n",
       "    <tr>\n",
       "      <th>204</th>\n",
       "      <td>Vivendi S.A.</td>\n",
       "      <td>Vivendi Games Inc</td>\n",
       "    </tr>\n",
       "    <tr>\n",
       "      <th>205</th>\n",
       "      <td>Vivendi S.A.</td>\n",
       "      <td>01net(Vivendi Universal)</td>\n",
       "    </tr>\n",
       "    <tr>\n",
       "      <th>207</th>\n",
       "      <td>Vivendi S.A.</td>\n",
       "      <td>Aqua Alliance Inc</td>\n",
       "    </tr>\n",
       "    <tr>\n",
       "      <th>208</th>\n",
       "      <td>Vivendi S.A.</td>\n",
       "      <td>ATI(VIVENDI SA)</td>\n",
       "    </tr>\n",
       "    <tr>\n",
       "      <th>209</th>\n",
       "      <td>Vivendi S.A.</td>\n",
       "      <td>Atviso(Vivendi Sa Softbank Co)</td>\n",
       "    </tr>\n",
       "    <tr>\n",
       "      <th>210</th>\n",
       "      <td>Vivendi S.A.</td>\n",
       "      <td>Beneport Sa(Vivendi Sa)</td>\n",
       "    </tr>\n",
       "    <tr>\n",
       "      <th>231</th>\n",
       "      <td>Covivio Hotels SACA, Paris</td>\n",
       "      <td>Covivio SA</td>\n",
       "    </tr>\n",
       "    <tr>\n",
       "      <th>232</th>\n",
       "      <td>Covivio Hotels SACA, Paris</td>\n",
       "      <td>Covivio Hotels SCA</td>\n",
       "    </tr>\n",
       "    <tr>\n",
       "      <th>233</th>\n",
       "      <td>Covivio Hotels SACA, Paris</td>\n",
       "      <td>Covivio Berlin IV ApS</td>\n",
       "    </tr>\n",
       "    <tr>\n",
       "      <th>234</th>\n",
       "      <td>Covivio Hotels SACA, Paris</td>\n",
       "      <td>Covivio 2 SAS</td>\n",
       "    </tr>\n",
       "    <tr>\n",
       "      <th>235</th>\n",
       "      <td>Covivio Hotels SACA, Paris</td>\n",
       "      <td>Covivio 4 SARL</td>\n",
       "    </tr>\n",
       "    <tr>\n",
       "      <th>243</th>\n",
       "      <td>Mondelez Intl Hldgs Nether. BV</td>\n",
       "      <td>Mondelez International Inc</td>\n",
       "    </tr>\n",
       "    <tr>\n",
       "      <th>244</th>\n",
       "      <td>Mondelez Intl Hldgs Nether. BV</td>\n",
       "      <td>Mondelez Australia Pty Ltd</td>\n",
       "    </tr>\n",
       "    <tr>\n",
       "      <th>245</th>\n",
       "      <td>Mondelez Intl Hldgs Nether. BV</td>\n",
       "      <td>Mondelez Uk Holdings &amp; Services Ltd</td>\n",
       "    </tr>\n",
       "    <tr>\n",
       "      <th>246</th>\n",
       "      <td>Mondelez Intl Hldgs Nether. BV</td>\n",
       "      <td>Mondelez Europe GmbH</td>\n",
       "    </tr>\n",
       "    <tr>\n",
       "      <th>247</th>\n",
       "      <td>Mondelez Intl Hldgs Nether. BV</td>\n",
       "      <td>Mondelez India Foods Pvt Ltd</td>\n",
       "    </tr>\n",
       "    <tr>\n",
       "      <th>249</th>\n",
       "      <td>Mondelez Intl Hldgs Nether. BV</td>\n",
       "      <td>Mondelez International Holdings Netherlands BV</td>\n",
       "    </tr>\n",
       "    <tr>\n",
       "      <th>250</th>\n",
       "      <td>Mondelez Intl Hldgs Nether. BV</td>\n",
       "      <td>Mondelez International Amea Pte Ltd</td>\n",
       "    </tr>\n",
       "    <tr>\n",
       "      <th>251</th>\n",
       "      <td>Mondelez Intl Hldgs Nether. BV</td>\n",
       "      <td>Mondelez International Bel OOO</td>\n",
       "    </tr>\n",
       "    <tr>\n",
       "      <th>252</th>\n",
       "      <td>Mondelez Intl Hldgs Nether. BV</td>\n",
       "      <td>Mondelez International Belgium BVBA</td>\n",
       "    </tr>\n",
       "    <tr>\n",
       "      <th>263</th>\n",
       "      <td>Auchan Holding SA</td>\n",
       "      <td>Eldorado Gold Corp</td>\n",
       "    </tr>\n",
       "    <tr>\n",
       "      <th>264</th>\n",
       "      <td>Auchan Holding SA</td>\n",
       "      <td>Elo SA</td>\n",
       "    </tr>\n",
       "    <tr>\n",
       "      <th>265</th>\n",
       "      <td>Auchan Holding SA</td>\n",
       "      <td>Eloro Resources Ltd</td>\n",
       "    </tr>\n",
       "    <tr>\n",
       "      <th>266</th>\n",
       "      <td>Auchan Holding SA</td>\n",
       "      <td>Elo Mutual Pension Insurance Co</td>\n",
       "    </tr>\n",
       "    <tr>\n",
       "      <th>267</th>\n",
       "      <td>Auchan Holding SA</td>\n",
       "      <td>Elo Touch Solutions Inc</td>\n",
       "    </tr>\n",
       "    <tr>\n",
       "      <th>269</th>\n",
       "      <td>Auchan Holding SA</td>\n",
       "      <td>Oney Bank SA</td>\n",
       "    </tr>\n",
       "    <tr>\n",
       "      <th>270</th>\n",
       "      <td>Auchan Holding SA</td>\n",
       "      <td>Auchan Romania SA</td>\n",
       "    </tr>\n",
       "    <tr>\n",
       "      <th>271</th>\n",
       "      <td>Auchan Holding SA</td>\n",
       "      <td>Anhui Auchan Hypermarket Co Ltd</td>\n",
       "    </tr>\n",
       "    <tr>\n",
       "      <th>272</th>\n",
       "      <td>Auchan Holding SA</td>\n",
       "      <td>Anhui Auchan Hypermarkets Co Ltd</td>\n",
       "    </tr>\n",
       "    <tr>\n",
       "      <th>273</th>\n",
       "      <td>Auchan Holding SA</td>\n",
       "      <td>Auchan II Holding UK Ltd</td>\n",
       "    </tr>\n",
       "    <tr>\n",
       "      <th>274</th>\n",
       "      <td>Auchan Holding SA</td>\n",
       "      <td>Auchan Assurances</td>\n",
       "    </tr>\n",
       "    <tr>\n",
       "      <th>275</th>\n",
       "      <td>Auchan Holding SA</td>\n",
       "      <td>Auchan Fly</td>\n",
       "    </tr>\n",
       "    <tr>\n",
       "      <th>276</th>\n",
       "      <td>Auchan Holding SA</td>\n",
       "      <td>Auchan Nedvizhimost' OOO</td>\n",
       "    </tr>\n",
       "    <tr>\n",
       "      <th>277</th>\n",
       "      <td>Auchan Holding SA</td>\n",
       "      <td>Auchan OOO</td>\n",
       "    </tr>\n",
       "    <tr>\n",
       "      <th>278</th>\n",
       "      <td>Auchan Holding SA</td>\n",
       "      <td>Auchan Supermarche SAS</td>\n",
       "    </tr>\n",
       "  </tbody>\n",
       "</table>\n",
       "</div>"
      ],
      "text/plain": [
       "                             ISSUER  \\\n",
       "0    Autostr. Bres.Ver.Vic.Pad. SpA   \n",
       "1    Autostr. Bres.Ver.Vic.Pad. SpA   \n",
       "2    Autostr. Bres.Ver.Vic.Pad. SpA   \n",
       "3    Autostr. Bres.Ver.Vic.Pad. SpA   \n",
       "4    Autostr. Bres.Ver.Vic.Pad. SpA   \n",
       "7    Autostr. Bres.Ver.Vic.Pad. SpA   \n",
       "8    Autostr. Bres.Ver.Vic.Pad. SpA   \n",
       "9    Autostr. Bres.Ver.Vic.Pad. SpA   \n",
       "10   Autostr. Bres.Ver.Vic.Pad. SpA   \n",
       "11   Ciba Spc. Chem. Fin. Lxbg S.A.   \n",
       "12   Ciba Spc. Chem. Fin. Lxbg S.A.   \n",
       "13   Ciba Spc. Chem. Fin. Lxbg S.A.   \n",
       "14   Ciba Spc. Chem. Fin. Lxbg S.A.   \n",
       "15   Ciba Spc. Chem. Fin. Lxbg S.A.   \n",
       "16   Ciba Spc. Chem. Fin. Lxbg S.A.   \n",
       "17   Ciba Spc. Chem. Fin. Lxbg S.A.   \n",
       "18   Ciba Spc. Chem. Fin. Lxbg S.A.   \n",
       "19   Ciba Spc. Chem. Fin. Lxbg S.A.   \n",
       "25   Compagnie Fin. Ind. Autoroutes   \n",
       "26   Compagnie Fin. Ind. Autoroutes   \n",
       "27   Compagnie Fin. Ind. Autoroutes   \n",
       "28   Compagnie Fin. Ind. Autoroutes   \n",
       "29   Compagnie Fin. Ind. Autoroutes   \n",
       "30   Compagnie Fin. Ind. Autoroutes   \n",
       "31   Compagnie Fin. Ind. Autoroutes   \n",
       "32   Compagnie Fin. Ind. Autoroutes   \n",
       "33   Compagnie Fin. Ind. Autoroutes   \n",
       "34   Compagnie Fin. Ind. Autoroutes   \n",
       "35   Compagnie Fin. Ind. Autoroutes   \n",
       "36   Compagnie Fin. Ind. Autoroutes   \n",
       "47    Distribuidora Intl de Alim.SA   \n",
       "48    Distribuidora Intl de Alim.SA   \n",
       "49    Distribuidora Intl de Alim.SA   \n",
       "50    Distribuidora Intl de Alim.SA   \n",
       "51    Distribuidora Intl de Alim.SA   \n",
       "52    Distribuidora Intl de Alim.SA   \n",
       "53    Distribuidora Intl de Alim.SA   \n",
       "54    Distribuidora Intl de Alim.SA   \n",
       "56    Distribuidora Intl de Alim.SA   \n",
       "57    Distribuidora Intl de Alim.SA   \n",
       "58    Distribuidora Intl de Alim.SA   \n",
       "59        ELIA SYSTEM OPERATOR N.V.   \n",
       "60        ELIA SYSTEM OPERATOR N.V.   \n",
       "61        ELIA SYSTEM OPERATOR N.V.   \n",
       "62        ELIA SYSTEM OPERATOR N.V.   \n",
       "63        ELIA SYSTEM OPERATOR N.V.   \n",
       "64        ELIA SYSTEM OPERATOR N.V.   \n",
       "70        ELIA SYSTEM OPERATOR N.V.   \n",
       "71   Elia System Operator S.A./N.V.   \n",
       "72   Elia System Operator S.A./N.V.   \n",
       "73   Elia System Operator S.A./N.V.   \n",
       "74   Elia System Operator S.A./N.V.   \n",
       "75   Elia System Operator S.A./N.V.   \n",
       "76   Elia System Operator S.A./N.V.   \n",
       "82   Elia System Operator S.A./N.V.   \n",
       "95   O2 Telefónica Dtld. Finanzier.   \n",
       "96   O2 Telefónica Dtld. Finanzier.   \n",
       "97   O2 Telefónica Dtld. Finanzier.   \n",
       "98   O2 Telefónica Dtld. Finanzier.   \n",
       "99   O2 Telefónica Dtld. Finanzier.   \n",
       "100  O2 Telefónica Dtld. Finanzier.   \n",
       "101  O2 Telefónica Dtld. Finanzier.   \n",
       "102  O2 Telefónica Dtld. Finanzier.   \n",
       "103  O2 Telefónica Dtld. Finanzier.   \n",
       "104  O2 Telefónica Dtld. Finanzier.   \n",
       "105    Red Eléctrica Financ. S.A.U.   \n",
       "106    Red Eléctrica Financ. S.A.U.   \n",
       "107    Red Eléctrica Financ. S.A.U.   \n",
       "108    Red Eléctrica Financ. S.A.U.   \n",
       "109    Red Eléctrica Financ. S.A.U.   \n",
       "111    Red Eléctrica Financ. S.A.U.   \n",
       "112    Red Eléctrica Financ. S.A.U.   \n",
       "113    Red Eléctrica Financ. S.A.U.   \n",
       "114    Red Eléctrica Financ. S.A.U.   \n",
       "125    Red Eléctrica Financ. S.A.U.   \n",
       "126                         RESA SA   \n",
       "127                         RESA SA   \n",
       "128                         RESA SA   \n",
       "129                         RESA SA   \n",
       "130                         RESA SA   \n",
       "131                         RESA SA   \n",
       "132                         RESA SA   \n",
       "133                         RESA SA   \n",
       "134                         RESA SA   \n",
       "135                         RESA SA   \n",
       "156                  SNCF MOBILITES   \n",
       "157                  SNCF MOBILITES   \n",
       "158                  SNCF MOBILITES   \n",
       "159                  SNCF MOBILITES   \n",
       "160                  SNCF MOBILITES   \n",
       "166                     Unilever NV   \n",
       "167                     Unilever NV   \n",
       "168                     Unilever NV   \n",
       "169                     Unilever NV   \n",
       "170                     Unilever NV   \n",
       "171                     Unilever NV   \n",
       "172                     Unilever NV   \n",
       "173                     Unilever NV   \n",
       "174                     Unilever NV   \n",
       "175                     Unilever NV   \n",
       "201                    Vivendi S.A.   \n",
       "202                    Vivendi S.A.   \n",
       "203                    Vivendi S.A.   \n",
       "204                    Vivendi S.A.   \n",
       "205                    Vivendi S.A.   \n",
       "207                    Vivendi S.A.   \n",
       "208                    Vivendi S.A.   \n",
       "209                    Vivendi S.A.   \n",
       "210                    Vivendi S.A.   \n",
       "231      Covivio Hotels SACA, Paris   \n",
       "232      Covivio Hotels SACA, Paris   \n",
       "233      Covivio Hotels SACA, Paris   \n",
       "234      Covivio Hotels SACA, Paris   \n",
       "235      Covivio Hotels SACA, Paris   \n",
       "243  Mondelez Intl Hldgs Nether. BV   \n",
       "244  Mondelez Intl Hldgs Nether. BV   \n",
       "245  Mondelez Intl Hldgs Nether. BV   \n",
       "246  Mondelez Intl Hldgs Nether. BV   \n",
       "247  Mondelez Intl Hldgs Nether. BV   \n",
       "249  Mondelez Intl Hldgs Nether. BV   \n",
       "250  Mondelez Intl Hldgs Nether. BV   \n",
       "251  Mondelez Intl Hldgs Nether. BV   \n",
       "252  Mondelez Intl Hldgs Nether. BV   \n",
       "263               Auchan Holding SA   \n",
       "264               Auchan Holding SA   \n",
       "265               Auchan Holding SA   \n",
       "266               Auchan Holding SA   \n",
       "267               Auchan Holding SA   \n",
       "269               Auchan Holding SA   \n",
       "270               Auchan Holding SA   \n",
       "271               Auchan Holding SA   \n",
       "272               Auchan Holding SA   \n",
       "273               Auchan Holding SA   \n",
       "274               Auchan Holding SA   \n",
       "275               Auchan Holding SA   \n",
       "276               Auchan Holding SA   \n",
       "277               Auchan Holding SA   \n",
       "278               Auchan Holding SA   \n",
       "\n",
       "                                      organizationName  \n",
       "0                                             ASTM SpA  \n",
       "1    Societa di Progetto Autostrada Diretta Brescia...  \n",
       "2                                       A4 Holding SpA  \n",
       "3      ATIVA Autostrada Torino Ivrea Valle d'Aosta SpA  \n",
       "4                 Autostrada Albenga Garessio Ceva SpA  \n",
       "7         Autostrada Brescia Verona Vicenza Padova SpA  \n",
       "8                Autostrada Campogalliano Sassuolo SpA  \n",
       "9                            Autostrada del Molise SpA  \n",
       "10                             Mattioda Autostrade SpA  \n",
       "11                                    Ciba Vision Corp  \n",
       "12                                      CIBA Vision SA  \n",
       "13                                           CIBA Corp  \n",
       "14                         Syngenta Crop Protection AG  \n",
       "15                                 Nihon Ciba Geigy KK  \n",
       "16                                      CIBA SPECIAL-S  \n",
       "17                 Ciba Specialty Chemicals Canada Inc  \n",
       "18           CIBA Specialty Chemicals Holdings NA Corp  \n",
       "19                   CIBA Specialty Chemicals Korea YH  \n",
       "25                        Canadian National Railway Co  \n",
       "26   Compagnie Generale des Etablissements Michelin...  \n",
       "27                        Compagnie de Saint Gobain SA  \n",
       "28                                    Imperial Oil Ltd  \n",
       "29                   Compagnie Financiere Richemont SA  \n",
       "30                        Viel et Compagnie Finance SE  \n",
       "31                      Compagnie Gestion & Finance SA  \n",
       "32                                 Cie Financiere Sfac  \n",
       "33              Compagnie Cosmopolitaine de Finance SA  \n",
       "34                Compagnie Europeenne de Finance SARL  \n",
       "35        Compagnie Indust Et Finan Des Prod Amyplaces  \n",
       "36                                        Et Compagnie  \n",
       "47                                   Fluxys Belgium NV  \n",
       "48                                           DistIT AB  \n",
       "49   Abu Dhabi National Oil Company for Distributio...  \n",
       "50                          Petrobras Distribuidora SA  \n",
       "51   Compania de Distribucion Integral Logista Hold...  \n",
       "52                               Nex International Ltd  \n",
       "53      Distribuidora Internacional de Alimentacion SA  \n",
       "54   Administracion Nacional de Combustibles Alcoho...  \n",
       "56   Energisa Mato Grosso do Sul Distribuidora de E...  \n",
       "57   Importadora y Distribuidora Herbalife Internat...  \n",
       "58     JT International Distribuidora de Cigarros Ltda  \n",
       "59                                       Elia Group SA  \n",
       "60                             Akel Minott Elia (Desg)  \n",
       "61                                       ANDREW D ELIA  \n",
       "62                                      Bagno Elia Srl  \n",
       "63                                   Bano Elia & C SNC  \n",
       "64                        Elia Transmission Belgium NV  \n",
       "70                                                Elia  \n",
       "71                                       Elia Group SA  \n",
       "72                             Akel Minott Elia (Desg)  \n",
       "73                                       ANDREW D ELIA  \n",
       "74                                      Bagno Elia Srl  \n",
       "75                                   Bano Elia & C SNC  \n",
       "76                        Elia Transmission Belgium NV  \n",
       "82                                                Elia  \n",
       "95                  Telefonica Holding de Argentina SA  \n",
       "96                                O2 Czech Republic as  \n",
       "97                              O2 Secure Wireless Inc  \n",
       "98                           O2micro International Ltd  \n",
       "99                                     Oxygen Audio SA  \n",
       "100                                        O2 (UK) Ltd  \n",
       "101                         Telefonica O2 Holdings Ltd  \n",
       "102                          Telefonica O2 Ireland Ltd  \n",
       "103       O2 Telefonica Deutschland Finanzierungs GmbH  \n",
       "104         Telefonica O2 Business Solutions spol s ro  \n",
       "105                                        Red Hat Inc  \n",
       "106                       Red Electrica Corporacion SA  \n",
       "107                      Red Robin Gourmet Burgers Inc  \n",
       "108                      Red Sea International Company  \n",
       "109                           Red Pine Exploration Inc  \n",
       "111                         Red Electrica de Espana SA  \n",
       "112                            Red Electrica Andina SA  \n",
       "113                  Red Electrica Brasil Holding Ltda  \n",
       "114                            Red Electrica Chile SpA  \n",
       "125                   Red Electrica Financiaciones SAU  \n",
       "126                                Resaphene Suisse AG  \n",
       "127                         AMUNDI RESA ACTIONS FRANCE  \n",
       "128                                AMUNDI RESA ACTIONS  \n",
       "129                              AMUNDI RESA DYNAMIQUE  \n",
       "130                              AMUNDI RESA EQUILIBRE  \n",
       "131                            Plasticos Resa SA de CV  \n",
       "132  Realisations Electroniques Spatiales Et Aerona...  \n",
       "133                                Resa Guipuzcoana SA  \n",
       "134                              RESA Immo Tatroz S.A.  \n",
       "135                                            Resa SA  \n",
       "156                          Societe Nationale SNCF SA  \n",
       "157                                     Sncf Reseau SA  \n",
       "158                            Sncf Participations SAS  \n",
       "159                      L'Agence Voyages-SNCF.Com SAS  \n",
       "160  Caisse de Prevoyance et de Retraite du personn...  \n",
       "166                                       Unilever PLC  \n",
       "167                             Hindustan Unilever Ltd  \n",
       "168                                     Unilever Group  \n",
       "169                          Unilever Indonesia Tbk PT  \n",
       "170                  A & W Food Services of Canada Inc  \n",
       "171                                BIOLYN(UNILEVER NV)  \n",
       "172                             Boursault(Unilever Nv)  \n",
       "173                             Chesebrough Pond's Inc  \n",
       "174                                  DERO(UNILEVER NV)  \n",
       "175                             Deutsche Unilever GmbH  \n",
       "201                                         Vivendi SE  \n",
       "202                    Veolia Energie International SA  \n",
       "203                              Vivendi Entertainment  \n",
       "204                                  Vivendi Games Inc  \n",
       "205                           01net(Vivendi Universal)  \n",
       "207                                  Aqua Alliance Inc  \n",
       "208                                    ATI(VIVENDI SA)  \n",
       "209                     Atviso(Vivendi Sa Softbank Co)  \n",
       "210                            Beneport Sa(Vivendi Sa)  \n",
       "231                                         Covivio SA  \n",
       "232                                 Covivio Hotels SCA  \n",
       "233                              Covivio Berlin IV ApS  \n",
       "234                                      Covivio 2 SAS  \n",
       "235                                     Covivio 4 SARL  \n",
       "243                         Mondelez International Inc  \n",
       "244                         Mondelez Australia Pty Ltd  \n",
       "245                Mondelez Uk Holdings & Services Ltd  \n",
       "246                               Mondelez Europe GmbH  \n",
       "247                       Mondelez India Foods Pvt Ltd  \n",
       "249     Mondelez International Holdings Netherlands BV  \n",
       "250                Mondelez International Amea Pte Ltd  \n",
       "251                     Mondelez International Bel OOO  \n",
       "252                Mondelez International Belgium BVBA  \n",
       "263                                 Eldorado Gold Corp  \n",
       "264                                             Elo SA  \n",
       "265                                Eloro Resources Ltd  \n",
       "266                    Elo Mutual Pension Insurance Co  \n",
       "267                            Elo Touch Solutions Inc  \n",
       "269                                       Oney Bank SA  \n",
       "270                                  Auchan Romania SA  \n",
       "271                    Anhui Auchan Hypermarket Co Ltd  \n",
       "272                   Anhui Auchan Hypermarkets Co Ltd  \n",
       "273                           Auchan II Holding UK Ltd  \n",
       "274                                  Auchan Assurances  \n",
       "275                                         Auchan Fly  \n",
       "276                           Auchan Nedvizhimost' OOO  \n",
       "277                                         Auchan OOO  \n",
       "278                             Auchan Supermarche SAS  "
      ]
     },
     "metadata": {},
     "output_type": "display_data"
    }
   ],
   "source": [
    "with pd.option_context('display.max_rows', None, 'display.max_columns', None):\n",
    "    display(res[['ISSUER','organizationName']].drop_duplicates())"
   ]
  },
  {
   "cell_type": "markdown",
   "metadata": {
    "slideshow": {
     "slide_type": "skip"
    }
   },
   "source": [
    "Next results are chosen:"
   ]
  },
  {
   "cell_type": "code",
   "execution_count": 36,
   "metadata": {
    "slideshow": {
     "slide_type": "skip"
    }
   },
   "outputs": [],
   "source": [
    "org = ['Autostrada Brescia Verona Vicenza Padova SpA','CIBA Corp','Distribuidora Internacional de Alimentacion SA', \\\n",
    "       'Elia Group SA','O2 Telefonica Deutschland Finanzierungs GmbH','Red Electrica Financiaciones SAU',\\\n",
    "       'Resa SA','Societe Nationale SNCF SA','Unilever PLC','Vivendi SE','Covivio Hotels SCA',\\\n",
    "       'Mondelez International Holdings Netherlands BV','Elo SA']\n",
    "res = res[res.organizationName.isin(org)][['@id','ISSUER']].rename(columns={'@id':'Match OpenPermID'})"
   ]
  },
  {
   "cell_type": "code",
   "execution_count": 37,
   "metadata": {
    "slideshow": {
     "slide_type": "fragment"
    }
   },
   "outputs": [
    {
     "data": {
      "text/html": [
       "<div>\n",
       "<style scoped>\n",
       "    .dataframe tbody tr th:only-of-type {\n",
       "        vertical-align: middle;\n",
       "    }\n",
       "\n",
       "    .dataframe tbody tr th {\n",
       "        vertical-align: top;\n",
       "    }\n",
       "\n",
       "    .dataframe thead th {\n",
       "        text-align: right;\n",
       "    }\n",
       "</style>\n",
       "<table border=\"1\" class=\"dataframe\">\n",
       "  <thead>\n",
       "    <tr style=\"text-align: right;\">\n",
       "      <th></th>\n",
       "      <th>Match OpenPermID</th>\n",
       "      <th>ISSUER</th>\n",
       "    </tr>\n",
       "  </thead>\n",
       "  <tbody>\n",
       "    <tr>\n",
       "      <th>7</th>\n",
       "      <td>https://permid.org/1-5037945611</td>\n",
       "      <td>Autostr. Bres.Ver.Vic.Pad. SpA</td>\n",
       "    </tr>\n",
       "    <tr>\n",
       "      <th>13</th>\n",
       "      <td>https://permid.org/1-4296543169</td>\n",
       "      <td>Ciba Spc. Chem. Fin. Lxbg S.A.</td>\n",
       "    </tr>\n",
       "    <tr>\n",
       "      <th>53</th>\n",
       "      <td>https://permid.org/1-4296685840</td>\n",
       "      <td>Distribuidora Intl de Alim.SA</td>\n",
       "    </tr>\n",
       "    <tr>\n",
       "      <th>59</th>\n",
       "      <td>https://permid.org/1-4295859541</td>\n",
       "      <td>ELIA SYSTEM OPERATOR N.V.</td>\n",
       "    </tr>\n",
       "    <tr>\n",
       "      <th>71</th>\n",
       "      <td>https://permid.org/1-4295859541</td>\n",
       "      <td>Elia System Operator S.A./N.V.</td>\n",
       "    </tr>\n",
       "  </tbody>\n",
       "</table>\n",
       "</div>"
      ],
      "text/plain": [
       "                   Match OpenPermID                          ISSUER\n",
       "7   https://permid.org/1-5037945611  Autostr. Bres.Ver.Vic.Pad. SpA\n",
       "13  https://permid.org/1-4296543169  Ciba Spc. Chem. Fin. Lxbg S.A.\n",
       "53  https://permid.org/1-4296685840   Distribuidora Intl de Alim.SA\n",
       "59  https://permid.org/1-4295859541       ELIA SYSTEM OPERATOR N.V.\n",
       "71  https://permid.org/1-4295859541  Elia System Operator S.A./N.V."
      ]
     },
     "execution_count": 37,
     "metadata": {},
     "output_type": "execute_result"
    }
   ],
   "source": [
    "res.head()"
   ]
  },
  {
   "cell_type": "markdown",
   "metadata": {
    "slideshow": {
     "slide_type": "skip"
    }
   },
   "source": [
    "Updating the main datafraime with additionally matched PermIDs:"
   ]
  },
  {
   "cell_type": "code",
   "execution_count": 38,
   "metadata": {
    "slideshow": {
     "slide_type": "skip"
    }
   },
   "outputs": [],
   "source": [
    "df.update(df.drop(columns=['Match OpenPermID']).merge(res, on='ISSUER', how = 'left'))"
   ]
  },
  {
   "cell_type": "markdown",
   "metadata": {
    "slideshow": {
     "slide_type": "slide"
    }
   },
   "source": [
    "### PermID Entity Lookup API"
   ]
  },
  {
   "cell_type": "markdown",
   "metadata": {
    "slideshow": {
     "slide_type": "skip"
    }
   },
   "source": [
    "Next we have to get the data on industry for each company and join it to the main dataframe. A list of PermIDs for all companies:"
   ]
  },
  {
   "cell_type": "code",
   "execution_count": 39,
   "metadata": {
    "slideshow": {
     "slide_type": "skip"
    }
   },
   "outputs": [],
   "source": [
    "IDs = df[df['Match OpenPermID'].notna()]['Match OpenPermID'].drop_duplicates()"
   ]
  },
  {
   "cell_type": "markdown",
   "metadata": {
    "slideshow": {
     "slide_type": "fragment"
    }
   },
   "source": [
    " - We request information about the company by its PermID using Entity Lookup API;  \n",
    " - If Industry Group key is available in the response, we request information about Industry Group and Business Sector using their PermIDs;  \n",
    " - We append data into one dataframe;"
   ]
  },
  {
   "cell_type": "markdown",
   "metadata": {
    "slideshow": {
     "slide_type": "skip"
    }
   },
   "source": [
    "<b>Note</b>: for one Industry Group the label value was returned as a list (['Freight&Logistics Services', 'Freight & Logistics Services']), so additional check for the type is added."
   ]
  },
  {
   "cell_type": "code",
   "execution_count": 40,
   "metadata": {
    "slideshow": {
     "slide_type": "skip"
    }
   },
   "outputs": [],
   "source": [
    "sectors = []\n",
    "for ID in IDs:\n",
    "    lookup_company = permID.entity_lookup(permID_token, ID)\n",
    "    if 'hasPrimaryIndustryGroup' in lookup_company:\n",
    "        industryID = lookup_company['hasPrimaryIndustryGroup']\n",
    "        sectorID = lookup_company['hasPrimaryBusinessSector']\n",
    "        lookup_industry = permID.entity_lookup(permID_token, industryID)\n",
    "        lookup_sector = permID.entity_lookup(permID_token, sectorID)\n",
    "        industry = lookup_industry['prefLabel'][0] if type(lookup_industry['prefLabel']) == list \\\n",
    "                                                    else lookup_industry['prefLabel']\n",
    "        sectors.append(pd.DataFrame({'Match OpenPermID' : [ID],\n",
    "                                     'Industry group ID' : [industryID],\n",
    "                                     'Industry Group' : [industry],\n",
    "                                     'Business Sector' : [lookup_sector['prefLabel']]}))"
   ]
  },
  {
   "cell_type": "code",
   "execution_count": 41,
   "metadata": {
    "slideshow": {
     "slide_type": "skip"
    }
   },
   "outputs": [
    {
     "data": {
      "text/html": [
       "<div>\n",
       "<style scoped>\n",
       "    .dataframe tbody tr th:only-of-type {\n",
       "        vertical-align: middle;\n",
       "    }\n",
       "\n",
       "    .dataframe tbody tr th {\n",
       "        vertical-align: top;\n",
       "    }\n",
       "\n",
       "    .dataframe thead th {\n",
       "        text-align: right;\n",
       "    }\n",
       "</style>\n",
       "<table border=\"1\" class=\"dataframe\">\n",
       "  <thead>\n",
       "    <tr style=\"text-align: right;\">\n",
       "      <th></th>\n",
       "      <th>Match OpenPermID</th>\n",
       "      <th>Industry group ID</th>\n",
       "      <th>Industry Group</th>\n",
       "      <th>Business Sector</th>\n",
       "    </tr>\n",
       "  </thead>\n",
       "  <tbody>\n",
       "    <tr>\n",
       "      <th>0</th>\n",
       "      <td>https://permid.org/1-5000936840</td>\n",
       "      <td>https://permid.org/1-4294952817</td>\n",
       "      <td>Natural Gas Utilities</td>\n",
       "      <td>Utilities</td>\n",
       "    </tr>\n",
       "    <tr>\n",
       "      <th>1</th>\n",
       "      <td>https://permid.org/1-5000005309</td>\n",
       "      <td>https://permid.org/1-4294952819</td>\n",
       "      <td>Electric Utilities &amp; IPPs</td>\n",
       "      <td>Utilities</td>\n",
       "    </tr>\n",
       "    <tr>\n",
       "      <th>2</th>\n",
       "      <td>https://permid.org/1-5000066931</td>\n",
       "      <td>https://permid.org/1-4294952765</td>\n",
       "      <td>Machinery, Tools, Heavy Vehicles, Trains &amp; Ships</td>\n",
       "      <td>Industrial Goods</td>\n",
       "    </tr>\n",
       "    <tr>\n",
       "      <th>3</th>\n",
       "      <td>https://permid.org/1-4295889666</td>\n",
       "      <td>https://permid.org/1-4294952750</td>\n",
       "      <td>Transport Infrastructure</td>\n",
       "      <td>Transportation</td>\n",
       "    </tr>\n",
       "    <tr>\n",
       "      <th>4</th>\n",
       "      <td>https://permid.org/1-4295875677</td>\n",
       "      <td>https://permid.org/1-4294952813</td>\n",
       "      <td>Multiline Utilities</td>\n",
       "      <td>Utilities</td>\n",
       "    </tr>\n",
       "  </tbody>\n",
       "</table>\n",
       "</div>"
      ],
      "text/plain": [
       "                  Match OpenPermID                Industry group ID  \\\n",
       "0  https://permid.org/1-5000936840  https://permid.org/1-4294952817   \n",
       "1  https://permid.org/1-5000005309  https://permid.org/1-4294952819   \n",
       "2  https://permid.org/1-5000066931  https://permid.org/1-4294952765   \n",
       "3  https://permid.org/1-4295889666  https://permid.org/1-4294952750   \n",
       "4  https://permid.org/1-4295875677  https://permid.org/1-4294952813   \n",
       "\n",
       "                                     Industry Group   Business Sector  \n",
       "0                             Natural Gas Utilities         Utilities  \n",
       "1                         Electric Utilities & IPPs         Utilities  \n",
       "2  Machinery, Tools, Heavy Vehicles, Trains & Ships  Industrial Goods  \n",
       "3                          Transport Infrastructure    Transportation  \n",
       "4                               Multiline Utilities         Utilities  "
      ]
     },
     "execution_count": 41,
     "metadata": {},
     "output_type": "execute_result"
    }
   ],
   "source": [
    "sectors = pd.concat(sectors,ignore_index=True).drop_duplicates()\n",
    "sectors.head()"
   ]
  },
  {
   "cell_type": "markdown",
   "metadata": {
    "slideshow": {
     "slide_type": "subslide"
    }
   },
   "source": [
    " - We add data about companies' Industry Groups and Business Sectors to the main dataframe by Match OpenPermID:"
   ]
  },
  {
   "cell_type": "code",
   "execution_count": 42,
   "metadata": {
    "scrolled": true,
    "slideshow": {
     "slide_type": "fragment"
    }
   },
   "outputs": [
    {
     "data": {
      "text/html": [
       "<div>\n",
       "<style scoped>\n",
       "    .dataframe tbody tr th:only-of-type {\n",
       "        vertical-align: middle;\n",
       "    }\n",
       "\n",
       "    .dataframe tbody tr th {\n",
       "        vertical-align: top;\n",
       "    }\n",
       "\n",
       "    .dataframe thead th {\n",
       "        text-align: right;\n",
       "    }\n",
       "</style>\n",
       "<table border=\"1\" class=\"dataframe\">\n",
       "  <thead>\n",
       "    <tr style=\"text-align: right;\">\n",
       "      <th></th>\n",
       "      <th>MONTH</th>\n",
       "      <th>NCB</th>\n",
       "      <th>ISIN</th>\n",
       "      <th>ISSUER</th>\n",
       "      <th>MATURITY DATE</th>\n",
       "      <th>COUPON RATE</th>\n",
       "      <th>Match OpenPermID</th>\n",
       "      <th>Industry group ID</th>\n",
       "      <th>Industry Group</th>\n",
       "      <th>Business Sector</th>\n",
       "    </tr>\n",
       "  </thead>\n",
       "  <tbody>\n",
       "    <tr>\n",
       "      <th>0</th>\n",
       "      <td>2017/06</td>\n",
       "      <td>IT</td>\n",
       "      <td>XS1088274169</td>\n",
       "      <td>2i Rete Gas S.p.A.</td>\n",
       "      <td>16/07/2019</td>\n",
       "      <td>1.75</td>\n",
       "      <td>https://permid.org/1-5000936840</td>\n",
       "      <td>https://permid.org/1-4294952817</td>\n",
       "      <td>Natural Gas Utilities</td>\n",
       "      <td>Utilities</td>\n",
       "    </tr>\n",
       "    <tr>\n",
       "      <th>1</th>\n",
       "      <td>2017/06</td>\n",
       "      <td>IT</td>\n",
       "      <td>XS1088274672</td>\n",
       "      <td>2i Rete Gas S.p.A.</td>\n",
       "      <td>16/07/2024</td>\n",
       "      <td>3</td>\n",
       "      <td>https://permid.org/1-5000936840</td>\n",
       "      <td>https://permid.org/1-4294952817</td>\n",
       "      <td>Natural Gas Utilities</td>\n",
       "      <td>Utilities</td>\n",
       "    </tr>\n",
       "    <tr>\n",
       "      <th>2</th>\n",
       "      <td>2017/06</td>\n",
       "      <td>IT</td>\n",
       "      <td>XS1144492532</td>\n",
       "      <td>2i Rete Gas S.p.A.</td>\n",
       "      <td>02/01/2020</td>\n",
       "      <td>1.125</td>\n",
       "      <td>https://permid.org/1-5000936840</td>\n",
       "      <td>https://permid.org/1-4294952817</td>\n",
       "      <td>Natural Gas Utilities</td>\n",
       "      <td>Utilities</td>\n",
       "    </tr>\n",
       "    <tr>\n",
       "      <th>3</th>\n",
       "      <td>2017/06</td>\n",
       "      <td>IT</td>\n",
       "      <td>XS1571982468</td>\n",
       "      <td>2i Rete Gas S.p.A.</td>\n",
       "      <td>28/08/2026</td>\n",
       "      <td>1.75</td>\n",
       "      <td>https://permid.org/1-5000936840</td>\n",
       "      <td>https://permid.org/1-4294952817</td>\n",
       "      <td>Natural Gas Utilities</td>\n",
       "      <td>Utilities</td>\n",
       "    </tr>\n",
       "    <tr>\n",
       "      <th>4</th>\n",
       "      <td>2017/06</td>\n",
       "      <td>IT</td>\n",
       "      <td>XS0859920406</td>\n",
       "      <td>A2A S.p.A.</td>\n",
       "      <td>28/11/2019</td>\n",
       "      <td>4.5</td>\n",
       "      <td>https://permid.org/1-5000005309</td>\n",
       "      <td>https://permid.org/1-4294952819</td>\n",
       "      <td>Electric Utilities &amp; IPPs</td>\n",
       "      <td>Utilities</td>\n",
       "    </tr>\n",
       "  </tbody>\n",
       "</table>\n",
       "</div>"
      ],
      "text/plain": [
       "     MONTH NCB          ISIN              ISSUER MATURITY DATE COUPON RATE  \\\n",
       "0  2017/06  IT  XS1088274169  2i Rete Gas S.p.A.    16/07/2019        1.75   \n",
       "1  2017/06  IT  XS1088274672  2i Rete Gas S.p.A.    16/07/2024           3   \n",
       "2  2017/06  IT  XS1144492532  2i Rete Gas S.p.A.    02/01/2020       1.125   \n",
       "3  2017/06  IT  XS1571982468  2i Rete Gas S.p.A.    28/08/2026        1.75   \n",
       "4  2017/06  IT  XS0859920406          A2A S.p.A.    28/11/2019         4.5   \n",
       "\n",
       "                  Match OpenPermID                Industry group ID  \\\n",
       "0  https://permid.org/1-5000936840  https://permid.org/1-4294952817   \n",
       "1  https://permid.org/1-5000936840  https://permid.org/1-4294952817   \n",
       "2  https://permid.org/1-5000936840  https://permid.org/1-4294952817   \n",
       "3  https://permid.org/1-5000936840  https://permid.org/1-4294952817   \n",
       "4  https://permid.org/1-5000005309  https://permid.org/1-4294952819   \n",
       "\n",
       "              Industry Group Business Sector  \n",
       "0      Natural Gas Utilities       Utilities  \n",
       "1      Natural Gas Utilities       Utilities  \n",
       "2      Natural Gas Utilities       Utilities  \n",
       "3      Natural Gas Utilities       Utilities  \n",
       "4  Electric Utilities & IPPs       Utilities  "
      ]
     },
     "execution_count": 42,
     "metadata": {},
     "output_type": "execute_result"
    }
   ],
   "source": [
    "df = df.merge(sectors, how='left').drop(columns=['name','NAME','SEARCH'])\n",
    "df.head()"
   ]
  },
  {
   "cell_type": "code",
   "execution_count": 43,
   "metadata": {
    "slideshow": {
     "slide_type": "skip"
    }
   },
   "outputs": [
    {
     "data": {
      "text/plain": [
       "MONTH                   0\n",
       "NCB                     0\n",
       "ISIN                    0\n",
       "ISSUER                  0\n",
       "MATURITY DATE           0\n",
       "COUPON RATE             0\n",
       "Match OpenPermID      196\n",
       "Industry group ID    5690\n",
       "Industry Group       5690\n",
       "Business Sector      5690\n",
       "dtype: int64"
      ]
     },
     "execution_count": 43,
     "metadata": {},
     "output_type": "execute_result"
    }
   ],
   "source": [
    "df.isna().sum()"
   ]
  },
  {
   "cell_type": "markdown",
   "metadata": {
    "slideshow": {
     "slide_type": "slide"
    }
   },
   "source": [
    "Put a resulting dataframe into \"CSPP_bonds_with_sectors.csv\" file on S3 bucket to use it in [further analysis](ECB%20bond%20purchases.ipynb):"
   ]
  },
  {
   "cell_type": "code",
   "execution_count": 44,
   "metadata": {
    "slideshow": {
     "slide_type": "fragment"
    }
   },
   "outputs": [],
   "source": [
    "s3data.df_to_csv(df, bucket, 'data/CSPP_bonds_with_sectors.csv')"
   ]
  }
 ],
 "metadata": {
  "kernelspec": {
   "display_name": "Python 3",
   "language": "python",
   "name": "python3"
  },
  "language_info": {
   "codemirror_mode": {
    "name": "ipython",
    "version": 3
   },
   "file_extension": ".py",
   "mimetype": "text/x-python",
   "name": "python",
   "nbconvert_exporter": "python",
   "pygments_lexer": "ipython3",
   "version": "3.8.5"
  },
  "toc": {
   "base_numbering": 1,
   "nav_menu": {
    "height": "350px",
    "width": "377px"
   },
   "number_sections": true,
   "sideBar": true,
   "skip_h1_title": false,
   "title_cell": "Table of Contents",
   "title_sidebar": "Contents",
   "toc_cell": false,
   "toc_position": {},
   "toc_section_display": true,
   "toc_window_display": false
  }
 },
 "nbformat": 4,
 "nbformat_minor": 4
}
