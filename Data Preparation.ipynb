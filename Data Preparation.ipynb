{
 "cells": [
  {
   "cell_type": "markdown",
   "metadata": {},
   "source": [
    "<p>Importing the packages:</p>"
   ]
  },
  {
   "cell_type": "code",
   "execution_count": 1,
   "metadata": {},
   "outputs": [],
   "source": [
    "import pandas as pd\n",
    "import glob\n",
    "import requests\n",
    "import json\n",
    "from time import sleep\n",
    "import extractdata as ed"
   ]
  },
  {
   "cell_type": "markdown",
   "metadata": {},
   "source": [
    "# Data Preparation\n",
    "## Read Data from several CSV files"
   ]
  },
  {
   "cell_type": "markdown",
   "metadata": {},
   "source": [
    "<p> Loading files on CSPP corporate bonds holdings: </p>"
   ]
  },
  {
   "cell_type": "code",
   "execution_count": 2,
   "metadata": {},
   "outputs": [],
   "source": [
    "df = ed.pd_read_csv('data/*holdings_*.csv', 'iso8859-1')"
   ]
  },
  {
   "cell_type": "code",
   "execution_count": 3,
   "metadata": {},
   "outputs": [
    {
     "data": {
      "text/plain": [
       "NCB                2069\n",
       "ISIN_CODE         21215\n",
       "ISSUER_NAME_      56389\n",
       "MATURITY_DATE_    56389\n",
       "COUPON_RATE_      56389\n",
       "MONTH                 0\n",
       "ISSUER_NAME       25409\n",
       "MATURITY_DATE     25409\n",
       "COUPON_RATE       25409\n",
       "Unnamed: 0        59371\n",
       "ISIN              40226\n",
       "ISSUER            40226\n",
       "MATURITY DATE     40226\n",
       "COUPON RATE       40226\n",
       "dtype: int64"
      ]
     },
     "execution_count": 3,
     "metadata": {},
     "output_type": "execute_result"
    }
   ],
   "source": [
    "# check for the null values\n",
    "df.isna().sum()"
   ]
  },
  {
   "cell_type": "markdown",
   "metadata": {},
   "source": [
    "<p> Column names are a slightly different in reports generated in different months. Filling in an empty cells to put all relevant data into one column: </p>"
   ]
  },
  {
   "cell_type": "code",
   "execution_count": 4,
   "metadata": {},
   "outputs": [],
   "source": [
    "# fill in empty cells\n",
    "df['NCB'].fillna(df['Unnamed: 0'], inplace=True)\n",
    "df['ISIN'].fillna(df['ISIN_CODE'], inplace=True)\n",
    "df['ISSUER'].fillna(df['ISSUER_NAME_'], inplace=True)\n",
    "df['ISSUER'].fillna(df['ISSUER_NAME'], inplace=True)\n",
    "df['MATURITY DATE'].fillna(df['MATURITY_DATE_'], inplace=True)\n",
    "df['MATURITY DATE'].fillna(df['MATURITY_DATE'], inplace=True)\n",
    "df['COUPON RATE'].fillna(df['COUPON_RATE_'], inplace=True)\n",
    "df['COUPON RATE'].fillna(df['COUPON_RATE'], inplace=True)"
   ]
  },
  {
   "cell_type": "code",
   "execution_count": 5,
   "metadata": {},
   "outputs": [],
   "source": [
    "# choose necessary columns and rows\n",
    "df = df[df['ISIN'].notna()][['MONTH', 'NCB', 'ISIN', 'ISSUER', 'MATURITY DATE', 'COUPON RATE']]"
   ]
  },
  {
   "cell_type": "code",
   "execution_count": 6,
   "metadata": {},
   "outputs": [
    {
     "data": {
      "text/plain": [
       "MONTH            0\n",
       "NCB              0\n",
       "ISIN             0\n",
       "ISSUER           0\n",
       "MATURITY DATE    0\n",
       "COUPON RATE      0\n",
       "dtype: int64"
      ]
     },
     "execution_count": 6,
     "metadata": {},
     "output_type": "execute_result"
    }
   ],
   "source": [
    "# check for the null values\n",
    "df.isna().sum()"
   ]
  },
  {
   "cell_type": "code",
   "execution_count": 7,
   "metadata": {},
   "outputs": [
    {
     "data": {
      "text/html": [
       "<div>\n",
       "<style scoped>\n",
       "    .dataframe tbody tr th:only-of-type {\n",
       "        vertical-align: middle;\n",
       "    }\n",
       "\n",
       "    .dataframe tbody tr th {\n",
       "        vertical-align: top;\n",
       "    }\n",
       "\n",
       "    .dataframe thead th {\n",
       "        text-align: right;\n",
       "    }\n",
       "</style>\n",
       "<table border=\"1\" class=\"dataframe\">\n",
       "  <thead>\n",
       "    <tr style=\"text-align: right;\">\n",
       "      <th></th>\n",
       "      <th>MONTH</th>\n",
       "      <th>NCB</th>\n",
       "      <th>ISIN</th>\n",
       "      <th>ISSUER</th>\n",
       "      <th>MATURITY DATE</th>\n",
       "      <th>COUPON RATE</th>\n",
       "    </tr>\n",
       "  </thead>\n",
       "  <tbody>\n",
       "    <tr>\n",
       "      <th>0</th>\n",
       "      <td>2017/06</td>\n",
       "      <td>IT</td>\n",
       "      <td>XS1088274169</td>\n",
       "      <td>2i Rete Gas S.p.A.</td>\n",
       "      <td>16/07/2019</td>\n",
       "      <td>1.75</td>\n",
       "    </tr>\n",
       "    <tr>\n",
       "      <th>1</th>\n",
       "      <td>2017/06</td>\n",
       "      <td>IT</td>\n",
       "      <td>XS1088274672</td>\n",
       "      <td>2i Rete Gas S.p.A.</td>\n",
       "      <td>16/07/2024</td>\n",
       "      <td>3</td>\n",
       "    </tr>\n",
       "    <tr>\n",
       "      <th>2</th>\n",
       "      <td>2017/06</td>\n",
       "      <td>IT</td>\n",
       "      <td>XS1144492532</td>\n",
       "      <td>2i Rete Gas S.p.A.</td>\n",
       "      <td>02/01/2020</td>\n",
       "      <td>1.125</td>\n",
       "    </tr>\n",
       "    <tr>\n",
       "      <th>3</th>\n",
       "      <td>2017/06</td>\n",
       "      <td>IT</td>\n",
       "      <td>XS1571982468</td>\n",
       "      <td>2i Rete Gas S.p.A.</td>\n",
       "      <td>28/08/2026</td>\n",
       "      <td>1.75</td>\n",
       "    </tr>\n",
       "    <tr>\n",
       "      <th>4</th>\n",
       "      <td>2017/06</td>\n",
       "      <td>IT</td>\n",
       "      <td>XS0859920406</td>\n",
       "      <td>A2A S.p.A.</td>\n",
       "      <td>28/11/2019</td>\n",
       "      <td>4.5</td>\n",
       "    </tr>\n",
       "  </tbody>\n",
       "</table>\n",
       "</div>"
      ],
      "text/plain": [
       "     MONTH NCB          ISIN              ISSUER MATURITY DATE COUPON RATE\n",
       "0  2017/06  IT  XS1088274169  2i Rete Gas S.p.A.    16/07/2019        1.75\n",
       "1  2017/06  IT  XS1088274672  2i Rete Gas S.p.A.    16/07/2024           3\n",
       "2  2017/06  IT  XS1144492532  2i Rete Gas S.p.A.    02/01/2020       1.125\n",
       "3  2017/06  IT  XS1571982468  2i Rete Gas S.p.A.    28/08/2026        1.75\n",
       "4  2017/06  IT  XS0859920406          A2A S.p.A.    28/11/2019         4.5"
      ]
     },
     "execution_count": 7,
     "metadata": {},
     "output_type": "execute_result"
    }
   ],
   "source": [
    "df.head()"
   ]
  },
  {
   "cell_type": "markdown",
   "metadata": {},
   "source": [
    "## Data Extraction via API"
   ]
  },
  {
   "cell_type": "markdown",
   "metadata": {},
   "source": [
    "<p>We use different PermID APIs to assign Industrial sectors to companies. Access token and for API requests:</p>"
   ]
  },
  {
   "cell_type": "code",
   "execution_count": 8,
   "metadata": {},
   "outputs": [],
   "source": [
    "token = 'r3S0DwnAKTqYq9jgJIs0XI04YBDWjPVJ'"
   ]
  },
  {
   "cell_type": "markdown",
   "metadata": {},
   "source": [
    "<p> Creating a template for Record Matching API: </p>"
   ]
  },
  {
   "cell_type": "code",
   "execution_count": 9,
   "metadata": {},
   "outputs": [
    {
     "data": {
      "text/plain": [
       "0    2i|2i rete|2i rete gas spa\n",
       "1    2i|2i rete|2i rete gas spa\n",
       "2    2i|2i rete|2i rete gas spa\n",
       "3    2i|2i rete|2i rete gas spa\n",
       "4           a2a|a2a spa|a2a spa\n",
       "Name: Name, dtype: object"
      ]
     },
     "execution_count": 9,
     "metadata": {},
     "output_type": "execute_result"
    }
   ],
   "source": [
    "template = pd.DataFrame({'Company': df['ISSUER']})\n",
    "template['Value0'] = template['Company'].str.normalize('NFKD').str.encode('ascii', errors='ignore').str.decode('utf-8').\\\n",
    "                                    str.strip().str.lower().str.replace('.','').str.replace('/',' ').str.replace('-',' ').\\\n",
    "                                    str.replace('(','').str.replace(')','').str.split(',',1).str[0]                    \n",
    "template['Value2'] = template['Value0'].str.split().str[:2].str.join(' ')\n",
    "template['Value1'] = template['Value0'].str.split().str[:1].str.join(' ')\n",
    "template['Name'] =  template[['Value1','Value2','Value0']].apply(lambda x: '|'.join(x), axis = 1)\n",
    "df['KEY NAME'] = template['Name']\n",
    "template = template['Name']\n",
    "template.head()"
   ]
  },
  {
   "cell_type": "code",
   "execution_count": 10,
   "metadata": {},
   "outputs": [],
   "source": [
    "template = template.drop_duplicates().to_csv(index=False)"
   ]
  },
  {
   "cell_type": "markdown",
   "metadata": {},
   "source": [
    "<p>Find companies' PermIDs by their names using Record Matching API:</p>"
   ]
  },
  {
   "cell_type": "code",
   "execution_count": 11,
   "metadata": {},
   "outputs": [
    {
     "name": "stdout",
     "output_type": "stream",
     "text": [
      "Processed: 442\n",
      "Matched: \n",
      "  Total 404\n",
      "  Excellent 357\n",
      "  Good 21\n",
      "  Possible 26\n",
      "Unmatched: 38\n"
     ]
    }
   ],
   "source": [
    "match_results = ed.record_matching(token, template = template)"
   ]
  },
  {
   "cell_type": "markdown",
   "metadata": {},
   "source": [
    "<p>Sometimes the request is processed successfully, but does not return any matches due to unexpected server errors. Then the request is sent again and a message appears.</p>"
   ]
  },
  {
   "cell_type": "markdown",
   "metadata": {},
   "source": [
    "<p> There are 38 unmatched results out of 442.</p>"
   ]
  },
  {
   "cell_type": "code",
   "execution_count": 12,
   "metadata": {},
   "outputs": [
    {
     "data": {
      "text/html": [
       "<div>\n",
       "<style scoped>\n",
       "    .dataframe tbody tr th:only-of-type {\n",
       "        vertical-align: middle;\n",
       "    }\n",
       "\n",
       "    .dataframe tbody tr th {\n",
       "        vertical-align: top;\n",
       "    }\n",
       "\n",
       "    .dataframe thead th {\n",
       "        text-align: right;\n",
       "    }\n",
       "</style>\n",
       "<table border=\"1\" class=\"dataframe\">\n",
       "  <thead>\n",
       "    <tr style=\"text-align: right;\">\n",
       "      <th></th>\n",
       "      <th>ProcessingStatus</th>\n",
       "      <th>Match OpenPermID</th>\n",
       "      <th>Match OrgName</th>\n",
       "      <th>Match Score</th>\n",
       "      <th>Match Level</th>\n",
       "      <th>Match Ordinal</th>\n",
       "      <th>Original Row Number</th>\n",
       "      <th>Input_Name</th>\n",
       "    </tr>\n",
       "  </thead>\n",
       "  <tbody>\n",
       "    <tr>\n",
       "      <th>0</th>\n",
       "      <td>OK</td>\n",
       "      <td>https://permid.org/1-5000936840</td>\n",
       "      <td>2I Rete Gas SpA</td>\n",
       "      <td>92%</td>\n",
       "      <td>Excellent</td>\n",
       "      <td>1</td>\n",
       "      <td>2</td>\n",
       "      <td>2i|2i rete|2i rete gas spa</td>\n",
       "    </tr>\n",
       "    <tr>\n",
       "      <th>1</th>\n",
       "      <td>OK</td>\n",
       "      <td>https://permid.org/1-5000005309</td>\n",
       "      <td>A2A SpA</td>\n",
       "      <td>92%</td>\n",
       "      <td>Excellent</td>\n",
       "      <td>1</td>\n",
       "      <td>3</td>\n",
       "      <td>a2a|a2a spa|a2a spa</td>\n",
       "    </tr>\n",
       "    <tr>\n",
       "      <th>2</th>\n",
       "      <td>OK</td>\n",
       "      <td>https://permid.org/1-5000066931</td>\n",
       "      <td>ABB Finance BV</td>\n",
       "      <td>92%</td>\n",
       "      <td>Excellent</td>\n",
       "      <td>1</td>\n",
       "      <td>4</td>\n",
       "      <td>abb|abb finance|abb finance bv</td>\n",
       "    </tr>\n",
       "    <tr>\n",
       "      <th>3</th>\n",
       "      <td>OK</td>\n",
       "      <td>https://permid.org/1-4295889666</td>\n",
       "      <td>Abertis Infraestructuras SA</td>\n",
       "      <td>92%</td>\n",
       "      <td>Excellent</td>\n",
       "      <td>1</td>\n",
       "      <td>5</td>\n",
       "      <td>abertis|abertis infraestructuras|abertis infra...</td>\n",
       "    </tr>\n",
       "    <tr>\n",
       "      <th>4</th>\n",
       "      <td>OK</td>\n",
       "      <td>https://permid.org/1-4295875677</td>\n",
       "      <td>Acea SpA</td>\n",
       "      <td>92%</td>\n",
       "      <td>Excellent</td>\n",
       "      <td>1</td>\n",
       "      <td>6</td>\n",
       "      <td>acea|acea spa|acea spa</td>\n",
       "    </tr>\n",
       "  </tbody>\n",
       "</table>\n",
       "</div>"
      ],
      "text/plain": [
       "  ProcessingStatus                 Match OpenPermID  \\\n",
       "0               OK  https://permid.org/1-5000936840   \n",
       "1               OK  https://permid.org/1-5000005309   \n",
       "2               OK  https://permid.org/1-5000066931   \n",
       "3               OK  https://permid.org/1-4295889666   \n",
       "4               OK  https://permid.org/1-4295875677   \n",
       "\n",
       "                 Match OrgName Match Score Match Level Match Ordinal  \\\n",
       "0              2I Rete Gas SpA         92%   Excellent             1   \n",
       "1                      A2A SpA         92%   Excellent             1   \n",
       "2               ABB Finance BV         92%   Excellent             1   \n",
       "3  Abertis Infraestructuras SA         92%   Excellent             1   \n",
       "4                     Acea SpA         92%   Excellent             1   \n",
       "\n",
       "  Original Row Number                                         Input_Name  \n",
       "0                   2                         2i|2i rete|2i rete gas spa  \n",
       "1                   3                                a2a|a2a spa|a2a spa  \n",
       "2                   4                     abb|abb finance|abb finance bv  \n",
       "3                   5  abertis|abertis infraestructuras|abertis infra...  \n",
       "4                   6                             acea|acea spa|acea spa  "
      ]
     },
     "execution_count": 12,
     "metadata": {},
     "output_type": "execute_result"
    }
   ],
   "source": [
    "# output of the record matching result\n",
    "output = pd.DataFrame([d for d in match_results['outputContentResponse']])\n",
    "output.head()"
   ]
  },
  {
   "cell_type": "code",
   "execution_count": 13,
   "metadata": {},
   "outputs": [
    {
     "data": {
      "text/html": [
       "<div>\n",
       "<style scoped>\n",
       "    .dataframe tbody tr th:only-of-type {\n",
       "        vertical-align: middle;\n",
       "    }\n",
       "\n",
       "    .dataframe tbody tr th {\n",
       "        vertical-align: top;\n",
       "    }\n",
       "\n",
       "    .dataframe thead th {\n",
       "        text-align: right;\n",
       "    }\n",
       "</style>\n",
       "<table border=\"1\" class=\"dataframe\">\n",
       "  <thead>\n",
       "    <tr style=\"text-align: right;\">\n",
       "      <th></th>\n",
       "      <th>Input_Name</th>\n",
       "    </tr>\n",
       "  </thead>\n",
       "  <tbody>\n",
       "    <tr>\n",
       "      <th>12</th>\n",
       "      <td>airbus|airbus group|airbus group finance bv</td>\n",
       "    </tr>\n",
       "    <tr>\n",
       "      <th>30</th>\n",
       "      <td>autostr|autostr bresvervicpad|autostr bresverv...</td>\n",
       "    </tr>\n",
       "    <tr>\n",
       "      <th>47</th>\n",
       "      <td>caterpillar|caterpillar intl|caterpillar intl ...</td>\n",
       "    </tr>\n",
       "    <tr>\n",
       "      <th>49</th>\n",
       "      <td>ciba|ciba spc|ciba spc chem fin lxbg sa</td>\n",
       "    </tr>\n",
       "    <tr>\n",
       "      <th>65</th>\n",
       "      <td>delhaize|delhaize group|delhaize group sa</td>\n",
       "    </tr>\n",
       "    <tr>\n",
       "      <th>73</th>\n",
       "      <td>deutsche|deutsche wohnen|deutsche wohnen ag</td>\n",
       "    </tr>\n",
       "    <tr>\n",
       "      <th>75</th>\n",
       "      <td>eon|eon intl|eon intl finance bv</td>\n",
       "    </tr>\n",
       "    <tr>\n",
       "      <th>76</th>\n",
       "      <td>eon|eon se|eon se</td>\n",
       "    </tr>\n",
       "    <tr>\n",
       "      <th>78</th>\n",
       "      <td>eandis|eandis cvba|eandis cvba</td>\n",
       "    </tr>\n",
       "    <tr>\n",
       "      <th>86</th>\n",
       "      <td>elia|elia system|elia system operator nv</td>\n",
       "    </tr>\n",
       "    <tr>\n",
       "      <th>87</th>\n",
       "      <td>elia|elia system|elia system operator sa nv</td>\n",
       "    </tr>\n",
       "    <tr>\n",
       "      <th>116</th>\n",
       "      <td>gas|gas natural|gas natural cm sa</td>\n",
       "    </tr>\n",
       "    <tr>\n",
       "      <th>121</th>\n",
       "      <td>gie|gie engie|gie engie alliance</td>\n",
       "    </tr>\n",
       "    <tr>\n",
       "      <th>124</th>\n",
       "      <td>heidelbergcement|heidelbergcement finlux|heide...</td>\n",
       "    </tr>\n",
       "    <tr>\n",
       "      <th>132</th>\n",
       "      <td>holding|holding d|holding d infrastructures de...</td>\n",
       "    </tr>\n",
       "    <tr>\n",
       "      <th>133</th>\n",
       "      <td>holding|holding d'infrastr|holding d'infrastr ...</td>\n",
       "    </tr>\n",
       "    <tr>\n",
       "      <th>162</th>\n",
       "      <td>lvmh|lvmh moet|lvmh moet henn l vuitton se</td>\n",
       "    </tr>\n",
       "    <tr>\n",
       "      <th>177</th>\n",
       "      <td>o2|o2 telefonica|o2 telefonica dtld finanzier</td>\n",
       "    </tr>\n",
       "    <tr>\n",
       "      <th>189</th>\n",
       "      <td>red|red electrica|red electrica financ sau</td>\n",
       "    </tr>\n",
       "    <tr>\n",
       "      <th>196</th>\n",
       "      <td>resa|resa sa|resa sa</td>\n",
       "    </tr>\n",
       "    <tr>\n",
       "      <th>201</th>\n",
       "      <td>rte|rte edf|rte edf transport</td>\n",
       "    </tr>\n",
       "    <tr>\n",
       "      <th>203</th>\n",
       "      <td>sagess|sagess socandgeststdsec|sagess socandge...</td>\n",
       "    </tr>\n",
       "    <tr>\n",
       "      <th>212</th>\n",
       "      <td>siemens|siemens finanmaatschappij|siemens fina...</td>\n",
       "    </tr>\n",
       "    <tr>\n",
       "      <th>214</th>\n",
       "      <td>sncf|sncf mobilites|sncf mobilites</td>\n",
       "    </tr>\n",
       "    <tr>\n",
       "      <th>220</th>\n",
       "      <td>spp|spp infrastructure|spp infrastructure fing bv</td>\n",
       "    </tr>\n",
       "    <tr>\n",
       "      <th>237</th>\n",
       "      <td>total|total infrastructures|total infrastructu...</td>\n",
       "    </tr>\n",
       "    <tr>\n",
       "      <th>239</th>\n",
       "      <td>unilever|unilever nv|unilever nv</td>\n",
       "    </tr>\n",
       "    <tr>\n",
       "      <th>249</th>\n",
       "      <td>vivendi|vivendi sa|vivendi sa</td>\n",
       "    </tr>\n",
       "    <tr>\n",
       "      <th>273</th>\n",
       "      <td>societe|societe des|societe des autoroutes par...</td>\n",
       "    </tr>\n",
       "    <tr>\n",
       "      <th>302</th>\n",
       "      <td>acs|acs servicios|acs servicios</td>\n",
       "    </tr>\n",
       "    <tr>\n",
       "      <th>315</th>\n",
       "      <td>covivio|covivio hotels|covivio hotels saca</td>\n",
       "    </tr>\n",
       "    <tr>\n",
       "      <th>326</th>\n",
       "      <td>holding|holding d|holding d infrastructures de...</td>\n",
       "    </tr>\n",
       "    <tr>\n",
       "      <th>333</th>\n",
       "      <td>mondelez|mondelez intl|mondelez intl hldgs net...</td>\n",
       "    </tr>\n",
       "    <tr>\n",
       "      <th>334</th>\n",
       "      <td>ck|ck hutchison|ck hutchison grp telefin sa</td>\n",
       "    </tr>\n",
       "    <tr>\n",
       "      <th>372</th>\n",
       "      <td>auchan|auchan holding|auchan holding sa</td>\n",
       "    </tr>\n",
       "    <tr>\n",
       "      <th>380</th>\n",
       "      <td>iss|iss finance|iss finance nb</td>\n",
       "    </tr>\n",
       "    <tr>\n",
       "      <th>398</th>\n",
       "      <td>ctp|ctp bv|ctp bv</td>\n",
       "    </tr>\n",
       "    <tr>\n",
       "      <th>418</th>\n",
       "      <td>cellnex|cellnex finance|cellnex finance compan...</td>\n",
       "    </tr>\n",
       "  </tbody>\n",
       "</table>\n",
       "</div>"
      ],
      "text/plain": [
       "                                            Input_Name\n",
       "12         airbus|airbus group|airbus group finance bv\n",
       "30   autostr|autostr bresvervicpad|autostr bresverv...\n",
       "47   caterpillar|caterpillar intl|caterpillar intl ...\n",
       "49             ciba|ciba spc|ciba spc chem fin lxbg sa\n",
       "65           delhaize|delhaize group|delhaize group sa\n",
       "73         deutsche|deutsche wohnen|deutsche wohnen ag\n",
       "75                    eon|eon intl|eon intl finance bv\n",
       "76                                   eon|eon se|eon se\n",
       "78                      eandis|eandis cvba|eandis cvba\n",
       "86            elia|elia system|elia system operator nv\n",
       "87         elia|elia system|elia system operator sa nv\n",
       "116                  gas|gas natural|gas natural cm sa\n",
       "121                   gie|gie engie|gie engie alliance\n",
       "124  heidelbergcement|heidelbergcement finlux|heide...\n",
       "132  holding|holding d|holding d infrastructures de...\n",
       "133  holding|holding d'infrastr|holding d'infrastr ...\n",
       "162         lvmh|lvmh moet|lvmh moet henn l vuitton se\n",
       "177      o2|o2 telefonica|o2 telefonica dtld finanzier\n",
       "189         red|red electrica|red electrica financ sau\n",
       "196                               resa|resa sa|resa sa\n",
       "201                      rte|rte edf|rte edf transport\n",
       "203  sagess|sagess socandgeststdsec|sagess socandge...\n",
       "212  siemens|siemens finanmaatschappij|siemens fina...\n",
       "214                 sncf|sncf mobilites|sncf mobilites\n",
       "220  spp|spp infrastructure|spp infrastructure fing bv\n",
       "237  total|total infrastructures|total infrastructu...\n",
       "239                   unilever|unilever nv|unilever nv\n",
       "249                      vivendi|vivendi sa|vivendi sa\n",
       "273  societe|societe des|societe des autoroutes par...\n",
       "302                    acs|acs servicios|acs servicios\n",
       "315         covivio|covivio hotels|covivio hotels saca\n",
       "326  holding|holding d|holding d infrastructures de...\n",
       "333  mondelez|mondelez intl|mondelez intl hldgs net...\n",
       "334        ck|ck hutchison|ck hutchison grp telefin sa\n",
       "372            auchan|auchan holding|auchan holding sa\n",
       "380                     iss|iss finance|iss finance nb\n",
       "398                                  ctp|ctp bv|ctp bv\n",
       "418  cellnex|cellnex finance|cellnex finance compan..."
      ]
     },
     "execution_count": 13,
     "metadata": {},
     "output_type": "execute_result"
    }
   ],
   "source": [
    "# companies that did not have a match\n",
    "noMatch = pd.DataFrame(output[output['Match Level'] == 'No Match']['Input_Name'])\n",
    "noMatch"
   ]
  },
  {
   "cell_type": "markdown",
   "metadata": {},
   "source": [
    "<p><b> Note: will be continued.  Another possible solution: use Entity Search API. </b></p>"
   ]
  },
  {
   "cell_type": "markdown",
   "metadata": {},
   "source": [
    "<p>Using the Entity Lookup API to get the data on industry for each company and joining it to the main dataframe:</p>"
   ]
  },
  {
   "cell_type": "code",
   "execution_count": 14,
   "metadata": {},
   "outputs": [],
   "source": [
    "# companies that were matched\n",
    "companies = pd.DataFrame(output[output['Match Level'] != 'No Match'])"
   ]
  },
  {
   "cell_type": "code",
   "execution_count": 15,
   "metadata": {},
   "outputs": [],
   "source": [
    "IDs = companies['Match OpenPermID']"
   ]
  },
  {
   "cell_type": "code",
   "execution_count": 16,
   "metadata": {},
   "outputs": [],
   "source": [
    "sectors = []\n",
    "for permID in IDs:\n",
    "    lookup_company = ed.entity_lookup(token, permID)\n",
    "    if 'hasPrimaryBusinessSector' in lookup_company:\n",
    "            sectorID = lookup_company['hasPrimaryBusinessSector']\n",
    "            lookup_sector = ed.entity_lookup(token, sectorID)\n",
    "            sectors.append(pd.DataFrame({'Match OpenPermID' : [permID],\n",
    "                                          'Sector PermID' : [sectorID], \n",
    "                                          'Sector' : [lookup_sector['prefLabel']],\n",
    "                                          'Sector Description' : lookup_sector['rdfs:comment']}))"
   ]
  },
  {
   "cell_type": "code",
   "execution_count": 17,
   "metadata": {},
   "outputs": [],
   "source": [
    "sectors = pd.concat(sectors,ignore_index=True).drop_duplicates()"
   ]
  },
  {
   "cell_type": "code",
   "execution_count": 18,
   "metadata": {},
   "outputs": [],
   "source": [
    "companies = companies.merge(sectors, how = 'left', on = 'Match OpenPermID')[['Input_Name','Sector']]"
   ]
  },
  {
   "cell_type": "code",
   "execution_count": 19,
   "metadata": {
    "scrolled": true
   },
   "outputs": [
    {
     "data": {
      "text/html": [
       "<div>\n",
       "<style scoped>\n",
       "    .dataframe tbody tr th:only-of-type {\n",
       "        vertical-align: middle;\n",
       "    }\n",
       "\n",
       "    .dataframe tbody tr th {\n",
       "        vertical-align: top;\n",
       "    }\n",
       "\n",
       "    .dataframe thead th {\n",
       "        text-align: right;\n",
       "    }\n",
       "</style>\n",
       "<table border=\"1\" class=\"dataframe\">\n",
       "  <thead>\n",
       "    <tr style=\"text-align: right;\">\n",
       "      <th></th>\n",
       "      <th>MONTH</th>\n",
       "      <th>NCB</th>\n",
       "      <th>ISIN</th>\n",
       "      <th>ISSUER</th>\n",
       "      <th>MATURITY DATE</th>\n",
       "      <th>COUPON RATE</th>\n",
       "      <th>Sector</th>\n",
       "    </tr>\n",
       "  </thead>\n",
       "  <tbody>\n",
       "    <tr>\n",
       "      <th>52218</th>\n",
       "      <td>2020/12</td>\n",
       "      <td>DE</td>\n",
       "      <td>XS1548436473</td>\n",
       "      <td>BMW Finance N.V.</td>\n",
       "      <td>12/07/2024</td>\n",
       "      <td>0.75</td>\n",
       "      <td>NaN</td>\n",
       "    </tr>\n",
       "  </tbody>\n",
       "</table>\n",
       "</div>"
      ],
      "text/plain": [
       "         MONTH NCB          ISIN            ISSUER MATURITY DATE COUPON RATE  \\\n",
       "52218  2020/12  DE  XS1548436473  BMW Finance N.V.    12/07/2024        0.75   \n",
       "\n",
       "      Sector  \n",
       "52218    NaN  "
      ]
     },
     "execution_count": 19,
     "metadata": {},
     "output_type": "execute_result"
    }
   ],
   "source": [
    "df = df.merge(companies, left_on='KEY NAME', right_on='Input_Name', how='left').drop(columns=['KEY NAME','Input_Name'])\n",
    "df.sample()"
   ]
  },
  {
   "cell_type": "code",
   "execution_count": 20,
   "metadata": {},
   "outputs": [
    {
     "data": {
      "text/plain": [
       "MONTH                0\n",
       "NCB                  0\n",
       "ISIN                 0\n",
       "ISSUER               0\n",
       "MATURITY DATE        0\n",
       "COUPON RATE          0\n",
       "Sector           10153\n",
       "dtype: int64"
      ]
     },
     "execution_count": 20,
     "metadata": {},
     "output_type": "execute_result"
    }
   ],
   "source": [
    "df.isna().sum()"
   ]
  },
  {
   "cell_type": "code",
   "execution_count": 21,
   "metadata": {},
   "outputs": [
    {
     "data": {
      "text/html": [
       "<div>\n",
       "<style scoped>\n",
       "    .dataframe tbody tr th:only-of-type {\n",
       "        vertical-align: middle;\n",
       "    }\n",
       "\n",
       "    .dataframe tbody tr th {\n",
       "        vertical-align: top;\n",
       "    }\n",
       "\n",
       "    .dataframe thead th {\n",
       "        text-align: right;\n",
       "    }\n",
       "</style>\n",
       "<table border=\"1\" class=\"dataframe\">\n",
       "  <thead>\n",
       "    <tr style=\"text-align: right;\">\n",
       "      <th></th>\n",
       "      <th>MONTH</th>\n",
       "      <th>NCB</th>\n",
       "      <th>ISIN</th>\n",
       "      <th>ISSUER</th>\n",
       "      <th>MATURITY DATE</th>\n",
       "      <th>COUPON RATE</th>\n",
       "      <th>Sector</th>\n",
       "    </tr>\n",
       "  </thead>\n",
       "  <tbody>\n",
       "    <tr>\n",
       "      <th>44146</th>\n",
       "      <td>2020/07</td>\n",
       "      <td>BE</td>\n",
       "      <td>XS2187525949</td>\n",
       "      <td>Alliander N.V.</td>\n",
       "      <td>10/06/2030</td>\n",
       "      <td>0.375</td>\n",
       "      <td>Utilities</td>\n",
       "    </tr>\n",
       "    <tr>\n",
       "      <th>6979</th>\n",
       "      <td>2017/12</td>\n",
       "      <td>FR</td>\n",
       "      <td>XS1408317433</td>\n",
       "      <td>Orange S.A.</td>\n",
       "      <td>12/05/2025</td>\n",
       "      <td>1</td>\n",
       "      <td>Telecommunications Services</td>\n",
       "    </tr>\n",
       "    <tr>\n",
       "      <th>58530</th>\n",
       "      <td>2021/04</td>\n",
       "      <td>DE</td>\n",
       "      <td>DE000A19B8E2</td>\n",
       "      <td>Vonovia Finance B.V.</td>\n",
       "      <td>25/01/2027</td>\n",
       "      <td>1.75</td>\n",
       "      <td>Real Estate</td>\n",
       "    </tr>\n",
       "    <tr>\n",
       "      <th>37732</th>\n",
       "      <td>2020/02</td>\n",
       "      <td>FR</td>\n",
       "      <td>FR0013266830</td>\n",
       "      <td>Legrand S.A.</td>\n",
       "      <td>06/07/2024</td>\n",
       "      <td>0.75</td>\n",
       "      <td>Industrial Goods</td>\n",
       "    </tr>\n",
       "    <tr>\n",
       "      <th>41731</th>\n",
       "      <td>2020/05</td>\n",
       "      <td>FR</td>\n",
       "      <td>FR0010961581</td>\n",
       "      <td>Electricité de France (E.D.F.)</td>\n",
       "      <td>12/11/2040</td>\n",
       "      <td>4.5</td>\n",
       "      <td>Investment Holding Companies</td>\n",
       "    </tr>\n",
       "    <tr>\n",
       "      <th>17189</th>\n",
       "      <td>2018/09</td>\n",
       "      <td>FR</td>\n",
       "      <td>XS1569845404</td>\n",
       "      <td>Unibail-Rodamco SE</td>\n",
       "      <td>22/02/2028</td>\n",
       "      <td>1.5</td>\n",
       "      <td>Real Estate</td>\n",
       "    </tr>\n",
       "    <tr>\n",
       "      <th>45266</th>\n",
       "      <td>2020/07</td>\n",
       "      <td>IT</td>\n",
       "      <td>XS1578294081</td>\n",
       "      <td>Italgas S.P.A.</td>\n",
       "      <td>14/03/2024</td>\n",
       "      <td>1.125</td>\n",
       "      <td>Utilities</td>\n",
       "    </tr>\n",
       "    <tr>\n",
       "      <th>41125</th>\n",
       "      <td>2020/05</td>\n",
       "      <td>BE</td>\n",
       "      <td>XS2156598281</td>\n",
       "      <td>Akzo Nobel N.V.</td>\n",
       "      <td>14/04/2030</td>\n",
       "      <td>1.625</td>\n",
       "      <td>Chemicals</td>\n",
       "    </tr>\n",
       "    <tr>\n",
       "      <th>56342</th>\n",
       "      <td>2021/02</td>\n",
       "      <td>IT</td>\n",
       "      <td>XS1401125346</td>\n",
       "      <td>Buzzi Unicem S.p.A., Casale Monferrato</td>\n",
       "      <td>28/04/2023</td>\n",
       "      <td>2.125</td>\n",
       "      <td>Mineral Resources</td>\n",
       "    </tr>\n",
       "    <tr>\n",
       "      <th>22545</th>\n",
       "      <td>2019/02</td>\n",
       "      <td>DE</td>\n",
       "      <td>XS0753143709</td>\n",
       "      <td>Deutsche Bahn Finance B.V.</td>\n",
       "      <td>08/03/2024</td>\n",
       "      <td>3</td>\n",
       "      <td>Banking &amp; Investment Services</td>\n",
       "    </tr>\n",
       "  </tbody>\n",
       "</table>\n",
       "</div>"
      ],
      "text/plain": [
       "         MONTH NCB          ISIN                                  ISSUER  \\\n",
       "44146  2020/07  BE  XS2187525949                          Alliander N.V.   \n",
       "6979   2017/12  FR  XS1408317433                             Orange S.A.   \n",
       "58530  2021/04  DE  DE000A19B8E2                    Vonovia Finance B.V.   \n",
       "37732  2020/02  FR  FR0013266830                            Legrand S.A.   \n",
       "41731  2020/05  FR  FR0010961581          Electricité de France (E.D.F.)   \n",
       "17189  2018/09  FR  XS1569845404                      Unibail-Rodamco SE   \n",
       "45266  2020/07  IT  XS1578294081                          Italgas S.P.A.   \n",
       "41125  2020/05  BE  XS2156598281                         Akzo Nobel N.V.   \n",
       "56342  2021/02  IT  XS1401125346  Buzzi Unicem S.p.A., Casale Monferrato   \n",
       "22545  2019/02  DE  XS0753143709              Deutsche Bahn Finance B.V.   \n",
       "\n",
       "      MATURITY DATE COUPON RATE                         Sector  \n",
       "44146    10/06/2030       0.375                      Utilities  \n",
       "6979     12/05/2025           1    Telecommunications Services  \n",
       "58530    25/01/2027        1.75                    Real Estate  \n",
       "37732    06/07/2024        0.75               Industrial Goods  \n",
       "41731    12/11/2040         4.5   Investment Holding Companies  \n",
       "17189    22/02/2028         1.5                    Real Estate  \n",
       "45266    14/03/2024       1.125                      Utilities  \n",
       "41125    14/04/2030       1.625                      Chemicals  \n",
       "56342    28/04/2023       2.125              Mineral Resources  \n",
       "22545    08/03/2024           3  Banking & Investment Services  "
      ]
     },
     "execution_count": 21,
     "metadata": {},
     "output_type": "execute_result"
    }
   ],
   "source": [
    "df.sample(10)"
   ]
  },
  {
   "cell_type": "code",
   "execution_count": 22,
   "metadata": {},
   "outputs": [
    {
     "data": {
      "text/plain": [
       "array(['Utilities', 'Industrial Goods', 'Transportation', 'Insurance',\n",
       "       'Industrial & Commercial Services', nan, 'Chemicals',\n",
       "       'Real Estate', 'Banking & Investment Services', 'Food & Beverages',\n",
       "       'Energy - Fossil Fuels', 'Technology Equipment',\n",
       "       'Pharmaceuticals & Medical Research', 'Cyclical Consumer Services',\n",
       "       'Software & IT Services', 'Telecommunications Services',\n",
       "       'Cyclical Consumer Products', 'Automobiles & Auto Parts',\n",
       "       'Financial Technology (Fintech) & Infrastructure',\n",
       "       'Investment Holding Companies', 'Mineral Resources', 'Retailers',\n",
       "       'Consumer Goods Conglomerates', 'Collective Investments',\n",
       "       'Healthcare Services & Equipment', 'Food & Drug Retailing',\n",
       "       'Applied Resources'], dtype=object)"
      ]
     },
     "execution_count": 22,
     "metadata": {},
     "output_type": "execute_result"
    }
   ],
   "source": [
    "df['Sector'].unique()"
   ]
  },
  {
   "cell_type": "markdown",
   "metadata": {},
   "source": [
    "<p><b> Note: I think Business Sectors are ok to use for the analysis. For making the visualisations, check \"Decarbonising is easy\": https://neweconomics.org/uploads/files/Decarbonising-is-easy.pdf.</b></p>"
   ]
  }
 ],
 "metadata": {
  "kernelspec": {
   "display_name": "Python 3",
   "language": "python",
   "name": "python3"
  },
  "language_info": {
   "codemirror_mode": {
    "name": "ipython",
    "version": 3
   },
   "file_extension": ".py",
   "mimetype": "text/x-python",
   "name": "python",
   "nbconvert_exporter": "python",
   "pygments_lexer": "ipython3",
   "version": "3.8.5"
  },
  "toc": {
   "base_numbering": 1,
   "nav_menu": {},
   "number_sections": true,
   "sideBar": true,
   "skip_h1_title": false,
   "title_cell": "Table of Contents",
   "title_sidebar": "Contents",
   "toc_cell": false,
   "toc_position": {},
   "toc_section_display": true,
   "toc_window_display": false
  }
 },
 "nbformat": 4,
 "nbformat_minor": 4
}
