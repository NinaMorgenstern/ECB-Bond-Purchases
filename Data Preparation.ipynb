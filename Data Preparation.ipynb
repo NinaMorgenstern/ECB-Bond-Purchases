{
 "cells": [
  {
   "cell_type": "markdown",
   "metadata": {},
   "source": [
    "<p>Importing the packages:</p>"
   ]
  },
  {
   "cell_type": "code",
   "execution_count": 1,
   "metadata": {},
   "outputs": [],
   "source": [
    "import pandas as pd\n",
    "import glob\n",
    "import requests\n",
    "import json\n",
    "from time import sleep\n",
    "import extractdata as ed"
   ]
  },
  {
   "cell_type": "markdown",
   "metadata": {},
   "source": [
    "# Data Preparation\n",
    "## Read Data from several CSV files"
   ]
  },
  {
   "cell_type": "markdown",
   "metadata": {},
   "source": [
    "<p> Loading files on CSPP corporate bonds holdings: </p>"
   ]
  },
  {
   "cell_type": "code",
   "execution_count": 2,
   "metadata": {},
   "outputs": [],
   "source": [
    "df = ed.pd_read_csv('data/*holdings_*.csv', 'iso8859-1')"
   ]
  },
  {
   "cell_type": "code",
   "execution_count": 3,
   "metadata": {},
   "outputs": [
    {
     "data": {
      "text/plain": [
       "NCB                2069\n",
       "ISIN_CODE         21215\n",
       "ISSUER_NAME_      56389\n",
       "MATURITY_DATE_    56389\n",
       "COUPON_RATE_      56389\n",
       "MONTH                 0\n",
       "ISSUER_NAME       25409\n",
       "MATURITY_DATE     25409\n",
       "COUPON_RATE       25409\n",
       "Unnamed: 0        59371\n",
       "ISIN              40226\n",
       "ISSUER            40226\n",
       "MATURITY DATE     40226\n",
       "COUPON RATE       40226\n",
       "dtype: int64"
      ]
     },
     "execution_count": 3,
     "metadata": {},
     "output_type": "execute_result"
    }
   ],
   "source": [
    "# check for the null values\n",
    "df.isna().sum()"
   ]
  },
  {
   "cell_type": "markdown",
   "metadata": {},
   "source": [
    "<p> Column names are a slightly different in reports generated in different months. Filling in an empty cells to put all relevant data into one column: </p>"
   ]
  },
  {
   "cell_type": "code",
   "execution_count": 4,
   "metadata": {},
   "outputs": [],
   "source": [
    "# fill in empty cells\n",
    "df['NCB'].fillna(df['Unnamed: 0'], inplace=True)\n",
    "df['ISIN'].fillna(df['ISIN_CODE'], inplace=True)\n",
    "df['ISSUER'].fillna(df['ISSUER_NAME_'], inplace=True)\n",
    "df['ISSUER'].fillna(df['ISSUER_NAME'], inplace=True)\n",
    "df['MATURITY DATE'].fillna(df['MATURITY_DATE_'], inplace=True)\n",
    "df['MATURITY DATE'].fillna(df['MATURITY_DATE'], inplace=True)\n",
    "df['COUPON RATE'].fillna(df['COUPON_RATE_'], inplace=True)\n",
    "df['COUPON RATE'].fillna(df['COUPON_RATE'], inplace=True)"
   ]
  },
  {
   "cell_type": "code",
   "execution_count": 5,
   "metadata": {},
   "outputs": [],
   "source": [
    "# choose necessary columns and rows\n",
    "df = df[df['ISIN'].notna()][['MONTH', 'NCB', 'ISIN', 'ISSUER', 'MATURITY DATE', 'COUPON RATE']]"
   ]
  },
  {
   "cell_type": "code",
   "execution_count": 6,
   "metadata": {},
   "outputs": [
    {
     "data": {
      "text/plain": [
       "MONTH            0\n",
       "NCB              0\n",
       "ISIN             0\n",
       "ISSUER           0\n",
       "MATURITY DATE    0\n",
       "COUPON RATE      0\n",
       "dtype: int64"
      ]
     },
     "execution_count": 6,
     "metadata": {},
     "output_type": "execute_result"
    }
   ],
   "source": [
    "# check for the null values\n",
    "df.isna().sum()"
   ]
  },
  {
   "cell_type": "code",
   "execution_count": 7,
   "metadata": {},
   "outputs": [
    {
     "data": {
      "text/html": [
       "<div>\n",
       "<style scoped>\n",
       "    .dataframe tbody tr th:only-of-type {\n",
       "        vertical-align: middle;\n",
       "    }\n",
       "\n",
       "    .dataframe tbody tr th {\n",
       "        vertical-align: top;\n",
       "    }\n",
       "\n",
       "    .dataframe thead th {\n",
       "        text-align: right;\n",
       "    }\n",
       "</style>\n",
       "<table border=\"1\" class=\"dataframe\">\n",
       "  <thead>\n",
       "    <tr style=\"text-align: right;\">\n",
       "      <th></th>\n",
       "      <th>MONTH</th>\n",
       "      <th>NCB</th>\n",
       "      <th>ISIN</th>\n",
       "      <th>ISSUER</th>\n",
       "      <th>MATURITY DATE</th>\n",
       "      <th>COUPON RATE</th>\n",
       "    </tr>\n",
       "  </thead>\n",
       "  <tbody>\n",
       "    <tr>\n",
       "      <th>0</th>\n",
       "      <td>2017/06</td>\n",
       "      <td>IT</td>\n",
       "      <td>XS1088274169</td>\n",
       "      <td>2i Rete Gas S.p.A.</td>\n",
       "      <td>16/07/2019</td>\n",
       "      <td>1.75</td>\n",
       "    </tr>\n",
       "    <tr>\n",
       "      <th>1</th>\n",
       "      <td>2017/06</td>\n",
       "      <td>IT</td>\n",
       "      <td>XS1088274672</td>\n",
       "      <td>2i Rete Gas S.p.A.</td>\n",
       "      <td>16/07/2024</td>\n",
       "      <td>3</td>\n",
       "    </tr>\n",
       "    <tr>\n",
       "      <th>2</th>\n",
       "      <td>2017/06</td>\n",
       "      <td>IT</td>\n",
       "      <td>XS1144492532</td>\n",
       "      <td>2i Rete Gas S.p.A.</td>\n",
       "      <td>02/01/2020</td>\n",
       "      <td>1.125</td>\n",
       "    </tr>\n",
       "    <tr>\n",
       "      <th>3</th>\n",
       "      <td>2017/06</td>\n",
       "      <td>IT</td>\n",
       "      <td>XS1571982468</td>\n",
       "      <td>2i Rete Gas S.p.A.</td>\n",
       "      <td>28/08/2026</td>\n",
       "      <td>1.75</td>\n",
       "    </tr>\n",
       "    <tr>\n",
       "      <th>4</th>\n",
       "      <td>2017/06</td>\n",
       "      <td>IT</td>\n",
       "      <td>XS0859920406</td>\n",
       "      <td>A2A S.p.A.</td>\n",
       "      <td>28/11/2019</td>\n",
       "      <td>4.5</td>\n",
       "    </tr>\n",
       "  </tbody>\n",
       "</table>\n",
       "</div>"
      ],
      "text/plain": [
       "     MONTH NCB          ISIN              ISSUER MATURITY DATE COUPON RATE\n",
       "0  2017/06  IT  XS1088274169  2i Rete Gas S.p.A.    16/07/2019        1.75\n",
       "1  2017/06  IT  XS1088274672  2i Rete Gas S.p.A.    16/07/2024           3\n",
       "2  2017/06  IT  XS1144492532  2i Rete Gas S.p.A.    02/01/2020       1.125\n",
       "3  2017/06  IT  XS1571982468  2i Rete Gas S.p.A.    28/08/2026        1.75\n",
       "4  2017/06  IT  XS0859920406          A2A S.p.A.    28/11/2019         4.5"
      ]
     },
     "execution_count": 7,
     "metadata": {},
     "output_type": "execute_result"
    }
   ],
   "source": [
    "df.head()"
   ]
  },
  {
   "cell_type": "markdown",
   "metadata": {},
   "source": [
    "## Data Extraction via API"
   ]
  },
  {
   "cell_type": "markdown",
   "metadata": {},
   "source": [
    "<p>We use different PermID APIs to assign Industrial sectors to companies. Access token and for API requests:</p>"
   ]
  },
  {
   "cell_type": "code",
   "execution_count": 8,
   "metadata": {},
   "outputs": [],
   "source": [
    "token = 'r3S0DwnAKTqYq9jgJIs0XI04YBDWjPVJ'"
   ]
  },
  {
   "cell_type": "markdown",
   "metadata": {},
   "source": [
    "<p> Creating a template for Record Matching API: </p>"
   ]
  },
  {
   "cell_type": "code",
   "execution_count": 9,
   "metadata": {},
   "outputs": [
    {
     "data": {
      "text/html": [
       "<div>\n",
       "<style scoped>\n",
       "    .dataframe tbody tr th:only-of-type {\n",
       "        vertical-align: middle;\n",
       "    }\n",
       "\n",
       "    .dataframe tbody tr th {\n",
       "        vertical-align: top;\n",
       "    }\n",
       "\n",
       "    .dataframe thead th {\n",
       "        text-align: right;\n",
       "    }\n",
       "</style>\n",
       "<table border=\"1\" class=\"dataframe\">\n",
       "  <thead>\n",
       "    <tr style=\"text-align: right;\">\n",
       "      <th></th>\n",
       "      <th>Name</th>\n",
       "    </tr>\n",
       "  </thead>\n",
       "  <tbody>\n",
       "    <tr>\n",
       "      <th>0</th>\n",
       "      <td>2i rete gas spa</td>\n",
       "    </tr>\n",
       "    <tr>\n",
       "      <th>1</th>\n",
       "      <td>2i rete gas spa</td>\n",
       "    </tr>\n",
       "    <tr>\n",
       "      <th>2</th>\n",
       "      <td>2i rete gas spa</td>\n",
       "    </tr>\n",
       "    <tr>\n",
       "      <th>3</th>\n",
       "      <td>2i rete gas spa</td>\n",
       "    </tr>\n",
       "    <tr>\n",
       "      <th>4</th>\n",
       "      <td>a2a spa</td>\n",
       "    </tr>\n",
       "  </tbody>\n",
       "</table>\n",
       "</div>"
      ],
      "text/plain": [
       "              Name\n",
       "0  2i rete gas spa\n",
       "1  2i rete gas spa\n",
       "2  2i rete gas spa\n",
       "3  2i rete gas spa\n",
       "4          a2a spa"
      ]
     },
     "execution_count": 9,
     "metadata": {},
     "output_type": "execute_result"
    }
   ],
   "source": [
    "template = pd.DataFrame({'Name': df['ISSUER']})\n",
    "template['Name'] = template['Name'].str.normalize('NFKD').str.encode('ascii', errors='ignore').str.decode('utf-8').\\\n",
    "                                    str.strip().str.replace('.','').str.replace('(','').str.replace(')','').\\\n",
    "                                    str.replace('-',' ').str.replace('/',' ').str.lower().str.split(',',1).str[0]\n",
    "df['KEY NAME'] = template['Name']\n",
    "template.head()"
   ]
  },
  {
   "cell_type": "code",
   "execution_count": 10,
   "metadata": {},
   "outputs": [],
   "source": [
    "template = template.drop_duplicates().to_csv(index=False)"
   ]
  },
  {
   "cell_type": "markdown",
   "metadata": {},
   "source": [
    "<p>Find companies' PermIDs by their names using Record Matching API:</p>"
   ]
  },
  {
   "cell_type": "code",
   "execution_count": 11,
   "metadata": {},
   "outputs": [
    {
     "name": "stdout",
     "output_type": "stream",
     "text": [
      "Processed: 442\n",
      "Matched: \n",
      "  Total 394\n",
      "  Excellent 337\n",
      "  Good 26\n",
      "  Possible 31\n",
      "Unmatched: 48\n"
     ]
    }
   ],
   "source": [
    "match_results = ed.record_matching(token, template = template)"
   ]
  },
  {
   "cell_type": "markdown",
   "metadata": {},
   "source": [
    "<p>Sometimes the request is processed successfully, but does not return any matches due to unexpected server errors. Then the request is sent again and a message appears.</p>"
   ]
  },
  {
   "cell_type": "markdown",
   "metadata": {},
   "source": [
    "<p> There are 48 unmatched results out of 442. First, we try to create a new template and make further transformations to match the rest of the companies. Another possible solution: use Entity Search API. </p>"
   ]
  },
  {
   "cell_type": "code",
   "execution_count": 12,
   "metadata": {},
   "outputs": [],
   "source": [
    "output = match_results['outputContentResponse']\n",
    "\n",
    "# create dataframe with permIDs for matched companies\n",
    "companies = pd.DataFrame([d for d in output if d['Match Level'] != 'No Match'])\n",
    "\n",
    "# create dataframe with companies that did not have a match\n",
    "noMatch = pd.DataFrame([d for d in output if d['Match Level'] == 'No Match'])['Input_Name']"
   ]
  },
  {
   "cell_type": "code",
   "execution_count": 13,
   "metadata": {},
   "outputs": [
    {
     "data": {
      "text/plain": [
       "0                        air liquide sa etexplpgcl\n",
       "1                          airbus group finance bv\n",
       "2                        autostr bresvervicpad spa\n",
       "3                     caterpillar intl finance ltd\n",
       "4                        ciba spc chem fin lxbg sa\n",
       "5                     compagnie fin ind autoroutes\n",
       "6                                   delhaize group\n",
       "7                                delhaize group sa\n",
       "8                      deutsche telekom intl finbv\n",
       "9                               deutsche wohnen ag\n",
       "10                    distribuidora intl de alimsa\n",
       "11                             eon intl finance bv\n",
       "12                                          eon se\n",
       "13                                     eandis cvba\n",
       "14                         elia system operator nv\n",
       "15                      elia system operator sa nv\n",
       "16                               gas natural cm sa\n",
       "17                              gie engie alliance\n",
       "18                      heidelbergcement finlux sa\n",
       "19                       holcim finance luxembg sa\n",
       "20          holding d infrastructures de transport\n",
       "21                    holding d'infrastr de transp\n",
       "22                     lvmh moet henn l vuitton se\n",
       "23                    o2 telefonica dtld finanzier\n",
       "24                        red electrica financ sau\n",
       "25                                         resa sa\n",
       "26                      robert bosch investnedldbv\n",
       "27                               rte edf transport\n",
       "28                         sagess socandgeststdsec\n",
       "29                    siemens finanmaatschappij nv\n",
       "30                                  sncf mobilites\n",
       "31                      spp infrastructure fing bv\n",
       "32                total infrastructures gaz france\n",
       "33                                     unilever nv\n",
       "34                                      vivendi sa\n",
       "35                           holcim usfinsarl  scs\n",
       "36    societe des autoroutes paris rhin rhone aprr\n",
       "37                   cnh industrial finance eurosa\n",
       "38                                   acs servicios\n",
       "39                             covivio hotels saca\n",
       "40      holding d infrastructures de transport sas\n",
       "41                   mondelez intl hldgs nether bv\n",
       "42                     ck hutchison grp telefin sa\n",
       "43                               auchan holding sa\n",
       "44                                  iss finance nb\n",
       "45                                          ctp bv\n",
       "46                               el corte ingle sa\n",
       "47                     cellnex finance company sau\n",
       "Name: Input_Name, dtype: object"
      ]
     },
     "execution_count": 13,
     "metadata": {},
     "output_type": "execute_result"
    }
   ],
   "source": [
    "noMatch"
   ]
  },
  {
   "cell_type": "code",
   "execution_count": 14,
   "metadata": {},
   "outputs": [
    {
     "data": {
      "text/html": [
       "<div>\n",
       "<style scoped>\n",
       "    .dataframe tbody tr th:only-of-type {\n",
       "        vertical-align: middle;\n",
       "    }\n",
       "\n",
       "    .dataframe tbody tr th {\n",
       "        vertical-align: top;\n",
       "    }\n",
       "\n",
       "    .dataframe thead th {\n",
       "        text-align: right;\n",
       "    }\n",
       "</style>\n",
       "<table border=\"1\" class=\"dataframe\">\n",
       "  <thead>\n",
       "    <tr style=\"text-align: right;\">\n",
       "      <th></th>\n",
       "      <th>Name</th>\n",
       "    </tr>\n",
       "  </thead>\n",
       "  <tbody>\n",
       "    <tr>\n",
       "      <th>23</th>\n",
       "      <td>[o2, telefonica]</td>\n",
       "    </tr>\n",
       "    <tr>\n",
       "      <th>16</th>\n",
       "      <td>[gas, natural]</td>\n",
       "    </tr>\n",
       "    <tr>\n",
       "      <th>18</th>\n",
       "      <td>[heidelbergcement, finlux]</td>\n",
       "    </tr>\n",
       "    <tr>\n",
       "      <th>30</th>\n",
       "      <td>[sncf, mobilites]</td>\n",
       "    </tr>\n",
       "    <tr>\n",
       "      <th>0</th>\n",
       "      <td>[air, liquide]</td>\n",
       "    </tr>\n",
       "  </tbody>\n",
       "</table>\n",
       "</div>"
      ],
      "text/plain": [
       "                          Name\n",
       "23            [o2, telefonica]\n",
       "16              [gas, natural]\n",
       "18  [heidelbergcement, finlux]\n",
       "30           [sncf, mobilites]\n",
       "0               [air, liquide]"
      ]
     },
     "execution_count": 14,
     "metadata": {},
     "output_type": "execute_result"
    }
   ],
   "source": [
    "new_template = pd.DataFrame({'Name': noMatch})\n",
    "new_template['Name'] = new_template['Name'].str.split().str[:2]\n",
    "new_template.sample(5)"
   ]
  },
  {
   "cell_type": "markdown",
   "metadata": {},
   "source": [
    "<p><b> Note: will be continued. I will try to match using first two words from the names. </b></p>"
   ]
  },
  {
   "cell_type": "markdown",
   "metadata": {},
   "source": [
    "<p>Using the Entity Lookup API to get the data on industry for each company and joining it to the main dataframe:</p>"
   ]
  },
  {
   "cell_type": "code",
   "execution_count": 15,
   "metadata": {},
   "outputs": [],
   "source": [
    "IDs = companies['Match OpenPermID']"
   ]
  },
  {
   "cell_type": "code",
   "execution_count": 16,
   "metadata": {},
   "outputs": [],
   "source": [
    "sectors = []\n",
    "for permID in IDs:\n",
    "    lookup_company = ed.entity_lookup(token, permID)\n",
    "    if 'hasPrimaryBusinessSector' in lookup_company:\n",
    "            sectorID = lookup_company['hasPrimaryBusinessSector']\n",
    "            lookup_sector = ed.entity_lookup(token, sectorID)\n",
    "            sectors.append(pd.DataFrame({'Match OpenPermID' : [permID],\n",
    "                                          'Sector PermID' : [sectorID], \n",
    "                                          'Sector' : [lookup_sector['prefLabel']],\n",
    "                                          'Sector Description' : lookup_sector['rdfs:comment']}))"
   ]
  },
  {
   "cell_type": "code",
   "execution_count": 17,
   "metadata": {},
   "outputs": [],
   "source": [
    "sectors = pd.concat(sectors).drop_duplicates()"
   ]
  },
  {
   "cell_type": "code",
   "execution_count": 18,
   "metadata": {},
   "outputs": [],
   "source": [
    "companies = companies.merge(sectors, how = 'left', on = 'Match OpenPermID')"
   ]
  },
  {
   "cell_type": "code",
   "execution_count": 21,
   "metadata": {},
   "outputs": [
    {
     "data": {
      "text/html": [
       "<div>\n",
       "<style scoped>\n",
       "    .dataframe tbody tr th:only-of-type {\n",
       "        vertical-align: middle;\n",
       "    }\n",
       "\n",
       "    .dataframe tbody tr th {\n",
       "        vertical-align: top;\n",
       "    }\n",
       "\n",
       "    .dataframe thead th {\n",
       "        text-align: right;\n",
       "    }\n",
       "</style>\n",
       "<table border=\"1\" class=\"dataframe\">\n",
       "  <thead>\n",
       "    <tr style=\"text-align: right;\">\n",
       "      <th></th>\n",
       "      <th>ProcessingStatus</th>\n",
       "      <th>Match OpenPermID</th>\n",
       "      <th>Match OrgName</th>\n",
       "      <th>Match Score</th>\n",
       "      <th>Match Level</th>\n",
       "      <th>Match Ordinal</th>\n",
       "      <th>Original Row Number</th>\n",
       "      <th>Input_Name</th>\n",
       "      <th>Sector PermID</th>\n",
       "      <th>Sector</th>\n",
       "      <th>Sector Description</th>\n",
       "    </tr>\n",
       "  </thead>\n",
       "  <tbody>\n",
       "    <tr>\n",
       "      <th>0</th>\n",
       "      <td>OK</td>\n",
       "      <td>https://permid.org/1-5000936840</td>\n",
       "      <td>2I Rete Gas SpA</td>\n",
       "      <td>92%</td>\n",
       "      <td>Excellent</td>\n",
       "      <td>1</td>\n",
       "      <td>2</td>\n",
       "      <td>2i rete gas spa</td>\n",
       "      <td>https://permid.org/1-4294952820</td>\n",
       "      <td>Utilities</td>\n",
       "      <td>Producers and distributors of electricity, nat...</td>\n",
       "    </tr>\n",
       "    <tr>\n",
       "      <th>1</th>\n",
       "      <td>OK</td>\n",
       "      <td>https://permid.org/1-5000005309</td>\n",
       "      <td>A2A SpA</td>\n",
       "      <td>92%</td>\n",
       "      <td>Excellent</td>\n",
       "      <td>1</td>\n",
       "      <td>3</td>\n",
       "      <td>a2a spa</td>\n",
       "      <td>https://permid.org/1-4294952820</td>\n",
       "      <td>Utilities</td>\n",
       "      <td>Producers and distributors of electricity, nat...</td>\n",
       "    </tr>\n",
       "    <tr>\n",
       "      <th>2</th>\n",
       "      <td>OK</td>\n",
       "      <td>https://permid.org/1-5000066931</td>\n",
       "      <td>ABB Finance BV</td>\n",
       "      <td>92%</td>\n",
       "      <td>Excellent</td>\n",
       "      <td>1</td>\n",
       "      <td>4</td>\n",
       "      <td>abb finance bv</td>\n",
       "      <td>https://permid.org/1-4294952766</td>\n",
       "      <td>Industrial Goods</td>\n",
       "      <td>Manufacturers of aerospace &amp; defense equipment...</td>\n",
       "    </tr>\n",
       "    <tr>\n",
       "      <th>3</th>\n",
       "      <td>OK</td>\n",
       "      <td>https://permid.org/1-4295889666</td>\n",
       "      <td>Abertis Infraestructuras SA</td>\n",
       "      <td>92%</td>\n",
       "      <td>Excellent</td>\n",
       "      <td>1</td>\n",
       "      <td>5</td>\n",
       "      <td>abertis infraestructuras sa</td>\n",
       "      <td>https://permid.org/1-4294952945</td>\n",
       "      <td>Transportation</td>\n",
       "      <td>Transporters of freight and passengers by air,...</td>\n",
       "    </tr>\n",
       "    <tr>\n",
       "      <th>4</th>\n",
       "      <td>OK</td>\n",
       "      <td>https://permid.org/1-4295875677</td>\n",
       "      <td>Acea SpA</td>\n",
       "      <td>92%</td>\n",
       "      <td>Excellent</td>\n",
       "      <td>1</td>\n",
       "      <td>6</td>\n",
       "      <td>acea spa</td>\n",
       "      <td>https://permid.org/1-4294952820</td>\n",
       "      <td>Utilities</td>\n",
       "      <td>Producers and distributors of electricity, nat...</td>\n",
       "    </tr>\n",
       "  </tbody>\n",
       "</table>\n",
       "</div>"
      ],
      "text/plain": [
       "  ProcessingStatus                 Match OpenPermID  \\\n",
       "0               OK  https://permid.org/1-5000936840   \n",
       "1               OK  https://permid.org/1-5000005309   \n",
       "2               OK  https://permid.org/1-5000066931   \n",
       "3               OK  https://permid.org/1-4295889666   \n",
       "4               OK  https://permid.org/1-4295875677   \n",
       "\n",
       "                 Match OrgName Match Score Match Level Match Ordinal  \\\n",
       "0              2I Rete Gas SpA         92%   Excellent             1   \n",
       "1                      A2A SpA         92%   Excellent             1   \n",
       "2               ABB Finance BV         92%   Excellent             1   \n",
       "3  Abertis Infraestructuras SA         92%   Excellent             1   \n",
       "4                     Acea SpA         92%   Excellent             1   \n",
       "\n",
       "  Original Row Number                   Input_Name  \\\n",
       "0                   2              2i rete gas spa   \n",
       "1                   3                      a2a spa   \n",
       "2                   4               abb finance bv   \n",
       "3                   5  abertis infraestructuras sa   \n",
       "4                   6                     acea spa   \n",
       "\n",
       "                     Sector PermID            Sector  \\\n",
       "0  https://permid.org/1-4294952820         Utilities   \n",
       "1  https://permid.org/1-4294952820         Utilities   \n",
       "2  https://permid.org/1-4294952766  Industrial Goods   \n",
       "3  https://permid.org/1-4294952945    Transportation   \n",
       "4  https://permid.org/1-4294952820         Utilities   \n",
       "\n",
       "                                  Sector Description  \n",
       "0  Producers and distributors of electricity, nat...  \n",
       "1  Producers and distributors of electricity, nat...  \n",
       "2  Manufacturers of aerospace & defense equipment...  \n",
       "3  Transporters of freight and passengers by air,...  \n",
       "4  Producers and distributors of electricity, nat...  "
      ]
     },
     "execution_count": 21,
     "metadata": {},
     "output_type": "execute_result"
    }
   ],
   "source": [
    "companies.head()"
   ]
  },
  {
   "cell_type": "code",
   "execution_count": 20,
   "metadata": {},
   "outputs": [
    {
     "name": "stdout",
     "output_type": "stream",
     "text": [
      "['Utilities' 'Industrial Goods' 'Transportation' 'Insurance'\n",
      " 'Industrial & Commercial Services' 'Chemicals' 'Real Estate'\n",
      " 'Banking & Investment Services' 'Food & Beverages'\n",
      " 'Energy - Fossil Fuels' 'Technology Equipment'\n",
      " 'Pharmaceuticals & Medical Research' 'Cyclical Consumer Services'\n",
      " 'Software & IT Services' 'Telecommunications Services'\n",
      " 'Cyclical Consumer Products' 'Automobiles & Auto Parts'\n",
      " 'Financial Technology (Fintech) & Infrastructure'\n",
      " 'Investment Holding Companies' 'Mineral Resources' 'Retailers'\n",
      " 'Consumer Goods Conglomerates' 'Collective Investments'\n",
      " 'Healthcare Services & Equipment' 'Food & Drug Retailing'\n",
      " 'Applied Resources']\n"
     ]
    }
   ],
   "source": [
    "print(sectors['Sector'].unique())"
   ]
  },
  {
   "cell_type": "markdown",
   "metadata": {},
   "source": [
    "<p><b> Note: I think Business Sectors are ok to use for the analysis. </b></p>"
   ]
  }
 ],
 "metadata": {
  "kernelspec": {
   "display_name": "Python 3",
   "language": "python",
   "name": "python3"
  },
  "language_info": {
   "codemirror_mode": {
    "name": "ipython",
    "version": 3
   },
   "file_extension": ".py",
   "mimetype": "text/x-python",
   "name": "python",
   "nbconvert_exporter": "python",
   "pygments_lexer": "ipython3",
   "version": "3.8.5"
  },
  "toc": {
   "base_numbering": 1,
   "nav_menu": {},
   "number_sections": true,
   "sideBar": true,
   "skip_h1_title": false,
   "title_cell": "Table of Contents",
   "title_sidebar": "Contents",
   "toc_cell": false,
   "toc_position": {},
   "toc_section_display": true,
   "toc_window_display": false
  }
 },
 "nbformat": 4,
 "nbformat_minor": 4
}
