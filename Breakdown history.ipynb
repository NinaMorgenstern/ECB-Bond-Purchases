{
 "cells": [
  {
   "cell_type": "code",
   "execution_count": 1,
   "metadata": {
    "ExecuteTime": {
     "end_time": "2021-05-19T19:06:11.524284Z",
     "start_time": "2021-05-19T19:06:09.972150Z"
    }
   },
   "outputs": [
    {
     "name": "stderr",
     "output_type": "stream",
     "text": [
      "C:\\Users\\Seyong Ryoo\\Anaconda3\\lib\\site-packages\\statsmodels\\tools\\_testing.py:19: FutureWarning: pandas.util.testing is deprecated. Use the functions in the public API at pandas.testing instead.\n",
      "  import pandas.util.testing as tm\n"
     ]
    }
   ],
   "source": [
    "import pandas as pd\n",
    "from functools import reduce\n",
    "import matplotlib.pyplot as plt\n",
    "import seaborn as sns"
   ]
  },
  {
   "cell_type": "markdown",
   "metadata": {},
   "source": [
    "# Breakdown history by sector"
   ]
  },
  {
   "cell_type": "code",
   "execution_count": 2,
   "metadata": {
    "ExecuteTime": {
     "end_time": "2021-05-19T19:06:12.014220Z",
     "start_time": "2021-05-19T19:06:11.526235Z"
    }
   },
   "outputs": [],
   "source": [
    "xls = pd.ExcelFile('CSPP_breakdown_by_sector_rating_country.xlsx')"
   ]
  },
  {
   "cell_type": "markdown",
   "metadata": {},
   "source": []
  },
  {
   "cell_type": "code",
   "execution_count": 3,
   "metadata": {
    "ExecuteTime": {
     "end_time": "2021-05-19T19:06:12.029913Z",
     "start_time": "2021-05-19T19:06:12.018771Z"
    }
   },
   "outputs": [
    {
     "data": {
      "text/plain": [
       "['CSPP_breakdown_Q1_2021',\n",
       " 'CSPP_breakdown_Q3_2020',\n",
       " 'CSPP_breakdown_Q1_2020',\n",
       " 'CSPP_breakdown_Q3_2019',\n",
       " 'CSPP_breakdown_Q1_2019',\n",
       " 'CSPP_breakdown_Q3_2018',\n",
       " 'CSPP_breakdown_Q1_2018',\n",
       " 'CSPP_breakdown_Q3_2017']"
      ]
     },
     "execution_count": 3,
     "metadata": {},
     "output_type": "execute_result"
    }
   ],
   "source": [
    "xls.sheet_names"
   ]
  },
  {
   "cell_type": "code",
   "execution_count": 4,
   "metadata": {
    "ExecuteTime": {
     "end_time": "2021-05-19T19:06:12.094060Z",
     "start_time": "2021-05-19T19:06:12.032972Z"
    }
   },
   "outputs": [],
   "source": [
    "q1_2021 = xls.parse(0)\n",
    "q3_2020 = xls.parse(1)\n",
    "q1_2020 = xls.parse(2)\n",
    "q3_2019 = xls.parse(3)\n",
    "q1_2019 = xls.parse(4)\n",
    "q3_2018 = xls.parse(5)\n",
    "q1_2018 = xls.parse(6)\n",
    "q3_2017 = xls.parse(7)"
   ]
  },
  {
   "attachments": {},
   "cell_type": "markdown",
   "metadata": {},
   "source": [
    "We just take the data about eonomic sector distribution of CSPP holdings."
   ]
  },
  {
   "cell_type": "code",
   "execution_count": 5,
   "metadata": {
    "ExecuteTime": {
     "end_time": "2021-05-19T19:06:12.123280Z",
     "start_time": "2021-05-19T19:06:12.097755Z"
    },
    "scrolled": true
   },
   "outputs": [
    {
     "data": {
      "text/plain": [
       "array(['Utilities', 'Infrastructure and transportation',\n",
       "       'Automotive and parts', 'Telecommunication', 'Real estate',\n",
       "       'Energy and basic resources', 'Construction and materials',\n",
       "       'Technology', 'Beverages', 'Health care and life science',\n",
       "       'Chemicals', 'Food', 'Insurance', 'Other sectors'], dtype=object)"
      ]
     },
     "execution_count": 5,
     "metadata": {},
     "output_type": "execute_result"
    }
   ],
   "source": [
    "q1_2021 = q1_2021.iloc[22:37, :2]\n",
    "q1_2021.reset_index(drop = True, inplace = True)\n",
    "q1_2021.rename(columns = q1_2021.iloc[0], inplace = True)\n",
    "q1_2021 = q1_2021.iloc[1:,]\n",
    "q1_2021['Economic sector'].unique()"
   ]
  },
  {
   "cell_type": "code",
   "execution_count": 6,
   "metadata": {
    "ExecuteTime": {
     "end_time": "2021-05-19T19:06:12.147793Z",
     "start_time": "2021-05-19T19:06:12.126561Z"
    }
   },
   "outputs": [
    {
     "data": {
      "text/plain": [
       "array(['Utilities', 'Infrastructure and transportation',\n",
       "       'Automotive and parts', 'Telecommunication', 'Real estate',\n",
       "       'Energy and basic resources', 'Construction and materials',\n",
       "       'Technology', 'Beverages', 'Health care and life science',\n",
       "       'Chemicals', 'Food', 'Insurance', 'Other sectors'], dtype=object)"
      ]
     },
     "execution_count": 6,
     "metadata": {},
     "output_type": "execute_result"
    }
   ],
   "source": [
    "q3_2020 = q3_2020.iloc[22:37, :2]\n",
    "q3_2020.reset_index(drop = True, inplace = True)\n",
    "q3_2020.rename(columns = q3_2020.iloc[0], inplace = True)\n",
    "q3_2020 = q3_2020.iloc[1:,]\n",
    "q3_2020['Economic sector'].unique()"
   ]
  },
  {
   "cell_type": "code",
   "execution_count": 7,
   "metadata": {
    "ExecuteTime": {
     "end_time": "2021-05-19T19:06:12.162943Z",
     "start_time": "2021-05-19T19:06:12.149789Z"
    }
   },
   "outputs": [
    {
     "data": {
      "text/plain": [
       "array(['Infrastructure and transportation', 'Automotive and parts',\n",
       "       'Telecommunication', 'Real estate', 'Energy and basic resources',\n",
       "       'Construction and materials', 'Technology', 'Beverages',\n",
       "       'Health care and life science', 'Chemicals', 'Food', 'Insurance',\n",
       "       'Other sectors'], dtype=object)"
      ]
     },
     "execution_count": 7,
     "metadata": {},
     "output_type": "execute_result"
    }
   ],
   "source": [
    "q1_2020 = q1_2020.iloc[22:37, :2]\n",
    "q1_2020.reset_index(drop = True, inplace = True)\n",
    "q1_2020.rename(columns = q1_2020.iloc[0], inplace = True)\n",
    "q1_2020 = q3_2020.iloc[1:,]\n",
    "q1_2020['Economic sector'].unique()"
   ]
  },
  {
   "cell_type": "code",
   "execution_count": 8,
   "metadata": {
    "ExecuteTime": {
     "end_time": "2021-05-19T19:06:12.178149Z",
     "start_time": "2021-05-19T19:06:12.166396Z"
    }
   },
   "outputs": [
    {
     "data": {
      "text/plain": [
       "array(['Utilities', 'Infrastructure and transportation',\n",
       "       'Automotive and parts', 'Telecommunication', 'Real estate',\n",
       "       'Energy and basic resources', 'Construction and materials',\n",
       "       'Technology', 'Beverages', 'Health care and life science',\n",
       "       'Chemicals', 'Food', 'Insurance', 'Other sectors'], dtype=object)"
      ]
     },
     "execution_count": 8,
     "metadata": {},
     "output_type": "execute_result"
    }
   ],
   "source": [
    "q3_2019 = q3_2019.iloc[22:37, :2]\n",
    "q3_2019.reset_index(drop = True, inplace = True)\n",
    "q3_2019.rename(columns = q3_2019.iloc[0], inplace = True)\n",
    "q3_2019 = q3_2019.iloc[1:,]\n",
    "q3_2019['Economic sector'].unique()"
   ]
  },
  {
   "cell_type": "code",
   "execution_count": 9,
   "metadata": {
    "ExecuteTime": {
     "end_time": "2021-05-19T19:06:12.208963Z",
     "start_time": "2021-05-19T19:06:12.183492Z"
    }
   },
   "outputs": [
    {
     "data": {
      "text/plain": [
       "array(['Utilities', 'Infrastructure and transportation',\n",
       "       'Automotive and parts', 'Telecommunication', 'Real estate',\n",
       "       'Energy and basic resources', 'Construction and materials',\n",
       "       'Technology', 'Beverages', 'Health care and life science',\n",
       "       'Chemicals', 'Food', 'Insurance', 'Other sectors'], dtype=object)"
      ]
     },
     "execution_count": 9,
     "metadata": {},
     "output_type": "execute_result"
    }
   ],
   "source": [
    "q1_2019 = q1_2019.iloc[22:37, :2]\n",
    "q1_2019.reset_index(drop = True, inplace = True)\n",
    "q1_2019.rename(columns = q1_2019.iloc[0], inplace = True)\n",
    "q1_2019 = q1_2019.iloc[1:,]\n",
    "q1_2019['Economic sector'].unique()"
   ]
  },
  {
   "cell_type": "code",
   "execution_count": 10,
   "metadata": {
    "ExecuteTime": {
     "end_time": "2021-05-19T19:06:12.236014Z",
     "start_time": "2021-05-19T19:06:12.211331Z"
    }
   },
   "outputs": [
    {
     "data": {
      "text/plain": [
       "array(['Utilities', 'Infrastructure and transportation',\n",
       "       'Automotive and parts', 'Telecommunication', 'Real estate',\n",
       "       'Energy and basic resources', 'Construction and materials',\n",
       "       'Technology', 'Beverages', 'Health care and life science',\n",
       "       'Chemicals', 'Food', 'Insurance', 'Other sectors'], dtype=object)"
      ]
     },
     "execution_count": 10,
     "metadata": {},
     "output_type": "execute_result"
    }
   ],
   "source": [
    "q3_2018 = q3_2018.iloc[22:37, :2]\n",
    "q3_2018.reset_index(drop = True, inplace = True)\n",
    "q3_2018.rename(columns = q3_2018.iloc[0], inplace = True)\n",
    "q3_2018 = q3_2018.iloc[1:,]\n",
    "q3_2018['Economic sector'].unique()"
   ]
  },
  {
   "cell_type": "code",
   "execution_count": 11,
   "metadata": {
    "ExecuteTime": {
     "end_time": "2021-05-19T19:06:12.263856Z",
     "start_time": "2021-05-19T19:06:12.237255Z"
    }
   },
   "outputs": [
    {
     "data": {
      "text/plain": [
       "array(['Utilities', 'Infrastructure and transportation',\n",
       "       'Automotive and parts', 'Telecommunications',\n",
       "       'Energy and basic resources', 'Real estate',\n",
       "       'Construction & Materials', 'Beverages', 'Technology',\n",
       "       'Health care and life science', 'Chemicals', 'Food', 'Insurance',\n",
       "       'Other sectors'], dtype=object)"
      ]
     },
     "execution_count": 11,
     "metadata": {},
     "output_type": "execute_result"
    }
   ],
   "source": [
    "q1_2018 = q1_2018.iloc[22:37, :2]\n",
    "q1_2018.reset_index(drop = True, inplace = True)\n",
    "q1_2018.rename(columns = q1_2018.iloc[0], inplace = True)\n",
    "q1_2018 = q1_2018.iloc[1:,]\n",
    "q1_2018['Economic sector'].unique()"
   ]
  },
  {
   "cell_type": "code",
   "execution_count": 13,
   "metadata": {
    "ExecuteTime": {
     "end_time": "2021-05-19T19:06:12.296849Z",
     "start_time": "2021-05-19T19:06:12.274885Z"
    }
   },
   "outputs": [],
   "source": [
    "q1_2018['Economic sector'].loc[q1_2018['Economic sector'] == 'Telecommunications'] = 'Telecommunication'\n",
    "\n",
    "q1_2018['Economic sector'].loc[q1_2018['Economic sector'] == 'Construction & Materials'] = 'Construction and materials'"
   ]
  },
  {
   "cell_type": "code",
   "execution_count": 14,
   "metadata": {
    "ExecuteTime": {
     "end_time": "2021-05-19T19:06:12.320700Z",
     "start_time": "2021-05-19T19:06:12.301101Z"
    }
   },
   "outputs": [
    {
     "data": {
      "text/plain": [
       "array(['Utilities', 'Infrastructure and transportation',\n",
       "       'Automotive and parts', 'Telecommunication',\n",
       "       'Energy and basic resources', 'Construction and materials',\n",
       "       'Real estate', 'Beverages', 'Technology', 'Chemicals',\n",
       "       'Health care and life science', 'Food ', 'Insurance',\n",
       "       'Other sectors'], dtype=object)"
      ]
     },
     "execution_count": 14,
     "metadata": {},
     "output_type": "execute_result"
    }
   ],
   "source": [
    "q3_2017 = q3_2017.iloc[22:37, :2]\n",
    "q3_2017.reset_index(drop = True, inplace = True)\n",
    "q3_2017.rename(columns = q3_2017.iloc[0], inplace = True)\n",
    "q3_2017 = q3_2017.iloc[1:,]\n",
    "q3_2017['Economic sector'].unique()"
   ]
  },
  {
   "cell_type": "code",
   "execution_count": 15,
   "metadata": {
    "ExecuteTime": {
     "end_time": "2021-05-19T19:06:12.351912Z",
     "start_time": "2021-05-19T19:06:12.322668Z"
    }
   },
   "outputs": [],
   "source": [
    "q3_2017['Economic sector'].loc[q3_2017['Economic sector'] == 'Food '] = 'Food'"
   ]
  },
  {
   "cell_type": "code",
   "execution_count": 16,
   "metadata": {
    "ExecuteTime": {
     "end_time": "2021-05-19T19:06:12.391611Z",
     "start_time": "2021-05-19T19:06:12.353907Z"
    }
   },
   "outputs": [],
   "source": [
    "dfs = [q1_2021, q3_2020, q1_2020, q3_2019, q1_2019, q3_2018, q1_2018, q3_2017]\n",
    "df = reduce(lambda x,y: pd.merge(x,y, on='Economic sector', how='outer'), dfs)\n",
    "df.columns = ['Economic sector', 'CSPP holdings_q1_2021', 'CSPP holdings_q3_2020', 'CSPP holdings_q1_2020',\n",
    "        'CSPP holdings_q3_2019','CSPP holdings_q1_2019', 'CSPP holdings_q3_2018', 'CSPP holdings_q1_2018', 'CSPP holdings_q3_2017']"
   ]
  },
  {
   "cell_type": "code",
   "execution_count": 17,
   "metadata": {
    "ExecuteTime": {
     "end_time": "2021-05-19T19:06:12.422954Z",
     "start_time": "2021-05-19T19:06:12.393587Z"
    }
   },
   "outputs": [
    {
     "data": {
      "text/html": [
       "<div>\n",
       "<style scoped>\n",
       "    .dataframe tbody tr th:only-of-type {\n",
       "        vertical-align: middle;\n",
       "    }\n",
       "\n",
       "    .dataframe tbody tr th {\n",
       "        vertical-align: top;\n",
       "    }\n",
       "\n",
       "    .dataframe thead th {\n",
       "        text-align: right;\n",
       "    }\n",
       "</style>\n",
       "<table border=\"1\" class=\"dataframe\">\n",
       "  <thead>\n",
       "    <tr style=\"text-align: right;\">\n",
       "      <th></th>\n",
       "      <th>Economic sector</th>\n",
       "      <th>CSPP holdings_q1_2021</th>\n",
       "      <th>CSPP holdings_q3_2020</th>\n",
       "      <th>CSPP holdings_q1_2020</th>\n",
       "      <th>CSPP holdings_q3_2019</th>\n",
       "      <th>CSPP holdings_q1_2019</th>\n",
       "      <th>CSPP holdings_q3_2018</th>\n",
       "      <th>CSPP holdings_q1_2018</th>\n",
       "      <th>CSPP holdings_q3_2017</th>\n",
       "    </tr>\n",
       "  </thead>\n",
       "  <tbody>\n",
       "    <tr>\n",
       "      <th>0</th>\n",
       "      <td>Utilities</td>\n",
       "      <td>0.15</td>\n",
       "      <td>0.15</td>\n",
       "      <td>NaN</td>\n",
       "      <td>0.15</td>\n",
       "      <td>0.15</td>\n",
       "      <td>0.15</td>\n",
       "      <td>0.15</td>\n",
       "      <td>0.16</td>\n",
       "    </tr>\n",
       "    <tr>\n",
       "      <th>1</th>\n",
       "      <td>Infrastructure and transportation</td>\n",
       "      <td>0.11</td>\n",
       "      <td>0.11</td>\n",
       "      <td>0.11</td>\n",
       "      <td>0.12</td>\n",
       "      <td>0.11</td>\n",
       "      <td>0.11</td>\n",
       "      <td>0.11</td>\n",
       "      <td>0.12</td>\n",
       "    </tr>\n",
       "    <tr>\n",
       "      <th>2</th>\n",
       "      <td>Automotive and parts</td>\n",
       "      <td>0.09</td>\n",
       "      <td>0.09</td>\n",
       "      <td>0.09</td>\n",
       "      <td>0.09</td>\n",
       "      <td>0.09</td>\n",
       "      <td>0.09</td>\n",
       "      <td>0.09</td>\n",
       "      <td>0.1</td>\n",
       "    </tr>\n",
       "    <tr>\n",
       "      <th>3</th>\n",
       "      <td>Telecommunication</td>\n",
       "      <td>0.08</td>\n",
       "      <td>0.08</td>\n",
       "      <td>0.08</td>\n",
       "      <td>0.09</td>\n",
       "      <td>0.09</td>\n",
       "      <td>0.09</td>\n",
       "      <td>0.09</td>\n",
       "      <td>0.09</td>\n",
       "    </tr>\n",
       "    <tr>\n",
       "      <th>4</th>\n",
       "      <td>Real estate</td>\n",
       "      <td>0.06</td>\n",
       "      <td>0.06</td>\n",
       "      <td>0.06</td>\n",
       "      <td>0.06</td>\n",
       "      <td>0.06</td>\n",
       "      <td>0.06</td>\n",
       "      <td>0.06</td>\n",
       "      <td>0.06</td>\n",
       "    </tr>\n",
       "    <tr>\n",
       "      <th>5</th>\n",
       "      <td>Energy and basic resources</td>\n",
       "      <td>0.08</td>\n",
       "      <td>0.07</td>\n",
       "      <td>0.07</td>\n",
       "      <td>0.06</td>\n",
       "      <td>0.06</td>\n",
       "      <td>0.06</td>\n",
       "      <td>0.06</td>\n",
       "      <td>0.07</td>\n",
       "    </tr>\n",
       "    <tr>\n",
       "      <th>6</th>\n",
       "      <td>Construction and materials</td>\n",
       "      <td>0.05</td>\n",
       "      <td>0.05</td>\n",
       "      <td>0.05</td>\n",
       "      <td>0.06</td>\n",
       "      <td>0.06</td>\n",
       "      <td>0.06</td>\n",
       "      <td>0.06</td>\n",
       "      <td>0.06</td>\n",
       "    </tr>\n",
       "    <tr>\n",
       "      <th>7</th>\n",
       "      <td>Technology</td>\n",
       "      <td>0.08</td>\n",
       "      <td>0.08</td>\n",
       "      <td>0.08</td>\n",
       "      <td>0.06</td>\n",
       "      <td>0.06</td>\n",
       "      <td>0.06</td>\n",
       "      <td>0.05</td>\n",
       "      <td>0.05</td>\n",
       "    </tr>\n",
       "    <tr>\n",
       "      <th>8</th>\n",
       "      <td>Beverages</td>\n",
       "      <td>0.04</td>\n",
       "      <td>0.05</td>\n",
       "      <td>0.05</td>\n",
       "      <td>0.05</td>\n",
       "      <td>0.05</td>\n",
       "      <td>0.05</td>\n",
       "      <td>0.06</td>\n",
       "      <td>0.05</td>\n",
       "    </tr>\n",
       "    <tr>\n",
       "      <th>9</th>\n",
       "      <td>Health care and life science</td>\n",
       "      <td>0.07</td>\n",
       "      <td>0.07</td>\n",
       "      <td>0.07</td>\n",
       "      <td>0.05</td>\n",
       "      <td>0.05</td>\n",
       "      <td>0.05</td>\n",
       "      <td>0.05</td>\n",
       "      <td>0.05</td>\n",
       "    </tr>\n",
       "    <tr>\n",
       "      <th>10</th>\n",
       "      <td>Chemicals</td>\n",
       "      <td>0.04</td>\n",
       "      <td>0.04</td>\n",
       "      <td>0.04</td>\n",
       "      <td>0.04</td>\n",
       "      <td>0.04</td>\n",
       "      <td>0.04</td>\n",
       "      <td>0.05</td>\n",
       "      <td>0.05</td>\n",
       "    </tr>\n",
       "    <tr>\n",
       "      <th>11</th>\n",
       "      <td>Food</td>\n",
       "      <td>0.04</td>\n",
       "      <td>0.04</td>\n",
       "      <td>0.04</td>\n",
       "      <td>0.04</td>\n",
       "      <td>0.04</td>\n",
       "      <td>0.04</td>\n",
       "      <td>0.04</td>\n",
       "      <td>0.04</td>\n",
       "    </tr>\n",
       "    <tr>\n",
       "      <th>12</th>\n",
       "      <td>Insurance</td>\n",
       "      <td>0.02</td>\n",
       "      <td>0.02</td>\n",
       "      <td>0.02</td>\n",
       "      <td>0.03</td>\n",
       "      <td>0.03</td>\n",
       "      <td>0.03</td>\n",
       "      <td>0.03</td>\n",
       "      <td>0.03</td>\n",
       "    </tr>\n",
       "    <tr>\n",
       "      <th>13</th>\n",
       "      <td>Other sectors</td>\n",
       "      <td>0.09</td>\n",
       "      <td>0.09</td>\n",
       "      <td>0.09</td>\n",
       "      <td>0.09</td>\n",
       "      <td>0.09</td>\n",
       "      <td>0.09</td>\n",
       "      <td>0.09</td>\n",
       "      <td>0.08</td>\n",
       "    </tr>\n",
       "  </tbody>\n",
       "</table>\n",
       "</div>"
      ],
      "text/plain": [
       "                      Economic sector CSPP holdings_q1_2021  \\\n",
       "0                           Utilities                  0.15   \n",
       "1   Infrastructure and transportation                  0.11   \n",
       "2                Automotive and parts                  0.09   \n",
       "3                   Telecommunication                  0.08   \n",
       "4                         Real estate                  0.06   \n",
       "5          Energy and basic resources                  0.08   \n",
       "6          Construction and materials                  0.05   \n",
       "7                          Technology                  0.08   \n",
       "8                           Beverages                  0.04   \n",
       "9        Health care and life science                  0.07   \n",
       "10                          Chemicals                  0.04   \n",
       "11                               Food                  0.04   \n",
       "12                          Insurance                  0.02   \n",
       "13                      Other sectors                  0.09   \n",
       "\n",
       "   CSPP holdings_q3_2020 CSPP holdings_q1_2020 CSPP holdings_q3_2019  \\\n",
       "0                   0.15                   NaN                  0.15   \n",
       "1                   0.11                  0.11                  0.12   \n",
       "2                   0.09                  0.09                  0.09   \n",
       "3                   0.08                  0.08                  0.09   \n",
       "4                   0.06                  0.06                  0.06   \n",
       "5                   0.07                  0.07                  0.06   \n",
       "6                   0.05                  0.05                  0.06   \n",
       "7                   0.08                  0.08                  0.06   \n",
       "8                   0.05                  0.05                  0.05   \n",
       "9                   0.07                  0.07                  0.05   \n",
       "10                  0.04                  0.04                  0.04   \n",
       "11                  0.04                  0.04                  0.04   \n",
       "12                  0.02                  0.02                  0.03   \n",
       "13                  0.09                  0.09                  0.09   \n",
       "\n",
       "   CSPP holdings_q1_2019 CSPP holdings_q3_2018 CSPP holdings_q1_2018  \\\n",
       "0                   0.15                  0.15                  0.15   \n",
       "1                   0.11                  0.11                  0.11   \n",
       "2                   0.09                  0.09                  0.09   \n",
       "3                   0.09                  0.09                  0.09   \n",
       "4                   0.06                  0.06                  0.06   \n",
       "5                   0.06                  0.06                  0.06   \n",
       "6                   0.06                  0.06                  0.06   \n",
       "7                   0.06                  0.06                  0.05   \n",
       "8                   0.05                  0.05                  0.06   \n",
       "9                   0.05                  0.05                  0.05   \n",
       "10                  0.04                  0.04                  0.05   \n",
       "11                  0.04                  0.04                  0.04   \n",
       "12                  0.03                  0.03                  0.03   \n",
       "13                  0.09                  0.09                  0.09   \n",
       "\n",
       "   CSPP holdings_q3_2017  \n",
       "0                   0.16  \n",
       "1                   0.12  \n",
       "2                    0.1  \n",
       "3                   0.09  \n",
       "4                   0.06  \n",
       "5                   0.07  \n",
       "6                   0.06  \n",
       "7                   0.05  \n",
       "8                   0.05  \n",
       "9                   0.05  \n",
       "10                  0.05  \n",
       "11                  0.04  \n",
       "12                  0.03  \n",
       "13                  0.08  "
      ]
     },
     "execution_count": 17,
     "metadata": {},
     "output_type": "execute_result"
    }
   ],
   "source": [
    "df"
   ]
  },
  {
   "cell_type": "code",
   "execution_count": 18,
   "metadata": {
    "ExecuteTime": {
     "end_time": "2021-05-19T19:06:12.443610Z",
     "start_time": "2021-05-19T19:06:12.423492Z"
    }
   },
   "outputs": [],
   "source": [
    "df = pd.melt(df, id_vars = \"Economic sector\", var_name = \"QY\", value_name = \"Holdings\")"
   ]
  },
  {
   "cell_type": "code",
   "execution_count": 21,
   "metadata": {
    "ExecuteTime": {
     "end_time": "2021-05-19T19:09:38.124969Z",
     "start_time": "2021-05-19T19:09:37.134020Z"
    }
   },
   "outputs": [
    {
     "data": {
      "image/png": "[encoded data removed]",
      "text/plain": [
       "<Figure size 842.4x842.4 with 1 Axes>"
      ]
     },
     "metadata": {},
     "output_type": "display_data"
    }
   ],
   "source": [
    "sns.set(rc={'figure.figsize':(11.7,11.7)})\n",
    "ax = sns.barplot(x = \"Holdings\", y = \"Economic sector\", hue = \"QY\", data = df)"
   ]
  },
  {
   "cell_type": "markdown",
   "metadata": {},
   "source": [
    "# Breakdown history"
   ]
  },
  {
   "cell_type": "code",
   "execution_count": 94,
   "metadata": {
    "ExecuteTime": {
     "end_time": "2021-05-19T19:46:27.718278Z",
     "start_time": "2021-05-19T19:46:27.699024Z"
    }
   },
   "outputs": [],
   "source": [
    "df2 = pd.read_csv('CSPP_breakdown_history.csv', header=1, decimal=',')\n",
    "df2 = df2.iloc[:58, [0,5]]"
   ]
  },
  {
   "cell_type": "code",
   "execution_count": 96,
   "metadata": {
    "ExecuteTime": {
     "end_time": "2021-05-19T19:46:34.856158Z",
     "start_time": "2021-05-19T19:46:34.845633Z"
    }
   },
   "outputs": [],
   "source": [
    "Month = []\n",
    "Year = []\n",
    "for i in df2['End of Month']:\n",
    "    s = i.split('-')\n",
    "    Month.append(s[0])\n",
    "    Year.append(s[1])"
   ]
  },
  {
   "cell_type": "code",
   "execution_count": 97,
   "metadata": {
    "ExecuteTime": {
     "end_time": "2021-05-19T19:46:36.175843Z",
     "start_time": "2021-05-19T19:46:36.164552Z"
    }
   },
   "outputs": [],
   "source": [
    "df2['Month'] = Month\n",
    "df2['Year'] = Year\n",
    "df2.drop('End of Month', axis=1, inplace=True)"
   ]
  },
  {
   "cell_type": "code",
   "execution_count": 99,
   "metadata": {
    "ExecuteTime": {
     "end_time": "2021-05-19T19:46:44.984836Z",
     "start_time": "2021-05-19T19:46:44.961853Z"
    }
   },
   "outputs": [],
   "source": [
    "Quarter = []\n",
    "for m in df2['Month']:\n",
    "    if m == 'Jun':\n",
    "        Quarter.append('Q2')\n",
    "    elif m in ['Jul', ' Aug', 'Sep']:\n",
    "        Quarter.append('Q3')\n",
    "    elif m in ['Oct', 'Nov', 'Dec']:\n",
    "        Quarter.append('Q4')\n",
    "    else:\n",
    "        Quarter.append('Q1')"
   ]
  },
  {
   "cell_type": "code",
   "execution_count": 100,
   "metadata": {
    "ExecuteTime": {
     "end_time": "2021-05-19T19:46:46.687841Z",
     "start_time": "2021-05-19T19:46:46.682417Z"
    }
   },
   "outputs": [],
   "source": [
    "df2['Quarter'] = Quarter"
   ]
  },
  {
   "cell_type": "markdown",
   "metadata": {},
   "source": [
    "In million euros"
   ]
  },
  {
   "cell_type": "code",
   "execution_count": 101,
   "metadata": {
    "ExecuteTime": {
     "end_time": "2021-05-19T19:46:48.126303Z",
     "start_time": "2021-05-19T19:46:48.101534Z"
    }
   },
   "outputs": [
    {
     "data": {
      "text/html": [
       "<div>\n",
       "<style scoped>\n",
       "    .dataframe tbody tr th:only-of-type {\n",
       "        vertical-align: middle;\n",
       "    }\n",
       "\n",
       "    .dataframe tbody tr th {\n",
       "        vertical-align: top;\n",
       "    }\n",
       "\n",
       "    .dataframe thead th {\n",
       "        text-align: right;\n",
       "    }\n",
       "</style>\n",
       "<table border=\"1\" class=\"dataframe\">\n",
       "  <thead>\n",
       "    <tr style=\"text-align: right;\">\n",
       "      <th></th>\n",
       "      <th></th>\n",
       "      <th>Total holdings</th>\n",
       "    </tr>\n",
       "    <tr>\n",
       "      <th>Year</th>\n",
       "      <th>Quarter</th>\n",
       "      <th></th>\n",
       "    </tr>\n",
       "  </thead>\n",
       "  <tbody>\n",
       "    <tr>\n",
       "      <th rowspan=\"4\" valign=\"top\">16</th>\n",
       "      <th>Q1</th>\n",
       "      <td>19.921</td>\n",
       "    </tr>\n",
       "    <tr>\n",
       "      <th>Q2</th>\n",
       "      <td>6.398</td>\n",
       "    </tr>\n",
       "    <tr>\n",
       "      <th>Q3</th>\n",
       "      <td>42.936</td>\n",
       "    </tr>\n",
       "    <tr>\n",
       "      <th>Q4</th>\n",
       "      <td>136.393</td>\n",
       "    </tr>\n",
       "    <tr>\n",
       "      <th rowspan=\"4\" valign=\"top\">17</th>\n",
       "      <th>Q1</th>\n",
       "      <td>481.271</td>\n",
       "    </tr>\n",
       "    <tr>\n",
       "      <th>Q2</th>\n",
       "      <td>96.620</td>\n",
       "    </tr>\n",
       "    <tr>\n",
       "      <th>Q3</th>\n",
       "      <td>216.884</td>\n",
       "    </tr>\n",
       "    <tr>\n",
       "      <th>Q4</th>\n",
       "      <td>382.010</td>\n",
       "    </tr>\n",
       "    <tr>\n",
       "      <th rowspan=\"4\" valign=\"top\">18</th>\n",
       "      <th>Q1</th>\n",
       "      <td>903.825</td>\n",
       "    </tr>\n",
       "    <tr>\n",
       "      <th>Q2</th>\n",
       "      <td>162.015</td>\n",
       "    </tr>\n",
       "    <tr>\n",
       "      <th>Q3</th>\n",
       "      <td>335.411</td>\n",
       "    </tr>\n",
       "    <tr>\n",
       "      <th>Q4</th>\n",
       "      <td>528.811</td>\n",
       "    </tr>\n",
       "    <tr>\n",
       "      <th rowspan=\"4\" valign=\"top\">19</th>\n",
       "      <th>Q1</th>\n",
       "      <td>1066.485</td>\n",
       "    </tr>\n",
       "    <tr>\n",
       "      <th>Q2</th>\n",
       "      <td>177.655</td>\n",
       "    </tr>\n",
       "    <tr>\n",
       "      <th>Q3</th>\n",
       "      <td>354.039</td>\n",
       "    </tr>\n",
       "    <tr>\n",
       "      <th>Q4</th>\n",
       "      <td>544.615</td>\n",
       "    </tr>\n",
       "    <tr>\n",
       "      <th rowspan=\"4\" valign=\"top\">20</th>\n",
       "      <th>Q1</th>\n",
       "      <td>1233.274</td>\n",
       "    </tr>\n",
       "    <tr>\n",
       "      <th>Q2</th>\n",
       "      <td>219.719</td>\n",
       "    </tr>\n",
       "    <tr>\n",
       "      <th>Q3</th>\n",
       "      <td>460.569</td>\n",
       "    </tr>\n",
       "    <tr>\n",
       "      <th>Q4</th>\n",
       "      <td>742.074</td>\n",
       "    </tr>\n",
       "    <tr>\n",
       "      <th>21</th>\n",
       "      <th>Q1</th>\n",
       "      <td>780.778</td>\n",
       "    </tr>\n",
       "  </tbody>\n",
       "</table>\n",
       "</div>"
      ],
      "text/plain": [
       "              Total holdings\n",
       "Year Quarter                \n",
       "16   Q1               19.921\n",
       "     Q2                6.398\n",
       "     Q3               42.936\n",
       "     Q4              136.393\n",
       "17   Q1              481.271\n",
       "     Q2               96.620\n",
       "     Q3              216.884\n",
       "     Q4              382.010\n",
       "18   Q1              903.825\n",
       "     Q2              162.015\n",
       "     Q3              335.411\n",
       "     Q4              528.811\n",
       "19   Q1             1066.485\n",
       "     Q2              177.655\n",
       "     Q3              354.039\n",
       "     Q4              544.615\n",
       "20   Q1             1233.274\n",
       "     Q2              219.719\n",
       "     Q3              460.569\n",
       "     Q4              742.074\n",
       "21   Q1              780.778"
      ]
     },
     "execution_count": 101,
     "metadata": {},
     "output_type": "execute_result"
    }
   ],
   "source": [
    "df2.groupby(['Year','Quarter']).sum()"
   ]
  }
 ],
 "metadata": {
  "kernelspec": {
   "display_name": "Python 3",
   "language": "python",
   "name": "python3"
  },
  "language_info": {
   "codemirror_mode": {
    "name": "ipython",
    "version": 3
   },
   "file_extension": ".py",
   "mimetype": "text/x-python",
   "name": "python",
   "nbconvert_exporter": "python",
   "pygments_lexer": "ipython3",
   "version": "3.7.4"
  },
  "toc": {
   "base_numbering": 1,
   "nav_menu": {},
   "number_sections": true,
   "sideBar": true,
   "skip_h1_title": false,
   "title_cell": "Table of Contents",
   "title_sidebar": "Contents",
   "toc_cell": false,
   "toc_position": {},
   "toc_section_display": true,
   "toc_window_display": false
  },
  "varInspector": {
   "cols": {
    "lenName": 16,
    "lenType": 16,
    "lenVar": 40
   },
   "kernels_config": {
    "python": {
     "delete_cmd_postfix": "",
     "delete_cmd_prefix": "del ",
     "library": "var_list.py",
     "varRefreshCmd": "print(var_dic_list())"
    },
    "r": {
     "delete_cmd_postfix": ") ",
     "delete_cmd_prefix": "rm(",
     "library": "var_list.r",
     "varRefreshCmd": "cat(var_dic_list()) "
    }
   },
   "types_to_exclude": [
    "module",
    "function",
    "builtin_function_or_method",
    "instance",
    "_Feature"
   ],
   "window_display": false
  }
 },
 "nbformat": 4,
 "nbformat_minor": 2
}
