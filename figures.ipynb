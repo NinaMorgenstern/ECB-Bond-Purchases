{
 "cells": [
  {
   "cell_type": "markdown",
   "id": "1e6a52d8",
   "metadata": {},
   "source": [
    "# Preliminaries"
   ]
  },
  {
   "cell_type": "markdown",
   "id": "738993fc",
   "metadata": {},
   "source": [
    "Import necessary packages:"
   ]
  },
  {
   "cell_type": "code",
   "execution_count": 151,
   "id": "307b6d80",
   "metadata": {},
   "outputs": [],
   "source": [
    "import pandas as pd\n",
    "import seaborn as sns\n",
    "import matplotlib.pyplot as plt \n",
    "\n",
    "# Apply default theme\n",
    "sns.set_theme(style='whitegrid')"
   ]
  },
  {
   "cell_type": "markdown",
   "id": "03975f81",
   "metadata": {},
   "source": [
    "# Figures"
   ]
  },
  {
   "cell_type": "markdown",
   "id": "e46591fb",
   "metadata": {},
   "source": [
    "### 1. Count of corporate bonds by sector"
   ]
  },
  {
   "cell_type": "markdown",
   "id": "a70757c5",
   "metadata": {},
   "source": [
    "Load data from AWS: "
   ]
  },
  {
   "cell_type": "code",
   "execution_count": 92,
   "id": "3e24f697",
   "metadata": {},
   "outputs": [
    {
     "data": {
      "text/html": [
       "<div>\n",
       "<style scoped>\n",
       "    .dataframe tbody tr th:only-of-type {\n",
       "        vertical-align: middle;\n",
       "    }\n",
       "\n",
       "    .dataframe tbody tr th {\n",
       "        vertical-align: top;\n",
       "    }\n",
       "\n",
       "    .dataframe thead th {\n",
       "        text-align: right;\n",
       "    }\n",
       "</style>\n",
       "<table border=\"1\" class=\"dataframe\">\n",
       "  <thead>\n",
       "    <tr style=\"text-align: right;\">\n",
       "      <th></th>\n",
       "      <th>Unnamed: 0</th>\n",
       "      <th>MONTH</th>\n",
       "      <th>NCB</th>\n",
       "      <th>ISIN</th>\n",
       "      <th>ISSUER</th>\n",
       "      <th>MATURITY DATE</th>\n",
       "      <th>COUPON RATE</th>\n",
       "      <th>Match OpenPermID</th>\n",
       "      <th>SEARCH</th>\n",
       "      <th>Industry Group</th>\n",
       "      <th>Business Sector</th>\n",
       "    </tr>\n",
       "  </thead>\n",
       "  <tbody>\n",
       "    <tr>\n",
       "      <th>0</th>\n",
       "      <td>0</td>\n",
       "      <td>2017/06</td>\n",
       "      <td>IT</td>\n",
       "      <td>XS1088274169</td>\n",
       "      <td>2i Rete Gas S.p.A.</td>\n",
       "      <td>16/07/2019</td>\n",
       "      <td>1.75</td>\n",
       "      <td>https://permid.org/1-5000936840</td>\n",
       "      <td>2I|2I RETE|2I RETE GAS SPA|2i Rete Gas S.p.A.</td>\n",
       "      <td>Natural Gas Utilities</td>\n",
       "      <td>Utilities</td>\n",
       "    </tr>\n",
       "    <tr>\n",
       "      <th>1</th>\n",
       "      <td>1</td>\n",
       "      <td>2017/06</td>\n",
       "      <td>IT</td>\n",
       "      <td>XS1088274672</td>\n",
       "      <td>2i Rete Gas S.p.A.</td>\n",
       "      <td>16/07/2024</td>\n",
       "      <td>3.0</td>\n",
       "      <td>https://permid.org/1-5000936840</td>\n",
       "      <td>2I|2I RETE|2I RETE GAS SPA|2i Rete Gas S.p.A.</td>\n",
       "      <td>Natural Gas Utilities</td>\n",
       "      <td>Utilities</td>\n",
       "    </tr>\n",
       "    <tr>\n",
       "      <th>2</th>\n",
       "      <td>2</td>\n",
       "      <td>2017/06</td>\n",
       "      <td>IT</td>\n",
       "      <td>XS1144492532</td>\n",
       "      <td>2i Rete Gas S.p.A.</td>\n",
       "      <td>02/01/2020</td>\n",
       "      <td>1.125</td>\n",
       "      <td>https://permid.org/1-5000936840</td>\n",
       "      <td>2I|2I RETE|2I RETE GAS SPA|2i Rete Gas S.p.A.</td>\n",
       "      <td>Natural Gas Utilities</td>\n",
       "      <td>Utilities</td>\n",
       "    </tr>\n",
       "    <tr>\n",
       "      <th>3</th>\n",
       "      <td>3</td>\n",
       "      <td>2017/06</td>\n",
       "      <td>IT</td>\n",
       "      <td>XS1571982468</td>\n",
       "      <td>2i Rete Gas S.p.A.</td>\n",
       "      <td>28/08/2026</td>\n",
       "      <td>1.75</td>\n",
       "      <td>https://permid.org/1-5000936840</td>\n",
       "      <td>2I|2I RETE|2I RETE GAS SPA|2i Rete Gas S.p.A.</td>\n",
       "      <td>Natural Gas Utilities</td>\n",
       "      <td>Utilities</td>\n",
       "    </tr>\n",
       "    <tr>\n",
       "      <th>4</th>\n",
       "      <td>4</td>\n",
       "      <td>2017/06</td>\n",
       "      <td>IT</td>\n",
       "      <td>XS0859920406</td>\n",
       "      <td>A2A S.p.A.</td>\n",
       "      <td>28/11/2019</td>\n",
       "      <td>4.5</td>\n",
       "      <td>https://permid.org/1-5000005309</td>\n",
       "      <td>A2A|A2A SPA|A2A SPA|A2A S.p.A.</td>\n",
       "      <td>Electric Utilities &amp; IPPs</td>\n",
       "      <td>Utilities</td>\n",
       "    </tr>\n",
       "  </tbody>\n",
       "</table>\n",
       "</div>"
      ],
      "text/plain": [
       "   Unnamed: 0    MONTH NCB          ISIN              ISSUER MATURITY DATE  \\\n",
       "0           0  2017/06  IT  XS1088274169  2i Rete Gas S.p.A.    16/07/2019   \n",
       "1           1  2017/06  IT  XS1088274672  2i Rete Gas S.p.A.    16/07/2024   \n",
       "2           2  2017/06  IT  XS1144492532  2i Rete Gas S.p.A.    02/01/2020   \n",
       "3           3  2017/06  IT  XS1571982468  2i Rete Gas S.p.A.    28/08/2026   \n",
       "4           4  2017/06  IT  XS0859920406          A2A S.p.A.    28/11/2019   \n",
       "\n",
       "  COUPON RATE                 Match OpenPermID  \\\n",
       "0        1.75  https://permid.org/1-5000936840   \n",
       "1         3.0  https://permid.org/1-5000936840   \n",
       "2       1.125  https://permid.org/1-5000936840   \n",
       "3        1.75  https://permid.org/1-5000936840   \n",
       "4         4.5  https://permid.org/1-5000005309   \n",
       "\n",
       "                                          SEARCH             Industry Group  \\\n",
       "0  2I|2I RETE|2I RETE GAS SPA|2i Rete Gas S.p.A.      Natural Gas Utilities   \n",
       "1  2I|2I RETE|2I RETE GAS SPA|2i Rete Gas S.p.A.      Natural Gas Utilities   \n",
       "2  2I|2I RETE|2I RETE GAS SPA|2i Rete Gas S.p.A.      Natural Gas Utilities   \n",
       "3  2I|2I RETE|2I RETE GAS SPA|2i Rete Gas S.p.A.      Natural Gas Utilities   \n",
       "4                 A2A|A2A SPA|A2A SPA|A2A S.p.A.  Electric Utilities & IPPs   \n",
       "\n",
       "  Business Sector  \n",
       "0       Utilities  \n",
       "1       Utilities  \n",
       "2       Utilities  \n",
       "3       Utilities  \n",
       "4       Utilities  "
      ]
     },
     "execution_count": 92,
     "metadata": {},
     "output_type": "execute_result"
    }
   ],
   "source": [
    "# Read data from AWS S3 (public access)\n",
    "df = pd.read_csv(\"https://s3groupmorocco.s3.eu-central-1.amazonaws.com/data/CSPP_bonds_with_sectors.csv\")\n",
    "df.head()"
   ]
  },
  {
   "cell_type": "markdown",
   "id": "ea12057b",
   "metadata": {},
   "source": [
    "How many industry groups?"
   ]
  },
  {
   "cell_type": "code",
   "execution_count": 93,
   "id": "3d2f456c",
   "metadata": {},
   "outputs": [
    {
     "data": {
      "text/plain": [
       "array(['Natural Gas Utilities', 'Electric Utilities & IPPs',\n",
       "       'Machinery, Tools, Heavy Vehicles, Trains & Ships',\n",
       "       'Transport Infrastructure', 'Multiline Utilities', 'Insurance',\n",
       "       'Professional & Commercial Services', nan, 'Chemicals',\n",
       "       'Aerospace & Defense', 'Residential & Commercial REITs',\n",
       "       'Beverages', 'Oil & Gas',\n",
       "       'Semiconductors & Semiconductor Equipment',\n",
       "       'Real Estate Operations', 'Banking Services', 'Pharmaceuticals',\n",
       "       'Media & Publishing', 'Construction & Engineering',\n",
       "       'Software & IT Services', 'Telecommunications Services',\n",
       "       'Investment Banking & Investment Services',\n",
       "       'Automobiles & Auto Parts', 'Food & Tobacco',\n",
       "       'Food & Drug Retailing', 'Passenger Transportation Services',\n",
       "       'Freight&Logistics Services', 'Textiles & Apparel',\n",
       "       'Oil & Gas Related Equipment and Services',\n",
       "       'Homebuilding & Construction Supplies', 'Construction Materials',\n",
       "       'Investment Holding Companies', 'Specialty Retailers',\n",
       "       'Hotels & Entertainment Services', 'Water & Related Utilities',\n",
       "       'Consumer Goods Conglomerates', 'Household Goods',\n",
       "       'Collective Investments', 'Healthcare Equipment & Supplies',\n",
       "       'Paper & Forest Products', 'Healthcare Providers & Services',\n",
       "       'Communications & Networking', 'Electronic Equipment & Parts',\n",
       "       'Metals & Mining', 'Containers & Packaging',\n",
       "       'Financial Technology (Fintech) & Infrastructure',\n",
       "       'Diversified Retail'], dtype=object)"
      ]
     },
     "execution_count": 93,
     "metadata": {},
     "output_type": "execute_result"
    }
   ],
   "source": [
    "df['Industry Group'].unique()"
   ]
  },
  {
   "cell_type": "markdown",
   "id": "45231d6b",
   "metadata": {},
   "source": [
    "We will aggregate the industry groups (47 in total) present in this data to match those present in the greenhouse emissions data (8 in total). "
   ]
  },
  {
   "cell_type": "code",
   "execution_count": 94,
   "id": "a69ef1ea",
   "metadata": {},
   "outputs": [
    {
     "data": {
      "text/plain": [
       "Index(['Energy supply', 'Transport', 'Industry', 'Agriculture',\n",
       "       'Residential/commercial', 'International shipping',\n",
       "       'International aviation', 'Waste'],\n",
       "      dtype='object')"
      ]
     },
     "execution_count": 94,
     "metadata": {},
     "output_type": "execute_result"
    }
   ],
   "source": [
    "sectors = pd.read_csv(\"https://s3groupmorocco.s3.eu-central-1.amazonaws.com/data/greenhouse-gas-emissions-in-the-eu-28-1990-2018-by-sector.csv\").columns[1:]\n",
    "sectors"
   ]
  },
  {
   "cell_type": "code",
   "execution_count": 95,
   "id": "3e7c4d98",
   "metadata": {},
   "outputs": [],
   "source": [
    "aggregation = {'Natural Gas Utilities':'Energy supply', 'Electric Utilities & IPPs':'Energy supply',\n",
    "               'Machinery, Tools, Heavy Vehicles, Trains & Ships':'Industry', 'Transport Infrastructure':'Transport', \n",
    "               'Multiline Utilities':'Industry', 'Insurance':'Residential/commercial', 'Professional & Commercial Services':'Residential/commercial', \n",
    "               'Chemicals':'Industry', 'Aerospace & Defense':'Industry', 'Residential & Commercial REITs':'Residential/commercial',\n",
    "               'Beverages':'Industry', 'Oil & Gas':'Energy supply', 'Semiconductors & Semiconductor Equipment':'Industry',\n",
    "               'Real Estate Operations':'Residential/commercial', 'Banking Services':'Residential/commercial', \n",
    "               'Pharmaceuticals':'Industry', 'Media & Publishing':'Residential/commercial', 'Construction & Engineering':'Industry',\n",
    "               'Software & IT Services':'Residential/commercial', 'Telecommunications Services':'Residential/commercial',\n",
    "               'Investment Banking & Investment Services':'Residential/commercial', 'Automobiles & Auto Parts':'Industry', \n",
    "               'Food & Tobacco':'Agriculture', 'Food & Drug Retailing':'Agriculture', 'Passenger Transportation Services':'International aviation',\n",
    "               'Freight&Logistics Services':'International shipping', 'Textiles & Apparel':'Industry', 'Oil & Gas Related Equipment and Services':'Energy supply',\n",
    "               'Homebuilding & Construction Supplies':'Residential/commercial', 'Construction Materials':'Residential/commercial',\n",
    "               'Investment Holding Companies':'Residential/commercial', 'Specialty Retailers':'Residential/commercial',\n",
    "               'Hotels & Entertainment Services':'Residential/commercial', 'Water & Related Utilities':'Industry', 'Consumer Goods Conglomerates':'Industry', \n",
    "               'Household Goods':'Industry','Collective Investments':'Residential/commercial', 'Healthcare Equipment & Supplies':'Industry',\n",
    "               'Paper & Forest Products':'Agriculture', 'Healthcare Providers & Services':'Residential/commercial', 'Communications & Networking':'Residential/commercial', \n",
    "               'Electronic Equipment & Parts':'Industry', 'Metals & Mining':'Industry', 'Containers & Packaging': 'Industry',\n",
    "               'Financial Technology (Fintech) & Infrastructure':'Residential/commercial', 'Diversified Retail': 'Residential/commercial'}\n",
    "\n",
    "df[\"Industry Group\"].replace(aggregation, inplace=True)"
   ]
  },
  {
   "cell_type": "markdown",
   "id": "05aa9b18",
   "metadata": {},
   "source": [
    "Create new dataframe that contains the total number of bonds held by the ECB by sector:"
   ]
  },
  {
   "cell_type": "code",
   "execution_count": 131,
   "id": "e3f797b0",
   "metadata": {},
   "outputs": [],
   "source": [
    "df2 = df.groupby('Industry Group')['ISSUER'].count().add_suffix('').reset_index()\n",
    "df2.sort_values('ISSUER', ascending = False, inplace = True)"
   ]
  },
  {
   "cell_type": "markdown",
   "id": "3203e9dd",
   "metadata": {},
   "source": [
    "Create a barchart:"
   ]
  },
  {
   "cell_type": "code",
   "execution_count": 171,
   "id": "eecf6dbc",
   "metadata": {},
   "outputs": [
    {
     "data": {
      "text/plain": [
       "Text(0.5, 1.0, 'Number of bonds held by ECB by sector')"
      ]
     },
     "execution_count": 171,
     "metadata": {},
     "output_type": "execute_result"
    },
    {
     "data": {
      "image/png": "[encoded data removed]",
      "text/plain": [
       "<Figure size 432x288 with 1 Axes>"
      ]
     },
     "metadata": {},
     "output_type": "display_data"
    }
   ],
   "source": [
    "fig_1 = sns.barplot(x = 'Industry Group', y = 'ISSUER', data = df2)\n",
    "fig_1.set_xticklabels(fig_1.get_xticklabels(), rotation=45, ha=\"right\")\n",
    "fig_1.set(xlabel = 'Industry group', ylabel = 'Number of bonds')\n",
    "fig_1.axes.set_title(\"Number of bonds held by ECB by sector\", fontsize=20)"
   ]
  },
  {
   "cell_type": "markdown",
   "id": "2fc18447",
   "metadata": {},
   "source": [
    "### 2. CO2 emissions in the European Union from 1990 to 2018"
   ]
  },
  {
   "cell_type": "markdown",
   "id": "7e0216cd",
   "metadata": {},
   "source": [
    "Load data from AWS: "
   ]
  },
  {
   "cell_type": "code",
   "execution_count": 145,
   "id": "a24d8d04",
   "metadata": {},
   "outputs": [
    {
     "data": {
      "text/html": [
       "<div>\n",
       "<style scoped>\n",
       "    .dataframe tbody tr th:only-of-type {\n",
       "        vertical-align: middle;\n",
       "    }\n",
       "\n",
       "    .dataframe tbody tr th {\n",
       "        vertical-align: top;\n",
       "    }\n",
       "\n",
       "    .dataframe thead th {\n",
       "        text-align: right;\n",
       "    }\n",
       "</style>\n",
       "<table border=\"1\" class=\"dataframe\">\n",
       "  <thead>\n",
       "    <tr style=\"text-align: right;\">\n",
       "      <th></th>\n",
       "      <th>year</th>\n",
       "      <th>Energy supply</th>\n",
       "      <th>Transport</th>\n",
       "      <th>Industry</th>\n",
       "      <th>Agriculture</th>\n",
       "      <th>Residential/commercial</th>\n",
       "      <th>International shipping</th>\n",
       "      <th>International aviation</th>\n",
       "      <th>Waste</th>\n",
       "    </tr>\n",
       "  </thead>\n",
       "  <tbody>\n",
       "    <tr>\n",
       "      <th>0</th>\n",
       "      <td>1990</td>\n",
       "      <td>1590.9</td>\n",
       "      <td>672.7</td>\n",
       "      <td>1184.9</td>\n",
       "      <td>588.5</td>\n",
       "      <td>624.2</td>\n",
       "      <td>101.9</td>\n",
       "      <td>53.7</td>\n",
       "      <td>174.0</td>\n",
       "    </tr>\n",
       "    <tr>\n",
       "      <th>1</th>\n",
       "      <td>1991</td>\n",
       "      <td>1545.6</td>\n",
       "      <td>680.9</td>\n",
       "      <td>1110.3</td>\n",
       "      <td>557.0</td>\n",
       "      <td>663.4</td>\n",
       "      <td>100.2</td>\n",
       "      <td>53.0</td>\n",
       "      <td>177.0</td>\n",
       "    </tr>\n",
       "    <tr>\n",
       "      <th>2</th>\n",
       "      <td>1992</td>\n",
       "      <td>1495.0</td>\n",
       "      <td>703.0</td>\n",
       "      <td>1064.3</td>\n",
       "      <td>531.7</td>\n",
       "      <td>612.1</td>\n",
       "      <td>101.6</td>\n",
       "      <td>56.7</td>\n",
       "      <td>178.9</td>\n",
       "    </tr>\n",
       "    <tr>\n",
       "      <th>3</th>\n",
       "      <td>1993</td>\n",
       "      <td>1442.6</td>\n",
       "      <td>706.3</td>\n",
       "      <td>1033.0</td>\n",
       "      <td>523.6</td>\n",
       "      <td>621.9</td>\n",
       "      <td>102.5</td>\n",
       "      <td>59.6</td>\n",
       "      <td>179.3</td>\n",
       "    </tr>\n",
       "    <tr>\n",
       "      <th>4</th>\n",
       "      <td>1994</td>\n",
       "      <td>1446.6</td>\n",
       "      <td>711.5</td>\n",
       "      <td>1057.7</td>\n",
       "      <td>516.0</td>\n",
       "      <td>579.6</td>\n",
       "      <td>102.9</td>\n",
       "      <td>62.3</td>\n",
       "      <td>178.5</td>\n",
       "    </tr>\n",
       "  </tbody>\n",
       "</table>\n",
       "</div>"
      ],
      "text/plain": [
       "   year  Energy supply  Transport  Industry  Agriculture  \\\n",
       "0  1990         1590.9      672.7    1184.9        588.5   \n",
       "1  1991         1545.6      680.9    1110.3        557.0   \n",
       "2  1992         1495.0      703.0    1064.3        531.7   \n",
       "3  1993         1442.6      706.3    1033.0        523.6   \n",
       "4  1994         1446.6      711.5    1057.7        516.0   \n",
       "\n",
       "   Residential/commercial  International shipping  International aviation  \\\n",
       "0                   624.2                   101.9                    53.7   \n",
       "1                   663.4                   100.2                    53.0   \n",
       "2                   612.1                   101.6                    56.7   \n",
       "3                   621.9                   102.5                    59.6   \n",
       "4                   579.6                   102.9                    62.3   \n",
       "\n",
       "   Waste  \n",
       "0  174.0  \n",
       "1  177.0  \n",
       "2  178.9  \n",
       "3  179.3  \n",
       "4  178.5  "
      ]
     },
     "execution_count": 145,
     "metadata": {},
     "output_type": "execute_result"
    }
   ],
   "source": [
    "# Read data from AWS S3 (public access)\n",
    "df = pd.read_csv(\"https://s3groupmorocco.s3.eu-central-1.amazonaws.com/data/greenhouse-gas-emissions-in-the-eu-28-1990-2018-by-sector.csv\", thousands=',')\n",
    "df.head()"
   ]
  },
  {
   "cell_type": "markdown",
   "id": "a0506bac",
   "metadata": {},
   "source": [
    "Prepare the data for the plot:"
   ]
  },
  {
   "cell_type": "code",
   "execution_count": 148,
   "id": "d558b0b0",
   "metadata": {},
   "outputs": [],
   "source": [
    "data = pd.melt(df, id_vars = 'year', var_name = 'sector', value_name = 'emission' )"
   ]
  },
  {
   "cell_type": "markdown",
   "id": "ed72d9c8",
   "metadata": {},
   "source": [
    "Create a line chart:"
   ]
  },
  {
   "cell_type": "code",
   "execution_count": 167,
   "id": "66c2bcc6",
   "metadata": {},
   "outputs": [
    {
     "data": {
      "text/plain": [
       "<matplotlib.legend.Legend at 0x1f7054ad220>"
      ]
     },
     "execution_count": 167,
     "metadata": {},
     "output_type": "execute_result"
    },
    {
     "data": {
      "image/png": "[encoded data removed]",
      "text/plain": [
       "<Figure size 432x288 with 1 Axes>"
      ]
     },
     "metadata": {},
     "output_type": "display_data"
    }
   ],
   "source": [
    "fig_2 = sns.lineplot(x = 'year', y = 'emission', hue = 'sector', data = data)\n",
    "fig_2.set(xlabel = 'Year', ylabel = 'CO2-equivalent in million of tons')\n",
    "fig_2.axes.set_title('Annual CO2 emissions in the European Union from 1990 to 2018', fontsize=20)\n",
    "plt.legend(bbox_to_anchor=(1.05, 1), loc=2, borderaxespad=0.)"
   ]
  },
  {
   "cell_type": "markdown",
   "id": "059517e3",
   "metadata": {},
   "source": [
    "### 3. ECB CSPP program"
   ]
  },
  {
   "cell_type": "markdown",
   "id": "9a4e680a",
   "metadata": {},
   "source": [
    "Load data from AWS:"
   ]
  },
  {
   "cell_type": "code",
   "execution_count": 161,
   "id": "e3480c62",
   "metadata": {},
   "outputs": [
    {
     "data": {
      "text/html": [
       "<div>\n",
       "<style scoped>\n",
       "    .dataframe tbody tr th:only-of-type {\n",
       "        vertical-align: middle;\n",
       "    }\n",
       "\n",
       "    .dataframe tbody tr th {\n",
       "        vertical-align: top;\n",
       "    }\n",
       "\n",
       "    .dataframe thead th {\n",
       "        text-align: right;\n",
       "    }\n",
       "</style>\n",
       "<table border=\"1\" class=\"dataframe\">\n",
       "  <thead>\n",
       "    <tr style=\"text-align: right;\">\n",
       "      <th></th>\n",
       "      <th>Quartal</th>\n",
       "      <th>Utilities</th>\n",
       "      <th>Infrastructure and transportation</th>\n",
       "      <th>Automotive and parts</th>\n",
       "      <th>Telecommunication</th>\n",
       "      <th>Energy and basic resources</th>\n",
       "      <th>Construction and materials</th>\n",
       "      <th>Real estate</th>\n",
       "      <th>Beverages</th>\n",
       "      <th>Technology</th>\n",
       "      <th>Chemicals</th>\n",
       "      <th>Health care and life science</th>\n",
       "      <th>Food</th>\n",
       "      <th>Insurance</th>\n",
       "      <th>Other sectors</th>\n",
       "      <th>Total Holdings</th>\n",
       "    </tr>\n",
       "  </thead>\n",
       "  <tbody>\n",
       "    <tr>\n",
       "      <th>0</th>\n",
       "      <td>30.09.17</td>\n",
       "      <td>16%</td>\n",
       "      <td>12%</td>\n",
       "      <td>10%</td>\n",
       "      <td>9%</td>\n",
       "      <td>7%</td>\n",
       "      <td>6%</td>\n",
       "      <td>6%</td>\n",
       "      <td>5%</td>\n",
       "      <td>5%</td>\n",
       "      <td>5%</td>\n",
       "      <td>5%</td>\n",
       "      <td>4%</td>\n",
       "      <td>3%</td>\n",
       "      <td>8%</td>\n",
       "      <td>114658</td>\n",
       "    </tr>\n",
       "    <tr>\n",
       "      <th>1</th>\n",
       "      <td>31.03.18</td>\n",
       "      <td>15%</td>\n",
       "      <td>11%</td>\n",
       "      <td>9%</td>\n",
       "      <td>9%</td>\n",
       "      <td>6%</td>\n",
       "      <td>6%</td>\n",
       "      <td>6%</td>\n",
       "      <td>6%</td>\n",
       "      <td>5%</td>\n",
       "      <td>5%</td>\n",
       "      <td>5%</td>\n",
       "      <td>4%</td>\n",
       "      <td>3%</td>\n",
       "      <td>9%</td>\n",
       "      <td>148702</td>\n",
       "    </tr>\n",
       "    <tr>\n",
       "      <th>2</th>\n",
       "      <td>30.09.18</td>\n",
       "      <td>15%</td>\n",
       "      <td>11%</td>\n",
       "      <td>9%</td>\n",
       "      <td>9%</td>\n",
       "      <td>6%</td>\n",
       "      <td>6%</td>\n",
       "      <td>6%</td>\n",
       "      <td>6%</td>\n",
       "      <td>5%</td>\n",
       "      <td>5%</td>\n",
       "      <td>4%</td>\n",
       "      <td>4%</td>\n",
       "      <td>3%</td>\n",
       "      <td>9%</td>\n",
       "      <td>170378</td>\n",
       "    </tr>\n",
       "    <tr>\n",
       "      <th>3</th>\n",
       "      <td>31.03.19</td>\n",
       "      <td>15%</td>\n",
       "      <td>11%</td>\n",
       "      <td>9%</td>\n",
       "      <td>9%</td>\n",
       "      <td>6%</td>\n",
       "      <td>6%</td>\n",
       "      <td>6%</td>\n",
       "      <td>6%</td>\n",
       "      <td>5%</td>\n",
       "      <td>5%</td>\n",
       "      <td>4%</td>\n",
       "      <td>4%</td>\n",
       "      <td>3%</td>\n",
       "      <td>9%</td>\n",
       "      <td>177700</td>\n",
       "    </tr>\n",
       "    <tr>\n",
       "      <th>4</th>\n",
       "      <td>30.09.19</td>\n",
       "      <td>15%</td>\n",
       "      <td>12%</td>\n",
       "      <td>9%</td>\n",
       "      <td>9%</td>\n",
       "      <td>6%</td>\n",
       "      <td>6%</td>\n",
       "      <td>6%</td>\n",
       "      <td>6%</td>\n",
       "      <td>5%</td>\n",
       "      <td>5%</td>\n",
       "      <td>4%</td>\n",
       "      <td>4%</td>\n",
       "      <td>3%</td>\n",
       "      <td>9%</td>\n",
       "      <td>176937</td>\n",
       "    </tr>\n",
       "  </tbody>\n",
       "</table>\n",
       "</div>"
      ],
      "text/plain": [
       "    Quartal Utilities Infrastructure and transportation Automotive and parts  \\\n",
       "0  30.09.17       16%                               12%                  10%   \n",
       "1  31.03.18       15%                               11%                   9%   \n",
       "2  30.09.18       15%                               11%                   9%   \n",
       "3  31.03.19       15%                               11%                   9%   \n",
       "4  30.09.19       15%                               12%                   9%   \n",
       "\n",
       "  Telecommunication Energy and basic resources Construction and materials  \\\n",
       "0                9%                         7%                         6%   \n",
       "1                9%                         6%                         6%   \n",
       "2                9%                         6%                         6%   \n",
       "3                9%                         6%                         6%   \n",
       "4                9%                         6%                         6%   \n",
       "\n",
       "  Real estate Beverages Technology Chemicals Health care and life science  \\\n",
       "0          6%        5%         5%        5%                           5%   \n",
       "1          6%        6%         5%        5%                           5%   \n",
       "2          6%        6%         5%        5%                           4%   \n",
       "3          6%        6%         5%        5%                           4%   \n",
       "4          6%        6%         5%        5%                           4%   \n",
       "\n",
       "  Food  Insurance Other sectors  Total Holdings  \n",
       "0    4%        3%            8%          114658  \n",
       "1    4%        3%            9%          148702  \n",
       "2    4%        3%            9%          170378  \n",
       "3    4%        3%            9%          177700  \n",
       "4    4%        3%            9%          176937  "
      ]
     },
     "execution_count": 161,
     "metadata": {},
     "output_type": "execute_result"
    }
   ],
   "source": [
    "# Read data from AWS S3 (public access)\n",
    "df = pd.read_csv(\"https://s3groupmorocco.s3.eu-central-1.amazonaws.com/data/Industry.csv\", thousands=',')\n",
    "df.head()"
   ]
  },
  {
   "cell_type": "markdown",
   "id": "7549b3b5",
   "metadata": {},
   "source": [
    "Change date format:"
   ]
  },
  {
   "cell_type": "code",
   "execution_count": 162,
   "id": "775773a2",
   "metadata": {},
   "outputs": [
    {
     "data": {
      "text/html": [
       "<div>\n",
       "<style scoped>\n",
       "    .dataframe tbody tr th:only-of-type {\n",
       "        vertical-align: middle;\n",
       "    }\n",
       "\n",
       "    .dataframe tbody tr th {\n",
       "        vertical-align: top;\n",
       "    }\n",
       "\n",
       "    .dataframe thead th {\n",
       "        text-align: right;\n",
       "    }\n",
       "</style>\n",
       "<table border=\"1\" class=\"dataframe\">\n",
       "  <thead>\n",
       "    <tr style=\"text-align: right;\">\n",
       "      <th></th>\n",
       "      <th>Quartal</th>\n",
       "      <th>Utilities</th>\n",
       "      <th>Infrastructure and transportation</th>\n",
       "      <th>Automotive and parts</th>\n",
       "      <th>Telecommunication</th>\n",
       "      <th>Energy and basic resources</th>\n",
       "      <th>Construction and materials</th>\n",
       "      <th>Real estate</th>\n",
       "      <th>Beverages</th>\n",
       "      <th>Technology</th>\n",
       "      <th>Chemicals</th>\n",
       "      <th>Health care and life science</th>\n",
       "      <th>Food</th>\n",
       "      <th>Insurance</th>\n",
       "      <th>Other sectors</th>\n",
       "      <th>Total Holdings</th>\n",
       "    </tr>\n",
       "  </thead>\n",
       "  <tbody>\n",
       "    <tr>\n",
       "      <th>0</th>\n",
       "      <td>2017Q3</td>\n",
       "      <td>16%</td>\n",
       "      <td>12%</td>\n",
       "      <td>10%</td>\n",
       "      <td>9%</td>\n",
       "      <td>7%</td>\n",
       "      <td>6%</td>\n",
       "      <td>6%</td>\n",
       "      <td>5%</td>\n",
       "      <td>5%</td>\n",
       "      <td>5%</td>\n",
       "      <td>5%</td>\n",
       "      <td>4%</td>\n",
       "      <td>3%</td>\n",
       "      <td>8%</td>\n",
       "      <td>114658</td>\n",
       "    </tr>\n",
       "    <tr>\n",
       "      <th>1</th>\n",
       "      <td>2018Q1</td>\n",
       "      <td>15%</td>\n",
       "      <td>11%</td>\n",
       "      <td>9%</td>\n",
       "      <td>9%</td>\n",
       "      <td>6%</td>\n",
       "      <td>6%</td>\n",
       "      <td>6%</td>\n",
       "      <td>6%</td>\n",
       "      <td>5%</td>\n",
       "      <td>5%</td>\n",
       "      <td>5%</td>\n",
       "      <td>4%</td>\n",
       "      <td>3%</td>\n",
       "      <td>9%</td>\n",
       "      <td>148702</td>\n",
       "    </tr>\n",
       "    <tr>\n",
       "      <th>2</th>\n",
       "      <td>2018Q3</td>\n",
       "      <td>15%</td>\n",
       "      <td>11%</td>\n",
       "      <td>9%</td>\n",
       "      <td>9%</td>\n",
       "      <td>6%</td>\n",
       "      <td>6%</td>\n",
       "      <td>6%</td>\n",
       "      <td>6%</td>\n",
       "      <td>5%</td>\n",
       "      <td>5%</td>\n",
       "      <td>4%</td>\n",
       "      <td>4%</td>\n",
       "      <td>3%</td>\n",
       "      <td>9%</td>\n",
       "      <td>170378</td>\n",
       "    </tr>\n",
       "    <tr>\n",
       "      <th>3</th>\n",
       "      <td>2019Q1</td>\n",
       "      <td>15%</td>\n",
       "      <td>11%</td>\n",
       "      <td>9%</td>\n",
       "      <td>9%</td>\n",
       "      <td>6%</td>\n",
       "      <td>6%</td>\n",
       "      <td>6%</td>\n",
       "      <td>6%</td>\n",
       "      <td>5%</td>\n",
       "      <td>5%</td>\n",
       "      <td>4%</td>\n",
       "      <td>4%</td>\n",
       "      <td>3%</td>\n",
       "      <td>9%</td>\n",
       "      <td>177700</td>\n",
       "    </tr>\n",
       "    <tr>\n",
       "      <th>4</th>\n",
       "      <td>2019Q3</td>\n",
       "      <td>15%</td>\n",
       "      <td>12%</td>\n",
       "      <td>9%</td>\n",
       "      <td>9%</td>\n",
       "      <td>6%</td>\n",
       "      <td>6%</td>\n",
       "      <td>6%</td>\n",
       "      <td>6%</td>\n",
       "      <td>5%</td>\n",
       "      <td>5%</td>\n",
       "      <td>4%</td>\n",
       "      <td>4%</td>\n",
       "      <td>3%</td>\n",
       "      <td>9%</td>\n",
       "      <td>176937</td>\n",
       "    </tr>\n",
       "  </tbody>\n",
       "</table>\n",
       "</div>"
      ],
      "text/plain": [
       "  Quartal Utilities Infrastructure and transportation Automotive and parts  \\\n",
       "0  2017Q3       16%                               12%                  10%   \n",
       "1  2018Q1       15%                               11%                   9%   \n",
       "2  2018Q3       15%                               11%                   9%   \n",
       "3  2019Q1       15%                               11%                   9%   \n",
       "4  2019Q3       15%                               12%                   9%   \n",
       "\n",
       "  Telecommunication Energy and basic resources Construction and materials  \\\n",
       "0                9%                         7%                         6%   \n",
       "1                9%                         6%                         6%   \n",
       "2                9%                         6%                         6%   \n",
       "3                9%                         6%                         6%   \n",
       "4                9%                         6%                         6%   \n",
       "\n",
       "  Real estate Beverages Technology Chemicals Health care and life science  \\\n",
       "0          6%        5%         5%        5%                           5%   \n",
       "1          6%        6%         5%        5%                           5%   \n",
       "2          6%        6%         5%        5%                           4%   \n",
       "3          6%        6%         5%        5%                           4%   \n",
       "4          6%        6%         5%        5%                           4%   \n",
       "\n",
       "  Food  Insurance Other sectors  Total Holdings  \n",
       "0    4%        3%            8%          114658  \n",
       "1    4%        3%            9%          148702  \n",
       "2    4%        3%            9%          170378  \n",
       "3    4%        3%            9%          177700  \n",
       "4    4%        3%            9%          176937  "
      ]
     },
     "execution_count": 162,
     "metadata": {},
     "output_type": "execute_result"
    }
   ],
   "source": [
    "df['Quartal'] = pd.to_datetime(df['Quartal'])\n",
    "df['Quartal'] = df['Quartal'].dt.to_period(\"Q\")\n",
    "df.head()"
   ]
  },
  {
   "cell_type": "markdown",
   "id": "8097d085",
   "metadata": {},
   "source": [
    "Create a barchart:"
   ]
  },
  {
   "cell_type": "code",
   "execution_count": 164,
   "id": "e700cf51",
   "metadata": {},
   "outputs": [
    {
     "data": {
      "text/plain": [
       "Text(0.5, 1.0, 'ECB CSPP program')"
      ]
     },
     "execution_count": 164,
     "metadata": {},
     "output_type": "execute_result"
    },
    {
     "data": {
      "image/png": "[encoded data removed]",
      "text/plain": [
       "<Figure size 432x288 with 1 Axes>"
      ]
     },
     "metadata": {},
     "output_type": "display_data"
    }
   ],
   "source": [
    "fig_3 = sns.barplot(x = 'Quartal', y = 'Total Holdings', data = df, color = 'blue')\n",
    "fig_3.set_xticklabels(fig_3.get_xticklabels(), rotation=45, ha=\"right\")\n",
    "fig_3.set(xlabel = 'Quarter', ylabel = 'Total holdings in Billions of Euro')\n",
    "fig_3.axes.set_title('ECB CSPP program', fontsize=20)"
   ]
  }
 ],
 "metadata": {
  "kernelspec": {
   "display_name": "Python 3",
   "language": "python",
   "name": "python3"
  },
  "language_info": {
   "codemirror_mode": {
    "name": "ipython",
    "version": 3
   },
   "file_extension": ".py",
   "mimetype": "text/x-python",
   "name": "python",
   "nbconvert_exporter": "python",
   "pygments_lexer": "ipython3",
   "version": "3.8.10"
  }
 },
 "nbformat": 4,
 "nbformat_minor": 5
}
