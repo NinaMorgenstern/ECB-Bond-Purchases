{
 "cells": [
  {
   "cell_type": "markdown",
   "id": "1e6a52d8",
   "metadata": {},
   "source": [
    "# Preliminaries"
   ]
  },
  {
   "cell_type": "markdown",
   "id": "738993fc",
   "metadata": {},
   "source": [
    "Import necessary packages:"
   ]
  },
  {
   "cell_type": "code",
   "execution_count": 126,
   "id": "307b6d80",
   "metadata": {},
   "outputs": [],
   "source": [
    "import pandas as pd\n",
    "import seaborn as sns\n",
    "\n",
    "# Apply default theme\n",
    "sns.set_theme(style='whitegrid')"
   ]
  },
  {
   "cell_type": "markdown",
   "id": "03975f81",
   "metadata": {},
   "source": [
    "# Figures"
   ]
  },
  {
   "cell_type": "markdown",
   "id": "e46591fb",
   "metadata": {},
   "source": [
    "### 1. Count of corporate bonds by sector"
   ]
  },
  {
   "cell_type": "markdown",
   "id": "a70757c5",
   "metadata": {},
   "source": [
    "Load data from AWS: "
   ]
  },
  {
   "cell_type": "code",
   "execution_count": 92,
   "id": "3e24f697",
   "metadata": {},
   "outputs": [
    {
     "data": {
      "text/html": [
       "<div>\n",
       "<style scoped>\n",
       "    .dataframe tbody tr th:only-of-type {\n",
       "        vertical-align: middle;\n",
       "    }\n",
       "\n",
       "    .dataframe tbody tr th {\n",
       "        vertical-align: top;\n",
       "    }\n",
       "\n",
       "    .dataframe thead th {\n",
       "        text-align: right;\n",
       "    }\n",
       "</style>\n",
       "<table border=\"1\" class=\"dataframe\">\n",
       "  <thead>\n",
       "    <tr style=\"text-align: right;\">\n",
       "      <th></th>\n",
       "      <th>Unnamed: 0</th>\n",
       "      <th>MONTH</th>\n",
       "      <th>NCB</th>\n",
       "      <th>ISIN</th>\n",
       "      <th>ISSUER</th>\n",
       "      <th>MATURITY DATE</th>\n",
       "      <th>COUPON RATE</th>\n",
       "      <th>Match OpenPermID</th>\n",
       "      <th>SEARCH</th>\n",
       "      <th>Industry Group</th>\n",
       "      <th>Business Sector</th>\n",
       "    </tr>\n",
       "  </thead>\n",
       "  <tbody>\n",
       "    <tr>\n",
       "      <th>0</th>\n",
       "      <td>0</td>\n",
       "      <td>2017/06</td>\n",
       "      <td>IT</td>\n",
       "      <td>XS1088274169</td>\n",
       "      <td>2i Rete Gas S.p.A.</td>\n",
       "      <td>16/07/2019</td>\n",
       "      <td>1.75</td>\n",
       "      <td>https://permid.org/1-5000936840</td>\n",
       "      <td>2I|2I RETE|2I RETE GAS SPA|2i Rete Gas S.p.A.</td>\n",
       "      <td>Natural Gas Utilities</td>\n",
       "      <td>Utilities</td>\n",
       "    </tr>\n",
       "    <tr>\n",
       "      <th>1</th>\n",
       "      <td>1</td>\n",
       "      <td>2017/06</td>\n",
       "      <td>IT</td>\n",
       "      <td>XS1088274672</td>\n",
       "      <td>2i Rete Gas S.p.A.</td>\n",
       "      <td>16/07/2024</td>\n",
       "      <td>3.0</td>\n",
       "      <td>https://permid.org/1-5000936840</td>\n",
       "      <td>2I|2I RETE|2I RETE GAS SPA|2i Rete Gas S.p.A.</td>\n",
       "      <td>Natural Gas Utilities</td>\n",
       "      <td>Utilities</td>\n",
       "    </tr>\n",
       "    <tr>\n",
       "      <th>2</th>\n",
       "      <td>2</td>\n",
       "      <td>2017/06</td>\n",
       "      <td>IT</td>\n",
       "      <td>XS1144492532</td>\n",
       "      <td>2i Rete Gas S.p.A.</td>\n",
       "      <td>02/01/2020</td>\n",
       "      <td>1.125</td>\n",
       "      <td>https://permid.org/1-5000936840</td>\n",
       "      <td>2I|2I RETE|2I RETE GAS SPA|2i Rete Gas S.p.A.</td>\n",
       "      <td>Natural Gas Utilities</td>\n",
       "      <td>Utilities</td>\n",
       "    </tr>\n",
       "    <tr>\n",
       "      <th>3</th>\n",
       "      <td>3</td>\n",
       "      <td>2017/06</td>\n",
       "      <td>IT</td>\n",
       "      <td>XS1571982468</td>\n",
       "      <td>2i Rete Gas S.p.A.</td>\n",
       "      <td>28/08/2026</td>\n",
       "      <td>1.75</td>\n",
       "      <td>https://permid.org/1-5000936840</td>\n",
       "      <td>2I|2I RETE|2I RETE GAS SPA|2i Rete Gas S.p.A.</td>\n",
       "      <td>Natural Gas Utilities</td>\n",
       "      <td>Utilities</td>\n",
       "    </tr>\n",
       "    <tr>\n",
       "      <th>4</th>\n",
       "      <td>4</td>\n",
       "      <td>2017/06</td>\n",
       "      <td>IT</td>\n",
       "      <td>XS0859920406</td>\n",
       "      <td>A2A S.p.A.</td>\n",
       "      <td>28/11/2019</td>\n",
       "      <td>4.5</td>\n",
       "      <td>https://permid.org/1-5000005309</td>\n",
       "      <td>A2A|A2A SPA|A2A SPA|A2A S.p.A.</td>\n",
       "      <td>Electric Utilities &amp; IPPs</td>\n",
       "      <td>Utilities</td>\n",
       "    </tr>\n",
       "  </tbody>\n",
       "</table>\n",
       "</div>"
      ],
      "text/plain": [
       "   Unnamed: 0    MONTH NCB          ISIN              ISSUER MATURITY DATE  \\\n",
       "0           0  2017/06  IT  XS1088274169  2i Rete Gas S.p.A.    16/07/2019   \n",
       "1           1  2017/06  IT  XS1088274672  2i Rete Gas S.p.A.    16/07/2024   \n",
       "2           2  2017/06  IT  XS1144492532  2i Rete Gas S.p.A.    02/01/2020   \n",
       "3           3  2017/06  IT  XS1571982468  2i Rete Gas S.p.A.    28/08/2026   \n",
       "4           4  2017/06  IT  XS0859920406          A2A S.p.A.    28/11/2019   \n",
       "\n",
       "  COUPON RATE                 Match OpenPermID  \\\n",
       "0        1.75  https://permid.org/1-5000936840   \n",
       "1         3.0  https://permid.org/1-5000936840   \n",
       "2       1.125  https://permid.org/1-5000936840   \n",
       "3        1.75  https://permid.org/1-5000936840   \n",
       "4         4.5  https://permid.org/1-5000005309   \n",
       "\n",
       "                                          SEARCH             Industry Group  \\\n",
       "0  2I|2I RETE|2I RETE GAS SPA|2i Rete Gas S.p.A.      Natural Gas Utilities   \n",
       "1  2I|2I RETE|2I RETE GAS SPA|2i Rete Gas S.p.A.      Natural Gas Utilities   \n",
       "2  2I|2I RETE|2I RETE GAS SPA|2i Rete Gas S.p.A.      Natural Gas Utilities   \n",
       "3  2I|2I RETE|2I RETE GAS SPA|2i Rete Gas S.p.A.      Natural Gas Utilities   \n",
       "4                 A2A|A2A SPA|A2A SPA|A2A S.p.A.  Electric Utilities & IPPs   \n",
       "\n",
       "  Business Sector  \n",
       "0       Utilities  \n",
       "1       Utilities  \n",
       "2       Utilities  \n",
       "3       Utilities  \n",
       "4       Utilities  "
      ]
     },
     "execution_count": 92,
     "metadata": {},
     "output_type": "execute_result"
    }
   ],
   "source": [
    "df = pd.read_csv(\"https://s3groupmorocco.s3.eu-central-1.amazonaws.com/data/CSPP_bonds_with_sectors.csv\")\n",
    "df.head()"
   ]
  },
  {
   "cell_type": "markdown",
   "id": "956adb82",
   "metadata": {},
   "source": [
    "How many industry groups?"
   ]
  },
  {
   "cell_type": "code",
   "execution_count": 93,
   "id": "a18af6e6",
   "metadata": {},
   "outputs": [
    {
     "data": {
      "text/plain": [
       "array(['Natural Gas Utilities', 'Electric Utilities & IPPs',\n",
       "       'Machinery, Tools, Heavy Vehicles, Trains & Ships',\n",
       "       'Transport Infrastructure', 'Multiline Utilities', 'Insurance',\n",
       "       'Professional & Commercial Services', nan, 'Chemicals',\n",
       "       'Aerospace & Defense', 'Residential & Commercial REITs',\n",
       "       'Beverages', 'Oil & Gas',\n",
       "       'Semiconductors & Semiconductor Equipment',\n",
       "       'Real Estate Operations', 'Banking Services', 'Pharmaceuticals',\n",
       "       'Media & Publishing', 'Construction & Engineering',\n",
       "       'Software & IT Services', 'Telecommunications Services',\n",
       "       'Investment Banking & Investment Services',\n",
       "       'Automobiles & Auto Parts', 'Food & Tobacco',\n",
       "       'Food & Drug Retailing', 'Passenger Transportation Services',\n",
       "       'Freight&Logistics Services', 'Textiles & Apparel',\n",
       "       'Oil & Gas Related Equipment and Services',\n",
       "       'Homebuilding & Construction Supplies', 'Construction Materials',\n",
       "       'Investment Holding Companies', 'Specialty Retailers',\n",
       "       'Hotels & Entertainment Services', 'Water & Related Utilities',\n",
       "       'Consumer Goods Conglomerates', 'Household Goods',\n",
       "       'Collective Investments', 'Healthcare Equipment & Supplies',\n",
       "       'Paper & Forest Products', 'Healthcare Providers & Services',\n",
       "       'Communications & Networking', 'Electronic Equipment & Parts',\n",
       "       'Metals & Mining', 'Containers & Packaging',\n",
       "       'Financial Technology (Fintech) & Infrastructure',\n",
       "       'Diversified Retail'], dtype=object)"
      ]
     },
     "execution_count": 93,
     "metadata": {},
     "output_type": "execute_result"
    }
   ],
   "source": [
    "df['Industry Group'].unique()"
   ]
  },
  {
   "cell_type": "markdown",
   "id": "9fec7551",
   "metadata": {},
   "source": [
    "We will aggregate the industry groups (47 in total) present in this data to match those present in the greenhouse emissions data (8 in total). "
   ]
  },
  {
   "cell_type": "code",
   "execution_count": 94,
   "id": "6b8d5304",
   "metadata": {},
   "outputs": [
    {
     "data": {
      "text/plain": [
       "Index(['Energy supply', 'Transport', 'Industry', 'Agriculture',\n",
       "       'Residential/commercial', 'International shipping',\n",
       "       'International aviation', 'Waste'],\n",
       "      dtype='object')"
      ]
     },
     "execution_count": 94,
     "metadata": {},
     "output_type": "execute_result"
    }
   ],
   "source": [
    "sectors = pd.read_csv(\"https://s3groupmorocco.s3.eu-central-1.amazonaws.com/data/greenhouse-gas-emissions-in-the-eu-28-1990-2018-by-sector.csv\").columns[1:]\n",
    "sectors"
   ]
  },
  {
   "cell_type": "code",
   "execution_count": 95,
   "id": "a04e4c6e",
   "metadata": {},
   "outputs": [],
   "source": [
    "aggregation = {'Natural Gas Utilities':'Energy supply', 'Electric Utilities & IPPs':'Energy supply',\n",
    "               'Machinery, Tools, Heavy Vehicles, Trains & Ships':'Industry', 'Transport Infrastructure':'Transport', \n",
    "               'Multiline Utilities':'Industry', 'Insurance':'Residential/commercial', 'Professional & Commercial Services':'Residential/commercial', \n",
    "               'Chemicals':'Industry', 'Aerospace & Defense':'Industry', 'Residential & Commercial REITs':'Residential/commercial',\n",
    "               'Beverages':'Industry', 'Oil & Gas':'Energy supply', 'Semiconductors & Semiconductor Equipment':'Industry',\n",
    "               'Real Estate Operations':'Residential/commercial', 'Banking Services':'Residential/commercial', \n",
    "               'Pharmaceuticals':'Industry', 'Media & Publishing':'Residential/commercial', 'Construction & Engineering':'Industry',\n",
    "               'Software & IT Services':'Residential/commercial', 'Telecommunications Services':'Residential/commercial',\n",
    "               'Investment Banking & Investment Services':'Residential/commercial', 'Automobiles & Auto Parts':'Industry', \n",
    "               'Food & Tobacco':'Agriculture', 'Food & Drug Retailing':'Agriculture', 'Passenger Transportation Services':'International aviation',\n",
    "               'Freight&Logistics Services':'International shipping', 'Textiles & Apparel':'Industry', 'Oil & Gas Related Equipment and Services':'Energy supply',\n",
    "               'Homebuilding & Construction Supplies':'Residential/commercial', 'Construction Materials':'Residential/commercial',\n",
    "               'Investment Holding Companies':'Residential/commercial', 'Specialty Retailers':'Residential/commercial',\n",
    "               'Hotels & Entertainment Services':'Residential/commercial', 'Water & Related Utilities':'Industry', 'Consumer Goods Conglomerates':'Industry', \n",
    "               'Household Goods':'Industry','Collective Investments':'Residential/commercial', 'Healthcare Equipment & Supplies':'Industry',\n",
    "               'Paper & Forest Products':'Agriculture', 'Healthcare Providers & Services':'Residential/commercial', 'Communications & Networking':'Residential/commercial', \n",
    "               'Electronic Equipment & Parts':'Industry', 'Metals & Mining':'Industry', 'Containers & Packaging': 'Industry',\n",
    "               'Financial Technology (Fintech) & Infrastructure':'Residential/commercial', 'Diversified Retail': 'Residential/commercial'}\n",
    "\n",
    "df[\"Industry Group\"].replace(aggregation, inplace=True)"
   ]
  },
  {
   "cell_type": "markdown",
   "id": "1ba4afbd",
   "metadata": {},
   "source": [
    "Create new dataframe that contains the total number of bonds held by the ECB by sector:"
   ]
  },
  {
   "cell_type": "code",
   "execution_count": 131,
   "id": "e3f797b0",
   "metadata": {},
   "outputs": [],
   "source": [
    "df2 = df.groupby('Industry Group')['ISSUER'].count().add_suffix('').reset_index()\n",
    "df2.sort_values('ISSUER', ascending = False, inplace = True)"
   ]
  },
  {
   "cell_type": "markdown",
   "id": "93bef151",
   "metadata": {},
   "source": [
    "Create a barchart:"
   ]
  },
  {
   "cell_type": "code",
   "execution_count": 144,
   "id": "eecf6dbc",
   "metadata": {},
   "outputs": [
    {
     "data": {
      "text/plain": [
       "Text(0.5, 1.0, 'Number of bonds held by ECB by sector')"
      ]
     },
     "execution_count": 144,
     "metadata": {},
     "output_type": "execute_result"
    },
    {
     "data": {
      "image/png": "[encoded data removed]",
      "text/plain": [
       "<Figure size 432x288 with 1 Axes>"
      ]
     },
     "metadata": {},
     "output_type": "display_data"
    }
   ],
   "source": [
    "fig_1 = sns.barplot(x ='Industry Group', y ='ISSUER', data =df2)\n",
    "fig_1.set_xticklabels(fig_1.get_xticklabels(), rotation=45, ha=\"right\")\n",
    "fig_1.set(xlabel = 'Industry group', ylabel = 'Number of bonds')\n",
    "fig_1.axes.set_title(\"Number of bonds held by ECB by sector\", fontsize=20)"
   ]
  }
 ],
 "metadata": {
  "kernelspec": {
   "display_name": "Python 3",
   "language": "python",
   "name": "python3"
  },
  "language_info": {
   "codemirror_mode": {
    "name": "ipython",
    "version": 3
   },
   "file_extension": ".py",
   "mimetype": "text/x-python",
   "name": "python",
   "nbconvert_exporter": "python",
   "pygments_lexer": "ipython3",
   "version": "3.8.10"
  }
 },
 "nbformat": 4,
 "nbformat_minor": 5
}
